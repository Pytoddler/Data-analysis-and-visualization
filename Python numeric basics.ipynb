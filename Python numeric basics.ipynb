<!DOCTYPE html>
<html>
<head><meta charset="utf-8" />
<title>Python基本數據</title>

<script src="https://cdnjs.cloudflare.com/ajax/libs/require.js/2.1.10/require.min.js"></script>
<script src="https://cdnjs.cloudflare.com/ajax/libs/jquery/2.0.3/jquery.min.js"></script>

<style type="text/css">
    /*!
*
* Twitter Bootstrap
*
*/
/*!
 * Bootstrap v3.3.6 (http://getbootstrap.com)
 * Copyright 2011-2015 Twitter, Inc.
 * Licensed under MIT (https://github.com/twbs/bootstrap/blob/master/LICENSE)
 */
/*! normalize.css v3.0.3 | MIT License | github.com/necolas/normalize.css */
html {
  font-family: sans-serif;
  -ms-text-size-adjust: 100%;
  -webkit-text-size-adjust: 100%;
}
body {
  margin: 0;
}
article,
aside,
details,
figcaption,
figure,
footer,
header,
hgroup,
main,
menu,
nav,
section,
summary {
  display: block;
}
audio,
canvas,
progress,
video {
  display: inline-block;
  vertical-align: baseline;
}
audio:not([controls]) {
  display: none;
  height: 0;
}
[hidden],
template {
  display: none;
}
a {
  background-color: transparent;
}
a:active,
a:hover {
  outline: 0;
}
abbr[title] {
  border-bottom: 1px dotted;
}
b,
strong {
  font-weight: bold;
}
dfn {
  font-style: italic;
}
h1 {
  font-size: 2em;
  margin: 0.67em 0;
}
mark {
  background: #ff0;
  color: #000;
}
small {
  font-size: 80%;
}
sub,
sup {
  font-size: 75%;
  line-height: 0;
  position: relative;
  vertical-align: baseline;
}
sup {
  top: -0.5em;
}
sub {
  bottom: -0.25em;
}
img {
  border: 0;
}
svg:not(:root) {
  overflow: hidden;
}
figure {
  margin: 1em 40px;
}
hr {
  box-sizing: content-box;
  height: 0;
}
pre {
  overflow: auto;
}
code,
kbd,
pre,
samp {
  font-family: monospace, monospace;
  font-size: 1em;
}
button,
input,
optgroup,
select,
textarea {
  color: inherit;
  font: inherit;
  margin: 0;
}
button {
  overflow: visible;
}
button,
select {
  text-transform: none;
}
button,
html input[type="button"],
input[type="reset"],
input[type="submit"] {
  -webkit-appearance: button;
  cursor: pointer;
}
button[disabled],
html input[disabled] {
  cursor: default;
}
button::-moz-focus-inner,
input::-moz-focus-inner {
  border: 0;
  padding: 0;
}
input {
  line-height: normal;
}
input[type="checkbox"],
input[type="radio"] {
  box-sizing: border-box;
  padding: 0;
}
input[type="number"]::-webkit-inner-spin-button,
input[type="number"]::-webkit-outer-spin-button {
  height: auto;
}
input[type="search"] {
  -webkit-appearance: textfield;
  box-sizing: content-box;
}
input[type="search"]::-webkit-search-cancel-button,
input[type="search"]::-webkit-search-decoration {
  -webkit-appearance: none;
}
fieldset {
  border: 1px solid #c0c0c0;
  margin: 0 2px;
  padding: 0.35em 0.625em 0.75em;
}
legend {
  border: 0;
  padding: 0;
}
textarea {
  overflow: auto;
}
optgroup {
  font-weight: bold;
}
table {
  border-collapse: collapse;
  border-spacing: 0;
}
td,
th {
  padding: 0;
}
/*! Source: https://github.com/h5bp/html5-boilerplate/blob/master/src/css/main.css */
@media print {
  *,
  *:before,
  *:after {
    background: transparent !important;
    color: #000 !important;
    box-shadow: none !important;
    text-shadow: none !important;
  }
  a,
  a:visited {
    text-decoration: underline;
  }
  a[href]:after {
    content: " (" attr(href) ")";
  }
  abbr[title]:after {
    content: " (" attr(title) ")";
  }
  a[href^="#"]:after,
  a[href^="javascript:"]:after {
    content: "";
  }
  pre,
  blockquote {
    border: 1px solid #999;
    page-break-inside: avoid;
  }
  thead {
    display: table-header-group;
  }
  tr,
  img {
    page-break-inside: avoid;
  }
  img {
    max-width: 100% !important;
  }
  p,
  h2,
  h3 {
    orphans: 3;
    widows: 3;
  }
  h2,
  h3 {
    page-break-after: avoid;
  }
  .navbar {
    display: none;
  }
  .btn > .caret,
  .dropup > .btn > .caret {
    border-top-color: #000 !important;
  }
  .label {
    border: 1px solid #000;
  }
  .table {
    border-collapse: collapse !important;
  }
  .table td,
  .table th {
    background-color: #fff !important;
  }
  .table-bordered th,
  .table-bordered td {
    border: 1px solid #ddd !important;
  }
}
@font-face {
  font-family: 'Glyphicons Halflings';
  src: url('../components/bootstrap/fonts/glyphicons-halflings-regular.eot');
  src: url('../components/bootstrap/fonts/glyphicons-halflings-regular.eot?#iefix') format('embedded-opentype'), url('../components/bootstrap/fonts/glyphicons-halflings-regular.woff2') format('woff2'), url('../components/bootstrap/fonts/glyphicons-halflings-regular.woff') format('woff'), url('../components/bootstrap/fonts/glyphicons-halflings-regular.ttf') format('truetype'), url('../components/bootstrap/fonts/glyphicons-halflings-regular.svg#glyphicons_halflingsregular') format('svg');
}
.glyphicon {
  position: relative;
  top: 1px;
  display: inline-block;
  font-family: 'Glyphicons Halflings';
  font-style: normal;
  font-weight: normal;
  line-height: 1;
  -webkit-font-smoothing: antialiased;
  -moz-osx-font-smoothing: grayscale;
}
.glyphicon-asterisk:before {
  content: "\002a";
}
.glyphicon-plus:before {
  content: "\002b";
}
.glyphicon-euro:before,
.glyphicon-eur:before {
  content: "\20ac";
}
.glyphicon-minus:before {
  content: "\2212";
}
.glyphicon-cloud:before {
  content: "\2601";
}
.glyphicon-envelope:before {
  content: "\2709";
}
.glyphicon-pencil:before {
  content: "\270f";
}
.glyphicon-glass:before {
  content: "\e001";
}
.glyphicon-music:before {
  content: "\e002";
}
.glyphicon-search:before {
  content: "\e003";
}
.glyphicon-heart:before {
  content: "\e005";
}
.glyphicon-star:before {
  content: "\e006";
}
.glyphicon-star-empty:before {
  content: "\e007";
}
.glyphicon-user:before {
  content: "\e008";
}
.glyphicon-film:before {
  content: "\e009";
}
.glyphicon-th-large:before {
  content: "\e010";
}
.glyphicon-th:before {
  content: "\e011";
}
.glyphicon-th-list:before {
  content: "\e012";
}
.glyphicon-ok:before {
  content: "\e013";
}
.glyphicon-remove:before {
  content: "\e014";
}
.glyphicon-zoom-in:before {
  content: "\e015";
}
.glyphicon-zoom-out:before {
  content: "\e016";
}
.glyphicon-off:before {
  content: "\e017";
}
.glyphicon-signal:before {
  content: "\e018";
}
.glyphicon-cog:before {
  content: "\e019";
}
.glyphicon-trash:before {
  content: "\e020";
}
.glyphicon-home:before {
  content: "\e021";
}
.glyphicon-file:before {
  content: "\e022";
}
.glyphicon-time:before {
  content: "\e023";
}
.glyphicon-road:before {
  content: "\e024";
}
.glyphicon-download-alt:before {
  content: "\e025";
}
.glyphicon-download:before {
  content: "\e026";
}
.glyphicon-upload:before {
  content: "\e027";
}
.glyphicon-inbox:before {
  content: "\e028";
}
.glyphicon-play-circle:before {
  content: "\e029";
}
.glyphicon-repeat:before {
  content: "\e030";
}
.glyphicon-refresh:before {
  content: "\e031";
}
.glyphicon-list-alt:before {
  content: "\e032";
}
.glyphicon-lock:before {
  content: "\e033";
}
.glyphicon-flag:before {
  content: "\e034";
}
.glyphicon-headphones:before {
  content: "\e035";
}
.glyphicon-volume-off:before {
  content: "\e036";
}
.glyphicon-volume-down:before {
  content: "\e037";
}
.glyphicon-volume-up:before {
  content: "\e038";
}
.glyphicon-qrcode:before {
  content: "\e039";
}
.glyphicon-barcode:before {
  content: "\e040";
}
.glyphicon-tag:before {
  content: "\e041";
}
.glyphicon-tags:before {
  content: "\e042";
}
.glyphicon-book:before {
  content: "\e043";
}
.glyphicon-bookmark:before {
  content: "\e044";
}
.glyphicon-print:before {
  content: "\e045";
}
.glyphicon-camera:before {
  content: "\e046";
}
.glyphicon-font:before {
  content: "\e047";
}
.glyphicon-bold:before {
  content: "\e048";
}
.glyphicon-italic:before {
  content: "\e049";
}
.glyphicon-text-height:before {
  content: "\e050";
}
.glyphicon-text-width:before {
  content: "\e051";
}
.glyphicon-align-left:before {
  content: "\e052";
}
.glyphicon-align-center:before {
  content: "\e053";
}
.glyphicon-align-right:before {
  content: "\e054";
}
.glyphicon-align-justify:before {
  content: "\e055";
}
.glyphicon-list:before {
  content: "\e056";
}
.glyphicon-indent-left:before {
  content: "\e057";
}
.glyphicon-indent-right:before {
  content: "\e058";
}
.glyphicon-facetime-video:before {
  content: "\e059";
}
.glyphicon-picture:before {
  content: "\e060";
}
.glyphicon-map-marker:before {
  content: "\e062";
}
.glyphicon-adjust:before {
  content: "\e063";
}
.glyphicon-tint:before {
  content: "\e064";
}
.glyphicon-edit:before {
  content: "\e065";
}
.glyphicon-share:before {
  content: "\e066";
}
.glyphicon-check:before {
  content: "\e067";
}
.glyphicon-move:before {
  content: "\e068";
}
.glyphicon-step-backward:before {
  content: "\e069";
}
.glyphicon-fast-backward:before {
  content: "\e070";
}
.glyphicon-backward:before {
  content: "\e071";
}
.glyphicon-play:before {
  content: "\e072";
}
.glyphicon-pause:before {
  content: "\e073";
}
.glyphicon-stop:before {
  content: "\e074";
}
.glyphicon-forward:before {
  content: "\e075";
}
.glyphicon-fast-forward:before {
  content: "\e076";
}
.glyphicon-step-forward:before {
  content: "\e077";
}
.glyphicon-eject:before {
  content: "\e078";
}
.glyphicon-chevron-left:before {
  content: "\e079";
}
.glyphicon-chevron-right:before {
  content: "\e080";
}
.glyphicon-plus-sign:before {
  content: "\e081";
}
.glyphicon-minus-sign:before {
  content: "\e082";
}
.glyphicon-remove-sign:before {
  content: "\e083";
}
.glyphicon-ok-sign:before {
  content: "\e084";
}
.glyphicon-question-sign:before {
  content: "\e085";
}
.glyphicon-info-sign:before {
  content: "\e086";
}
.glyphicon-screenshot:before {
  content: "\e087";
}
.glyphicon-remove-circle:before {
  content: "\e088";
}
.glyphicon-ok-circle:before {
  content: "\e089";
}
.glyphicon-ban-circle:before {
  content: "\e090";
}
.glyphicon-arrow-left:before {
  content: "\e091";
}
.glyphicon-arrow-right:before {
  content: "\e092";
}
.glyphicon-arrow-up:before {
  content: "\e093";
}
.glyphicon-arrow-down:before {
  content: "\e094";
}
.glyphicon-share-alt:before {
  content: "\e095";
}
.glyphicon-resize-full:before {
  content: "\e096";
}
.glyphicon-resize-small:before {
  content: "\e097";
}
.glyphicon-exclamation-sign:before {
  content: "\e101";
}
.glyphicon-gift:before {
  content: "\e102";
}
.glyphicon-leaf:before {
  content: "\e103";
}
.glyphicon-fire:before {
  content: "\e104";
}
.glyphicon-eye-open:before {
  content: "\e105";
}
.glyphicon-eye-close:before {
  content: "\e106";
}
.glyphicon-warning-sign:before {
  content: "\e107";
}
.glyphicon-plane:before {
  content: "\e108";
}
.glyphicon-calendar:before {
  content: "\e109";
}
.glyphicon-random:before {
  content: "\e110";
}
.glyphicon-comment:before {
  content: "\e111";
}
.glyphicon-magnet:before {
  content: "\e112";
}
.glyphicon-chevron-up:before {
  content: "\e113";
}
.glyphicon-chevron-down:before {
  content: "\e114";
}
.glyphicon-retweet:before {
  content: "\e115";
}
.glyphicon-shopping-cart:before {
  content: "\e116";
}
.glyphicon-folder-close:before {
  content: "\e117";
}
.glyphicon-folder-open:before {
  content: "\e118";
}
.glyphicon-resize-vertical:before {
  content: "\e119";
}
.glyphicon-resize-horizontal:before {
  content: "\e120";
}
.glyphicon-hdd:before {
  content: "\e121";
}
.glyphicon-bullhorn:before {
  content: "\e122";
}
.glyphicon-bell:before {
  content: "\e123";
}
.glyphicon-certificate:before {
  content: "\e124";
}
.glyphicon-thumbs-up:before {
  content: "\e125";
}
.glyphicon-thumbs-down:before {
  content: "\e126";
}
.glyphicon-hand-right:before {
  content: "\e127";
}
.glyphicon-hand-left:before {
  content: "\e128";
}
.glyphicon-hand-up:before {
  content: "\e129";
}
.glyphicon-hand-down:before {
  content: "\e130";
}
.glyphicon-circle-arrow-right:before {
  content: "\e131";
}
.glyphicon-circle-arrow-left:before {
  content: "\e132";
}
.glyphicon-circle-arrow-up:before {
  content: "\e133";
}
.glyphicon-circle-arrow-down:before {
  content: "\e134";
}
.glyphicon-globe:before {
  content: "\e135";
}
.glyphicon-wrench:before {
  content: "\e136";
}
.glyphicon-tasks:before {
  content: "\e137";
}
.glyphicon-filter:before {
  content: "\e138";
}
.glyphicon-briefcase:before {
  content: "\e139";
}
.glyphicon-fullscreen:before {
  content: "\e140";
}
.glyphicon-dashboard:before {
  content: "\e141";
}
.glyphicon-paperclip:before {
  content: "\e142";
}
.glyphicon-heart-empty:before {
  content: "\e143";
}
.glyphicon-link:before {
  content: "\e144";
}
.glyphicon-phone:before {
  content: "\e145";
}
.glyphicon-pushpin:before {
  content: "\e146";
}
.glyphicon-usd:before {
  content: "\e148";
}
.glyphicon-gbp:before {
  content: "\e149";
}
.glyphicon-sort:before {
  content: "\e150";
}
.glyphicon-sort-by-alphabet:before {
  content: "\e151";
}
.glyphicon-sort-by-alphabet-alt:before {
  content: "\e152";
}
.glyphicon-sort-by-order:before {
  content: "\e153";
}
.glyphicon-sort-by-order-alt:before {
  content: "\e154";
}
.glyphicon-sort-by-attributes:before {
  content: "\e155";
}
.glyphicon-sort-by-attributes-alt:before {
  content: "\e156";
}
.glyphicon-unchecked:before {
  content: "\e157";
}
.glyphicon-expand:before {
  content: "\e158";
}
.glyphicon-collapse-down:before {
  content: "\e159";
}
.glyphicon-collapse-up:before {
  content: "\e160";
}
.glyphicon-log-in:before {
  content: "\e161";
}
.glyphicon-flash:before {
  content: "\e162";
}
.glyphicon-log-out:before {
  content: "\e163";
}
.glyphicon-new-window:before {
  content: "\e164";
}
.glyphicon-record:before {
  content: "\e165";
}
.glyphicon-save:before {
  content: "\e166";
}
.glyphicon-open:before {
  content: "\e167";
}
.glyphicon-saved:before {
  content: "\e168";
}
.glyphicon-import:before {
  content: "\e169";
}
.glyphicon-export:before {
  content: "\e170";
}
.glyphicon-send:before {
  content: "\e171";
}
.glyphicon-floppy-disk:before {
  content: "\e172";
}
.glyphicon-floppy-saved:before {
  content: "\e173";
}
.glyphicon-floppy-remove:before {
  content: "\e174";
}
.glyphicon-floppy-save:before {
  content: "\e175";
}
.glyphicon-floppy-open:before {
  content: "\e176";
}
.glyphicon-credit-card:before {
  content: "\e177";
}
.glyphicon-transfer:before {
  content: "\e178";
}
.glyphicon-cutlery:before {
  content: "\e179";
}
.glyphicon-header:before {
  content: "\e180";
}
.glyphicon-compressed:before {
  content: "\e181";
}
.glyphicon-earphone:before {
  content: "\e182";
}
.glyphicon-phone-alt:before {
  content: "\e183";
}
.glyphicon-tower:before {
  content: "\e184";
}
.glyphicon-stats:before {
  content: "\e185";
}
.glyphicon-sd-video:before {
  content: "\e186";
}
.glyphicon-hd-video:before {
  content: "\e187";
}
.glyphicon-subtitles:before {
  content: "\e188";
}
.glyphicon-sound-stereo:before {
  content: "\e189";
}
.glyphicon-sound-dolby:before {
  content: "\e190";
}
.glyphicon-sound-5-1:before {
  content: "\e191";
}
.glyphicon-sound-6-1:before {
  content: "\e192";
}
.glyphicon-sound-7-1:before {
  content: "\e193";
}
.glyphicon-copyright-mark:before {
  content: "\e194";
}
.glyphicon-registration-mark:before {
  content: "\e195";
}
.glyphicon-cloud-download:before {
  content: "\e197";
}
.glyphicon-cloud-upload:before {
  content: "\e198";
}
.glyphicon-tree-conifer:before {
  content: "\e199";
}
.glyphicon-tree-deciduous:before {
  content: "\e200";
}
.glyphicon-cd:before {
  content: "\e201";
}
.glyphicon-save-file:before {
  content: "\e202";
}
.glyphicon-open-file:before {
  content: "\e203";
}
.glyphicon-level-up:before {
  content: "\e204";
}
.glyphicon-copy:before {
  content: "\e205";
}
.glyphicon-paste:before {
  content: "\e206";
}
.glyphicon-alert:before {
  content: "\e209";
}
.glyphicon-equalizer:before {
  content: "\e210";
}
.glyphicon-king:before {
  content: "\e211";
}
.glyphicon-queen:before {
  content: "\e212";
}
.glyphicon-pawn:before {
  content: "\e213";
}
.glyphicon-bishop:before {
  content: "\e214";
}
.glyphicon-knight:before {
  content: "\e215";
}
.glyphicon-baby-formula:before {
  content: "\e216";
}
.glyphicon-tent:before {
  content: "\26fa";
}
.glyphicon-blackboard:before {
  content: "\e218";
}
.glyphicon-bed:before {
  content: "\e219";
}
.glyphicon-apple:before {
  content: "\f8ff";
}
.glyphicon-erase:before {
  content: "\e221";
}
.glyphicon-hourglass:before {
  content: "\231b";
}
.glyphicon-lamp:before {
  content: "\e223";
}
.glyphicon-duplicate:before {
  content: "\e224";
}
.glyphicon-piggy-bank:before {
  content: "\e225";
}
.glyphicon-scissors:before {
  content: "\e226";
}
.glyphicon-bitcoin:before {
  content: "\e227";
}
.glyphicon-btc:before {
  content: "\e227";
}
.glyphicon-xbt:before {
  content: "\e227";
}
.glyphicon-yen:before {
  content: "\00a5";
}
.glyphicon-jpy:before {
  content: "\00a5";
}
.glyphicon-ruble:before {
  content: "\20bd";
}
.glyphicon-rub:before {
  content: "\20bd";
}
.glyphicon-scale:before {
  content: "\e230";
}
.glyphicon-ice-lolly:before {
  content: "\e231";
}
.glyphicon-ice-lolly-tasted:before {
  content: "\e232";
}
.glyphicon-education:before {
  content: "\e233";
}
.glyphicon-option-horizontal:before {
  content: "\e234";
}
.glyphicon-option-vertical:before {
  content: "\e235";
}
.glyphicon-menu-hamburger:before {
  content: "\e236";
}
.glyphicon-modal-window:before {
  content: "\e237";
}
.glyphicon-oil:before {
  content: "\e238";
}
.glyphicon-grain:before {
  content: "\e239";
}
.glyphicon-sunglasses:before {
  content: "\e240";
}
.glyphicon-text-size:before {
  content: "\e241";
}
.glyphicon-text-color:before {
  content: "\e242";
}
.glyphicon-text-background:before {
  content: "\e243";
}
.glyphicon-object-align-top:before {
  content: "\e244";
}
.glyphicon-object-align-bottom:before {
  content: "\e245";
}
.glyphicon-object-align-horizontal:before {
  content: "\e246";
}
.glyphicon-object-align-left:before {
  content: "\e247";
}
.glyphicon-object-align-vertical:before {
  content: "\e248";
}
.glyphicon-object-align-right:before {
  content: "\e249";
}
.glyphicon-triangle-right:before {
  content: "\e250";
}
.glyphicon-triangle-left:before {
  content: "\e251";
}
.glyphicon-triangle-bottom:before {
  content: "\e252";
}
.glyphicon-triangle-top:before {
  content: "\e253";
}
.glyphicon-console:before {
  content: "\e254";
}
.glyphicon-superscript:before {
  content: "\e255";
}
.glyphicon-subscript:before {
  content: "\e256";
}
.glyphicon-menu-left:before {
  content: "\e257";
}
.glyphicon-menu-right:before {
  content: "\e258";
}
.glyphicon-menu-down:before {
  content: "\e259";
}
.glyphicon-menu-up:before {
  content: "\e260";
}
* {
  -webkit-box-sizing: border-box;
  -moz-box-sizing: border-box;
  box-sizing: border-box;
}
*:before,
*:after {
  -webkit-box-sizing: border-box;
  -moz-box-sizing: border-box;
  box-sizing: border-box;
}
html {
  font-size: 10px;
  -webkit-tap-highlight-color: rgba(0, 0, 0, 0);
}
body {
  font-family: "Helvetica Neue", Helvetica, Arial, sans-serif;
  font-size: 13px;
  line-height: 1.42857143;
  color: #000;
  background-color: #fff;
}
input,
button,
select,
textarea {
  font-family: inherit;
  font-size: inherit;
  line-height: inherit;
}
a {
  color: #337ab7;
  text-decoration: none;
}
a:hover,
a:focus {
  color: #23527c;
  text-decoration: underline;
}
a:focus {
  outline: thin dotted;
  outline: 5px auto -webkit-focus-ring-color;
  outline-offset: -2px;
}
figure {
  margin: 0;
}
img {
  vertical-align: middle;
}
.img-responsive,
.thumbnail > img,
.thumbnail a > img,
.carousel-inner > .item > img,
.carousel-inner > .item > a > img {
  display: block;
  max-width: 100%;
  height: auto;
}
.img-rounded {
  border-radius: 3px;
}
.img-thumbnail {
  padding: 4px;
  line-height: 1.42857143;
  background-color: #fff;
  border: 1px solid #ddd;
  border-radius: 2px;
  -webkit-transition: all 0.2s ease-in-out;
  -o-transition: all 0.2s ease-in-out;
  transition: all 0.2s ease-in-out;
  display: inline-block;
  max-width: 100%;
  height: auto;
}
.img-circle {
  border-radius: 50%;
}
hr {
  margin-top: 18px;
  margin-bottom: 18px;
  border: 0;
  border-top: 1px solid #eeeeee;
}
.sr-only {
  position: absolute;
  width: 1px;
  height: 1px;
  margin: -1px;
  padding: 0;
  overflow: hidden;
  clip: rect(0, 0, 0, 0);
  border: 0;
}
.sr-only-focusable:active,
.sr-only-focusable:focus {
  position: static;
  width: auto;
  height: auto;
  margin: 0;
  overflow: visible;
  clip: auto;
}
[role="button"] {
  cursor: pointer;
}
h1,
h2,
h3,
h4,
h5,
h6,
.h1,
.h2,
.h3,
.h4,
.h5,
.h6 {
  font-family: inherit;
  font-weight: 500;
  line-height: 1.1;
  color: inherit;
}
h1 small,
h2 small,
h3 small,
h4 small,
h5 small,
h6 small,
.h1 small,
.h2 small,
.h3 small,
.h4 small,
.h5 small,
.h6 small,
h1 .small,
h2 .small,
h3 .small,
h4 .small,
h5 .small,
h6 .small,
.h1 .small,
.h2 .small,
.h3 .small,
.h4 .small,
.h5 .small,
.h6 .small {
  font-weight: normal;
  line-height: 1;
  color: #777777;
}
h1,
.h1,
h2,
.h2,
h3,
.h3 {
  margin-top: 18px;
  margin-bottom: 9px;
}
h1 small,
.h1 small,
h2 small,
.h2 small,
h3 small,
.h3 small,
h1 .small,
.h1 .small,
h2 .small,
.h2 .small,
h3 .small,
.h3 .small {
  font-size: 65%;
}
h4,
.h4,
h5,
.h5,
h6,
.h6 {
  margin-top: 9px;
  margin-bottom: 9px;
}
h4 small,
.h4 small,
h5 small,
.h5 small,
h6 small,
.h6 small,
h4 .small,
.h4 .small,
h5 .small,
.h5 .small,
h6 .small,
.h6 .small {
  font-size: 75%;
}
h1,
.h1 {
  font-size: 33px;
}
h2,
.h2 {
  font-size: 27px;
}
h3,
.h3 {
  font-size: 23px;
}
h4,
.h4 {
  font-size: 17px;
}
h5,
.h5 {
  font-size: 13px;
}
h6,
.h6 {
  font-size: 12px;
}
p {
  margin: 0 0 9px;
}
.lead {
  margin-bottom: 18px;
  font-size: 14px;
  font-weight: 300;
  line-height: 1.4;
}
@media (min-width: 768px) {
  .lead {
    font-size: 19.5px;
  }
}
small,
.small {
  font-size: 92%;
}
mark,
.mark {
  background-color: #fcf8e3;
  padding: .2em;
}
.text-left {
  text-align: left;
}
.text-right {
  text-align: right;
}
.text-center {
  text-align: center;
}
.text-justify {
  text-align: justify;
}
.text-nowrap {
  white-space: nowrap;
}
.text-lowercase {
  text-transform: lowercase;
}
.text-uppercase {
  text-transform: uppercase;
}
.text-capitalize {
  text-transform: capitalize;
}
.text-muted {
  color: #777777;
}
.text-primary {
  color: #337ab7;
}
a.text-primary:hover,
a.text-primary:focus {
  color: #286090;
}
.text-success {
  color: #3c763d;
}
a.text-success:hover,
a.text-success:focus {
  color: #2b542c;
}
.text-info {
  color: #31708f;
}
a.text-info:hover,
a.text-info:focus {
  color: #245269;
}
.text-warning {
  color: #8a6d3b;
}
a.text-warning:hover,
a.text-warning:focus {
  color: #66512c;
}
.text-danger {
  color: #a94442;
}
a.text-danger:hover,
a.text-danger:focus {
  color: #843534;
}
.bg-primary {
  color: #fff;
  background-color: #337ab7;
}
a.bg-primary:hover,
a.bg-primary:focus {
  background-color: #286090;
}
.bg-success {
  background-color: #dff0d8;
}
a.bg-success:hover,
a.bg-success:focus {
  background-color: #c1e2b3;
}
.bg-info {
  background-color: #d9edf7;
}
a.bg-info:hover,
a.bg-info:focus {
  background-color: #afd9ee;
}
.bg-warning {
  background-color: #fcf8e3;
}
a.bg-warning:hover,
a.bg-warning:focus {
  background-color: #f7ecb5;
}
.bg-danger {
  background-color: #f2dede;
}
a.bg-danger:hover,
a.bg-danger:focus {
  background-color: #e4b9b9;
}
.page-header {
  padding-bottom: 8px;
  margin: 36px 0 18px;
  border-bottom: 1px solid #eeeeee;
}
ul,
ol {
  margin-top: 0;
  margin-bottom: 9px;
}
ul ul,
ol ul,
ul ol,
ol ol {
  margin-bottom: 0;
}
.list-unstyled {
  padding-left: 0;
  list-style: none;
}
.list-inline {
  padding-left: 0;
  list-style: none;
  margin-left: -5px;
}
.list-inline > li {
  display: inline-block;
  padding-left: 5px;
  padding-right: 5px;
}
dl {
  margin-top: 0;
  margin-bottom: 18px;
}
dt,
dd {
  line-height: 1.42857143;
}
dt {
  font-weight: bold;
}
dd {
  margin-left: 0;
}
@media (min-width: 541px) {
  .dl-horizontal dt {
    float: left;
    width: 160px;
    clear: left;
    text-align: right;
    overflow: hidden;
    text-overflow: ellipsis;
    white-space: nowrap;
  }
  .dl-horizontal dd {
    margin-left: 180px;
  }
}
abbr[title],
abbr[data-original-title] {
  cursor: help;
  border-bottom: 1px dotted #777777;
}
.initialism {
  font-size: 90%;
  text-transform: uppercase;
}
blockquote {
  padding: 9px 18px;
  margin: 0 0 18px;
  font-size: inherit;
  border-left: 5px solid #eeeeee;
}
blockquote p:last-child,
blockquote ul:last-child,
blockquote ol:last-child {
  margin-bottom: 0;
}
blockquote footer,
blockquote small,
blockquote .small {
  display: block;
  font-size: 80%;
  line-height: 1.42857143;
  color: #777777;
}
blockquote footer:before,
blockquote small:before,
blockquote .small:before {
  content: '\2014 \00A0';
}
.blockquote-reverse,
blockquote.pull-right {
  padding-right: 15px;
  padding-left: 0;
  border-right: 5px solid #eeeeee;
  border-left: 0;
  text-align: right;
}
.blockquote-reverse footer:before,
blockquote.pull-right footer:before,
.blockquote-reverse small:before,
blockquote.pull-right small:before,
.blockquote-reverse .small:before,
blockquote.pull-right .small:before {
  content: '';
}
.blockquote-reverse footer:after,
blockquote.pull-right footer:after,
.blockquote-reverse small:after,
blockquote.pull-right small:after,
.blockquote-reverse .small:after,
blockquote.pull-right .small:after {
  content: '\00A0 \2014';
}
address {
  margin-bottom: 18px;
  font-style: normal;
  line-height: 1.42857143;
}
code,
kbd,
pre,
samp {
  font-family: monospace;
}
code {
  padding: 2px 4px;
  font-size: 90%;
  color: #c7254e;
  background-color: #f9f2f4;
  border-radius: 2px;
}
kbd {
  padding: 2px 4px;
  font-size: 90%;
  color: #888;
  background-color: transparent;
  border-radius: 1px;
  box-shadow: inset 0 -1px 0 rgba(0, 0, 0, 0.25);
}
kbd kbd {
  padding: 0;
  font-size: 100%;
  font-weight: bold;
  box-shadow: none;
}
pre {
  display: block;
  padding: 8.5px;
  margin: 0 0 9px;
  font-size: 12px;
  line-height: 1.42857143;
  word-break: break-all;
  word-wrap: break-word;
  color: #333333;
  background-color: #f5f5f5;
  border: 1px solid #ccc;
  border-radius: 2px;
}
pre code {
  padding: 0;
  font-size: inherit;
  color: inherit;
  white-space: pre-wrap;
  background-color: transparent;
  border-radius: 0;
}
.pre-scrollable {
  max-height: 340px;
  overflow-y: scroll;
}
.container {
  margin-right: auto;
  margin-left: auto;
  padding-left: 0px;
  padding-right: 0px;
}
@media (min-width: 768px) {
  .container {
    width: 768px;
  }
}
@media (min-width: 992px) {
  .container {
    width: 940px;
  }
}
@media (min-width: 1200px) {
  .container {
    width: 1140px;
  }
}
.container-fluid {
  margin-right: auto;
  margin-left: auto;
  padding-left: 0px;
  padding-right: 0px;
}
.row {
  margin-left: 0px;
  margin-right: 0px;
}
.col-xs-1, .col-sm-1, .col-md-1, .col-lg-1, .col-xs-2, .col-sm-2, .col-md-2, .col-lg-2, .col-xs-3, .col-sm-3, .col-md-3, .col-lg-3, .col-xs-4, .col-sm-4, .col-md-4, .col-lg-4, .col-xs-5, .col-sm-5, .col-md-5, .col-lg-5, .col-xs-6, .col-sm-6, .col-md-6, .col-lg-6, .col-xs-7, .col-sm-7, .col-md-7, .col-lg-7, .col-xs-8, .col-sm-8, .col-md-8, .col-lg-8, .col-xs-9, .col-sm-9, .col-md-9, .col-lg-9, .col-xs-10, .col-sm-10, .col-md-10, .col-lg-10, .col-xs-11, .col-sm-11, .col-md-11, .col-lg-11, .col-xs-12, .col-sm-12, .col-md-12, .col-lg-12 {
  position: relative;
  min-height: 1px;
  padding-left: 0px;
  padding-right: 0px;
}
.col-xs-1, .col-xs-2, .col-xs-3, .col-xs-4, .col-xs-5, .col-xs-6, .col-xs-7, .col-xs-8, .col-xs-9, .col-xs-10, .col-xs-11, .col-xs-12 {
  float: left;
}
.col-xs-12 {
  width: 100%;
}
.col-xs-11 {
  width: 91.66666667%;
}
.col-xs-10 {
  width: 83.33333333%;
}
.col-xs-9 {
  width: 75%;
}
.col-xs-8 {
  width: 66.66666667%;
}
.col-xs-7 {
  width: 58.33333333%;
}
.col-xs-6 {
  width: 50%;
}
.col-xs-5 {
  width: 41.66666667%;
}
.col-xs-4 {
  width: 33.33333333%;
}
.col-xs-3 {
  width: 25%;
}
.col-xs-2 {
  width: 16.66666667%;
}
.col-xs-1 {
  width: 8.33333333%;
}
.col-xs-pull-12 {
  right: 100%;
}
.col-xs-pull-11 {
  right: 91.66666667%;
}
.col-xs-pull-10 {
  right: 83.33333333%;
}
.col-xs-pull-9 {
  right: 75%;
}
.col-xs-pull-8 {
  right: 66.66666667%;
}
.col-xs-pull-7 {
  right: 58.33333333%;
}
.col-xs-pull-6 {
  right: 50%;
}
.col-xs-pull-5 {
  right: 41.66666667%;
}
.col-xs-pull-4 {
  right: 33.33333333%;
}
.col-xs-pull-3 {
  right: 25%;
}
.col-xs-pull-2 {
  right: 16.66666667%;
}
.col-xs-pull-1 {
  right: 8.33333333%;
}
.col-xs-pull-0 {
  right: auto;
}
.col-xs-push-12 {
  left: 100%;
}
.col-xs-push-11 {
  left: 91.66666667%;
}
.col-xs-push-10 {
  left: 83.33333333%;
}
.col-xs-push-9 {
  left: 75%;
}
.col-xs-push-8 {
  left: 66.66666667%;
}
.col-xs-push-7 {
  left: 58.33333333%;
}
.col-xs-push-6 {
  left: 50%;
}
.col-xs-push-5 {
  left: 41.66666667%;
}
.col-xs-push-4 {
  left: 33.33333333%;
}
.col-xs-push-3 {
  left: 25%;
}
.col-xs-push-2 {
  left: 16.66666667%;
}
.col-xs-push-1 {
  left: 8.33333333%;
}
.col-xs-push-0 {
  left: auto;
}
.col-xs-offset-12 {
  margin-left: 100%;
}
.col-xs-offset-11 {
  margin-left: 91.66666667%;
}
.col-xs-offset-10 {
  margin-left: 83.33333333%;
}
.col-xs-offset-9 {
  margin-left: 75%;
}
.col-xs-offset-8 {
  margin-left: 66.66666667%;
}
.col-xs-offset-7 {
  margin-left: 58.33333333%;
}
.col-xs-offset-6 {
  margin-left: 50%;
}
.col-xs-offset-5 {
  margin-left: 41.66666667%;
}
.col-xs-offset-4 {
  margin-left: 33.33333333%;
}
.col-xs-offset-3 {
  margin-left: 25%;
}
.col-xs-offset-2 {
  margin-left: 16.66666667%;
}
.col-xs-offset-1 {
  margin-left: 8.33333333%;
}
.col-xs-offset-0 {
  margin-left: 0%;
}
@media (min-width: 768px) {
  .col-sm-1, .col-sm-2, .col-sm-3, .col-sm-4, .col-sm-5, .col-sm-6, .col-sm-7, .col-sm-8, .col-sm-9, .col-sm-10, .col-sm-11, .col-sm-12 {
    float: left;
  }
  .col-sm-12 {
    width: 100%;
  }
  .col-sm-11 {
    width: 91.66666667%;
  }
  .col-sm-10 {
    width: 83.33333333%;
  }
  .col-sm-9 {
    width: 75%;
  }
  .col-sm-8 {
    width: 66.66666667%;
  }
  .col-sm-7 {
    width: 58.33333333%;
  }
  .col-sm-6 {
    width: 50%;
  }
  .col-sm-5 {
    width: 41.66666667%;
  }
  .col-sm-4 {
    width: 33.33333333%;
  }
  .col-sm-3 {
    width: 25%;
  }
  .col-sm-2 {
    width: 16.66666667%;
  }
  .col-sm-1 {
    width: 8.33333333%;
  }
  .col-sm-pull-12 {
    right: 100%;
  }
  .col-sm-pull-11 {
    right: 91.66666667%;
  }
  .col-sm-pull-10 {
    right: 83.33333333%;
  }
  .col-sm-pull-9 {
    right: 75%;
  }
  .col-sm-pull-8 {
    right: 66.66666667%;
  }
  .col-sm-pull-7 {
    right: 58.33333333%;
  }
  .col-sm-pull-6 {
    right: 50%;
  }
  .col-sm-pull-5 {
    right: 41.66666667%;
  }
  .col-sm-pull-4 {
    right: 33.33333333%;
  }
  .col-sm-pull-3 {
    right: 25%;
  }
  .col-sm-pull-2 {
    right: 16.66666667%;
  }
  .col-sm-pull-1 {
    right: 8.33333333%;
  }
  .col-sm-pull-0 {
    right: auto;
  }
  .col-sm-push-12 {
    left: 100%;
  }
  .col-sm-push-11 {
    left: 91.66666667%;
  }
  .col-sm-push-10 {
    left: 83.33333333%;
  }
  .col-sm-push-9 {
    left: 75%;
  }
  .col-sm-push-8 {
    left: 66.66666667%;
  }
  .col-sm-push-7 {
    left: 58.33333333%;
  }
  .col-sm-push-6 {
    left: 50%;
  }
  .col-sm-push-5 {
    left: 41.66666667%;
  }
  .col-sm-push-4 {
    left: 33.33333333%;
  }
  .col-sm-push-3 {
    left: 25%;
  }
  .col-sm-push-2 {
    left: 16.66666667%;
  }
  .col-sm-push-1 {
    left: 8.33333333%;
  }
  .col-sm-push-0 {
    left: auto;
  }
  .col-sm-offset-12 {
    margin-left: 100%;
  }
  .col-sm-offset-11 {
    margin-left: 91.66666667%;
  }
  .col-sm-offset-10 {
    margin-left: 83.33333333%;
  }
  .col-sm-offset-9 {
    margin-left: 75%;
  }
  .col-sm-offset-8 {
    margin-left: 66.66666667%;
  }
  .col-sm-offset-7 {
    margin-left: 58.33333333%;
  }
  .col-sm-offset-6 {
    margin-left: 50%;
  }
  .col-sm-offset-5 {
    margin-left: 41.66666667%;
  }
  .col-sm-offset-4 {
    margin-left: 33.33333333%;
  }
  .col-sm-offset-3 {
    margin-left: 25%;
  }
  .col-sm-offset-2 {
    margin-left: 16.66666667%;
  }
  .col-sm-offset-1 {
    margin-left: 8.33333333%;
  }
  .col-sm-offset-0 {
    margin-left: 0%;
  }
}
@media (min-width: 992px) {
  .col-md-1, .col-md-2, .col-md-3, .col-md-4, .col-md-5, .col-md-6, .col-md-7, .col-md-8, .col-md-9, .col-md-10, .col-md-11, .col-md-12 {
    float: left;
  }
  .col-md-12 {
    width: 100%;
  }
  .col-md-11 {
    width: 91.66666667%;
  }
  .col-md-10 {
    width: 83.33333333%;
  }
  .col-md-9 {
    width: 75%;
  }
  .col-md-8 {
    width: 66.66666667%;
  }
  .col-md-7 {
    width: 58.33333333%;
  }
  .col-md-6 {
    width: 50%;
  }
  .col-md-5 {
    width: 41.66666667%;
  }
  .col-md-4 {
    width: 33.33333333%;
  }
  .col-md-3 {
    width: 25%;
  }
  .col-md-2 {
    width: 16.66666667%;
  }
  .col-md-1 {
    width: 8.33333333%;
  }
  .col-md-pull-12 {
    right: 100%;
  }
  .col-md-pull-11 {
    right: 91.66666667%;
  }
  .col-md-pull-10 {
    right: 83.33333333%;
  }
  .col-md-pull-9 {
    right: 75%;
  }
  .col-md-pull-8 {
    right: 66.66666667%;
  }
  .col-md-pull-7 {
    right: 58.33333333%;
  }
  .col-md-pull-6 {
    right: 50%;
  }
  .col-md-pull-5 {
    right: 41.66666667%;
  }
  .col-md-pull-4 {
    right: 33.33333333%;
  }
  .col-md-pull-3 {
    right: 25%;
  }
  .col-md-pull-2 {
    right: 16.66666667%;
  }
  .col-md-pull-1 {
    right: 8.33333333%;
  }
  .col-md-pull-0 {
    right: auto;
  }
  .col-md-push-12 {
    left: 100%;
  }
  .col-md-push-11 {
    left: 91.66666667%;
  }
  .col-md-push-10 {
    left: 83.33333333%;
  }
  .col-md-push-9 {
    left: 75%;
  }
  .col-md-push-8 {
    left: 66.66666667%;
  }
  .col-md-push-7 {
    left: 58.33333333%;
  }
  .col-md-push-6 {
    left: 50%;
  }
  .col-md-push-5 {
    left: 41.66666667%;
  }
  .col-md-push-4 {
    left: 33.33333333%;
  }
  .col-md-push-3 {
    left: 25%;
  }
  .col-md-push-2 {
    left: 16.66666667%;
  }
  .col-md-push-1 {
    left: 8.33333333%;
  }
  .col-md-push-0 {
    left: auto;
  }
  .col-md-offset-12 {
    margin-left: 100%;
  }
  .col-md-offset-11 {
    margin-left: 91.66666667%;
  }
  .col-md-offset-10 {
    margin-left: 83.33333333%;
  }
  .col-md-offset-9 {
    margin-left: 75%;
  }
  .col-md-offset-8 {
    margin-left: 66.66666667%;
  }
  .col-md-offset-7 {
    margin-left: 58.33333333%;
  }
  .col-md-offset-6 {
    margin-left: 50%;
  }
  .col-md-offset-5 {
    margin-left: 41.66666667%;
  }
  .col-md-offset-4 {
    margin-left: 33.33333333%;
  }
  .col-md-offset-3 {
    margin-left: 25%;
  }
  .col-md-offset-2 {
    margin-left: 16.66666667%;
  }
  .col-md-offset-1 {
    margin-left: 8.33333333%;
  }
  .col-md-offset-0 {
    margin-left: 0%;
  }
}
@media (min-width: 1200px) {
  .col-lg-1, .col-lg-2, .col-lg-3, .col-lg-4, .col-lg-5, .col-lg-6, .col-lg-7, .col-lg-8, .col-lg-9, .col-lg-10, .col-lg-11, .col-lg-12 {
    float: left;
  }
  .col-lg-12 {
    width: 100%;
  }
  .col-lg-11 {
    width: 91.66666667%;
  }
  .col-lg-10 {
    width: 83.33333333%;
  }
  .col-lg-9 {
    width: 75%;
  }
  .col-lg-8 {
    width: 66.66666667%;
  }
  .col-lg-7 {
    width: 58.33333333%;
  }
  .col-lg-6 {
    width: 50%;
  }
  .col-lg-5 {
    width: 41.66666667%;
  }
  .col-lg-4 {
    width: 33.33333333%;
  }
  .col-lg-3 {
    width: 25%;
  }
  .col-lg-2 {
    width: 16.66666667%;
  }
  .col-lg-1 {
    width: 8.33333333%;
  }
  .col-lg-pull-12 {
    right: 100%;
  }
  .col-lg-pull-11 {
    right: 91.66666667%;
  }
  .col-lg-pull-10 {
    right: 83.33333333%;
  }
  .col-lg-pull-9 {
    right: 75%;
  }
  .col-lg-pull-8 {
    right: 66.66666667%;
  }
  .col-lg-pull-7 {
    right: 58.33333333%;
  }
  .col-lg-pull-6 {
    right: 50%;
  }
  .col-lg-pull-5 {
    right: 41.66666667%;
  }
  .col-lg-pull-4 {
    right: 33.33333333%;
  }
  .col-lg-pull-3 {
    right: 25%;
  }
  .col-lg-pull-2 {
    right: 16.66666667%;
  }
  .col-lg-pull-1 {
    right: 8.33333333%;
  }
  .col-lg-pull-0 {
    right: auto;
  }
  .col-lg-push-12 {
    left: 100%;
  }
  .col-lg-push-11 {
    left: 91.66666667%;
  }
  .col-lg-push-10 {
    left: 83.33333333%;
  }
  .col-lg-push-9 {
    left: 75%;
  }
  .col-lg-push-8 {
    left: 66.66666667%;
  }
  .col-lg-push-7 {
    left: 58.33333333%;
  }
  .col-lg-push-6 {
    left: 50%;
  }
  .col-lg-push-5 {
    left: 41.66666667%;
  }
  .col-lg-push-4 {
    left: 33.33333333%;
  }
  .col-lg-push-3 {
    left: 25%;
  }
  .col-lg-push-2 {
    left: 16.66666667%;
  }
  .col-lg-push-1 {
    left: 8.33333333%;
  }
  .col-lg-push-0 {
    left: auto;
  }
  .col-lg-offset-12 {
    margin-left: 100%;
  }
  .col-lg-offset-11 {
    margin-left: 91.66666667%;
  }
  .col-lg-offset-10 {
    margin-left: 83.33333333%;
  }
  .col-lg-offset-9 {
    margin-left: 75%;
  }
  .col-lg-offset-8 {
    margin-left: 66.66666667%;
  }
  .col-lg-offset-7 {
    margin-left: 58.33333333%;
  }
  .col-lg-offset-6 {
    margin-left: 50%;
  }
  .col-lg-offset-5 {
    margin-left: 41.66666667%;
  }
  .col-lg-offset-4 {
    margin-left: 33.33333333%;
  }
  .col-lg-offset-3 {
    margin-left: 25%;
  }
  .col-lg-offset-2 {
    margin-left: 16.66666667%;
  }
  .col-lg-offset-1 {
    margin-left: 8.33333333%;
  }
  .col-lg-offset-0 {
    margin-left: 0%;
  }
}
table {
  background-color: transparent;
}
caption {
  padding-top: 8px;
  padding-bottom: 8px;
  color: #777777;
  text-align: left;
}
th {
  text-align: left;
}
.table {
  width: 100%;
  max-width: 100%;
  margin-bottom: 18px;
}
.table > thead > tr > th,
.table > tbody > tr > th,
.table > tfoot > tr > th,
.table > thead > tr > td,
.table > tbody > tr > td,
.table > tfoot > tr > td {
  padding: 8px;
  line-height: 1.42857143;
  vertical-align: top;
  border-top: 1px solid #ddd;
}
.table > thead > tr > th {
  vertical-align: bottom;
  border-bottom: 2px solid #ddd;
}
.table > caption + thead > tr:first-child > th,
.table > colgroup + thead > tr:first-child > th,
.table > thead:first-child > tr:first-child > th,
.table > caption + thead > tr:first-child > td,
.table > colgroup + thead > tr:first-child > td,
.table > thead:first-child > tr:first-child > td {
  border-top: 0;
}
.table > tbody + tbody {
  border-top: 2px solid #ddd;
}
.table .table {
  background-color: #fff;
}
.table-condensed > thead > tr > th,
.table-condensed > tbody > tr > th,
.table-condensed > tfoot > tr > th,
.table-condensed > thead > tr > td,
.table-condensed > tbody > tr > td,
.table-condensed > tfoot > tr > td {
  padding: 5px;
}
.table-bordered {
  border: 1px solid #ddd;
}
.table-bordered > thead > tr > th,
.table-bordered > tbody > tr > th,
.table-bordered > tfoot > tr > th,
.table-bordered > thead > tr > td,
.table-bordered > tbody > tr > td,
.table-bordered > tfoot > tr > td {
  border: 1px solid #ddd;
}
.table-bordered > thead > tr > th,
.table-bordered > thead > tr > td {
  border-bottom-width: 2px;
}
.table-striped > tbody > tr:nth-of-type(odd) {
  background-color: #f9f9f9;
}
.table-hover > tbody > tr:hover {
  background-color: #f5f5f5;
}
table col[class*="col-"] {
  position: static;
  float: none;
  display: table-column;
}
table td[class*="col-"],
table th[class*="col-"] {
  position: static;
  float: none;
  display: table-cell;
}
.table > thead > tr > td.active,
.table > tbody > tr > td.active,
.table > tfoot > tr > td.active,
.table > thead > tr > th.active,
.table > tbody > tr > th.active,
.table > tfoot > tr > th.active,
.table > thead > tr.active > td,
.table > tbody > tr.active > td,
.table > tfoot > tr.active > td,
.table > thead > tr.active > th,
.table > tbody > tr.active > th,
.table > tfoot > tr.active > th {
  background-color: #f5f5f5;
}
.table-hover > tbody > tr > td.active:hover,
.table-hover > tbody > tr > th.active:hover,
.table-hover > tbody > tr.active:hover > td,
.table-hover > tbody > tr:hover > .active,
.table-hover > tbody > tr.active:hover > th {
  background-color: #e8e8e8;
}
.table > thead > tr > td.success,
.table > tbody > tr > td.success,
.table > tfoot > tr > td.success,
.table > thead > tr > th.success,
.table > tbody > tr > th.success,
.table > tfoot > tr > th.success,
.table > thead > tr.success > td,
.table > tbody > tr.success > td,
.table > tfoot > tr.success > td,
.table > thead > tr.success > th,
.table > tbody > tr.success > th,
.table > tfoot > tr.success > th {
  background-color: #dff0d8;
}
.table-hover > tbody > tr > td.success:hover,
.table-hover > tbody > tr > th.success:hover,
.table-hover > tbody > tr.success:hover > td,
.table-hover > tbody > tr:hover > .success,
.table-hover > tbody > tr.success:hover > th {
  background-color: #d0e9c6;
}
.table > thead > tr > td.info,
.table > tbody > tr > td.info,
.table > tfoot > tr > td.info,
.table > thead > tr > th.info,
.table > tbody > tr > th.info,
.table > tfoot > tr > th.info,
.table > thead > tr.info > td,
.table > tbody > tr.info > td,
.table > tfoot > tr.info > td,
.table > thead > tr.info > th,
.table > tbody > tr.info > th,
.table > tfoot > tr.info > th {
  background-color: #d9edf7;
}
.table-hover > tbody > tr > td.info:hover,
.table-hover > tbody > tr > th.info:hover,
.table-hover > tbody > tr.info:hover > td,
.table-hover > tbody > tr:hover > .info,
.table-hover > tbody > tr.info:hover > th {
  background-color: #c4e3f3;
}
.table > thead > tr > td.warning,
.table > tbody > tr > td.warning,
.table > tfoot > tr > td.warning,
.table > thead > tr > th.warning,
.table > tbody > tr > th.warning,
.table > tfoot > tr > th.warning,
.table > thead > tr.warning > td,
.table > tbody > tr.warning > td,
.table > tfoot > tr.warning > td,
.table > thead > tr.warning > th,
.table > tbody > tr.warning > th,
.table > tfoot > tr.warning > th {
  background-color: #fcf8e3;
}
.table-hover > tbody > tr > td.warning:hover,
.table-hover > tbody > tr > th.warning:hover,
.table-hover > tbody > tr.warning:hover > td,
.table-hover > tbody > tr:hover > .warning,
.table-hover > tbody > tr.warning:hover > th {
  background-color: #faf2cc;
}
.table > thead > tr > td.danger,
.table > tbody > tr > td.danger,
.table > tfoot > tr > td.danger,
.table > thead > tr > th.danger,
.table > tbody > tr > th.danger,
.table > tfoot > tr > th.danger,
.table > thead > tr.danger > td,
.table > tbody > tr.danger > td,
.table > tfoot > tr.danger > td,
.table > thead > tr.danger > th,
.table > tbody > tr.danger > th,
.table > tfoot > tr.danger > th {
  background-color: #f2dede;
}
.table-hover > tbody > tr > td.danger:hover,
.table-hover > tbody > tr > th.danger:hover,
.table-hover > tbody > tr.danger:hover > td,
.table-hover > tbody > tr:hover > .danger,
.table-hover > tbody > tr.danger:hover > th {
  background-color: #ebcccc;
}
.table-responsive {
  overflow-x: auto;
  min-height: 0.01%;
}
@media screen and (max-width: 767px) {
  .table-responsive {
    width: 100%;
    margin-bottom: 13.5px;
    overflow-y: hidden;
    -ms-overflow-style: -ms-autohiding-scrollbar;
    border: 1px solid #ddd;
  }
  .table-responsive > .table {
    margin-bottom: 0;
  }
  .table-responsive > .table > thead > tr > th,
  .table-responsive > .table > tbody > tr > th,
  .table-responsive > .table > tfoot > tr > th,
  .table-responsive > .table > thead > tr > td,
  .table-responsive > .table > tbody > tr > td,
  .table-responsive > .table > tfoot > tr > td {
    white-space: nowrap;
  }
  .table-responsive > .table-bordered {
    border: 0;
  }
  .table-responsive > .table-bordered > thead > tr > th:first-child,
  .table-responsive > .table-bordered > tbody > tr > th:first-child,
  .table-responsive > .table-bordered > tfoot > tr > th:first-child,
  .table-responsive > .table-bordered > thead > tr > td:first-child,
  .table-responsive > .table-bordered > tbody > tr > td:first-child,
  .table-responsive > .table-bordered > tfoot > tr > td:first-child {
    border-left: 0;
  }
  .table-responsive > .table-bordered > thead > tr > th:last-child,
  .table-responsive > .table-bordered > tbody > tr > th:last-child,
  .table-responsive > .table-bordered > tfoot > tr > th:last-child,
  .table-responsive > .table-bordered > thead > tr > td:last-child,
  .table-responsive > .table-bordered > tbody > tr > td:last-child,
  .table-responsive > .table-bordered > tfoot > tr > td:last-child {
    border-right: 0;
  }
  .table-responsive > .table-bordered > tbody > tr:last-child > th,
  .table-responsive > .table-bordered > tfoot > tr:last-child > th,
  .table-responsive > .table-bordered > tbody > tr:last-child > td,
  .table-responsive > .table-bordered > tfoot > tr:last-child > td {
    border-bottom: 0;
  }
}
fieldset {
  padding: 0;
  margin: 0;
  border: 0;
  min-width: 0;
}
legend {
  display: block;
  width: 100%;
  padding: 0;
  margin-bottom: 18px;
  font-size: 19.5px;
  line-height: inherit;
  color: #333333;
  border: 0;
  border-bottom: 1px solid #e5e5e5;
}
label {
  display: inline-block;
  max-width: 100%;
  margin-bottom: 5px;
  font-weight: bold;
}
input[type="search"] {
  -webkit-box-sizing: border-box;
  -moz-box-sizing: border-box;
  box-sizing: border-box;
}
input[type="radio"],
input[type="checkbox"] {
  margin: 4px 0 0;
  margin-top: 1px \9;
  line-height: normal;
}
input[type="file"] {
  display: block;
}
input[type="range"] {
  display: block;
  width: 100%;
}
select[multiple],
select[size] {
  height: auto;
}
input[type="file"]:focus,
input[type="radio"]:focus,
input[type="checkbox"]:focus {
  outline: thin dotted;
  outline: 5px auto -webkit-focus-ring-color;
  outline-offset: -2px;
}
output {
  display: block;
  padding-top: 7px;
  font-size: 13px;
  line-height: 1.42857143;
  color: #555555;
}
.form-control {
  display: block;
  width: 100%;
  height: 32px;
  padding: 6px 12px;
  font-size: 13px;
  line-height: 1.42857143;
  color: #555555;
  background-color: #fff;
  background-image: none;
  border: 1px solid #ccc;
  border-radius: 2px;
  -webkit-box-shadow: inset 0 1px 1px rgba(0, 0, 0, 0.075);
  box-shadow: inset 0 1px 1px rgba(0, 0, 0, 0.075);
  -webkit-transition: border-color ease-in-out .15s, box-shadow ease-in-out .15s;
  -o-transition: border-color ease-in-out .15s, box-shadow ease-in-out .15s;
  transition: border-color ease-in-out .15s, box-shadow ease-in-out .15s;
}
.form-control:focus {
  border-color: #66afe9;
  outline: 0;
  -webkit-box-shadow: inset 0 1px 1px rgba(0,0,0,.075), 0 0 8px rgba(102, 175, 233, 0.6);
  box-shadow: inset 0 1px 1px rgba(0,0,0,.075), 0 0 8px rgba(102, 175, 233, 0.6);
}
.form-control::-moz-placeholder {
  color: #999;
  opacity: 1;
}
.form-control:-ms-input-placeholder {
  color: #999;
}
.form-control::-webkit-input-placeholder {
  color: #999;
}
.form-control::-ms-expand {
  border: 0;
  background-color: transparent;
}
.form-control[disabled],
.form-control[readonly],
fieldset[disabled] .form-control {
  background-color: #eeeeee;
  opacity: 1;
}
.form-control[disabled],
fieldset[disabled] .form-control {
  cursor: not-allowed;
}
textarea.form-control {
  height: auto;
}
input[type="search"] {
  -webkit-appearance: none;
}
@media screen and (-webkit-min-device-pixel-ratio: 0) {
  input[type="date"].form-control,
  input[type="time"].form-control,
  input[type="datetime-local"].form-control,
  input[type="month"].form-control {
    line-height: 32px;
  }
  input[type="date"].input-sm,
  input[type="time"].input-sm,
  input[type="datetime-local"].input-sm,
  input[type="month"].input-sm,
  .input-group-sm input[type="date"],
  .input-group-sm input[type="time"],
  .input-group-sm input[type="datetime-local"],
  .input-group-sm input[type="month"] {
    line-height: 30px;
  }
  input[type="date"].input-lg,
  input[type="time"].input-lg,
  input[type="datetime-local"].input-lg,
  input[type="month"].input-lg,
  .input-group-lg input[type="date"],
  .input-group-lg input[type="time"],
  .input-group-lg input[type="datetime-local"],
  .input-group-lg input[type="month"] {
    line-height: 45px;
  }
}
.form-group {
  margin-bottom: 15px;
}
.radio,
.checkbox {
  position: relative;
  display: block;
  margin-top: 10px;
  margin-bottom: 10px;
}
.radio label,
.checkbox label {
  min-height: 18px;
  padding-left: 20px;
  margin-bottom: 0;
  font-weight: normal;
  cursor: pointer;
}
.radio input[type="radio"],
.radio-inline input[type="radio"],
.checkbox input[type="checkbox"],
.checkbox-inline input[type="checkbox"] {
  position: absolute;
  margin-left: -20px;
  margin-top: 4px \9;
}
.radio + .radio,
.checkbox + .checkbox {
  margin-top: -5px;
}
.radio-inline,
.checkbox-inline {
  position: relative;
  display: inline-block;
  padding-left: 20px;
  margin-bottom: 0;
  vertical-align: middle;
  font-weight: normal;
  cursor: pointer;
}
.radio-inline + .radio-inline,
.checkbox-inline + .checkbox-inline {
  margin-top: 0;
  margin-left: 10px;
}
input[type="radio"][disabled],
input[type="checkbox"][disabled],
input[type="radio"].disabled,
input[type="checkbox"].disabled,
fieldset[disabled] input[type="radio"],
fieldset[disabled] input[type="checkbox"] {
  cursor: not-allowed;
}
.radio-inline.disabled,
.checkbox-inline.disabled,
fieldset[disabled] .radio-inline,
fieldset[disabled] .checkbox-inline {
  cursor: not-allowed;
}
.radio.disabled label,
.checkbox.disabled label,
fieldset[disabled] .radio label,
fieldset[disabled] .checkbox label {
  cursor: not-allowed;
}
.form-control-static {
  padding-top: 7px;
  padding-bottom: 7px;
  margin-bottom: 0;
  min-height: 31px;
}
.form-control-static.input-lg,
.form-control-static.input-sm {
  padding-left: 0;
  padding-right: 0;
}
.input-sm {
  height: 30px;
  padding: 5px 10px;
  font-size: 12px;
  line-height: 1.5;
  border-radius: 1px;
}
select.input-sm {
  height: 30px;
  line-height: 30px;
}
textarea.input-sm,
select[multiple].input-sm {
  height: auto;
}
.form-group-sm .form-control {
  height: 30px;
  padding: 5px 10px;
  font-size: 12px;
  line-height: 1.5;
  border-radius: 1px;
}
.form-group-sm select.form-control {
  height: 30px;
  line-height: 30px;
}
.form-group-sm textarea.form-control,
.form-group-sm select[multiple].form-control {
  height: auto;
}
.form-group-sm .form-control-static {
  height: 30px;
  min-height: 30px;
  padding: 6px 10px;
  font-size: 12px;
  line-height: 1.5;
}
.input-lg {
  height: 45px;
  padding: 10px 16px;
  font-size: 17px;
  line-height: 1.3333333;
  border-radius: 3px;
}
select.input-lg {
  height: 45px;
  line-height: 45px;
}
textarea.input-lg,
select[multiple].input-lg {
  height: auto;
}
.form-group-lg .form-control {
  height: 45px;
  padding: 10px 16px;
  font-size: 17px;
  line-height: 1.3333333;
  border-radius: 3px;
}
.form-group-lg select.form-control {
  height: 45px;
  line-height: 45px;
}
.form-group-lg textarea.form-control,
.form-group-lg select[multiple].form-control {
  height: auto;
}
.form-group-lg .form-control-static {
  height: 45px;
  min-height: 35px;
  padding: 11px 16px;
  font-size: 17px;
  line-height: 1.3333333;
}
.has-feedback {
  position: relative;
}
.has-feedback .form-control {
  padding-right: 40px;
}
.form-control-feedback {
  position: absolute;
  top: 0;
  right: 0;
  z-index: 2;
  display: block;
  width: 32px;
  height: 32px;
  line-height: 32px;
  text-align: center;
  pointer-events: none;
}
.input-lg + .form-control-feedback,
.input-group-lg + .form-control-feedback,
.form-group-lg .form-control + .form-control-feedback {
  width: 45px;
  height: 45px;
  line-height: 45px;
}
.input-sm + .form-control-feedback,
.input-group-sm + .form-control-feedback,
.form-group-sm .form-control + .form-control-feedback {
  width: 30px;
  height: 30px;
  line-height: 30px;
}
.has-success .help-block,
.has-success .control-label,
.has-success .radio,
.has-success .checkbox,
.has-success .radio-inline,
.has-success .checkbox-inline,
.has-success.radio label,
.has-success.checkbox label,
.has-success.radio-inline label,
.has-success.checkbox-inline label {
  color: #3c763d;
}
.has-success .form-control {
  border-color: #3c763d;
  -webkit-box-shadow: inset 0 1px 1px rgba(0, 0, 0, 0.075);
  box-shadow: inset 0 1px 1px rgba(0, 0, 0, 0.075);
}
.has-success .form-control:focus {
  border-color: #2b542c;
  -webkit-box-shadow: inset 0 1px 1px rgba(0, 0, 0, 0.075), 0 0 6px #67b168;
  box-shadow: inset 0 1px 1px rgba(0, 0, 0, 0.075), 0 0 6px #67b168;
}
.has-success .input-group-addon {
  color: #3c763d;
  border-color: #3c763d;
  background-color: #dff0d8;
}
.has-success .form-control-feedback {
  color: #3c763d;
}
.has-warning .help-block,
.has-warning .control-label,
.has-warning .radio,
.has-warning .checkbox,
.has-warning .radio-inline,
.has-warning .checkbox-inline,
.has-warning.radio label,
.has-warning.checkbox label,
.has-warning.radio-inline label,
.has-warning.checkbox-inline label {
  color: #8a6d3b;
}
.has-warning .form-control {
  border-color: #8a6d3b;
  -webkit-box-shadow: inset 0 1px 1px rgba(0, 0, 0, 0.075);
  box-shadow: inset 0 1px 1px rgba(0, 0, 0, 0.075);
}
.has-warning .form-control:focus {
  border-color: #66512c;
  -webkit-box-shadow: inset 0 1px 1px rgba(0, 0, 0, 0.075), 0 0 6px #c0a16b;
  box-shadow: inset 0 1px 1px rgba(0, 0, 0, 0.075), 0 0 6px #c0a16b;
}
.has-warning .input-group-addon {
  color: #8a6d3b;
  border-color: #8a6d3b;
  background-color: #fcf8e3;
}
.has-warning .form-control-feedback {
  color: #8a6d3b;
}
.has-error .help-block,
.has-error .control-label,
.has-error .radio,
.has-error .checkbox,
.has-error .radio-inline,
.has-error .checkbox-inline,
.has-error.radio label,
.has-error.checkbox label,
.has-error.radio-inline label,
.has-error.checkbox-inline label {
  color: #a94442;
}
.has-error .form-control {
  border-color: #a94442;
  -webkit-box-shadow: inset 0 1px 1px rgba(0, 0, 0, 0.075);
  box-shadow: inset 0 1px 1px rgba(0, 0, 0, 0.075);
}
.has-error .form-control:focus {
  border-color: #843534;
  -webkit-box-shadow: inset 0 1px 1px rgba(0, 0, 0, 0.075), 0 0 6px #ce8483;
  box-shadow: inset 0 1px 1px rgba(0, 0, 0, 0.075), 0 0 6px #ce8483;
}
.has-error .input-group-addon {
  color: #a94442;
  border-color: #a94442;
  background-color: #f2dede;
}
.has-error .form-control-feedback {
  color: #a94442;
}
.has-feedback label ~ .form-control-feedback {
  top: 23px;
}
.has-feedback label.sr-only ~ .form-control-feedback {
  top: 0;
}
.help-block {
  display: block;
  margin-top: 5px;
  margin-bottom: 10px;
  color: #404040;
}
@media (min-width: 768px) {
  .form-inline .form-group {
    display: inline-block;
    margin-bottom: 0;
    vertical-align: middle;
  }
  .form-inline .form-control {
    display: inline-block;
    width: auto;
    vertical-align: middle;
  }
  .form-inline .form-control-static {
    display: inline-block;
  }
  .form-inline .input-group {
    display: inline-table;
    vertical-align: middle;
  }
  .form-inline .input-group .input-group-addon,
  .form-inline .input-group .input-group-btn,
  .form-inline .input-group .form-control {
    width: auto;
  }
  .form-inline .input-group > .form-control {
    width: 100%;
  }
  .form-inline .control-label {
    margin-bottom: 0;
    vertical-align: middle;
  }
  .form-inline .radio,
  .form-inline .checkbox {
    display: inline-block;
    margin-top: 0;
    margin-bottom: 0;
    vertical-align: middle;
  }
  .form-inline .radio label,
  .form-inline .checkbox label {
    padding-left: 0;
  }
  .form-inline .radio input[type="radio"],
  .form-inline .checkbox input[type="checkbox"] {
    position: relative;
    margin-left: 0;
  }
  .form-inline .has-feedback .form-control-feedback {
    top: 0;
  }
}
.form-horizontal .radio,
.form-horizontal .checkbox,
.form-horizontal .radio-inline,
.form-horizontal .checkbox-inline {
  margin-top: 0;
  margin-bottom: 0;
  padding-top: 7px;
}
.form-horizontal .radio,
.form-horizontal .checkbox {
  min-height: 25px;
}
.form-horizontal .form-group {
  margin-left: 0px;
  margin-right: 0px;
}
@media (min-width: 768px) {
  .form-horizontal .control-label {
    text-align: right;
    margin-bottom: 0;
    padding-top: 7px;
  }
}
.form-horizontal .has-feedback .form-control-feedback {
  right: 0px;
}
@media (min-width: 768px) {
  .form-horizontal .form-group-lg .control-label {
    padding-top: 11px;
    font-size: 17px;
  }
}
@media (min-width: 768px) {
  .form-horizontal .form-group-sm .control-label {
    padding-top: 6px;
    font-size: 12px;
  }
}
.btn {
  display: inline-block;
  margin-bottom: 0;
  font-weight: normal;
  text-align: center;
  vertical-align: middle;
  touch-action: manipulation;
  cursor: pointer;
  background-image: none;
  border: 1px solid transparent;
  white-space: nowrap;
  padding: 6px 12px;
  font-size: 13px;
  line-height: 1.42857143;
  border-radius: 2px;
  -webkit-user-select: none;
  -moz-user-select: none;
  -ms-user-select: none;
  user-select: none;
}
.btn:focus,
.btn:active:focus,
.btn.active:focus,
.btn.focus,
.btn:active.focus,
.btn.active.focus {
  outline: thin dotted;
  outline: 5px auto -webkit-focus-ring-color;
  outline-offset: -2px;
}
.btn:hover,
.btn:focus,
.btn.focus {
  color: #333;
  text-decoration: none;
}
.btn:active,
.btn.active {
  outline: 0;
  background-image: none;
  -webkit-box-shadow: inset 0 3px 5px rgba(0, 0, 0, 0.125);
  box-shadow: inset 0 3px 5px rgba(0, 0, 0, 0.125);
}
.btn.disabled,
.btn[disabled],
fieldset[disabled] .btn {
  cursor: not-allowed;
  opacity: 0.65;
  filter: alpha(opacity=65);
  -webkit-box-shadow: none;
  box-shadow: none;
}
a.btn.disabled,
fieldset[disabled] a.btn {
  pointer-events: none;
}
.btn-default {
  color: #333;
  background-color: #fff;
  border-color: #ccc;
}
.btn-default:focus,
.btn-default.focus {
  color: #333;
  background-color: #e6e6e6;
  border-color: #8c8c8c;
}
.btn-default:hover {
  color: #333;
  background-color: #e6e6e6;
  border-color: #adadad;
}
.btn-default:active,
.btn-default.active,
.open > .dropdown-toggle.btn-default {
  color: #333;
  background-color: #e6e6e6;
  border-color: #adadad;
}
.btn-default:active:hover,
.btn-default.active:hover,
.open > .dropdown-toggle.btn-default:hover,
.btn-default:active:focus,
.btn-default.active:focus,
.open > .dropdown-toggle.btn-default:focus,
.btn-default:active.focus,
.btn-default.active.focus,
.open > .dropdown-toggle.btn-default.focus {
  color: #333;
  background-color: #d4d4d4;
  border-color: #8c8c8c;
}
.btn-default:active,
.btn-default.active,
.open > .dropdown-toggle.btn-default {
  background-image: none;
}
.btn-default.disabled:hover,
.btn-default[disabled]:hover,
fieldset[disabled] .btn-default:hover,
.btn-default.disabled:focus,
.btn-default[disabled]:focus,
fieldset[disabled] .btn-default:focus,
.btn-default.disabled.focus,
.btn-default[disabled].focus,
fieldset[disabled] .btn-default.focus {
  background-color: #fff;
  border-color: #ccc;
}
.btn-default .badge {
  color: #fff;
  background-color: #333;
}
.btn-primary {
  color: #fff;
  background-color: #337ab7;
  border-color: #2e6da4;
}
.btn-primary:focus,
.btn-primary.focus {
  color: #fff;
  background-color: #286090;
  border-color: #122b40;
}
.btn-primary:hover {
  color: #fff;
  background-color: #286090;
  border-color: #204d74;
}
.btn-primary:active,
.btn-primary.active,
.open > .dropdown-toggle.btn-primary {
  color: #fff;
  background-color: #286090;
  border-color: #204d74;
}
.btn-primary:active:hover,
.btn-primary.active:hover,
.open > .dropdown-toggle.btn-primary:hover,
.btn-primary:active:focus,
.btn-primary.active:focus,
.open > .dropdown-toggle.btn-primary:focus,
.btn-primary:active.focus,
.btn-primary.active.focus,
.open > .dropdown-toggle.btn-primary.focus {
  color: #fff;
  background-color: #204d74;
  border-color: #122b40;
}
.btn-primary:active,
.btn-primary.active,
.open > .dropdown-toggle.btn-primary {
  background-image: none;
}
.btn-primary.disabled:hover,
.btn-primary[disabled]:hover,
fieldset[disabled] .btn-primary:hover,
.btn-primary.disabled:focus,
.btn-primary[disabled]:focus,
fieldset[disabled] .btn-primary:focus,
.btn-primary.disabled.focus,
.btn-primary[disabled].focus,
fieldset[disabled] .btn-primary.focus {
  background-color: #337ab7;
  border-color: #2e6da4;
}
.btn-primary .badge {
  color: #337ab7;
  background-color: #fff;
}
.btn-success {
  color: #fff;
  background-color: #5cb85c;
  border-color: #4cae4c;
}
.btn-success:focus,
.btn-success.focus {
  color: #fff;
  background-color: #449d44;
  border-color: #255625;
}
.btn-success:hover {
  color: #fff;
  background-color: #449d44;
  border-color: #398439;
}
.btn-success:active,
.btn-success.active,
.open > .dropdown-toggle.btn-success {
  color: #fff;
  background-color: #449d44;
  border-color: #398439;
}
.btn-success:active:hover,
.btn-success.active:hover,
.open > .dropdown-toggle.btn-success:hover,
.btn-success:active:focus,
.btn-success.active:focus,
.open > .dropdown-toggle.btn-success:focus,
.btn-success:active.focus,
.btn-success.active.focus,
.open > .dropdown-toggle.btn-success.focus {
  color: #fff;
  background-color: #398439;
  border-color: #255625;
}
.btn-success:active,
.btn-success.active,
.open > .dropdown-toggle.btn-success {
  background-image: none;
}
.btn-success.disabled:hover,
.btn-success[disabled]:hover,
fieldset[disabled] .btn-success:hover,
.btn-success.disabled:focus,
.btn-success[disabled]:focus,
fieldset[disabled] .btn-success:focus,
.btn-success.disabled.focus,
.btn-success[disabled].focus,
fieldset[disabled] .btn-success.focus {
  background-color: #5cb85c;
  border-color: #4cae4c;
}
.btn-success .badge {
  color: #5cb85c;
  background-color: #fff;
}
.btn-info {
  color: #fff;
  background-color: #5bc0de;
  border-color: #46b8da;
}
.btn-info:focus,
.btn-info.focus {
  color: #fff;
  background-color: #31b0d5;
  border-color: #1b6d85;
}
.btn-info:hover {
  color: #fff;
  background-color: #31b0d5;
  border-color: #269abc;
}
.btn-info:active,
.btn-info.active,
.open > .dropdown-toggle.btn-info {
  color: #fff;
  background-color: #31b0d5;
  border-color: #269abc;
}
.btn-info:active:hover,
.btn-info.active:hover,
.open > .dropdown-toggle.btn-info:hover,
.btn-info:active:focus,
.btn-info.active:focus,
.open > .dropdown-toggle.btn-info:focus,
.btn-info:active.focus,
.btn-info.active.focus,
.open > .dropdown-toggle.btn-info.focus {
  color: #fff;
  background-color: #269abc;
  border-color: #1b6d85;
}
.btn-info:active,
.btn-info.active,
.open > .dropdown-toggle.btn-info {
  background-image: none;
}
.btn-info.disabled:hover,
.btn-info[disabled]:hover,
fieldset[disabled] .btn-info:hover,
.btn-info.disabled:focus,
.btn-info[disabled]:focus,
fieldset[disabled] .btn-info:focus,
.btn-info.disabled.focus,
.btn-info[disabled].focus,
fieldset[disabled] .btn-info.focus {
  background-color: #5bc0de;
  border-color: #46b8da;
}
.btn-info .badge {
  color: #5bc0de;
  background-color: #fff;
}
.btn-warning {
  color: #fff;
  background-color: #f0ad4e;
  border-color: #eea236;
}
.btn-warning:focus,
.btn-warning.focus {
  color: #fff;
  background-color: #ec971f;
  border-color: #985f0d;
}
.btn-warning:hover {
  color: #fff;
  background-color: #ec971f;
  border-color: #d58512;
}
.btn-warning:active,
.btn-warning.active,
.open > .dropdown-toggle.btn-warning {
  color: #fff;
  background-color: #ec971f;
  border-color: #d58512;
}
.btn-warning:active:hover,
.btn-warning.active:hover,
.open > .dropdown-toggle.btn-warning:hover,
.btn-warning:active:focus,
.btn-warning.active:focus,
.open > .dropdown-toggle.btn-warning:focus,
.btn-warning:active.focus,
.btn-warning.active.focus,
.open > .dropdown-toggle.btn-warning.focus {
  color: #fff;
  background-color: #d58512;
  border-color: #985f0d;
}
.btn-warning:active,
.btn-warning.active,
.open > .dropdown-toggle.btn-warning {
  background-image: none;
}
.btn-warning.disabled:hover,
.btn-warning[disabled]:hover,
fieldset[disabled] .btn-warning:hover,
.btn-warning.disabled:focus,
.btn-warning[disabled]:focus,
fieldset[disabled] .btn-warning:focus,
.btn-warning.disabled.focus,
.btn-warning[disabled].focus,
fieldset[disabled] .btn-warning.focus {
  background-color: #f0ad4e;
  border-color: #eea236;
}
.btn-warning .badge {
  color: #f0ad4e;
  background-color: #fff;
}
.btn-danger {
  color: #fff;
  background-color: #d9534f;
  border-color: #d43f3a;
}
.btn-danger:focus,
.btn-danger.focus {
  color: #fff;
  background-color: #c9302c;
  border-color: #761c19;
}
.btn-danger:hover {
  color: #fff;
  background-color: #c9302c;
  border-color: #ac2925;
}
.btn-danger:active,
.btn-danger.active,
.open > .dropdown-toggle.btn-danger {
  color: #fff;
  background-color: #c9302c;
  border-color: #ac2925;
}
.btn-danger:active:hover,
.btn-danger.active:hover,
.open > .dropdown-toggle.btn-danger:hover,
.btn-danger:active:focus,
.btn-danger.active:focus,
.open > .dropdown-toggle.btn-danger:focus,
.btn-danger:active.focus,
.btn-danger.active.focus,
.open > .dropdown-toggle.btn-danger.focus {
  color: #fff;
  background-color: #ac2925;
  border-color: #761c19;
}
.btn-danger:active,
.btn-danger.active,
.open > .dropdown-toggle.btn-danger {
  background-image: none;
}
.btn-danger.disabled:hover,
.btn-danger[disabled]:hover,
fieldset[disabled] .btn-danger:hover,
.btn-danger.disabled:focus,
.btn-danger[disabled]:focus,
fieldset[disabled] .btn-danger:focus,
.btn-danger.disabled.focus,
.btn-danger[disabled].focus,
fieldset[disabled] .btn-danger.focus {
  background-color: #d9534f;
  border-color: #d43f3a;
}
.btn-danger .badge {
  color: #d9534f;
  background-color: #fff;
}
.btn-link {
  color: #337ab7;
  font-weight: normal;
  border-radius: 0;
}
.btn-link,
.btn-link:active,
.btn-link.active,
.btn-link[disabled],
fieldset[disabled] .btn-link {
  background-color: transparent;
  -webkit-box-shadow: none;
  box-shadow: none;
}
.btn-link,
.btn-link:hover,
.btn-link:focus,
.btn-link:active {
  border-color: transparent;
}
.btn-link:hover,
.btn-link:focus {
  color: #23527c;
  text-decoration: underline;
  background-color: transparent;
}
.btn-link[disabled]:hover,
fieldset[disabled] .btn-link:hover,
.btn-link[disabled]:focus,
fieldset[disabled] .btn-link:focus {
  color: #777777;
  text-decoration: none;
}
.btn-lg,
.btn-group-lg > .btn {
  padding: 10px 16px;
  font-size: 17px;
  line-height: 1.3333333;
  border-radius: 3px;
}
.btn-sm,
.btn-group-sm > .btn {
  padding: 5px 10px;
  font-size: 12px;
  line-height: 1.5;
  border-radius: 1px;
}
.btn-xs,
.btn-group-xs > .btn {
  padding: 1px 5px;
  font-size: 12px;
  line-height: 1.5;
  border-radius: 1px;
}
.btn-block {
  display: block;
  width: 100%;
}
.btn-block + .btn-block {
  margin-top: 5px;
}
input[type="submit"].btn-block,
input[type="reset"].btn-block,
input[type="button"].btn-block {
  width: 100%;
}
.fade {
  opacity: 0;
  -webkit-transition: opacity 0.15s linear;
  -o-transition: opacity 0.15s linear;
  transition: opacity 0.15s linear;
}
.fade.in {
  opacity: 1;
}
.collapse {
  display: none;
}
.collapse.in {
  display: block;
}
tr.collapse.in {
  display: table-row;
}
tbody.collapse.in {
  display: table-row-group;
}
.collapsing {
  position: relative;
  height: 0;
  overflow: hidden;
  -webkit-transition-property: height, visibility;
  transition-property: height, visibility;
  -webkit-transition-duration: 0.35s;
  transition-duration: 0.35s;
  -webkit-transition-timing-function: ease;
  transition-timing-function: ease;
}
.caret {
  display: inline-block;
  width: 0;
  height: 0;
  margin-left: 2px;
  vertical-align: middle;
  border-top: 4px dashed;
  border-top: 4px solid \9;
  border-right: 4px solid transparent;
  border-left: 4px solid transparent;
}
.dropup,
.dropdown {
  position: relative;
}
.dropdown-toggle:focus {
  outline: 0;
}
.dropdown-menu {
  position: absolute;
  top: 100%;
  left: 0;
  z-index: 1000;
  display: none;
  float: left;
  min-width: 160px;
  padding: 5px 0;
  margin: 2px 0 0;
  list-style: none;
  font-size: 13px;
  text-align: left;
  background-color: #fff;
  border: 1px solid #ccc;
  border: 1px solid rgba(0, 0, 0, 0.15);
  border-radius: 2px;
  -webkit-box-shadow: 0 6px 12px rgba(0, 0, 0, 0.175);
  box-shadow: 0 6px 12px rgba(0, 0, 0, 0.175);
  background-clip: padding-box;
}
.dropdown-menu.pull-right {
  right: 0;
  left: auto;
}
.dropdown-menu .divider {
  height: 1px;
  margin: 8px 0;
  overflow: hidden;
  background-color: #e5e5e5;
}
.dropdown-menu > li > a {
  display: block;
  padding: 3px 20px;
  clear: both;
  font-weight: normal;
  line-height: 1.42857143;
  color: #333333;
  white-space: nowrap;
}
.dropdown-menu > li > a:hover,
.dropdown-menu > li > a:focus {
  text-decoration: none;
  color: #262626;
  background-color: #f5f5f5;
}
.dropdown-menu > .active > a,
.dropdown-menu > .active > a:hover,
.dropdown-menu > .active > a:focus {
  color: #fff;
  text-decoration: none;
  outline: 0;
  background-color: #337ab7;
}
.dropdown-menu > .disabled > a,
.dropdown-menu > .disabled > a:hover,
.dropdown-menu > .disabled > a:focus {
  color: #777777;
}
.dropdown-menu > .disabled > a:hover,
.dropdown-menu > .disabled > a:focus {
  text-decoration: none;
  background-color: transparent;
  background-image: none;
  filter: progid:DXImageTransform.Microsoft.gradient(enabled = false);
  cursor: not-allowed;
}
.open > .dropdown-menu {
  display: block;
}
.open > a {
  outline: 0;
}
.dropdown-menu-right {
  left: auto;
  right: 0;
}
.dropdown-menu-left {
  left: 0;
  right: auto;
}
.dropdown-header {
  display: block;
  padding: 3px 20px;
  font-size: 12px;
  line-height: 1.42857143;
  color: #777777;
  white-space: nowrap;
}
.dropdown-backdrop {
  position: fixed;
  left: 0;
  right: 0;
  bottom: 0;
  top: 0;
  z-index: 990;
}
.pull-right > .dropdown-menu {
  right: 0;
  left: auto;
}
.dropup .caret,
.navbar-fixed-bottom .dropdown .caret {
  border-top: 0;
  border-bottom: 4px dashed;
  border-bottom: 4px solid \9;
  content: "";
}
.dropup .dropdown-menu,
.navbar-fixed-bottom .dropdown .dropdown-menu {
  top: auto;
  bottom: 100%;
  margin-bottom: 2px;
}
@media (min-width: 541px) {
  .navbar-right .dropdown-menu {
    left: auto;
    right: 0;
  }
  .navbar-right .dropdown-menu-left {
    left: 0;
    right: auto;
  }
}
.btn-group,
.btn-group-vertical {
  position: relative;
  display: inline-block;
  vertical-align: middle;
}
.btn-group > .btn,
.btn-group-vertical > .btn {
  position: relative;
  float: left;
}
.btn-group > .btn:hover,
.btn-group-vertical > .btn:hover,
.btn-group > .btn:focus,
.btn-group-vertical > .btn:focus,
.btn-group > .btn:active,
.btn-group-vertical > .btn:active,
.btn-group > .btn.active,
.btn-group-vertical > .btn.active {
  z-index: 2;
}
.btn-group .btn + .btn,
.btn-group .btn + .btn-group,
.btn-group .btn-group + .btn,
.btn-group .btn-group + .btn-group {
  margin-left: -1px;
}
.btn-toolbar {
  margin-left: -5px;
}
.btn-toolbar .btn,
.btn-toolbar .btn-group,
.btn-toolbar .input-group {
  float: left;
}
.btn-toolbar > .btn,
.btn-toolbar > .btn-group,
.btn-toolbar > .input-group {
  margin-left: 5px;
}
.btn-group > .btn:not(:first-child):not(:last-child):not(.dropdown-toggle) {
  border-radius: 0;
}
.btn-group > .btn:first-child {
  margin-left: 0;
}
.btn-group > .btn:first-child:not(:last-child):not(.dropdown-toggle) {
  border-bottom-right-radius: 0;
  border-top-right-radius: 0;
}
.btn-group > .btn:last-child:not(:first-child),
.btn-group > .dropdown-toggle:not(:first-child) {
  border-bottom-left-radius: 0;
  border-top-left-radius: 0;
}
.btn-group > .btn-group {
  float: left;
}
.btn-group > .btn-group:not(:first-child):not(:last-child) > .btn {
  border-radius: 0;
}
.btn-group > .btn-group:first-child:not(:last-child) > .btn:last-child,
.btn-group > .btn-group:first-child:not(:last-child) > .dropdown-toggle {
  border-bottom-right-radius: 0;
  border-top-right-radius: 0;
}
.btn-group > .btn-group:last-child:not(:first-child) > .btn:first-child {
  border-bottom-left-radius: 0;
  border-top-left-radius: 0;
}
.btn-group .dropdown-toggle:active,
.btn-group.open .dropdown-toggle {
  outline: 0;
}
.btn-group > .btn + .dropdown-toggle {
  padding-left: 8px;
  padding-right: 8px;
}
.btn-group > .btn-lg + .dropdown-toggle {
  padding-left: 12px;
  padding-right: 12px;
}
.btn-group.open .dropdown-toggle {
  -webkit-box-shadow: inset 0 3px 5px rgba(0, 0, 0, 0.125);
  box-shadow: inset 0 3px 5px rgba(0, 0, 0, 0.125);
}
.btn-group.open .dropdown-toggle.btn-link {
  -webkit-box-shadow: none;
  box-shadow: none;
}
.btn .caret {
  margin-left: 0;
}
.btn-lg .caret {
  border-width: 5px 5px 0;
  border-bottom-width: 0;
}
.dropup .btn-lg .caret {
  border-width: 0 5px 5px;
}
.btn-group-vertical > .btn,
.btn-group-vertical > .btn-group,
.btn-group-vertical > .btn-group > .btn {
  display: block;
  float: none;
  width: 100%;
  max-width: 100%;
}
.btn-group-vertical > .btn-group > .btn {
  float: none;
}
.btn-group-vertical > .btn + .btn,
.btn-group-vertical > .btn + .btn-group,
.btn-group-vertical > .btn-group + .btn,
.btn-group-vertical > .btn-group + .btn-group {
  margin-top: -1px;
  margin-left: 0;
}
.btn-group-vertical > .btn:not(:first-child):not(:last-child) {
  border-radius: 0;
}
.btn-group-vertical > .btn:first-child:not(:last-child) {
  border-top-right-radius: 2px;
  border-top-left-radius: 2px;
  border-bottom-right-radius: 0;
  border-bottom-left-radius: 0;
}
.btn-group-vertical > .btn:last-child:not(:first-child) {
  border-top-right-radius: 0;
  border-top-left-radius: 0;
  border-bottom-right-radius: 2px;
  border-bottom-left-radius: 2px;
}
.btn-group-vertical > .btn-group:not(:first-child):not(:last-child) > .btn {
  border-radius: 0;
}
.btn-group-vertical > .btn-group:first-child:not(:last-child) > .btn:last-child,
.btn-group-vertical > .btn-group:first-child:not(:last-child) > .dropdown-toggle {
  border-bottom-right-radius: 0;
  border-bottom-left-radius: 0;
}
.btn-group-vertical > .btn-group:last-child:not(:first-child) > .btn:first-child {
  border-top-right-radius: 0;
  border-top-left-radius: 0;
}
.btn-group-justified {
  display: table;
  width: 100%;
  table-layout: fixed;
  border-collapse: separate;
}
.btn-group-justified > .btn,
.btn-group-justified > .btn-group {
  float: none;
  display: table-cell;
  width: 1%;
}
.btn-group-justified > .btn-group .btn {
  width: 100%;
}
.btn-group-justified > .btn-group .dropdown-menu {
  left: auto;
}
[data-toggle="buttons"] > .btn input[type="radio"],
[data-toggle="buttons"] > .btn-group > .btn input[type="radio"],
[data-toggle="buttons"] > .btn input[type="checkbox"],
[data-toggle="buttons"] > .btn-group > .btn input[type="checkbox"] {
  position: absolute;
  clip: rect(0, 0, 0, 0);
  pointer-events: none;
}
.input-group {
  position: relative;
  display: table;
  border-collapse: separate;
}
.input-group[class*="col-"] {
  float: none;
  padding-left: 0;
  padding-right: 0;
}
.input-group .form-control {
  position: relative;
  z-index: 2;
  float: left;
  width: 100%;
  margin-bottom: 0;
}
.input-group .form-control:focus {
  z-index: 3;
}
.input-group-lg > .form-control,
.input-group-lg > .input-group-addon,
.input-group-lg > .input-group-btn > .btn {
  height: 45px;
  padding: 10px 16px;
  font-size: 17px;
  line-height: 1.3333333;
  border-radius: 3px;
}
select.input-group-lg > .form-control,
select.input-group-lg > .input-group-addon,
select.input-group-lg > .input-group-btn > .btn {
  height: 45px;
  line-height: 45px;
}
textarea.input-group-lg > .form-control,
textarea.input-group-lg > .input-group-addon,
textarea.input-group-lg > .input-group-btn > .btn,
select[multiple].input-group-lg > .form-control,
select[multiple].input-group-lg > .input-group-addon,
select[multiple].input-group-lg > .input-group-btn > .btn {
  height: auto;
}
.input-group-sm > .form-control,
.input-group-sm > .input-group-addon,
.input-group-sm > .input-group-btn > .btn {
  height: 30px;
  padding: 5px 10px;
  font-size: 12px;
  line-height: 1.5;
  border-radius: 1px;
}
select.input-group-sm > .form-control,
select.input-group-sm > .input-group-addon,
select.input-group-sm > .input-group-btn > .btn {
  height: 30px;
  line-height: 30px;
}
textarea.input-group-sm > .form-control,
textarea.input-group-sm > .input-group-addon,
textarea.input-group-sm > .input-group-btn > .btn,
select[multiple].input-group-sm > .form-control,
select[multiple].input-group-sm > .input-group-addon,
select[multiple].input-group-sm > .input-group-btn > .btn {
  height: auto;
}
.input-group-addon,
.input-group-btn,
.input-group .form-control {
  display: table-cell;
}
.input-group-addon:not(:first-child):not(:last-child),
.input-group-btn:not(:first-child):not(:last-child),
.input-group .form-control:not(:first-child):not(:last-child) {
  border-radius: 0;
}
.input-group-addon,
.input-group-btn {
  width: 1%;
  white-space: nowrap;
  vertical-align: middle;
}
.input-group-addon {
  padding: 6px 12px;
  font-size: 13px;
  font-weight: normal;
  line-height: 1;
  color: #555555;
  text-align: center;
  background-color: #eeeeee;
  border: 1px solid #ccc;
  border-radius: 2px;
}
.input-group-addon.input-sm {
  padding: 5px 10px;
  font-size: 12px;
  border-radius: 1px;
}
.input-group-addon.input-lg {
  padding: 10px 16px;
  font-size: 17px;
  border-radius: 3px;
}
.input-group-addon input[type="radio"],
.input-group-addon input[type="checkbox"] {
  margin-top: 0;
}
.input-group .form-control:first-child,
.input-group-addon:first-child,
.input-group-btn:first-child > .btn,
.input-group-btn:first-child > .btn-group > .btn,
.input-group-btn:first-child > .dropdown-toggle,
.input-group-btn:last-child > .btn:not(:last-child):not(.dropdown-toggle),
.input-group-btn:last-child > .btn-group:not(:last-child) > .btn {
  border-bottom-right-radius: 0;
  border-top-right-radius: 0;
}
.input-group-addon:first-child {
  border-right: 0;
}
.input-group .form-control:last-child,
.input-group-addon:last-child,
.input-group-btn:last-child > .btn,
.input-group-btn:last-child > .btn-group > .btn,
.input-group-btn:last-child > .dropdown-toggle,
.input-group-btn:first-child > .btn:not(:first-child),
.input-group-btn:first-child > .btn-group:not(:first-child) > .btn {
  border-bottom-left-radius: 0;
  border-top-left-radius: 0;
}
.input-group-addon:last-child {
  border-left: 0;
}
.input-group-btn {
  position: relative;
  font-size: 0;
  white-space: nowrap;
}
.input-group-btn > .btn {
  position: relative;
}
.input-group-btn > .btn + .btn {
  margin-left: -1px;
}
.input-group-btn > .btn:hover,
.input-group-btn > .btn:focus,
.input-group-btn > .btn:active {
  z-index: 2;
}
.input-group-btn:first-child > .btn,
.input-group-btn:first-child > .btn-group {
  margin-right: -1px;
}
.input-group-btn:last-child > .btn,
.input-group-btn:last-child > .btn-group {
  z-index: 2;
  margin-left: -1px;
}
.nav {
  margin-bottom: 0;
  padding-left: 0;
  list-style: none;
}
.nav > li {
  position: relative;
  display: block;
}
.nav > li > a {
  position: relative;
  display: block;
  padding: 10px 15px;
}
.nav > li > a:hover,
.nav > li > a:focus {
  text-decoration: none;
  background-color: #eeeeee;
}
.nav > li.disabled > a {
  color: #777777;
}
.nav > li.disabled > a:hover,
.nav > li.disabled > a:focus {
  color: #777777;
  text-decoration: none;
  background-color: transparent;
  cursor: not-allowed;
}
.nav .open > a,
.nav .open > a:hover,
.nav .open > a:focus {
  background-color: #eeeeee;
  border-color: #337ab7;
}
.nav .nav-divider {
  height: 1px;
  margin: 8px 0;
  overflow: hidden;
  background-color: #e5e5e5;
}
.nav > li > a > img {
  max-width: none;
}
.nav-tabs {
  border-bottom: 1px solid #ddd;
}
.nav-tabs > li {
  float: left;
  margin-bottom: -1px;
}
.nav-tabs > li > a {
  margin-right: 2px;
  line-height: 1.42857143;
  border: 1px solid transparent;
  border-radius: 2px 2px 0 0;
}
.nav-tabs > li > a:hover {
  border-color: #eeeeee #eeeeee #ddd;
}
.nav-tabs > li.active > a,
.nav-tabs > li.active > a:hover,
.nav-tabs > li.active > a:focus {
  color: #555555;
  background-color: #fff;
  border: 1px solid #ddd;
  border-bottom-color: transparent;
  cursor: default;
}
.nav-tabs.nav-justified {
  width: 100%;
  border-bottom: 0;
}
.nav-tabs.nav-justified > li {
  float: none;
}
.nav-tabs.nav-justified > li > a {
  text-align: center;
  margin-bottom: 5px;
}
.nav-tabs.nav-justified > .dropdown .dropdown-menu {
  top: auto;
  left: auto;
}
@media (min-width: 768px) {
  .nav-tabs.nav-justified > li {
    display: table-cell;
    width: 1%;
  }
  .nav-tabs.nav-justified > li > a {
    margin-bottom: 0;
  }
}
.nav-tabs.nav-justified > li > a {
  margin-right: 0;
  border-radius: 2px;
}
.nav-tabs.nav-justified > .active > a,
.nav-tabs.nav-justified > .active > a:hover,
.nav-tabs.nav-justified > .active > a:focus {
  border: 1px solid #ddd;
}
@media (min-width: 768px) {
  .nav-tabs.nav-justified > li > a {
    border-bottom: 1px solid #ddd;
    border-radius: 2px 2px 0 0;
  }
  .nav-tabs.nav-justified > .active > a,
  .nav-tabs.nav-justified > .active > a:hover,
  .nav-tabs.nav-justified > .active > a:focus {
    border-bottom-color: #fff;
  }
}
.nav-pills > li {
  float: left;
}
.nav-pills > li > a {
  border-radius: 2px;
}
.nav-pills > li + li {
  margin-left: 2px;
}
.nav-pills > li.active > a,
.nav-pills > li.active > a:hover,
.nav-pills > li.active > a:focus {
  color: #fff;
  background-color: #337ab7;
}
.nav-stacked > li {
  float: none;
}
.nav-stacked > li + li {
  margin-top: 2px;
  margin-left: 0;
}
.nav-justified {
  width: 100%;
}
.nav-justified > li {
  float: none;
}
.nav-justified > li > a {
  text-align: center;
  margin-bottom: 5px;
}
.nav-justified > .dropdown .dropdown-menu {
  top: auto;
  left: auto;
}
@media (min-width: 768px) {
  .nav-justified > li {
    display: table-cell;
    width: 1%;
  }
  .nav-justified > li > a {
    margin-bottom: 0;
  }
}
.nav-tabs-justified {
  border-bottom: 0;
}
.nav-tabs-justified > li > a {
  margin-right: 0;
  border-radius: 2px;
}
.nav-tabs-justified > .active > a,
.nav-tabs-justified > .active > a:hover,
.nav-tabs-justified > .active > a:focus {
  border: 1px solid #ddd;
}
@media (min-width: 768px) {
  .nav-tabs-justified > li > a {
    border-bottom: 1px solid #ddd;
    border-radius: 2px 2px 0 0;
  }
  .nav-tabs-justified > .active > a,
  .nav-tabs-justified > .active > a:hover,
  .nav-tabs-justified > .active > a:focus {
    border-bottom-color: #fff;
  }
}
.tab-content > .tab-pane {
  display: none;
}
.tab-content > .active {
  display: block;
}
.nav-tabs .dropdown-menu {
  margin-top: -1px;
  border-top-right-radius: 0;
  border-top-left-radius: 0;
}
.navbar {
  position: relative;
  min-height: 30px;
  margin-bottom: 18px;
  border: 1px solid transparent;
}
@media (min-width: 541px) {
  .navbar {
    border-radius: 2px;
  }
}
@media (min-width: 541px) {
  .navbar-header {
    float: left;
  }
}
.navbar-collapse {
  overflow-x: visible;
  padding-right: 0px;
  padding-left: 0px;
  border-top: 1px solid transparent;
  box-shadow: inset 0 1px 0 rgba(255, 255, 255, 0.1);
  -webkit-overflow-scrolling: touch;
}
.navbar-collapse.in {
  overflow-y: auto;
}
@media (min-width: 541px) {
  .navbar-collapse {
    width: auto;
    border-top: 0;
    box-shadow: none;
  }
  .navbar-collapse.collapse {
    display: block !important;
    height: auto !important;
    padding-bottom: 0;
    overflow: visible !important;
  }
  .navbar-collapse.in {
    overflow-y: visible;
  }
  .navbar-fixed-top .navbar-collapse,
  .navbar-static-top .navbar-collapse,
  .navbar-fixed-bottom .navbar-collapse {
    padding-left: 0;
    padding-right: 0;
  }
}
.navbar-fixed-top .navbar-collapse,
.navbar-fixed-bottom .navbar-collapse {
  max-height: 340px;
}
@media (max-device-width: 540px) and (orientation: landscape) {
  .navbar-fixed-top .navbar-collapse,
  .navbar-fixed-bottom .navbar-collapse {
    max-height: 200px;
  }
}
.container > .navbar-header,
.container-fluid > .navbar-header,
.container > .navbar-collapse,
.container-fluid > .navbar-collapse {
  margin-right: 0px;
  margin-left: 0px;
}
@media (min-width: 541px) {
  .container > .navbar-header,
  .container-fluid > .navbar-header,
  .container > .navbar-collapse,
  .container-fluid > .navbar-collapse {
    margin-right: 0;
    margin-left: 0;
  }
}
.navbar-static-top {
  z-index: 1000;
  border-width: 0 0 1px;
}
@media (min-width: 541px) {
  .navbar-static-top {
    border-radius: 0;
  }
}
.navbar-fixed-top,
.navbar-fixed-bottom {
  position: fixed;
  right: 0;
  left: 0;
  z-index: 1030;
}
@media (min-width: 541px) {
  .navbar-fixed-top,
  .navbar-fixed-bottom {
    border-radius: 0;
  }
}
.navbar-fixed-top {
  top: 0;
  border-width: 0 0 1px;
}
.navbar-fixed-bottom {
  bottom: 0;
  margin-bottom: 0;
  border-width: 1px 0 0;
}
.navbar-brand {
  float: left;
  padding: 6px 0px;
  font-size: 17px;
  line-height: 18px;
  height: 30px;
}
.navbar-brand:hover,
.navbar-brand:focus {
  text-decoration: none;
}
.navbar-brand > img {
  display: block;
}
@media (min-width: 541px) {
  .navbar > .container .navbar-brand,
  .navbar > .container-fluid .navbar-brand {
    margin-left: 0px;
  }
}
.navbar-toggle {
  position: relative;
  float: right;
  margin-right: 0px;
  padding: 9px 10px;
  margin-top: -2px;
  margin-bottom: -2px;
  background-color: transparent;
  background-image: none;
  border: 1px solid transparent;
  border-radius: 2px;
}
.navbar-toggle:focus {
  outline: 0;
}
.navbar-toggle .icon-bar {
  display: block;
  width: 22px;
  height: 2px;
  border-radius: 1px;
}
.navbar-toggle .icon-bar + .icon-bar {
  margin-top: 4px;
}
@media (min-width: 541px) {
  .navbar-toggle {
    display: none;
  }
}
.navbar-nav {
  margin: 3px 0px;
}
.navbar-nav > li > a {
  padding-top: 10px;
  padding-bottom: 10px;
  line-height: 18px;
}
@media (max-width: 540px) {
  .navbar-nav .open .dropdown-menu {
    position: static;
    float: none;
    width: auto;
    margin-top: 0;
    background-color: transparent;
    border: 0;
    box-shadow: none;
  }
  .navbar-nav .open .dropdown-menu > li > a,
  .navbar-nav .open .dropdown-menu .dropdown-header {
    padding: 5px 15px 5px 25px;
  }
  .navbar-nav .open .dropdown-menu > li > a {
    line-height: 18px;
  }
  .navbar-nav .open .dropdown-menu > li > a:hover,
  .navbar-nav .open .dropdown-menu > li > a:focus {
    background-image: none;
  }
}
@media (min-width: 541px) {
  .navbar-nav {
    float: left;
    margin: 0;
  }
  .navbar-nav > li {
    float: left;
  }
  .navbar-nav > li > a {
    padding-top: 6px;
    padding-bottom: 6px;
  }
}
.navbar-form {
  margin-left: 0px;
  margin-right: 0px;
  padding: 10px 0px;
  border-top: 1px solid transparent;
  border-bottom: 1px solid transparent;
  -webkit-box-shadow: inset 0 1px 0 rgba(255, 255, 255, 0.1), 0 1px 0 rgba(255, 255, 255, 0.1);
  box-shadow: inset 0 1px 0 rgba(255, 255, 255, 0.1), 0 1px 0 rgba(255, 255, 255, 0.1);
  margin-top: -1px;
  margin-bottom: -1px;
}
@media (min-width: 768px) {
  .navbar-form .form-group {
    display: inline-block;
    margin-bottom: 0;
    vertical-align: middle;
  }
  .navbar-form .form-control {
    display: inline-block;
    width: auto;
    vertical-align: middle;
  }
  .navbar-form .form-control-static {
    display: inline-block;
  }
  .navbar-form .input-group {
    display: inline-table;
    vertical-align: middle;
  }
  .navbar-form .input-group .input-group-addon,
  .navbar-form .input-group .input-group-btn,
  .navbar-form .input-group .form-control {
    width: auto;
  }
  .navbar-form .input-group > .form-control {
    width: 100%;
  }
  .navbar-form .control-label {
    margin-bottom: 0;
    vertical-align: middle;
  }
  .navbar-form .radio,
  .navbar-form .checkbox {
    display: inline-block;
    margin-top: 0;
    margin-bottom: 0;
    vertical-align: middle;
  }
  .navbar-form .radio label,
  .navbar-form .checkbox label {
    padding-left: 0;
  }
  .navbar-form .radio input[type="radio"],
  .navbar-form .checkbox input[type="checkbox"] {
    position: relative;
    margin-left: 0;
  }
  .navbar-form .has-feedback .form-control-feedback {
    top: 0;
  }
}
@media (max-width: 540px) {
  .navbar-form .form-group {
    margin-bottom: 5px;
  }
  .navbar-form .form-group:last-child {
    margin-bottom: 0;
  }
}
@media (min-width: 541px) {
  .navbar-form {
    width: auto;
    border: 0;
    margin-left: 0;
    margin-right: 0;
    padding-top: 0;
    padding-bottom: 0;
    -webkit-box-shadow: none;
    box-shadow: none;
  }
}
.navbar-nav > li > .dropdown-menu {
  margin-top: 0;
  border-top-right-radius: 0;
  border-top-left-radius: 0;
}
.navbar-fixed-bottom .navbar-nav > li > .dropdown-menu {
  margin-bottom: 0;
  border-top-right-radius: 2px;
  border-top-left-radius: 2px;
  border-bottom-right-radius: 0;
  border-bottom-left-radius: 0;
}
.navbar-btn {
  margin-top: -1px;
  margin-bottom: -1px;
}
.navbar-btn.btn-sm {
  margin-top: 0px;
  margin-bottom: 0px;
}
.navbar-btn.btn-xs {
  margin-top: 4px;
  margin-bottom: 4px;
}
.navbar-text {
  margin-top: 6px;
  margin-bottom: 6px;
}
@media (min-width: 541px) {
  .navbar-text {
    float: left;
    margin-left: 0px;
    margin-right: 0px;
  }
}
@media (min-width: 541px) {
  .navbar-left {
    float: left !important;
    float: left;
  }
  .navbar-right {
    float: right !important;
    float: right;
    margin-right: 0px;
  }
  .navbar-right ~ .navbar-right {
    margin-right: 0;
  }
}
.navbar-default {
  background-color: #f8f8f8;
  border-color: #e7e7e7;
}
.navbar-default .navbar-brand {
  color: #777;
}
.navbar-default .navbar-brand:hover,
.navbar-default .navbar-brand:focus {
  color: #5e5e5e;
  background-color: transparent;
}
.navbar-default .navbar-text {
  color: #777;
}
.navbar-default .navbar-nav > li > a {
  color: #777;
}
.navbar-default .navbar-nav > li > a:hover,
.navbar-default .navbar-nav > li > a:focus {
  color: #333;
  background-color: transparent;
}
.navbar-default .navbar-nav > .active > a,
.navbar-default .navbar-nav > .active > a:hover,
.navbar-default .navbar-nav > .active > a:focus {
  color: #555;
  background-color: #e7e7e7;
}
.navbar-default .navbar-nav > .disabled > a,
.navbar-default .navbar-nav > .disabled > a:hover,
.navbar-default .navbar-nav > .disabled > a:focus {
  color: #ccc;
  background-color: transparent;
}
.navbar-default .navbar-toggle {
  border-color: #ddd;
}
.navbar-default .navbar-toggle:hover,
.navbar-default .navbar-toggle:focus {
  background-color: #ddd;
}
.navbar-default .navbar-toggle .icon-bar {
  background-color: #888;
}
.navbar-default .navbar-collapse,
.navbar-default .navbar-form {
  border-color: #e7e7e7;
}
.navbar-default .navbar-nav > .open > a,
.navbar-default .navbar-nav > .open > a:hover,
.navbar-default .navbar-nav > .open > a:focus {
  background-color: #e7e7e7;
  color: #555;
}
@media (max-width: 540px) {
  .navbar-default .navbar-nav .open .dropdown-menu > li > a {
    color: #777;
  }
  .navbar-default .navbar-nav .open .dropdown-menu > li > a:hover,
  .navbar-default .navbar-nav .open .dropdown-menu > li > a:focus {
    color: #333;
    background-color: transparent;
  }
  .navbar-default .navbar-nav .open .dropdown-menu > .active > a,
  .navbar-default .navbar-nav .open .dropdown-menu > .active > a:hover,
  .navbar-default .navbar-nav .open .dropdown-menu > .active > a:focus {
    color: #555;
    background-color: #e7e7e7;
  }
  .navbar-default .navbar-nav .open .dropdown-menu > .disabled > a,
  .navbar-default .navbar-nav .open .dropdown-menu > .disabled > a:hover,
  .navbar-default .navbar-nav .open .dropdown-menu > .disabled > a:focus {
    color: #ccc;
    background-color: transparent;
  }
}
.navbar-default .navbar-link {
  color: #777;
}
.navbar-default .navbar-link:hover {
  color: #333;
}
.navbar-default .btn-link {
  color: #777;
}
.navbar-default .btn-link:hover,
.navbar-default .btn-link:focus {
  color: #333;
}
.navbar-default .btn-link[disabled]:hover,
fieldset[disabled] .navbar-default .btn-link:hover,
.navbar-default .btn-link[disabled]:focus,
fieldset[disabled] .navbar-default .btn-link:focus {
  color: #ccc;
}
.navbar-inverse {
  background-color: #222;
  border-color: #080808;
}
.navbar-inverse .navbar-brand {
  color: #9d9d9d;
}
.navbar-inverse .navbar-brand:hover,
.navbar-inverse .navbar-brand:focus {
  color: #fff;
  background-color: transparent;
}
.navbar-inverse .navbar-text {
  color: #9d9d9d;
}
.navbar-inverse .navbar-nav > li > a {
  color: #9d9d9d;
}
.navbar-inverse .navbar-nav > li > a:hover,
.navbar-inverse .navbar-nav > li > a:focus {
  color: #fff;
  background-color: transparent;
}
.navbar-inverse .navbar-nav > .active > a,
.navbar-inverse .navbar-nav > .active > a:hover,
.navbar-inverse .navbar-nav > .active > a:focus {
  color: #fff;
  background-color: #080808;
}
.navbar-inverse .navbar-nav > .disabled > a,
.navbar-inverse .navbar-nav > .disabled > a:hover,
.navbar-inverse .navbar-nav > .disabled > a:focus {
  color: #444;
  background-color: transparent;
}
.navbar-inverse .navbar-toggle {
  border-color: #333;
}
.navbar-inverse .navbar-toggle:hover,
.navbar-inverse .navbar-toggle:focus {
  background-color: #333;
}
.navbar-inverse .navbar-toggle .icon-bar {
  background-color: #fff;
}
.navbar-inverse .navbar-collapse,
.navbar-inverse .navbar-form {
  border-color: #101010;
}
.navbar-inverse .navbar-nav > .open > a,
.navbar-inverse .navbar-nav > .open > a:hover,
.navbar-inverse .navbar-nav > .open > a:focus {
  background-color: #080808;
  color: #fff;
}
@media (max-width: 540px) {
  .navbar-inverse .navbar-nav .open .dropdown-menu > .dropdown-header {
    border-color: #080808;
  }
  .navbar-inverse .navbar-nav .open .dropdown-menu .divider {
    background-color: #080808;
  }
  .navbar-inverse .navbar-nav .open .dropdown-menu > li > a {
    color: #9d9d9d;
  }
  .navbar-inverse .navbar-nav .open .dropdown-menu > li > a:hover,
  .navbar-inverse .navbar-nav .open .dropdown-menu > li > a:focus {
    color: #fff;
    background-color: transparent;
  }
  .navbar-inverse .navbar-nav .open .dropdown-menu > .active > a,
  .navbar-inverse .navbar-nav .open .dropdown-menu > .active > a:hover,
  .navbar-inverse .navbar-nav .open .dropdown-menu > .active > a:focus {
    color: #fff;
    background-color: #080808;
  }
  .navbar-inverse .navbar-nav .open .dropdown-menu > .disabled > a,
  .navbar-inverse .navbar-nav .open .dropdown-menu > .disabled > a:hover,
  .navbar-inverse .navbar-nav .open .dropdown-menu > .disabled > a:focus {
    color: #444;
    background-color: transparent;
  }
}
.navbar-inverse .navbar-link {
  color: #9d9d9d;
}
.navbar-inverse .navbar-link:hover {
  color: #fff;
}
.navbar-inverse .btn-link {
  color: #9d9d9d;
}
.navbar-inverse .btn-link:hover,
.navbar-inverse .btn-link:focus {
  color: #fff;
}
.navbar-inverse .btn-link[disabled]:hover,
fieldset[disabled] .navbar-inverse .btn-link:hover,
.navbar-inverse .btn-link[disabled]:focus,
fieldset[disabled] .navbar-inverse .btn-link:focus {
  color: #444;
}
.breadcrumb {
  padding: 8px 15px;
  margin-bottom: 18px;
  list-style: none;
  background-color: #f5f5f5;
  border-radius: 2px;
}
.breadcrumb > li {
  display: inline-block;
}
.breadcrumb > li + li:before {
  content: "/\00a0";
  padding: 0 5px;
  color: #5e5e5e;
}
.breadcrumb > .active {
  color: #777777;
}
.pagination {
  display: inline-block;
  padding-left: 0;
  margin: 18px 0;
  border-radius: 2px;
}
.pagination > li {
  display: inline;
}
.pagination > li > a,
.pagination > li > span {
  position: relative;
  float: left;
  padding: 6px 12px;
  line-height: 1.42857143;
  text-decoration: none;
  color: #337ab7;
  background-color: #fff;
  border: 1px solid #ddd;
  margin-left: -1px;
}
.pagination > li:first-child > a,
.pagination > li:first-child > span {
  margin-left: 0;
  border-bottom-left-radius: 2px;
  border-top-left-radius: 2px;
}
.pagination > li:last-child > a,
.pagination > li:last-child > span {
  border-bottom-right-radius: 2px;
  border-top-right-radius: 2px;
}
.pagination > li > a:hover,
.pagination > li > span:hover,
.pagination > li > a:focus,
.pagination > li > span:focus {
  z-index: 2;
  color: #23527c;
  background-color: #eeeeee;
  border-color: #ddd;
}
.pagination > .active > a,
.pagination > .active > span,
.pagination > .active > a:hover,
.pagination > .active > span:hover,
.pagination > .active > a:focus,
.pagination > .active > span:focus {
  z-index: 3;
  color: #fff;
  background-color: #337ab7;
  border-color: #337ab7;
  cursor: default;
}
.pagination > .disabled > span,
.pagination > .disabled > span:hover,
.pagination > .disabled > span:focus,
.pagination > .disabled > a,
.pagination > .disabled > a:hover,
.pagination > .disabled > a:focus {
  color: #777777;
  background-color: #fff;
  border-color: #ddd;
  cursor: not-allowed;
}
.pagination-lg > li > a,
.pagination-lg > li > span {
  padding: 10px 16px;
  font-size: 17px;
  line-height: 1.3333333;
}
.pagination-lg > li:first-child > a,
.pagination-lg > li:first-child > span {
  border-bottom-left-radius: 3px;
  border-top-left-radius: 3px;
}
.pagination-lg > li:last-child > a,
.pagination-lg > li:last-child > span {
  border-bottom-right-radius: 3px;
  border-top-right-radius: 3px;
}
.pagination-sm > li > a,
.pagination-sm > li > span {
  padding: 5px 10px;
  font-size: 12px;
  line-height: 1.5;
}
.pagination-sm > li:first-child > a,
.pagination-sm > li:first-child > span {
  border-bottom-left-radius: 1px;
  border-top-left-radius: 1px;
}
.pagination-sm > li:last-child > a,
.pagination-sm > li:last-child > span {
  border-bottom-right-radius: 1px;
  border-top-right-radius: 1px;
}
.pager {
  padding-left: 0;
  margin: 18px 0;
  list-style: none;
  text-align: center;
}
.pager li {
  display: inline;
}
.pager li > a,
.pager li > span {
  display: inline-block;
  padding: 5px 14px;
  background-color: #fff;
  border: 1px solid #ddd;
  border-radius: 15px;
}
.pager li > a:hover,
.pager li > a:focus {
  text-decoration: none;
  background-color: #eeeeee;
}
.pager .next > a,
.pager .next > span {
  float: right;
}
.pager .previous > a,
.pager .previous > span {
  float: left;
}
.pager .disabled > a,
.pager .disabled > a:hover,
.pager .disabled > a:focus,
.pager .disabled > span {
  color: #777777;
  background-color: #fff;
  cursor: not-allowed;
}
.label {
  display: inline;
  padding: .2em .6em .3em;
  font-size: 75%;
  font-weight: bold;
  line-height: 1;
  color: #fff;
  text-align: center;
  white-space: nowrap;
  vertical-align: baseline;
  border-radius: .25em;
}
a.label:hover,
a.label:focus {
  color: #fff;
  text-decoration: none;
  cursor: pointer;
}
.label:empty {
  display: none;
}
.btn .label {
  position: relative;
  top: -1px;
}
.label-default {
  background-color: #777777;
}
.label-default[href]:hover,
.label-default[href]:focus {
  background-color: #5e5e5e;
}
.label-primary {
  background-color: #337ab7;
}
.label-primary[href]:hover,
.label-primary[href]:focus {
  background-color: #286090;
}
.label-success {
  background-color: #5cb85c;
}
.label-success[href]:hover,
.label-success[href]:focus {
  background-color: #449d44;
}
.label-info {
  background-color: #5bc0de;
}
.label-info[href]:hover,
.label-info[href]:focus {
  background-color: #31b0d5;
}
.label-warning {
  background-color: #f0ad4e;
}
.label-warning[href]:hover,
.label-warning[href]:focus {
  background-color: #ec971f;
}
.label-danger {
  background-color: #d9534f;
}
.label-danger[href]:hover,
.label-danger[href]:focus {
  background-color: #c9302c;
}
.badge {
  display: inline-block;
  min-width: 10px;
  padding: 3px 7px;
  font-size: 12px;
  font-weight: bold;
  color: #fff;
  line-height: 1;
  vertical-align: middle;
  white-space: nowrap;
  text-align: center;
  background-color: #777777;
  border-radius: 10px;
}
.badge:empty {
  display: none;
}
.btn .badge {
  position: relative;
  top: -1px;
}
.btn-xs .badge,
.btn-group-xs > .btn .badge {
  top: 0;
  padding: 1px 5px;
}
a.badge:hover,
a.badge:focus {
  color: #fff;
  text-decoration: none;
  cursor: pointer;
}
.list-group-item.active > .badge,
.nav-pills > .active > a > .badge {
  color: #337ab7;
  background-color: #fff;
}
.list-group-item > .badge {
  float: right;
}
.list-group-item > .badge + .badge {
  margin-right: 5px;
}
.nav-pills > li > a > .badge {
  margin-left: 3px;
}
.jumbotron {
  padding-top: 30px;
  padding-bottom: 30px;
  margin-bottom: 30px;
  color: inherit;
  background-color: #eeeeee;
}
.jumbotron h1,
.jumbotron .h1 {
  color: inherit;
}
.jumbotron p {
  margin-bottom: 15px;
  font-size: 20px;
  font-weight: 200;
}
.jumbotron > hr {
  border-top-color: #d5d5d5;
}
.container .jumbotron,
.container-fluid .jumbotron {
  border-radius: 3px;
  padding-left: 0px;
  padding-right: 0px;
}
.jumbotron .container {
  max-width: 100%;
}
@media screen and (min-width: 768px) {
  .jumbotron {
    padding-top: 48px;
    padding-bottom: 48px;
  }
  .container .jumbotron,
  .container-fluid .jumbotron {
    padding-left: 60px;
    padding-right: 60px;
  }
  .jumbotron h1,
  .jumbotron .h1 {
    font-size: 59px;
  }
}
.thumbnail {
  display: block;
  padding: 4px;
  margin-bottom: 18px;
  line-height: 1.42857143;
  background-color: #fff;
  border: 1px solid #ddd;
  border-radius: 2px;
  -webkit-transition: border 0.2s ease-in-out;
  -o-transition: border 0.2s ease-in-out;
  transition: border 0.2s ease-in-out;
}
.thumbnail > img,
.thumbnail a > img {
  margin-left: auto;
  margin-right: auto;
}
a.thumbnail:hover,
a.thumbnail:focus,
a.thumbnail.active {
  border-color: #337ab7;
}
.thumbnail .caption {
  padding: 9px;
  color: #000;
}
.alert {
  padding: 15px;
  margin-bottom: 18px;
  border: 1px solid transparent;
  border-radius: 2px;
}
.alert h4 {
  margin-top: 0;
  color: inherit;
}
.alert .alert-link {
  font-weight: bold;
}
.alert > p,
.alert > ul {
  margin-bottom: 0;
}
.alert > p + p {
  margin-top: 5px;
}
.alert-dismissable,
.alert-dismissible {
  padding-right: 35px;
}
.alert-dismissable .close,
.alert-dismissible .close {
  position: relative;
  top: -2px;
  right: -21px;
  color: inherit;
}
.alert-success {
  background-color: #dff0d8;
  border-color: #d6e9c6;
  color: #3c763d;
}
.alert-success hr {
  border-top-color: #c9e2b3;
}
.alert-success .alert-link {
  color: #2b542c;
}
.alert-info {
  background-color: #d9edf7;
  border-color: #bce8f1;
  color: #31708f;
}
.alert-info hr {
  border-top-color: #a6e1ec;
}
.alert-info .alert-link {
  color: #245269;
}
.alert-warning {
  background-color: #fcf8e3;
  border-color: #faebcc;
  color: #8a6d3b;
}
.alert-warning hr {
  border-top-color: #f7e1b5;
}
.alert-warning .alert-link {
  color: #66512c;
}
.alert-danger {
  background-color: #f2dede;
  border-color: #ebccd1;
  color: #a94442;
}
.alert-danger hr {
  border-top-color: #e4b9c0;
}
.alert-danger .alert-link {
  color: #843534;
}
@-webkit-keyframes progress-bar-stripes {
  from {
    background-position: 40px 0;
  }
  to {
    background-position: 0 0;
  }
}
@keyframes progress-bar-stripes {
  from {
    background-position: 40px 0;
  }
  to {
    background-position: 0 0;
  }
}
.progress {
  overflow: hidden;
  height: 18px;
  margin-bottom: 18px;
  background-color: #f5f5f5;
  border-radius: 2px;
  -webkit-box-shadow: inset 0 1px 2px rgba(0, 0, 0, 0.1);
  box-shadow: inset 0 1px 2px rgba(0, 0, 0, 0.1);
}
.progress-bar {
  float: left;
  width: 0%;
  height: 100%;
  font-size: 12px;
  line-height: 18px;
  color: #fff;
  text-align: center;
  background-color: #337ab7;
  -webkit-box-shadow: inset 0 -1px 0 rgba(0, 0, 0, 0.15);
  box-shadow: inset 0 -1px 0 rgba(0, 0, 0, 0.15);
  -webkit-transition: width 0.6s ease;
  -o-transition: width 0.6s ease;
  transition: width 0.6s ease;
}
.progress-striped .progress-bar,
.progress-bar-striped {
  background-image: -webkit-linear-gradient(45deg, rgba(255, 255, 255, 0.15) 25%, transparent 25%, transparent 50%, rgba(255, 255, 255, 0.15) 50%, rgba(255, 255, 255, 0.15) 75%, transparent 75%, transparent);
  background-image: -o-linear-gradient(45deg, rgba(255, 255, 255, 0.15) 25%, transparent 25%, transparent 50%, rgba(255, 255, 255, 0.15) 50%, rgba(255, 255, 255, 0.15) 75%, transparent 75%, transparent);
  background-image: linear-gradient(45deg, rgba(255, 255, 255, 0.15) 25%, transparent 25%, transparent 50%, rgba(255, 255, 255, 0.15) 50%, rgba(255, 255, 255, 0.15) 75%, transparent 75%, transparent);
  background-size: 40px 40px;
}
.progress.active .progress-bar,
.progress-bar.active {
  -webkit-animation: progress-bar-stripes 2s linear infinite;
  -o-animation: progress-bar-stripes 2s linear infinite;
  animation: progress-bar-stripes 2s linear infinite;
}
.progress-bar-success {
  background-color: #5cb85c;
}
.progress-striped .progress-bar-success {
  background-image: -webkit-linear-gradient(45deg, rgba(255, 255, 255, 0.15) 25%, transparent 25%, transparent 50%, rgba(255, 255, 255, 0.15) 50%, rgba(255, 255, 255, 0.15) 75%, transparent 75%, transparent);
  background-image: -o-linear-gradient(45deg, rgba(255, 255, 255, 0.15) 25%, transparent 25%, transparent 50%, rgba(255, 255, 255, 0.15) 50%, rgba(255, 255, 255, 0.15) 75%, transparent 75%, transparent);
  background-image: linear-gradient(45deg, rgba(255, 255, 255, 0.15) 25%, transparent 25%, transparent 50%, rgba(255, 255, 255, 0.15) 50%, rgba(255, 255, 255, 0.15) 75%, transparent 75%, transparent);
}
.progress-bar-info {
  background-color: #5bc0de;
}
.progress-striped .progress-bar-info {
  background-image: -webkit-linear-gradient(45deg, rgba(255, 255, 255, 0.15) 25%, transparent 25%, transparent 50%, rgba(255, 255, 255, 0.15) 50%, rgba(255, 255, 255, 0.15) 75%, transparent 75%, transparent);
  background-image: -o-linear-gradient(45deg, rgba(255, 255, 255, 0.15) 25%, transparent 25%, transparent 50%, rgba(255, 255, 255, 0.15) 50%, rgba(255, 255, 255, 0.15) 75%, transparent 75%, transparent);
  background-image: linear-gradient(45deg, rgba(255, 255, 255, 0.15) 25%, transparent 25%, transparent 50%, rgba(255, 255, 255, 0.15) 50%, rgba(255, 255, 255, 0.15) 75%, transparent 75%, transparent);
}
.progress-bar-warning {
  background-color: #f0ad4e;
}
.progress-striped .progress-bar-warning {
  background-image: -webkit-linear-gradient(45deg, rgba(255, 255, 255, 0.15) 25%, transparent 25%, transparent 50%, rgba(255, 255, 255, 0.15) 50%, rgba(255, 255, 255, 0.15) 75%, transparent 75%, transparent);
  background-image: -o-linear-gradient(45deg, rgba(255, 255, 255, 0.15) 25%, transparent 25%, transparent 50%, rgba(255, 255, 255, 0.15) 50%, rgba(255, 255, 255, 0.15) 75%, transparent 75%, transparent);
  background-image: linear-gradient(45deg, rgba(255, 255, 255, 0.15) 25%, transparent 25%, transparent 50%, rgba(255, 255, 255, 0.15) 50%, rgba(255, 255, 255, 0.15) 75%, transparent 75%, transparent);
}
.progress-bar-danger {
  background-color: #d9534f;
}
.progress-striped .progress-bar-danger {
  background-image: -webkit-linear-gradient(45deg, rgba(255, 255, 255, 0.15) 25%, transparent 25%, transparent 50%, rgba(255, 255, 255, 0.15) 50%, rgba(255, 255, 255, 0.15) 75%, transparent 75%, transparent);
  background-image: -o-linear-gradient(45deg, rgba(255, 255, 255, 0.15) 25%, transparent 25%, transparent 50%, rgba(255, 255, 255, 0.15) 50%, rgba(255, 255, 255, 0.15) 75%, transparent 75%, transparent);
  background-image: linear-gradient(45deg, rgba(255, 255, 255, 0.15) 25%, transparent 25%, transparent 50%, rgba(255, 255, 255, 0.15) 50%, rgba(255, 255, 255, 0.15) 75%, transparent 75%, transparent);
}
.media {
  margin-top: 15px;
}
.media:first-child {
  margin-top: 0;
}
.media,
.media-body {
  zoom: 1;
  overflow: hidden;
}
.media-body {
  width: 10000px;
}
.media-object {
  display: block;
}
.media-object.img-thumbnail {
  max-width: none;
}
.media-right,
.media > .pull-right {
  padding-left: 10px;
}
.media-left,
.media > .pull-left {
  padding-right: 10px;
}
.media-left,
.media-right,
.media-body {
  display: table-cell;
  vertical-align: top;
}
.media-middle {
  vertical-align: middle;
}
.media-bottom {
  vertical-align: bottom;
}
.media-heading {
  margin-top: 0;
  margin-bottom: 5px;
}
.media-list {
  padding-left: 0;
  list-style: none;
}
.list-group {
  margin-bottom: 20px;
  padding-left: 0;
}
.list-group-item {
  position: relative;
  display: block;
  padding: 10px 15px;
  margin-bottom: -1px;
  background-color: #fff;
  border: 1px solid #ddd;
}
.list-group-item:first-child {
  border-top-right-radius: 2px;
  border-top-left-radius: 2px;
}
.list-group-item:last-child {
  margin-bottom: 0;
  border-bottom-right-radius: 2px;
  border-bottom-left-radius: 2px;
}
a.list-group-item,
button.list-group-item {
  color: #555;
}
a.list-group-item .list-group-item-heading,
button.list-group-item .list-group-item-heading {
  color: #333;
}
a.list-group-item:hover,
button.list-group-item:hover,
a.list-group-item:focus,
button.list-group-item:focus {
  text-decoration: none;
  color: #555;
  background-color: #f5f5f5;
}
button.list-group-item {
  width: 100%;
  text-align: left;
}
.list-group-item.disabled,
.list-group-item.disabled:hover,
.list-group-item.disabled:focus {
  background-color: #eeeeee;
  color: #777777;
  cursor: not-allowed;
}
.list-group-item.disabled .list-group-item-heading,
.list-group-item.disabled:hover .list-group-item-heading,
.list-group-item.disabled:focus .list-group-item-heading {
  color: inherit;
}
.list-group-item.disabled .list-group-item-text,
.list-group-item.disabled:hover .list-group-item-text,
.list-group-item.disabled:focus .list-group-item-text {
  color: #777777;
}
.list-group-item.active,
.list-group-item.active:hover,
.list-group-item.active:focus {
  z-index: 2;
  color: #fff;
  background-color: #337ab7;
  border-color: #337ab7;
}
.list-group-item.active .list-group-item-heading,
.list-group-item.active:hover .list-group-item-heading,
.list-group-item.active:focus .list-group-item-heading,
.list-group-item.active .list-group-item-heading > small,
.list-group-item.active:hover .list-group-item-heading > small,
.list-group-item.active:focus .list-group-item-heading > small,
.list-group-item.active .list-group-item-heading > .small,
.list-group-item.active:hover .list-group-item-heading > .small,
.list-group-item.active:focus .list-group-item-heading > .small {
  color: inherit;
}
.list-group-item.active .list-group-item-text,
.list-group-item.active:hover .list-group-item-text,
.list-group-item.active:focus .list-group-item-text {
  color: #c7ddef;
}
.list-group-item-success {
  color: #3c763d;
  background-color: #dff0d8;
}
a.list-group-item-success,
button.list-group-item-success {
  color: #3c763d;
}
a.list-group-item-success .list-group-item-heading,
button.list-group-item-success .list-group-item-heading {
  color: inherit;
}
a.list-group-item-success:hover,
button.list-group-item-success:hover,
a.list-group-item-success:focus,
button.list-group-item-success:focus {
  color: #3c763d;
  background-color: #d0e9c6;
}
a.list-group-item-success.active,
button.list-group-item-success.active,
a.list-group-item-success.active:hover,
button.list-group-item-success.active:hover,
a.list-group-item-success.active:focus,
button.list-group-item-success.active:focus {
  color: #fff;
  background-color: #3c763d;
  border-color: #3c763d;
}
.list-group-item-info {
  color: #31708f;
  background-color: #d9edf7;
}
a.list-group-item-info,
button.list-group-item-info {
  color: #31708f;
}
a.list-group-item-info .list-group-item-heading,
button.list-group-item-info .list-group-item-heading {
  color: inherit;
}
a.list-group-item-info:hover,
button.list-group-item-info:hover,
a.list-group-item-info:focus,
button.list-group-item-info:focus {
  color: #31708f;
  background-color: #c4e3f3;
}
a.list-group-item-info.active,
button.list-group-item-info.active,
a.list-group-item-info.active:hover,
button.list-group-item-info.active:hover,
a.list-group-item-info.active:focus,
button.list-group-item-info.active:focus {
  color: #fff;
  background-color: #31708f;
  border-color: #31708f;
}
.list-group-item-warning {
  color: #8a6d3b;
  background-color: #fcf8e3;
}
a.list-group-item-warning,
button.list-group-item-warning {
  color: #8a6d3b;
}
a.list-group-item-warning .list-group-item-heading,
button.list-group-item-warning .list-group-item-heading {
  color: inherit;
}
a.list-group-item-warning:hover,
button.list-group-item-warning:hover,
a.list-group-item-warning:focus,
button.list-group-item-warning:focus {
  color: #8a6d3b;
  background-color: #faf2cc;
}
a.list-group-item-warning.active,
button.list-group-item-warning.active,
a.list-group-item-warning.active:hover,
button.list-group-item-warning.active:hover,
a.list-group-item-warning.active:focus,
button.list-group-item-warning.active:focus {
  color: #fff;
  background-color: #8a6d3b;
  border-color: #8a6d3b;
}
.list-group-item-danger {
  color: #a94442;
  background-color: #f2dede;
}
a.list-group-item-danger,
button.list-group-item-danger {
  color: #a94442;
}
a.list-group-item-danger .list-group-item-heading,
button.list-group-item-danger .list-group-item-heading {
  color: inherit;
}
a.list-group-item-danger:hover,
button.list-group-item-danger:hover,
a.list-group-item-danger:focus,
button.list-group-item-danger:focus {
  color: #a94442;
  background-color: #ebcccc;
}
a.list-group-item-danger.active,
button.list-group-item-danger.active,
a.list-group-item-danger.active:hover,
button.list-group-item-danger.active:hover,
a.list-group-item-danger.active:focus,
button.list-group-item-danger.active:focus {
  color: #fff;
  background-color: #a94442;
  border-color: #a94442;
}
.list-group-item-heading {
  margin-top: 0;
  margin-bottom: 5px;
}
.list-group-item-text {
  margin-bottom: 0;
  line-height: 1.3;
}
.panel {
  margin-bottom: 18px;
  background-color: #fff;
  border: 1px solid transparent;
  border-radius: 2px;
  -webkit-box-shadow: 0 1px 1px rgba(0, 0, 0, 0.05);
  box-shadow: 0 1px 1px rgba(0, 0, 0, 0.05);
}
.panel-body {
  padding: 15px;
}
.panel-heading {
  padding: 10px 15px;
  border-bottom: 1px solid transparent;
  border-top-right-radius: 1px;
  border-top-left-radius: 1px;
}
.panel-heading > .dropdown .dropdown-toggle {
  color: inherit;
}
.panel-title {
  margin-top: 0;
  margin-bottom: 0;
  font-size: 15px;
  color: inherit;
}
.panel-title > a,
.panel-title > small,
.panel-title > .small,
.panel-title > small > a,
.panel-title > .small > a {
  color: inherit;
}
.panel-footer {
  padding: 10px 15px;
  background-color: #f5f5f5;
  border-top: 1px solid #ddd;
  border-bottom-right-radius: 1px;
  border-bottom-left-radius: 1px;
}
.panel > .list-group,
.panel > .panel-collapse > .list-group {
  margin-bottom: 0;
}
.panel > .list-group .list-group-item,
.panel > .panel-collapse > .list-group .list-group-item {
  border-width: 1px 0;
  border-radius: 0;
}
.panel > .list-group:first-child .list-group-item:first-child,
.panel > .panel-collapse > .list-group:first-child .list-group-item:first-child {
  border-top: 0;
  border-top-right-radius: 1px;
  border-top-left-radius: 1px;
}
.panel > .list-group:last-child .list-group-item:last-child,
.panel > .panel-collapse > .list-group:last-child .list-group-item:last-child {
  border-bottom: 0;
  border-bottom-right-radius: 1px;
  border-bottom-left-radius: 1px;
}
.panel > .panel-heading + .panel-collapse > .list-group .list-group-item:first-child {
  border-top-right-radius: 0;
  border-top-left-radius: 0;
}
.panel-heading + .list-group .list-group-item:first-child {
  border-top-width: 0;
}
.list-group + .panel-footer {
  border-top-width: 0;
}
.panel > .table,
.panel > .table-responsive > .table,
.panel > .panel-collapse > .table {
  margin-bottom: 0;
}
.panel > .table caption,
.panel > .table-responsive > .table caption,
.panel > .panel-collapse > .table caption {
  padding-left: 15px;
  padding-right: 15px;
}
.panel > .table:first-child,
.panel > .table-responsive:first-child > .table:first-child {
  border-top-right-radius: 1px;
  border-top-left-radius: 1px;
}
.panel > .table:first-child > thead:first-child > tr:first-child,
.panel > .table-responsive:first-child > .table:first-child > thead:first-child > tr:first-child,
.panel > .table:first-child > tbody:first-child > tr:first-child,
.panel > .table-responsive:first-child > .table:first-child > tbody:first-child > tr:first-child {
  border-top-left-radius: 1px;
  border-top-right-radius: 1px;
}
.panel > .table:first-child > thead:first-child > tr:first-child td:first-child,
.panel > .table-responsive:first-child > .table:first-child > thead:first-child > tr:first-child td:first-child,
.panel > .table:first-child > tbody:first-child > tr:first-child td:first-child,
.panel > .table-responsive:first-child > .table:first-child > tbody:first-child > tr:first-child td:first-child,
.panel > .table:first-child > thead:first-child > tr:first-child th:first-child,
.panel > .table-responsive:first-child > .table:first-child > thead:first-child > tr:first-child th:first-child,
.panel > .table:first-child > tbody:first-child > tr:first-child th:first-child,
.panel > .table-responsive:first-child > .table:first-child > tbody:first-child > tr:first-child th:first-child {
  border-top-left-radius: 1px;
}
.panel > .table:first-child > thead:first-child > tr:first-child td:last-child,
.panel > .table-responsive:first-child > .table:first-child > thead:first-child > tr:first-child td:last-child,
.panel > .table:first-child > tbody:first-child > tr:first-child td:last-child,
.panel > .table-responsive:first-child > .table:first-child > tbody:first-child > tr:first-child td:last-child,
.panel > .table:first-child > thead:first-child > tr:first-child th:last-child,
.panel > .table-responsive:first-child > .table:first-child > thead:first-child > tr:first-child th:last-child,
.panel > .table:first-child > tbody:first-child > tr:first-child th:last-child,
.panel > .table-responsive:first-child > .table:first-child > tbody:first-child > tr:first-child th:last-child {
  border-top-right-radius: 1px;
}
.panel > .table:last-child,
.panel > .table-responsive:last-child > .table:last-child {
  border-bottom-right-radius: 1px;
  border-bottom-left-radius: 1px;
}
.panel > .table:last-child > tbody:last-child > tr:last-child,
.panel > .table-responsive:last-child > .table:last-child > tbody:last-child > tr:last-child,
.panel > .table:last-child > tfoot:last-child > tr:last-child,
.panel > .table-responsive:last-child > .table:last-child > tfoot:last-child > tr:last-child {
  border-bottom-left-radius: 1px;
  border-bottom-right-radius: 1px;
}
.panel > .table:last-child > tbody:last-child > tr:last-child td:first-child,
.panel > .table-responsive:last-child > .table:last-child > tbody:last-child > tr:last-child td:first-child,
.panel > .table:last-child > tfoot:last-child > tr:last-child td:first-child,
.panel > .table-responsive:last-child > .table:last-child > tfoot:last-child > tr:last-child td:first-child,
.panel > .table:last-child > tbody:last-child > tr:last-child th:first-child,
.panel > .table-responsive:last-child > .table:last-child > tbody:last-child > tr:last-child th:first-child,
.panel > .table:last-child > tfoot:last-child > tr:last-child th:first-child,
.panel > .table-responsive:last-child > .table:last-child > tfoot:last-child > tr:last-child th:first-child {
  border-bottom-left-radius: 1px;
}
.panel > .table:last-child > tbody:last-child > tr:last-child td:last-child,
.panel > .table-responsive:last-child > .table:last-child > tbody:last-child > tr:last-child td:last-child,
.panel > .table:last-child > tfoot:last-child > tr:last-child td:last-child,
.panel > .table-responsive:last-child > .table:last-child > tfoot:last-child > tr:last-child td:last-child,
.panel > .table:last-child > tbody:last-child > tr:last-child th:last-child,
.panel > .table-responsive:last-child > .table:last-child > tbody:last-child > tr:last-child th:last-child,
.panel > .table:last-child > tfoot:last-child > tr:last-child th:last-child,
.panel > .table-responsive:last-child > .table:last-child > tfoot:last-child > tr:last-child th:last-child {
  border-bottom-right-radius: 1px;
}
.panel > .panel-body + .table,
.panel > .panel-body + .table-responsive,
.panel > .table + .panel-body,
.panel > .table-responsive + .panel-body {
  border-top: 1px solid #ddd;
}
.panel > .table > tbody:first-child > tr:first-child th,
.panel > .table > tbody:first-child > tr:first-child td {
  border-top: 0;
}
.panel > .table-bordered,
.panel > .table-responsive > .table-bordered {
  border: 0;
}
.panel > .table-bordered > thead > tr > th:first-child,
.panel > .table-responsive > .table-bordered > thead > tr > th:first-child,
.panel > .table-bordered > tbody > tr > th:first-child,
.panel > .table-responsive > .table-bordered > tbody > tr > th:first-child,
.panel > .table-bordered > tfoot > tr > th:first-child,
.panel > .table-responsive > .table-bordered > tfoot > tr > th:first-child,
.panel > .table-bordered > thead > tr > td:first-child,
.panel > .table-responsive > .table-bordered > thead > tr > td:first-child,
.panel > .table-bordered > tbody > tr > td:first-child,
.panel > .table-responsive > .table-bordered > tbody > tr > td:first-child,
.panel > .table-bordered > tfoot > tr > td:first-child,
.panel > .table-responsive > .table-bordered > tfoot > tr > td:first-child {
  border-left: 0;
}
.panel > .table-bordered > thead > tr > th:last-child,
.panel > .table-responsive > .table-bordered > thead > tr > th:last-child,
.panel > .table-bordered > tbody > tr > th:last-child,
.panel > .table-responsive > .table-bordered > tbody > tr > th:last-child,
.panel > .table-bordered > tfoot > tr > th:last-child,
.panel > .table-responsive > .table-bordered > tfoot > tr > th:last-child,
.panel > .table-bordered > thead > tr > td:last-child,
.panel > .table-responsive > .table-bordered > thead > tr > td:last-child,
.panel > .table-bordered > tbody > tr > td:last-child,
.panel > .table-responsive > .table-bordered > tbody > tr > td:last-child,
.panel > .table-bordered > tfoot > tr > td:last-child,
.panel > .table-responsive > .table-bordered > tfoot > tr > td:last-child {
  border-right: 0;
}
.panel > .table-bordered > thead > tr:first-child > td,
.panel > .table-responsive > .table-bordered > thead > tr:first-child > td,
.panel > .table-bordered > tbody > tr:first-child > td,
.panel > .table-responsive > .table-bordered > tbody > tr:first-child > td,
.panel > .table-bordered > thead > tr:first-child > th,
.panel > .table-responsive > .table-bordered > thead > tr:first-child > th,
.panel > .table-bordered > tbody > tr:first-child > th,
.panel > .table-responsive > .table-bordered > tbody > tr:first-child > th {
  border-bottom: 0;
}
.panel > .table-bordered > tbody > tr:last-child > td,
.panel > .table-responsive > .table-bordered > tbody > tr:last-child > td,
.panel > .table-bordered > tfoot > tr:last-child > td,
.panel > .table-responsive > .table-bordered > tfoot > tr:last-child > td,
.panel > .table-bordered > tbody > tr:last-child > th,
.panel > .table-responsive > .table-bordered > tbody > tr:last-child > th,
.panel > .table-bordered > tfoot > tr:last-child > th,
.panel > .table-responsive > .table-bordered > tfoot > tr:last-child > th {
  border-bottom: 0;
}
.panel > .table-responsive {
  border: 0;
  margin-bottom: 0;
}
.panel-group {
  margin-bottom: 18px;
}
.panel-group .panel {
  margin-bottom: 0;
  border-radius: 2px;
}
.panel-group .panel + .panel {
  margin-top: 5px;
}
.panel-group .panel-heading {
  border-bottom: 0;
}
.panel-group .panel-heading + .panel-collapse > .panel-body,
.panel-group .panel-heading + .panel-collapse > .list-group {
  border-top: 1px solid #ddd;
}
.panel-group .panel-footer {
  border-top: 0;
}
.panel-group .panel-footer + .panel-collapse .panel-body {
  border-bottom: 1px solid #ddd;
}
.panel-default {
  border-color: #ddd;
}
.panel-default > .panel-heading {
  color: #333333;
  background-color: #f5f5f5;
  border-color: #ddd;
}
.panel-default > .panel-heading + .panel-collapse > .panel-body {
  border-top-color: #ddd;
}
.panel-default > .panel-heading .badge {
  color: #f5f5f5;
  background-color: #333333;
}
.panel-default > .panel-footer + .panel-collapse > .panel-body {
  border-bottom-color: #ddd;
}
.panel-primary {
  border-color: #337ab7;
}
.panel-primary > .panel-heading {
  color: #fff;
  background-color: #337ab7;
  border-color: #337ab7;
}
.panel-primary > .panel-heading + .panel-collapse > .panel-body {
  border-top-color: #337ab7;
}
.panel-primary > .panel-heading .badge {
  color: #337ab7;
  background-color: #fff;
}
.panel-primary > .panel-footer + .panel-collapse > .panel-body {
  border-bottom-color: #337ab7;
}
.panel-success {
  border-color: #d6e9c6;
}
.panel-success > .panel-heading {
  color: #3c763d;
  background-color: #dff0d8;
  border-color: #d6e9c6;
}
.panel-success > .panel-heading + .panel-collapse > .panel-body {
  border-top-color: #d6e9c6;
}
.panel-success > .panel-heading .badge {
  color: #dff0d8;
  background-color: #3c763d;
}
.panel-success > .panel-footer + .panel-collapse > .panel-body {
  border-bottom-color: #d6e9c6;
}
.panel-info {
  border-color: #bce8f1;
}
.panel-info > .panel-heading {
  color: #31708f;
  background-color: #d9edf7;
  border-color: #bce8f1;
}
.panel-info > .panel-heading + .panel-collapse > .panel-body {
  border-top-color: #bce8f1;
}
.panel-info > .panel-heading .badge {
  color: #d9edf7;
  background-color: #31708f;
}
.panel-info > .panel-footer + .panel-collapse > .panel-body {
  border-bottom-color: #bce8f1;
}
.panel-warning {
  border-color: #faebcc;
}
.panel-warning > .panel-heading {
  color: #8a6d3b;
  background-color: #fcf8e3;
  border-color: #faebcc;
}
.panel-warning > .panel-heading + .panel-collapse > .panel-body {
  border-top-color: #faebcc;
}
.panel-warning > .panel-heading .badge {
  color: #fcf8e3;
  background-color: #8a6d3b;
}
.panel-warning > .panel-footer + .panel-collapse > .panel-body {
  border-bottom-color: #faebcc;
}
.panel-danger {
  border-color: #ebccd1;
}
.panel-danger > .panel-heading {
  color: #a94442;
  background-color: #f2dede;
  border-color: #ebccd1;
}
.panel-danger > .panel-heading + .panel-collapse > .panel-body {
  border-top-color: #ebccd1;
}
.panel-danger > .panel-heading .badge {
  color: #f2dede;
  background-color: #a94442;
}
.panel-danger > .panel-footer + .panel-collapse > .panel-body {
  border-bottom-color: #ebccd1;
}
.embed-responsive {
  position: relative;
  display: block;
  height: 0;
  padding: 0;
  overflow: hidden;
}
.embed-responsive .embed-responsive-item,
.embed-responsive iframe,
.embed-responsive embed,
.embed-responsive object,
.embed-responsive video {
  position: absolute;
  top: 0;
  left: 0;
  bottom: 0;
  height: 100%;
  width: 100%;
  border: 0;
}
.embed-responsive-16by9 {
  padding-bottom: 56.25%;
}
.embed-responsive-4by3 {
  padding-bottom: 75%;
}
.well {
  min-height: 20px;
  padding: 19px;
  margin-bottom: 20px;
  background-color: #f5f5f5;
  border: 1px solid #e3e3e3;
  border-radius: 2px;
  -webkit-box-shadow: inset 0 1px 1px rgba(0, 0, 0, 0.05);
  box-shadow: inset 0 1px 1px rgba(0, 0, 0, 0.05);
}
.well blockquote {
  border-color: #ddd;
  border-color: rgba(0, 0, 0, 0.15);
}
.well-lg {
  padding: 24px;
  border-radius: 3px;
}
.well-sm {
  padding: 9px;
  border-radius: 1px;
}
.close {
  float: right;
  font-size: 19.5px;
  font-weight: bold;
  line-height: 1;
  color: #000;
  text-shadow: 0 1px 0 #fff;
  opacity: 0.2;
  filter: alpha(opacity=20);
}
.close:hover,
.close:focus {
  color: #000;
  text-decoration: none;
  cursor: pointer;
  opacity: 0.5;
  filter: alpha(opacity=50);
}
button.close {
  padding: 0;
  cursor: pointer;
  background: transparent;
  border: 0;
  -webkit-appearance: none;
}
.modal-open {
  overflow: hidden;
}
.modal {
  display: none;
  overflow: hidden;
  position: fixed;
  top: 0;
  right: 0;
  bottom: 0;
  left: 0;
  z-index: 1050;
  -webkit-overflow-scrolling: touch;
  outline: 0;
}
.modal.fade .modal-dialog {
  -webkit-transform: translate(0, -25%);
  -ms-transform: translate(0, -25%);
  -o-transform: translate(0, -25%);
  transform: translate(0, -25%);
  -webkit-transition: -webkit-transform 0.3s ease-out;
  -moz-transition: -moz-transform 0.3s ease-out;
  -o-transition: -o-transform 0.3s ease-out;
  transition: transform 0.3s ease-out;
}
.modal.in .modal-dialog {
  -webkit-transform: translate(0, 0);
  -ms-transform: translate(0, 0);
  -o-transform: translate(0, 0);
  transform: translate(0, 0);
}
.modal-open .modal {
  overflow-x: hidden;
  overflow-y: auto;
}
.modal-dialog {
  position: relative;
  width: auto;
  margin: 10px;
}
.modal-content {
  position: relative;
  background-color: #fff;
  border: 1px solid #999;
  border: 1px solid rgba(0, 0, 0, 0.2);
  border-radius: 3px;
  -webkit-box-shadow: 0 3px 9px rgba(0, 0, 0, 0.5);
  box-shadow: 0 3px 9px rgba(0, 0, 0, 0.5);
  background-clip: padding-box;
  outline: 0;
}
.modal-backdrop {
  position: fixed;
  top: 0;
  right: 0;
  bottom: 0;
  left: 0;
  z-index: 1040;
  background-color: #000;
}
.modal-backdrop.fade {
  opacity: 0;
  filter: alpha(opacity=0);
}
.modal-backdrop.in {
  opacity: 0.5;
  filter: alpha(opacity=50);
}
.modal-header {
  padding: 15px;
  border-bottom: 1px solid #e5e5e5;
}
.modal-header .close {
  margin-top: -2px;
}
.modal-title {
  margin: 0;
  line-height: 1.42857143;
}
.modal-body {
  position: relative;
  padding: 15px;
}
.modal-footer {
  padding: 15px;
  text-align: right;
  border-top: 1px solid #e5e5e5;
}
.modal-footer .btn + .btn {
  margin-left: 5px;
  margin-bottom: 0;
}
.modal-footer .btn-group .btn + .btn {
  margin-left: -1px;
}
.modal-footer .btn-block + .btn-block {
  margin-left: 0;
}
.modal-scrollbar-measure {
  position: absolute;
  top: -9999px;
  width: 50px;
  height: 50px;
  overflow: scroll;
}
@media (min-width: 768px) {
  .modal-dialog {
    width: 600px;
    margin: 30px auto;
  }
  .modal-content {
    -webkit-box-shadow: 0 5px 15px rgba(0, 0, 0, 0.5);
    box-shadow: 0 5px 15px rgba(0, 0, 0, 0.5);
  }
  .modal-sm {
    width: 300px;
  }
}
@media (min-width: 992px) {
  .modal-lg {
    width: 900px;
  }
}
.tooltip {
  position: absolute;
  z-index: 1070;
  display: block;
  font-family: "Helvetica Neue", Helvetica, Arial, sans-serif;
  font-style: normal;
  font-weight: normal;
  letter-spacing: normal;
  line-break: auto;
  line-height: 1.42857143;
  text-align: left;
  text-align: start;
  text-decoration: none;
  text-shadow: none;
  text-transform: none;
  white-space: normal;
  word-break: normal;
  word-spacing: normal;
  word-wrap: normal;
  font-size: 12px;
  opacity: 0;
  filter: alpha(opacity=0);
}
.tooltip.in {
  opacity: 0.9;
  filter: alpha(opacity=90);
}
.tooltip.top {
  margin-top: -3px;
  padding: 5px 0;
}
.tooltip.right {
  margin-left: 3px;
  padding: 0 5px;
}
.tooltip.bottom {
  margin-top: 3px;
  padding: 5px 0;
}
.tooltip.left {
  margin-left: -3px;
  padding: 0 5px;
}
.tooltip-inner {
  max-width: 200px;
  padding: 3px 8px;
  color: #fff;
  text-align: center;
  background-color: #000;
  border-radius: 2px;
}
.tooltip-arrow {
  position: absolute;
  width: 0;
  height: 0;
  border-color: transparent;
  border-style: solid;
}
.tooltip.top .tooltip-arrow {
  bottom: 0;
  left: 50%;
  margin-left: -5px;
  border-width: 5px 5px 0;
  border-top-color: #000;
}
.tooltip.top-left .tooltip-arrow {
  bottom: 0;
  right: 5px;
  margin-bottom: -5px;
  border-width: 5px 5px 0;
  border-top-color: #000;
}
.tooltip.top-right .tooltip-arrow {
  bottom: 0;
  left: 5px;
  margin-bottom: -5px;
  border-width: 5px 5px 0;
  border-top-color: #000;
}
.tooltip.right .tooltip-arrow {
  top: 50%;
  left: 0;
  margin-top: -5px;
  border-width: 5px 5px 5px 0;
  border-right-color: #000;
}
.tooltip.left .tooltip-arrow {
  top: 50%;
  right: 0;
  margin-top: -5px;
  border-width: 5px 0 5px 5px;
  border-left-color: #000;
}
.tooltip.bottom .tooltip-arrow {
  top: 0;
  left: 50%;
  margin-left: -5px;
  border-width: 0 5px 5px;
  border-bottom-color: #000;
}
.tooltip.bottom-left .tooltip-arrow {
  top: 0;
  right: 5px;
  margin-top: -5px;
  border-width: 0 5px 5px;
  border-bottom-color: #000;
}
.tooltip.bottom-right .tooltip-arrow {
  top: 0;
  left: 5px;
  margin-top: -5px;
  border-width: 0 5px 5px;
  border-bottom-color: #000;
}
.popover {
  position: absolute;
  top: 0;
  left: 0;
  z-index: 1060;
  display: none;
  max-width: 276px;
  padding: 1px;
  font-family: "Helvetica Neue", Helvetica, Arial, sans-serif;
  font-style: normal;
  font-weight: normal;
  letter-spacing: normal;
  line-break: auto;
  line-height: 1.42857143;
  text-align: left;
  text-align: start;
  text-decoration: none;
  text-shadow: none;
  text-transform: none;
  white-space: normal;
  word-break: normal;
  word-spacing: normal;
  word-wrap: normal;
  font-size: 13px;
  background-color: #fff;
  background-clip: padding-box;
  border: 1px solid #ccc;
  border: 1px solid rgba(0, 0, 0, 0.2);
  border-radius: 3px;
  -webkit-box-shadow: 0 5px 10px rgba(0, 0, 0, 0.2);
  box-shadow: 0 5px 10px rgba(0, 0, 0, 0.2);
}
.popover.top {
  margin-top: -10px;
}
.popover.right {
  margin-left: 10px;
}
.popover.bottom {
  margin-top: 10px;
}
.popover.left {
  margin-left: -10px;
}
.popover-title {
  margin: 0;
  padding: 8px 14px;
  font-size: 13px;
  background-color: #f7f7f7;
  border-bottom: 1px solid #ebebeb;
  border-radius: 2px 2px 0 0;
}
.popover-content {
  padding: 9px 14px;
}
.popover > .arrow,
.popover > .arrow:after {
  position: absolute;
  display: block;
  width: 0;
  height: 0;
  border-color: transparent;
  border-style: solid;
}
.popover > .arrow {
  border-width: 11px;
}
.popover > .arrow:after {
  border-width: 10px;
  content: "";
}
.popover.top > .arrow {
  left: 50%;
  margin-left: -11px;
  border-bottom-width: 0;
  border-top-color: #999999;
  border-top-color: rgba(0, 0, 0, 0.25);
  bottom: -11px;
}
.popover.top > .arrow:after {
  content: " ";
  bottom: 1px;
  margin-left: -10px;
  border-bottom-width: 0;
  border-top-color: #fff;
}
.popover.right > .arrow {
  top: 50%;
  left: -11px;
  margin-top: -11px;
  border-left-width: 0;
  border-right-color: #999999;
  border-right-color: rgba(0, 0, 0, 0.25);
}
.popover.right > .arrow:after {
  content: " ";
  left: 1px;
  bottom: -10px;
  border-left-width: 0;
  border-right-color: #fff;
}
.popover.bottom > .arrow {
  left: 50%;
  margin-left: -11px;
  border-top-width: 0;
  border-bottom-color: #999999;
  border-bottom-color: rgba(0, 0, 0, 0.25);
  top: -11px;
}
.popover.bottom > .arrow:after {
  content: " ";
  top: 1px;
  margin-left: -10px;
  border-top-width: 0;
  border-bottom-color: #fff;
}
.popover.left > .arrow {
  top: 50%;
  right: -11px;
  margin-top: -11px;
  border-right-width: 0;
  border-left-color: #999999;
  border-left-color: rgba(0, 0, 0, 0.25);
}
.popover.left > .arrow:after {
  content: " ";
  right: 1px;
  border-right-width: 0;
  border-left-color: #fff;
  bottom: -10px;
}
.carousel {
  position: relative;
}
.carousel-inner {
  position: relative;
  overflow: hidden;
  width: 100%;
}
.carousel-inner > .item {
  display: none;
  position: relative;
  -webkit-transition: 0.6s ease-in-out left;
  -o-transition: 0.6s ease-in-out left;
  transition: 0.6s ease-in-out left;
}
.carousel-inner > .item > img,
.carousel-inner > .item > a > img {
  line-height: 1;
}
@media all and (transform-3d), (-webkit-transform-3d) {
  .carousel-inner > .item {
    -webkit-transition: -webkit-transform 0.6s ease-in-out;
    -moz-transition: -moz-transform 0.6s ease-in-out;
    -o-transition: -o-transform 0.6s ease-in-out;
    transition: transform 0.6s ease-in-out;
    -webkit-backface-visibility: hidden;
    -moz-backface-visibility: hidden;
    backface-visibility: hidden;
    -webkit-perspective: 1000px;
    -moz-perspective: 1000px;
    perspective: 1000px;
  }
  .carousel-inner > .item.next,
  .carousel-inner > .item.active.right {
    -webkit-transform: translate3d(100%, 0, 0);
    transform: translate3d(100%, 0, 0);
    left: 0;
  }
  .carousel-inner > .item.prev,
  .carousel-inner > .item.active.left {
    -webkit-transform: translate3d(-100%, 0, 0);
    transform: translate3d(-100%, 0, 0);
    left: 0;
  }
  .carousel-inner > .item.next.left,
  .carousel-inner > .item.prev.right,
  .carousel-inner > .item.active {
    -webkit-transform: translate3d(0, 0, 0);
    transform: translate3d(0, 0, 0);
    left: 0;
  }
}
.carousel-inner > .active,
.carousel-inner > .next,
.carousel-inner > .prev {
  display: block;
}
.carousel-inner > .active {
  left: 0;
}
.carousel-inner > .next,
.carousel-inner > .prev {
  position: absolute;
  top: 0;
  width: 100%;
}
.carousel-inner > .next {
  left: 100%;
}
.carousel-inner > .prev {
  left: -100%;
}
.carousel-inner > .next.left,
.carousel-inner > .prev.right {
  left: 0;
}
.carousel-inner > .active.left {
  left: -100%;
}
.carousel-inner > .active.right {
  left: 100%;
}
.carousel-control {
  position: absolute;
  top: 0;
  left: 0;
  bottom: 0;
  width: 15%;
  opacity: 0.5;
  filter: alpha(opacity=50);
  font-size: 20px;
  color: #fff;
  text-align: center;
  text-shadow: 0 1px 2px rgba(0, 0, 0, 0.6);
  background-color: rgba(0, 0, 0, 0);
}
.carousel-control.left {
  background-image: -webkit-linear-gradient(left, rgba(0, 0, 0, 0.5) 0%, rgba(0, 0, 0, 0.0001) 100%);
  background-image: -o-linear-gradient(left, rgba(0, 0, 0, 0.5) 0%, rgba(0, 0, 0, 0.0001) 100%);
  background-image: linear-gradient(to right, rgba(0, 0, 0, 0.5) 0%, rgba(0, 0, 0, 0.0001) 100%);
  background-repeat: repeat-x;
  filter: progid:DXImageTransform.Microsoft.gradient(startColorstr='#80000000', endColorstr='#00000000', GradientType=1);
}
.carousel-control.right {
  left: auto;
  right: 0;
  background-image: -webkit-linear-gradient(left, rgba(0, 0, 0, 0.0001) 0%, rgba(0, 0, 0, 0.5) 100%);
  background-image: -o-linear-gradient(left, rgba(0, 0, 0, 0.0001) 0%, rgba(0, 0, 0, 0.5) 100%);
  background-image: linear-gradient(to right, rgba(0, 0, 0, 0.0001) 0%, rgba(0, 0, 0, 0.5) 100%);
  background-repeat: repeat-x;
  filter: progid:DXImageTransform.Microsoft.gradient(startColorstr='#00000000', endColorstr='#80000000', GradientType=1);
}
.carousel-control:hover,
.carousel-control:focus {
  outline: 0;
  color: #fff;
  text-decoration: none;
  opacity: 0.9;
  filter: alpha(opacity=90);
}
.carousel-control .icon-prev,
.carousel-control .icon-next,
.carousel-control .glyphicon-chevron-left,
.carousel-control .glyphicon-chevron-right {
  position: absolute;
  top: 50%;
  margin-top: -10px;
  z-index: 5;
  display: inline-block;
}
.carousel-control .icon-prev,
.carousel-control .glyphicon-chevron-left {
  left: 50%;
  margin-left: -10px;
}
.carousel-control .icon-next,
.carousel-control .glyphicon-chevron-right {
  right: 50%;
  margin-right: -10px;
}
.carousel-control .icon-prev,
.carousel-control .icon-next {
  width: 20px;
  height: 20px;
  line-height: 1;
  font-family: serif;
}
.carousel-control .icon-prev:before {
  content: '\2039';
}
.carousel-control .icon-next:before {
  content: '\203a';
}
.carousel-indicators {
  position: absolute;
  bottom: 10px;
  left: 50%;
  z-index: 15;
  width: 60%;
  margin-left: -30%;
  padding-left: 0;
  list-style: none;
  text-align: center;
}
.carousel-indicators li {
  display: inline-block;
  width: 10px;
  height: 10px;
  margin: 1px;
  text-indent: -999px;
  border: 1px solid #fff;
  border-radius: 10px;
  cursor: pointer;
  background-color: #000 \9;
  background-color: rgba(0, 0, 0, 0);
}
.carousel-indicators .active {
  margin: 0;
  width: 12px;
  height: 12px;
  background-color: #fff;
}
.carousel-caption {
  position: absolute;
  left: 15%;
  right: 15%;
  bottom: 20px;
  z-index: 10;
  padding-top: 20px;
  padding-bottom: 20px;
  color: #fff;
  text-align: center;
  text-shadow: 0 1px 2px rgba(0, 0, 0, 0.6);
}
.carousel-caption .btn {
  text-shadow: none;
}
@media screen and (min-width: 768px) {
  .carousel-control .glyphicon-chevron-left,
  .carousel-control .glyphicon-chevron-right,
  .carousel-control .icon-prev,
  .carousel-control .icon-next {
    width: 30px;
    height: 30px;
    margin-top: -10px;
    font-size: 30px;
  }
  .carousel-control .glyphicon-chevron-left,
  .carousel-control .icon-prev {
    margin-left: -10px;
  }
  .carousel-control .glyphicon-chevron-right,
  .carousel-control .icon-next {
    margin-right: -10px;
  }
  .carousel-caption {
    left: 20%;
    right: 20%;
    padding-bottom: 30px;
  }
  .carousel-indicators {
    bottom: 20px;
  }
}
.clearfix:before,
.clearfix:after,
.dl-horizontal dd:before,
.dl-horizontal dd:after,
.container:before,
.container:after,
.container-fluid:before,
.container-fluid:after,
.row:before,
.row:after,
.form-horizontal .form-group:before,
.form-horizontal .form-group:after,
.btn-toolbar:before,
.btn-toolbar:after,
.btn-group-vertical > .btn-group:before,
.btn-group-vertical > .btn-group:after,
.nav:before,
.nav:after,
.navbar:before,
.navbar:after,
.navbar-header:before,
.navbar-header:after,
.navbar-collapse:before,
.navbar-collapse:after,
.pager:before,
.pager:after,
.panel-body:before,
.panel-body:after,
.modal-header:before,
.modal-header:after,
.modal-footer:before,
.modal-footer:after,
.item_buttons:before,
.item_buttons:after {
  content: " ";
  display: table;
}
.clearfix:after,
.dl-horizontal dd:after,
.container:after,
.container-fluid:after,
.row:after,
.form-horizontal .form-group:after,
.btn-toolbar:after,
.btn-group-vertical > .btn-group:after,
.nav:after,
.navbar:after,
.navbar-header:after,
.navbar-collapse:after,
.pager:after,
.panel-body:after,
.modal-header:after,
.modal-footer:after,
.item_buttons:after {
  clear: both;
}
.center-block {
  display: block;
  margin-left: auto;
  margin-right: auto;
}
.pull-right {
  float: right !important;
}
.pull-left {
  float: left !important;
}
.hide {
  display: none !important;
}
.show {
  display: block !important;
}
.invisible {
  visibility: hidden;
}
.text-hide {
  font: 0/0 a;
  color: transparent;
  text-shadow: none;
  background-color: transparent;
  border: 0;
}
.hidden {
  display: none !important;
}
.affix {
  position: fixed;
}
@-ms-viewport {
  width: device-width;
}
.visible-xs,
.visible-sm,
.visible-md,
.visible-lg {
  display: none !important;
}
.visible-xs-block,
.visible-xs-inline,
.visible-xs-inline-block,
.visible-sm-block,
.visible-sm-inline,
.visible-sm-inline-block,
.visible-md-block,
.visible-md-inline,
.visible-md-inline-block,
.visible-lg-block,
.visible-lg-inline,
.visible-lg-inline-block {
  display: none !important;
}
@media (max-width: 767px) {
  .visible-xs {
    display: block !important;
  }
  table.visible-xs {
    display: table !important;
  }
  tr.visible-xs {
    display: table-row !important;
  }
  th.visible-xs,
  td.visible-xs {
    display: table-cell !important;
  }
}
@media (max-width: 767px) {
  .visible-xs-block {
    display: block !important;
  }
}
@media (max-width: 767px) {
  .visible-xs-inline {
    display: inline !important;
  }
}
@media (max-width: 767px) {
  .visible-xs-inline-block {
    display: inline-block !important;
  }
}
@media (min-width: 768px) and (max-width: 991px) {
  .visible-sm {
    display: block !important;
  }
  table.visible-sm {
    display: table !important;
  }
  tr.visible-sm {
    display: table-row !important;
  }
  th.visible-sm,
  td.visible-sm {
    display: table-cell !important;
  }
}
@media (min-width: 768px) and (max-width: 991px) {
  .visible-sm-block {
    display: block !important;
  }
}
@media (min-width: 768px) and (max-width: 991px) {
  .visible-sm-inline {
    display: inline !important;
  }
}
@media (min-width: 768px) and (max-width: 991px) {
  .visible-sm-inline-block {
    display: inline-block !important;
  }
}
@media (min-width: 992px) and (max-width: 1199px) {
  .visible-md {
    display: block !important;
  }
  table.visible-md {
    display: table !important;
  }
  tr.visible-md {
    display: table-row !important;
  }
  th.visible-md,
  td.visible-md {
    display: table-cell !important;
  }
}
@media (min-width: 992px) and (max-width: 1199px) {
  .visible-md-block {
    display: block !important;
  }
}
@media (min-width: 992px) and (max-width: 1199px) {
  .visible-md-inline {
    display: inline !important;
  }
}
@media (min-width: 992px) and (max-width: 1199px) {
  .visible-md-inline-block {
    display: inline-block !important;
  }
}
@media (min-width: 1200px) {
  .visible-lg {
    display: block !important;
  }
  table.visible-lg {
    display: table !important;
  }
  tr.visible-lg {
    display: table-row !important;
  }
  th.visible-lg,
  td.visible-lg {
    display: table-cell !important;
  }
}
@media (min-width: 1200px) {
  .visible-lg-block {
    display: block !important;
  }
}
@media (min-width: 1200px) {
  .visible-lg-inline {
    display: inline !important;
  }
}
@media (min-width: 1200px) {
  .visible-lg-inline-block {
    display: inline-block !important;
  }
}
@media (max-width: 767px) {
  .hidden-xs {
    display: none !important;
  }
}
@media (min-width: 768px) and (max-width: 991px) {
  .hidden-sm {
    display: none !important;
  }
}
@media (min-width: 992px) and (max-width: 1199px) {
  .hidden-md {
    display: none !important;
  }
}
@media (min-width: 1200px) {
  .hidden-lg {
    display: none !important;
  }
}
.visible-print {
  display: none !important;
}
@media print {
  .visible-print {
    display: block !important;
  }
  table.visible-print {
    display: table !important;
  }
  tr.visible-print {
    display: table-row !important;
  }
  th.visible-print,
  td.visible-print {
    display: table-cell !important;
  }
}
.visible-print-block {
  display: none !important;
}
@media print {
  .visible-print-block {
    display: block !important;
  }
}
.visible-print-inline {
  display: none !important;
}
@media print {
  .visible-print-inline {
    display: inline !important;
  }
}
.visible-print-inline-block {
  display: none !important;
}
@media print {
  .visible-print-inline-block {
    display: inline-block !important;
  }
}
@media print {
  .hidden-print {
    display: none !important;
  }
}
/*!
*
* Font Awesome
*
*/
/*!
 *  Font Awesome 4.2.0 by @davegandy - http://fontawesome.io - @fontawesome
 *  License - http://fontawesome.io/license (Font: SIL OFL 1.1, CSS: MIT License)
 */
/* FONT PATH
 * -------------------------- */
@font-face {
  font-family: 'FontAwesome';
  src: url('../components/font-awesome/fonts/fontawesome-webfont.eot?v=4.2.0');
  src: url('../components/font-awesome/fonts/fontawesome-webfont.eot?#iefix&v=4.2.0') format('embedded-opentype'), url('../components/font-awesome/fonts/fontawesome-webfont.woff?v=4.2.0') format('woff'), url('../components/font-awesome/fonts/fontawesome-webfont.ttf?v=4.2.0') format('truetype'), url('../components/font-awesome/fonts/fontawesome-webfont.svg?v=4.2.0#fontawesomeregular') format('svg');
  font-weight: normal;
  font-style: normal;
}
.fa {
  display: inline-block;
  font: normal normal normal 14px/1 FontAwesome;
  font-size: inherit;
  text-rendering: auto;
  -webkit-font-smoothing: antialiased;
  -moz-osx-font-smoothing: grayscale;
}
/* makes the font 33% larger relative to the icon container */
.fa-lg {
  font-size: 1.33333333em;
  line-height: 0.75em;
  vertical-align: -15%;
}
.fa-2x {
  font-size: 2em;
}
.fa-3x {
  font-size: 3em;
}
.fa-4x {
  font-size: 4em;
}
.fa-5x {
  font-size: 5em;
}
.fa-fw {
  width: 1.28571429em;
  text-align: center;
}
.fa-ul {
  padding-left: 0;
  margin-left: 2.14285714em;
  list-style-type: none;
}
.fa-ul > li {
  position: relative;
}
.fa-li {
  position: absolute;
  left: -2.14285714em;
  width: 2.14285714em;
  top: 0.14285714em;
  text-align: center;
}
.fa-li.fa-lg {
  left: -1.85714286em;
}
.fa-border {
  padding: .2em .25em .15em;
  border: solid 0.08em #eee;
  border-radius: .1em;
}
.pull-right {
  float: right;
}
.pull-left {
  float: left;
}
.fa.pull-left {
  margin-right: .3em;
}
.fa.pull-right {
  margin-left: .3em;
}
.fa-spin {
  -webkit-animation: fa-spin 2s infinite linear;
  animation: fa-spin 2s infinite linear;
}
@-webkit-keyframes fa-spin {
  0% {
    -webkit-transform: rotate(0deg);
    transform: rotate(0deg);
  }
  100% {
    -webkit-transform: rotate(359deg);
    transform: rotate(359deg);
  }
}
@keyframes fa-spin {
  0% {
    -webkit-transform: rotate(0deg);
    transform: rotate(0deg);
  }
  100% {
    -webkit-transform: rotate(359deg);
    transform: rotate(359deg);
  }
}
.fa-rotate-90 {
  filter: progid:DXImageTransform.Microsoft.BasicImage(rotation=1);
  -webkit-transform: rotate(90deg);
  -ms-transform: rotate(90deg);
  transform: rotate(90deg);
}
.fa-rotate-180 {
  filter: progid:DXImageTransform.Microsoft.BasicImage(rotation=2);
  -webkit-transform: rotate(180deg);
  -ms-transform: rotate(180deg);
  transform: rotate(180deg);
}
.fa-rotate-270 {
  filter: progid:DXImageTransform.Microsoft.BasicImage(rotation=3);
  -webkit-transform: rotate(270deg);
  -ms-transform: rotate(270deg);
  transform: rotate(270deg);
}
.fa-flip-horizontal {
  filter: progid:DXImageTransform.Microsoft.BasicImage(rotation=0, mirror=1);
  -webkit-transform: scale(-1, 1);
  -ms-transform: scale(-1, 1);
  transform: scale(-1, 1);
}
.fa-flip-vertical {
  filter: progid:DXImageTransform.Microsoft.BasicImage(rotation=2, mirror=1);
  -webkit-transform: scale(1, -1);
  -ms-transform: scale(1, -1);
  transform: scale(1, -1);
}
:root .fa-rotate-90,
:root .fa-rotate-180,
:root .fa-rotate-270,
:root .fa-flip-horizontal,
:root .fa-flip-vertical {
  filter: none;
}
.fa-stack {
  position: relative;
  display: inline-block;
  width: 2em;
  height: 2em;
  line-height: 2em;
  vertical-align: middle;
}
.fa-stack-1x,
.fa-stack-2x {
  position: absolute;
  left: 0;
  width: 100%;
  text-align: center;
}
.fa-stack-1x {
  line-height: inherit;
}
.fa-stack-2x {
  font-size: 2em;
}
.fa-inverse {
  color: #fff;
}
/* Font Awesome uses the Unicode Private Use Area (PUA) to ensure screen
   readers do not read off random characters that represent icons */
.fa-glass:before {
  content: "\f000";
}
.fa-music:before {
  content: "\f001";
}
.fa-search:before {
  content: "\f002";
}
.fa-envelope-o:before {
  content: "\f003";
}
.fa-heart:before {
  content: "\f004";
}
.fa-star:before {
  content: "\f005";
}
.fa-star-o:before {
  content: "\f006";
}
.fa-user:before {
  content: "\f007";
}
.fa-film:before {
  content: "\f008";
}
.fa-th-large:before {
  content: "\f009";
}
.fa-th:before {
  content: "\f00a";
}
.fa-th-list:before {
  content: "\f00b";
}
.fa-check:before {
  content: "\f00c";
}
.fa-remove:before,
.fa-close:before,
.fa-times:before {
  content: "\f00d";
}
.fa-search-plus:before {
  content: "\f00e";
}
.fa-search-minus:before {
  content: "\f010";
}
.fa-power-off:before {
  content: "\f011";
}
.fa-signal:before {
  content: "\f012";
}
.fa-gear:before,
.fa-cog:before {
  content: "\f013";
}
.fa-trash-o:before {
  content: "\f014";
}
.fa-home:before {
  content: "\f015";
}
.fa-file-o:before {
  content: "\f016";
}
.fa-clock-o:before {
  content: "\f017";
}
.fa-road:before {
  content: "\f018";
}
.fa-download:before {
  content: "\f019";
}
.fa-arrow-circle-o-down:before {
  content: "\f01a";
}
.fa-arrow-circle-o-up:before {
  content: "\f01b";
}
.fa-inbox:before {
  content: "\f01c";
}
.fa-play-circle-o:before {
  content: "\f01d";
}
.fa-rotate-right:before,
.fa-repeat:before {
  content: "\f01e";
}
.fa-refresh:before {
  content: "\f021";
}
.fa-list-alt:before {
  content: "\f022";
}
.fa-lock:before {
  content: "\f023";
}
.fa-flag:before {
  content: "\f024";
}
.fa-headphones:before {
  content: "\f025";
}
.fa-volume-off:before {
  content: "\f026";
}
.fa-volume-down:before {
  content: "\f027";
}
.fa-volume-up:before {
  content: "\f028";
}
.fa-qrcode:before {
  content: "\f029";
}
.fa-barcode:before {
  content: "\f02a";
}
.fa-tag:before {
  content: "\f02b";
}
.fa-tags:before {
  content: "\f02c";
}
.fa-book:before {
  content: "\f02d";
}
.fa-bookmark:before {
  content: "\f02e";
}
.fa-print:before {
  content: "\f02f";
}
.fa-camera:before {
  content: "\f030";
}
.fa-font:before {
  content: "\f031";
}
.fa-bold:before {
  content: "\f032";
}
.fa-italic:before {
  content: "\f033";
}
.fa-text-height:before {
  content: "\f034";
}
.fa-text-width:before {
  content: "\f035";
}
.fa-align-left:before {
  content: "\f036";
}
.fa-align-center:before {
  content: "\f037";
}
.fa-align-right:before {
  content: "\f038";
}
.fa-align-justify:before {
  content: "\f039";
}
.fa-list:before {
  content: "\f03a";
}
.fa-dedent:before,
.fa-outdent:before {
  content: "\f03b";
}
.fa-indent:before {
  content: "\f03c";
}
.fa-video-camera:before {
  content: "\f03d";
}
.fa-photo:before,
.fa-image:before,
.fa-picture-o:before {
  content: "\f03e";
}
.fa-pencil:before {
  content: "\f040";
}
.fa-map-marker:before {
  content: "\f041";
}
.fa-adjust:before {
  content: "\f042";
}
.fa-tint:before {
  content: "\f043";
}
.fa-edit:before,
.fa-pencil-square-o:before {
  content: "\f044";
}
.fa-share-square-o:before {
  content: "\f045";
}
.fa-check-square-o:before {
  content: "\f046";
}
.fa-arrows:before {
  content: "\f047";
}
.fa-step-backward:before {
  content: "\f048";
}
.fa-fast-backward:before {
  content: "\f049";
}
.fa-backward:before {
  content: "\f04a";
}
.fa-play:before {
  content: "\f04b";
}
.fa-pause:before {
  content: "\f04c";
}
.fa-stop:before {
  content: "\f04d";
}
.fa-forward:before {
  content: "\f04e";
}
.fa-fast-forward:before {
  content: "\f050";
}
.fa-step-forward:before {
  content: "\f051";
}
.fa-eject:before {
  content: "\f052";
}
.fa-chevron-left:before {
  content: "\f053";
}
.fa-chevron-right:before {
  content: "\f054";
}
.fa-plus-circle:before {
  content: "\f055";
}
.fa-minus-circle:before {
  content: "\f056";
}
.fa-times-circle:before {
  content: "\f057";
}
.fa-check-circle:before {
  content: "\f058";
}
.fa-question-circle:before {
  content: "\f059";
}
.fa-info-circle:before {
  content: "\f05a";
}
.fa-crosshairs:before {
  content: "\f05b";
}
.fa-times-circle-o:before {
  content: "\f05c";
}
.fa-check-circle-o:before {
  content: "\f05d";
}
.fa-ban:before {
  content: "\f05e";
}
.fa-arrow-left:before {
  content: "\f060";
}
.fa-arrow-right:before {
  content: "\f061";
}
.fa-arrow-up:before {
  content: "\f062";
}
.fa-arrow-down:before {
  content: "\f063";
}
.fa-mail-forward:before,
.fa-share:before {
  content: "\f064";
}
.fa-expand:before {
  content: "\f065";
}
.fa-compress:before {
  content: "\f066";
}
.fa-plus:before {
  content: "\f067";
}
.fa-minus:before {
  content: "\f068";
}
.fa-asterisk:before {
  content: "\f069";
}
.fa-exclamation-circle:before {
  content: "\f06a";
}
.fa-gift:before {
  content: "\f06b";
}
.fa-leaf:before {
  content: "\f06c";
}
.fa-fire:before {
  content: "\f06d";
}
.fa-eye:before {
  content: "\f06e";
}
.fa-eye-slash:before {
  content: "\f070";
}
.fa-warning:before,
.fa-exclamation-triangle:before {
  content: "\f071";
}
.fa-plane:before {
  content: "\f072";
}
.fa-calendar:before {
  content: "\f073";
}
.fa-random:before {
  content: "\f074";
}
.fa-comment:before {
  content: "\f075";
}
.fa-magnet:before {
  content: "\f076";
}
.fa-chevron-up:before {
  content: "\f077";
}
.fa-chevron-down:before {
  content: "\f078";
}
.fa-retweet:before {
  content: "\f079";
}
.fa-shopping-cart:before {
  content: "\f07a";
}
.fa-folder:before {
  content: "\f07b";
}
.fa-folder-open:before {
  content: "\f07c";
}
.fa-arrows-v:before {
  content: "\f07d";
}
.fa-arrows-h:before {
  content: "\f07e";
}
.fa-bar-chart-o:before,
.fa-bar-chart:before {
  content: "\f080";
}
.fa-twitter-square:before {
  content: "\f081";
}
.fa-facebook-square:before {
  content: "\f082";
}
.fa-camera-retro:before {
  content: "\f083";
}
.fa-key:before {
  content: "\f084";
}
.fa-gears:before,
.fa-cogs:before {
  content: "\f085";
}
.fa-comments:before {
  content: "\f086";
}
.fa-thumbs-o-up:before {
  content: "\f087";
}
.fa-thumbs-o-down:before {
  content: "\f088";
}
.fa-star-half:before {
  content: "\f089";
}
.fa-heart-o:before {
  content: "\f08a";
}
.fa-sign-out:before {
  content: "\f08b";
}
.fa-linkedin-square:before {
  content: "\f08c";
}
.fa-thumb-tack:before {
  content: "\f08d";
}
.fa-external-link:before {
  content: "\f08e";
}
.fa-sign-in:before {
  content: "\f090";
}
.fa-trophy:before {
  content: "\f091";
}
.fa-github-square:before {
  content: "\f092";
}
.fa-upload:before {
  content: "\f093";
}
.fa-lemon-o:before {
  content: "\f094";
}
.fa-phone:before {
  content: "\f095";
}
.fa-square-o:before {
  content: "\f096";
}
.fa-bookmark-o:before {
  content: "\f097";
}
.fa-phone-square:before {
  content: "\f098";
}
.fa-twitter:before {
  content: "\f099";
}
.fa-facebook:before {
  content: "\f09a";
}
.fa-github:before {
  content: "\f09b";
}
.fa-unlock:before {
  content: "\f09c";
}
.fa-credit-card:before {
  content: "\f09d";
}
.fa-rss:before {
  content: "\f09e";
}
.fa-hdd-o:before {
  content: "\f0a0";
}
.fa-bullhorn:before {
  content: "\f0a1";
}
.fa-bell:before {
  content: "\f0f3";
}
.fa-certificate:before {
  content: "\f0a3";
}
.fa-hand-o-right:before {
  content: "\f0a4";
}
.fa-hand-o-left:before {
  content: "\f0a5";
}
.fa-hand-o-up:before {
  content: "\f0a6";
}
.fa-hand-o-down:before {
  content: "\f0a7";
}
.fa-arrow-circle-left:before {
  content: "\f0a8";
}
.fa-arrow-circle-right:before {
  content: "\f0a9";
}
.fa-arrow-circle-up:before {
  content: "\f0aa";
}
.fa-arrow-circle-down:before {
  content: "\f0ab";
}
.fa-globe:before {
  content: "\f0ac";
}
.fa-wrench:before {
  content: "\f0ad";
}
.fa-tasks:before {
  content: "\f0ae";
}
.fa-filter:before {
  content: "\f0b0";
}
.fa-briefcase:before {
  content: "\f0b1";
}
.fa-arrows-alt:before {
  content: "\f0b2";
}
.fa-group:before,
.fa-users:before {
  content: "\f0c0";
}
.fa-chain:before,
.fa-link:before {
  content: "\f0c1";
}
.fa-cloud:before {
  content: "\f0c2";
}
.fa-flask:before {
  content: "\f0c3";
}
.fa-cut:before,
.fa-scissors:before {
  content: "\f0c4";
}
.fa-copy:before,
.fa-files-o:before {
  content: "\f0c5";
}
.fa-paperclip:before {
  content: "\f0c6";
}
.fa-save:before,
.fa-floppy-o:before {
  content: "\f0c7";
}
.fa-square:before {
  content: "\f0c8";
}
.fa-navicon:before,
.fa-reorder:before,
.fa-bars:before {
  content: "\f0c9";
}
.fa-list-ul:before {
  content: "\f0ca";
}
.fa-list-ol:before {
  content: "\f0cb";
}
.fa-strikethrough:before {
  content: "\f0cc";
}
.fa-underline:before {
  content: "\f0cd";
}
.fa-table:before {
  content: "\f0ce";
}
.fa-magic:before {
  content: "\f0d0";
}
.fa-truck:before {
  content: "\f0d1";
}
.fa-pinterest:before {
  content: "\f0d2";
}
.fa-pinterest-square:before {
  content: "\f0d3";
}
.fa-google-plus-square:before {
  content: "\f0d4";
}
.fa-google-plus:before {
  content: "\f0d5";
}
.fa-money:before {
  content: "\f0d6";
}
.fa-caret-down:before {
  content: "\f0d7";
}
.fa-caret-up:before {
  content: "\f0d8";
}
.fa-caret-left:before {
  content: "\f0d9";
}
.fa-caret-right:before {
  content: "\f0da";
}
.fa-columns:before {
  content: "\f0db";
}
.fa-unsorted:before,
.fa-sort:before {
  content: "\f0dc";
}
.fa-sort-down:before,
.fa-sort-desc:before {
  content: "\f0dd";
}
.fa-sort-up:before,
.fa-sort-asc:before {
  content: "\f0de";
}
.fa-envelope:before {
  content: "\f0e0";
}
.fa-linkedin:before {
  content: "\f0e1";
}
.fa-rotate-left:before,
.fa-undo:before {
  content: "\f0e2";
}
.fa-legal:before,
.fa-gavel:before {
  content: "\f0e3";
}
.fa-dashboard:before,
.fa-tachometer:before {
  content: "\f0e4";
}
.fa-comment-o:before {
  content: "\f0e5";
}
.fa-comments-o:before {
  content: "\f0e6";
}
.fa-flash:before,
.fa-bolt:before {
  content: "\f0e7";
}
.fa-sitemap:before {
  content: "\f0e8";
}
.fa-umbrella:before {
  content: "\f0e9";
}
.fa-paste:before,
.fa-clipboard:before {
  content: "\f0ea";
}
.fa-lightbulb-o:before {
  content: "\f0eb";
}
.fa-exchange:before {
  content: "\f0ec";
}
.fa-cloud-download:before {
  content: "\f0ed";
}
.fa-cloud-upload:before {
  content: "\f0ee";
}
.fa-user-md:before {
  content: "\f0f0";
}
.fa-stethoscope:before {
  content: "\f0f1";
}
.fa-suitcase:before {
  content: "\f0f2";
}
.fa-bell-o:before {
  content: "\f0a2";
}
.fa-coffee:before {
  content: "\f0f4";
}
.fa-cutlery:before {
  content: "\f0f5";
}
.fa-file-text-o:before {
  content: "\f0f6";
}
.fa-building-o:before {
  content: "\f0f7";
}
.fa-hospital-o:before {
  content: "\f0f8";
}
.fa-ambulance:before {
  content: "\f0f9";
}
.fa-medkit:before {
  content: "\f0fa";
}
.fa-fighter-jet:before {
  content: "\f0fb";
}
.fa-beer:before {
  content: "\f0fc";
}
.fa-h-square:before {
  content: "\f0fd";
}
.fa-plus-square:before {
  content: "\f0fe";
}
.fa-angle-double-left:before {
  content: "\f100";
}
.fa-angle-double-right:before {
  content: "\f101";
}
.fa-angle-double-up:before {
  content: "\f102";
}
.fa-angle-double-down:before {
  content: "\f103";
}
.fa-angle-left:before {
  content: "\f104";
}
.fa-angle-right:before {
  content: "\f105";
}
.fa-angle-up:before {
  content: "\f106";
}
.fa-angle-down:before {
  content: "\f107";
}
.fa-desktop:before {
  content: "\f108";
}
.fa-laptop:before {
  content: "\f109";
}
.fa-tablet:before {
  content: "\f10a";
}
.fa-mobile-phone:before,
.fa-mobile:before {
  content: "\f10b";
}
.fa-circle-o:before {
  content: "\f10c";
}
.fa-quote-left:before {
  content: "\f10d";
}
.fa-quote-right:before {
  content: "\f10e";
}
.fa-spinner:before {
  content: "\f110";
}
.fa-circle:before {
  content: "\f111";
}
.fa-mail-reply:before,
.fa-reply:before {
  content: "\f112";
}
.fa-github-alt:before {
  content: "\f113";
}
.fa-folder-o:before {
  content: "\f114";
}
.fa-folder-open-o:before {
  content: "\f115";
}
.fa-smile-o:before {
  content: "\f118";
}
.fa-frown-o:before {
  content: "\f119";
}
.fa-meh-o:before {
  content: "\f11a";
}
.fa-gamepad:before {
  content: "\f11b";
}
.fa-keyboard-o:before {
  content: "\f11c";
}
.fa-flag-o:before {
  content: "\f11d";
}
.fa-flag-checkered:before {
  content: "\f11e";
}
.fa-terminal:before {
  content: "\f120";
}
.fa-code:before {
  content: "\f121";
}
.fa-mail-reply-all:before,
.fa-reply-all:before {
  content: "\f122";
}
.fa-star-half-empty:before,
.fa-star-half-full:before,
.fa-star-half-o:before {
  content: "\f123";
}
.fa-location-arrow:before {
  content: "\f124";
}
.fa-crop:before {
  content: "\f125";
}
.fa-code-fork:before {
  content: "\f126";
}
.fa-unlink:before,
.fa-chain-broken:before {
  content: "\f127";
}
.fa-question:before {
  content: "\f128";
}
.fa-info:before {
  content: "\f129";
}
.fa-exclamation:before {
  content: "\f12a";
}
.fa-superscript:before {
  content: "\f12b";
}
.fa-subscript:before {
  content: "\f12c";
}
.fa-eraser:before {
  content: "\f12d";
}
.fa-puzzle-piece:before {
  content: "\f12e";
}
.fa-microphone:before {
  content: "\f130";
}
.fa-microphone-slash:before {
  content: "\f131";
}
.fa-shield:before {
  content: "\f132";
}
.fa-calendar-o:before {
  content: "\f133";
}
.fa-fire-extinguisher:before {
  content: "\f134";
}
.fa-rocket:before {
  content: "\f135";
}
.fa-maxcdn:before {
  content: "\f136";
}
.fa-chevron-circle-left:before {
  content: "\f137";
}
.fa-chevron-circle-right:before {
  content: "\f138";
}
.fa-chevron-circle-up:before {
  content: "\f139";
}
.fa-chevron-circle-down:before {
  content: "\f13a";
}
.fa-html5:before {
  content: "\f13b";
}
.fa-css3:before {
  content: "\f13c";
}
.fa-anchor:before {
  content: "\f13d";
}
.fa-unlock-alt:before {
  content: "\f13e";
}
.fa-bullseye:before {
  content: "\f140";
}
.fa-ellipsis-h:before {
  content: "\f141";
}
.fa-ellipsis-v:before {
  content: "\f142";
}
.fa-rss-square:before {
  content: "\f143";
}
.fa-play-circle:before {
  content: "\f144";
}
.fa-ticket:before {
  content: "\f145";
}
.fa-minus-square:before {
  content: "\f146";
}
.fa-minus-square-o:before {
  content: "\f147";
}
.fa-level-up:before {
  content: "\f148";
}
.fa-level-down:before {
  content: "\f149";
}
.fa-check-square:before {
  content: "\f14a";
}
.fa-pencil-square:before {
  content: "\f14b";
}
.fa-external-link-square:before {
  content: "\f14c";
}
.fa-share-square:before {
  content: "\f14d";
}
.fa-compass:before {
  content: "\f14e";
}
.fa-toggle-down:before,
.fa-caret-square-o-down:before {
  content: "\f150";
}
.fa-toggle-up:before,
.fa-caret-square-o-up:before {
  content: "\f151";
}
.fa-toggle-right:before,
.fa-caret-square-o-right:before {
  content: "\f152";
}
.fa-euro:before,
.fa-eur:before {
  content: "\f153";
}
.fa-gbp:before {
  content: "\f154";
}
.fa-dollar:before,
.fa-usd:before {
  content: "\f155";
}
.fa-rupee:before,
.fa-inr:before {
  content: "\f156";
}
.fa-cny:before,
.fa-rmb:before,
.fa-yen:before,
.fa-jpy:before {
  content: "\f157";
}
.fa-ruble:before,
.fa-rouble:before,
.fa-rub:before {
  content: "\f158";
}
.fa-won:before,
.fa-krw:before {
  content: "\f159";
}
.fa-bitcoin:before,
.fa-btc:before {
  content: "\f15a";
}
.fa-file:before {
  content: "\f15b";
}
.fa-file-text:before {
  content: "\f15c";
}
.fa-sort-alpha-asc:before {
  content: "\f15d";
}
.fa-sort-alpha-desc:before {
  content: "\f15e";
}
.fa-sort-amount-asc:before {
  content: "\f160";
}
.fa-sort-amount-desc:before {
  content: "\f161";
}
.fa-sort-numeric-asc:before {
  content: "\f162";
}
.fa-sort-numeric-desc:before {
  content: "\f163";
}
.fa-thumbs-up:before {
  content: "\f164";
}
.fa-thumbs-down:before {
  content: "\f165";
}
.fa-youtube-square:before {
  content: "\f166";
}
.fa-youtube:before {
  content: "\f167";
}
.fa-xing:before {
  content: "\f168";
}
.fa-xing-square:before {
  content: "\f169";
}
.fa-youtube-play:before {
  content: "\f16a";
}
.fa-dropbox:before {
  content: "\f16b";
}
.fa-stack-overflow:before {
  content: "\f16c";
}
.fa-instagram:before {
  content: "\f16d";
}
.fa-flickr:before {
  content: "\f16e";
}
.fa-adn:before {
  content: "\f170";
}
.fa-bitbucket:before {
  content: "\f171";
}
.fa-bitbucket-square:before {
  content: "\f172";
}
.fa-tumblr:before {
  content: "\f173";
}
.fa-tumblr-square:before {
  content: "\f174";
}
.fa-long-arrow-down:before {
  content: "\f175";
}
.fa-long-arrow-up:before {
  content: "\f176";
}
.fa-long-arrow-left:before {
  content: "\f177";
}
.fa-long-arrow-right:before {
  content: "\f178";
}
.fa-apple:before {
  content: "\f179";
}
.fa-windows:before {
  content: "\f17a";
}
.fa-android:before {
  content: "\f17b";
}
.fa-linux:before {
  content: "\f17c";
}
.fa-dribbble:before {
  content: "\f17d";
}
.fa-skype:before {
  content: "\f17e";
}
.fa-foursquare:before {
  content: "\f180";
}
.fa-trello:before {
  content: "\f181";
}
.fa-female:before {
  content: "\f182";
}
.fa-male:before {
  content: "\f183";
}
.fa-gittip:before {
  content: "\f184";
}
.fa-sun-o:before {
  content: "\f185";
}
.fa-moon-o:before {
  content: "\f186";
}
.fa-archive:before {
  content: "\f187";
}
.fa-bug:before {
  content: "\f188";
}
.fa-vk:before {
  content: "\f189";
}
.fa-weibo:before {
  content: "\f18a";
}
.fa-renren:before {
  content: "\f18b";
}
.fa-pagelines:before {
  content: "\f18c";
}
.fa-stack-exchange:before {
  content: "\f18d";
}
.fa-arrow-circle-o-right:before {
  content: "\f18e";
}
.fa-arrow-circle-o-left:before {
  content: "\f190";
}
.fa-toggle-left:before,
.fa-caret-square-o-left:before {
  content: "\f191";
}
.fa-dot-circle-o:before {
  content: "\f192";
}
.fa-wheelchair:before {
  content: "\f193";
}
.fa-vimeo-square:before {
  content: "\f194";
}
.fa-turkish-lira:before,
.fa-try:before {
  content: "\f195";
}
.fa-plus-square-o:before {
  content: "\f196";
}
.fa-space-shuttle:before {
  content: "\f197";
}
.fa-slack:before {
  content: "\f198";
}
.fa-envelope-square:before {
  content: "\f199";
}
.fa-wordpress:before {
  content: "\f19a";
}
.fa-openid:before {
  content: "\f19b";
}
.fa-institution:before,
.fa-bank:before,
.fa-university:before {
  content: "\f19c";
}
.fa-mortar-board:before,
.fa-graduation-cap:before {
  content: "\f19d";
}
.fa-yahoo:before {
  content: "\f19e";
}
.fa-google:before {
  content: "\f1a0";
}
.fa-reddit:before {
  content: "\f1a1";
}
.fa-reddit-square:before {
  content: "\f1a2";
}
.fa-stumbleupon-circle:before {
  content: "\f1a3";
}
.fa-stumbleupon:before {
  content: "\f1a4";
}
.fa-delicious:before {
  content: "\f1a5";
}
.fa-digg:before {
  content: "\f1a6";
}
.fa-pied-piper:before {
  content: "\f1a7";
}
.fa-pied-piper-alt:before {
  content: "\f1a8";
}
.fa-drupal:before {
  content: "\f1a9";
}
.fa-joomla:before {
  content: "\f1aa";
}
.fa-language:before {
  content: "\f1ab";
}
.fa-fax:before {
  content: "\f1ac";
}
.fa-building:before {
  content: "\f1ad";
}
.fa-child:before {
  content: "\f1ae";
}
.fa-paw:before {
  content: "\f1b0";
}
.fa-spoon:before {
  content: "\f1b1";
}
.fa-cube:before {
  content: "\f1b2";
}
.fa-cubes:before {
  content: "\f1b3";
}
.fa-behance:before {
  content: "\f1b4";
}
.fa-behance-square:before {
  content: "\f1b5";
}
.fa-steam:before {
  content: "\f1b6";
}
.fa-steam-square:before {
  content: "\f1b7";
}
.fa-recycle:before {
  content: "\f1b8";
}
.fa-automobile:before,
.fa-car:before {
  content: "\f1b9";
}
.fa-cab:before,
.fa-taxi:before {
  content: "\f1ba";
}
.fa-tree:before {
  content: "\f1bb";
}
.fa-spotify:before {
  content: "\f1bc";
}
.fa-deviantart:before {
  content: "\f1bd";
}
.fa-soundcloud:before {
  content: "\f1be";
}
.fa-database:before {
  content: "\f1c0";
}
.fa-file-pdf-o:before {
  content: "\f1c1";
}
.fa-file-word-o:before {
  content: "\f1c2";
}
.fa-file-excel-o:before {
  content: "\f1c3";
}
.fa-file-powerpoint-o:before {
  content: "\f1c4";
}
.fa-file-photo-o:before,
.fa-file-picture-o:before,
.fa-file-image-o:before {
  content: "\f1c5";
}
.fa-file-zip-o:before,
.fa-file-archive-o:before {
  content: "\f1c6";
}
.fa-file-sound-o:before,
.fa-file-audio-o:before {
  content: "\f1c7";
}
.fa-file-movie-o:before,
.fa-file-video-o:before {
  content: "\f1c8";
}
.fa-file-code-o:before {
  content: "\f1c9";
}
.fa-vine:before {
  content: "\f1ca";
}
.fa-codepen:before {
  content: "\f1cb";
}
.fa-jsfiddle:before {
  content: "\f1cc";
}
.fa-life-bouy:before,
.fa-life-buoy:before,
.fa-life-saver:before,
.fa-support:before,
.fa-life-ring:before {
  content: "\f1cd";
}
.fa-circle-o-notch:before {
  content: "\f1ce";
}
.fa-ra:before,
.fa-rebel:before {
  content: "\f1d0";
}
.fa-ge:before,
.fa-empire:before {
  content: "\f1d1";
}
.fa-git-square:before {
  content: "\f1d2";
}
.fa-git:before {
  content: "\f1d3";
}
.fa-hacker-news:before {
  content: "\f1d4";
}
.fa-tencent-weibo:before {
  content: "\f1d5";
}
.fa-qq:before {
  content: "\f1d6";
}
.fa-wechat:before,
.fa-weixin:before {
  content: "\f1d7";
}
.fa-send:before,
.fa-paper-plane:before {
  content: "\f1d8";
}
.fa-send-o:before,
.fa-paper-plane-o:before {
  content: "\f1d9";
}
.fa-history:before {
  content: "\f1da";
}
.fa-circle-thin:before {
  content: "\f1db";
}
.fa-header:before {
  content: "\f1dc";
}
.fa-paragraph:before {
  content: "\f1dd";
}
.fa-sliders:before {
  content: "\f1de";
}
.fa-share-alt:before {
  content: "\f1e0";
}
.fa-share-alt-square:before {
  content: "\f1e1";
}
.fa-bomb:before {
  content: "\f1e2";
}
.fa-soccer-ball-o:before,
.fa-futbol-o:before {
  content: "\f1e3";
}
.fa-tty:before {
  content: "\f1e4";
}
.fa-binoculars:before {
  content: "\f1e5";
}
.fa-plug:before {
  content: "\f1e6";
}
.fa-slideshare:before {
  content: "\f1e7";
}
.fa-twitch:before {
  content: "\f1e8";
}
.fa-yelp:before {
  content: "\f1e9";
}
.fa-newspaper-o:before {
  content: "\f1ea";
}
.fa-wifi:before {
  content: "\f1eb";
}
.fa-calculator:before {
  content: "\f1ec";
}
.fa-paypal:before {
  content: "\f1ed";
}
.fa-google-wallet:before {
  content: "\f1ee";
}
.fa-cc-visa:before {
  content: "\f1f0";
}
.fa-cc-mastercard:before {
  content: "\f1f1";
}
.fa-cc-discover:before {
  content: "\f1f2";
}
.fa-cc-amex:before {
  content: "\f1f3";
}
.fa-cc-paypal:before {
  content: "\f1f4";
}
.fa-cc-stripe:before {
  content: "\f1f5";
}
.fa-bell-slash:before {
  content: "\f1f6";
}
.fa-bell-slash-o:before {
  content: "\f1f7";
}
.fa-trash:before {
  content: "\f1f8";
}
.fa-copyright:before {
  content: "\f1f9";
}
.fa-at:before {
  content: "\f1fa";
}
.fa-eyedropper:before {
  content: "\f1fb";
}
.fa-paint-brush:before {
  content: "\f1fc";
}
.fa-birthday-cake:before {
  content: "\f1fd";
}
.fa-area-chart:before {
  content: "\f1fe";
}
.fa-pie-chart:before {
  content: "\f200";
}
.fa-line-chart:before {
  content: "\f201";
}
.fa-lastfm:before {
  content: "\f202";
}
.fa-lastfm-square:before {
  content: "\f203";
}
.fa-toggle-off:before {
  content: "\f204";
}
.fa-toggle-on:before {
  content: "\f205";
}
.fa-bicycle:before {
  content: "\f206";
}
.fa-bus:before {
  content: "\f207";
}
.fa-ioxhost:before {
  content: "\f208";
}
.fa-angellist:before {
  content: "\f209";
}
.fa-cc:before {
  content: "\f20a";
}
.fa-shekel:before,
.fa-sheqel:before,
.fa-ils:before {
  content: "\f20b";
}
.fa-meanpath:before {
  content: "\f20c";
}
/*!
*
* IPython base
*
*/
.modal.fade .modal-dialog {
  -webkit-transform: translate(0, 0);
  -ms-transform: translate(0, 0);
  -o-transform: translate(0, 0);
  transform: translate(0, 0);
}
code {
  color: #000;
}
pre {
  font-size: inherit;
  line-height: inherit;
}
label {
  font-weight: normal;
}
/* Make the page background atleast 100% the height of the view port */
/* Make the page itself atleast 70% the height of the view port */
.border-box-sizing {
  box-sizing: border-box;
  -moz-box-sizing: border-box;
  -webkit-box-sizing: border-box;
}
.corner-all {
  border-radius: 2px;
}
.no-padding {
  padding: 0px;
}
/* Flexible box model classes */
/* Taken from Alex Russell http://infrequently.org/2009/08/css-3-progress/ */
/* This file is a compatability layer.  It allows the usage of flexible box 
model layouts accross multiple browsers, including older browsers.  The newest,
universal implementation of the flexible box model is used when available (see
`Modern browsers` comments below).  Browsers that are known to implement this 
new spec completely include:

    Firefox 28.0+
    Chrome 29.0+
    Internet Explorer 11+ 
    Opera 17.0+

Browsers not listed, including Safari, are supported via the styling under the
`Old browsers` comments below.
*/
.hbox {
  /* Old browsers */
  display: -webkit-box;
  -webkit-box-orient: horizontal;
  -webkit-box-align: stretch;
  display: -moz-box;
  -moz-box-orient: horizontal;
  -moz-box-align: stretch;
  display: box;
  box-orient: horizontal;
  box-align: stretch;
  /* Modern browsers */
  display: flex;
  flex-direction: row;
  align-items: stretch;
}
.hbox > * {
  /* Old browsers */
  -webkit-box-flex: 0;
  -moz-box-flex: 0;
  box-flex: 0;
  /* Modern browsers */
  flex: none;
}
.vbox {
  /* Old browsers */
  display: -webkit-box;
  -webkit-box-orient: vertical;
  -webkit-box-align: stretch;
  display: -moz-box;
  -moz-box-orient: vertical;
  -moz-box-align: stretch;
  display: box;
  box-orient: vertical;
  box-align: stretch;
  /* Modern browsers */
  display: flex;
  flex-direction: column;
  align-items: stretch;
}
.vbox > * {
  /* Old browsers */
  -webkit-box-flex: 0;
  -moz-box-flex: 0;
  box-flex: 0;
  /* Modern browsers */
  flex: none;
}
.hbox.reverse,
.vbox.reverse,
.reverse {
  /* Old browsers */
  -webkit-box-direction: reverse;
  -moz-box-direction: reverse;
  box-direction: reverse;
  /* Modern browsers */
  flex-direction: row-reverse;
}
.hbox.box-flex0,
.vbox.box-flex0,
.box-flex0 {
  /* Old browsers */
  -webkit-box-flex: 0;
  -moz-box-flex: 0;
  box-flex: 0;
  /* Modern browsers */
  flex: none;
  width: auto;
}
.hbox.box-flex1,
.vbox.box-flex1,
.box-flex1 {
  /* Old browsers */
  -webkit-box-flex: 1;
  -moz-box-flex: 1;
  box-flex: 1;
  /* Modern browsers */
  flex: 1;
}
.hbox.box-flex,
.vbox.box-flex,
.box-flex {
  /* Old browsers */
  /* Old browsers */
  -webkit-box-flex: 1;
  -moz-box-flex: 1;
  box-flex: 1;
  /* Modern browsers */
  flex: 1;
}
.hbox.box-flex2,
.vbox.box-flex2,
.box-flex2 {
  /* Old browsers */
  -webkit-box-flex: 2;
  -moz-box-flex: 2;
  box-flex: 2;
  /* Modern browsers */
  flex: 2;
}
.box-group1 {
  /*  Deprecated */
  -webkit-box-flex-group: 1;
  -moz-box-flex-group: 1;
  box-flex-group: 1;
}
.box-group2 {
  /* Deprecated */
  -webkit-box-flex-group: 2;
  -moz-box-flex-group: 2;
  box-flex-group: 2;
}
.hbox.start,
.vbox.start,
.start {
  /* Old browsers */
  -webkit-box-pack: start;
  -moz-box-pack: start;
  box-pack: start;
  /* Modern browsers */
  justify-content: flex-start;
}
.hbox.end,
.vbox.end,
.end {
  /* Old browsers */
  -webkit-box-pack: end;
  -moz-box-pack: end;
  box-pack: end;
  /* Modern browsers */
  justify-content: flex-end;
}
.hbox.center,
.vbox.center,
.center {
  /* Old browsers */
  -webkit-box-pack: center;
  -moz-box-pack: center;
  box-pack: center;
  /* Modern browsers */
  justify-content: center;
}
.hbox.baseline,
.vbox.baseline,
.baseline {
  /* Old browsers */
  -webkit-box-pack: baseline;
  -moz-box-pack: baseline;
  box-pack: baseline;
  /* Modern browsers */
  justify-content: baseline;
}
.hbox.stretch,
.vbox.stretch,
.stretch {
  /* Old browsers */
  -webkit-box-pack: stretch;
  -moz-box-pack: stretch;
  box-pack: stretch;
  /* Modern browsers */
  justify-content: stretch;
}
.hbox.align-start,
.vbox.align-start,
.align-start {
  /* Old browsers */
  -webkit-box-align: start;
  -moz-box-align: start;
  box-align: start;
  /* Modern browsers */
  align-items: flex-start;
}
.hbox.align-end,
.vbox.align-end,
.align-end {
  /* Old browsers */
  -webkit-box-align: end;
  -moz-box-align: end;
  box-align: end;
  /* Modern browsers */
  align-items: flex-end;
}
.hbox.align-center,
.vbox.align-center,
.align-center {
  /* Old browsers */
  -webkit-box-align: center;
  -moz-box-align: center;
  box-align: center;
  /* Modern browsers */
  align-items: center;
}
.hbox.align-baseline,
.vbox.align-baseline,
.align-baseline {
  /* Old browsers */
  -webkit-box-align: baseline;
  -moz-box-align: baseline;
  box-align: baseline;
  /* Modern browsers */
  align-items: baseline;
}
.hbox.align-stretch,
.vbox.align-stretch,
.align-stretch {
  /* Old browsers */
  -webkit-box-align: stretch;
  -moz-box-align: stretch;
  box-align: stretch;
  /* Modern browsers */
  align-items: stretch;
}
div.error {
  margin: 2em;
  text-align: center;
}
div.error > h1 {
  font-size: 500%;
  line-height: normal;
}
div.error > p {
  font-size: 200%;
  line-height: normal;
}
div.traceback-wrapper {
  text-align: left;
  max-width: 800px;
  margin: auto;
}
/**
 * Primary styles
 *
 * Author: Jupyter Development Team
 */
body {
  background-color: #fff;
  /* This makes sure that the body covers the entire window and needs to
       be in a different element than the display: box in wrapper below */
  position: absolute;
  left: 0px;
  right: 0px;
  top: 0px;
  bottom: 0px;
  overflow: visible;
}
body > #header {
  /* Initially hidden to prevent FLOUC */
  display: none;
  background-color: #fff;
  /* Display over codemirror */
  position: relative;
  z-index: 100;
}
body > #header #header-container {
  padding-bottom: 5px;
  padding-top: 5px;
  box-sizing: border-box;
  -moz-box-sizing: border-box;
  -webkit-box-sizing: border-box;
}
body > #header .header-bar {
  width: 100%;
  height: 1px;
  background: #e7e7e7;
  margin-bottom: -1px;
}
@media print {
  body > #header {
    display: none !important;
  }
}
#header-spacer {
  width: 100%;
  visibility: hidden;
}
@media print {
  #header-spacer {
    display: none;
  }
}
#ipython_notebook {
  padding-left: 0px;
  padding-top: 1px;
  padding-bottom: 1px;
}
@media (max-width: 991px) {
  #ipython_notebook {
    margin-left: 10px;
  }
}
#noscript {
  width: auto;
  padding-top: 16px;
  padding-bottom: 16px;
  text-align: center;
  font-size: 22px;
  color: red;
  font-weight: bold;
}
#ipython_notebook img {
  height: 28px;
}
#site {
  width: 100%;
  display: none;
  box-sizing: border-box;
  -moz-box-sizing: border-box;
  -webkit-box-sizing: border-box;
  overflow: auto;
}
@media print {
  #site {
    height: auto !important;
  }
}
/* Smaller buttons */
.ui-button .ui-button-text {
  padding: 0.2em 0.8em;
  font-size: 77%;
}
input.ui-button {
  padding: 0.3em 0.9em;
}
span#login_widget {
  float: right;
}
span#login_widget > .button,
#logout {
  color: #333;
  background-color: #fff;
  border-color: #ccc;
}
span#login_widget > .button:focus,
#logout:focus,
span#login_widget > .button.focus,
#logout.focus {
  color: #333;
  background-color: #e6e6e6;
  border-color: #8c8c8c;
}
span#login_widget > .button:hover,
#logout:hover {
  color: #333;
  background-color: #e6e6e6;
  border-color: #adadad;
}
span#login_widget > .button:active,
#logout:active,
span#login_widget > .button.active,
#logout.active,
.open > .dropdown-togglespan#login_widget > .button,
.open > .dropdown-toggle#logout {
  color: #333;
  background-color: #e6e6e6;
  border-color: #adadad;
}
span#login_widget > .button:active:hover,
#logout:active:hover,
span#login_widget > .button.active:hover,
#logout.active:hover,
.open > .dropdown-togglespan#login_widget > .button:hover,
.open > .dropdown-toggle#logout:hover,
span#login_widget > .button:active:focus,
#logout:active:focus,
span#login_widget > .button.active:focus,
#logout.active:focus,
.open > .dropdown-togglespan#login_widget > .button:focus,
.open > .dropdown-toggle#logout:focus,
span#login_widget > .button:active.focus,
#logout:active.focus,
span#login_widget > .button.active.focus,
#logout.active.focus,
.open > .dropdown-togglespan#login_widget > .button.focus,
.open > .dropdown-toggle#logout.focus {
  color: #333;
  background-color: #d4d4d4;
  border-color: #8c8c8c;
}
span#login_widget > .button:active,
#logout:active,
span#login_widget > .button.active,
#logout.active,
.open > .dropdown-togglespan#login_widget > .button,
.open > .dropdown-toggle#logout {
  background-image: none;
}
span#login_widget > .button.disabled:hover,
#logout.disabled:hover,
span#login_widget > .button[disabled]:hover,
#logout[disabled]:hover,
fieldset[disabled] span#login_widget > .button:hover,
fieldset[disabled] #logout:hover,
span#login_widget > .button.disabled:focus,
#logout.disabled:focus,
span#login_widget > .button[disabled]:focus,
#logout[disabled]:focus,
fieldset[disabled] span#login_widget > .button:focus,
fieldset[disabled] #logout:focus,
span#login_widget > .button.disabled.focus,
#logout.disabled.focus,
span#login_widget > .button[disabled].focus,
#logout[disabled].focus,
fieldset[disabled] span#login_widget > .button.focus,
fieldset[disabled] #logout.focus {
  background-color: #fff;
  border-color: #ccc;
}
span#login_widget > .button .badge,
#logout .badge {
  color: #fff;
  background-color: #333;
}
.nav-header {
  text-transform: none;
}
#header > span {
  margin-top: 10px;
}
.modal_stretch .modal-dialog {
  /* Old browsers */
  display: -webkit-box;
  -webkit-box-orient: vertical;
  -webkit-box-align: stretch;
  display: -moz-box;
  -moz-box-orient: vertical;
  -moz-box-align: stretch;
  display: box;
  box-orient: vertical;
  box-align: stretch;
  /* Modern browsers */
  display: flex;
  flex-direction: column;
  align-items: stretch;
  min-height: 80vh;
}
.modal_stretch .modal-dialog .modal-body {
  max-height: calc(100vh - 200px);
  overflow: auto;
  flex: 1;
}
@media (min-width: 768px) {
  .modal .modal-dialog {
    width: 700px;
  }
}
@media (min-width: 768px) {
  select.form-control {
    margin-left: 12px;
    margin-right: 12px;
  }
}
/*!
*
* IPython auth
*
*/
.center-nav {
  display: inline-block;
  margin-bottom: -4px;
}
/*!
*
* IPython tree view
*
*/
/* We need an invisible input field on top of the sentense*/
/* "Drag file onto the list ..." */
.alternate_upload {
  background-color: none;
  display: inline;
}
.alternate_upload.form {
  padding: 0;
  margin: 0;
}
.alternate_upload input.fileinput {
  text-align: center;
  vertical-align: middle;
  display: inline;
  opacity: 0;
  z-index: 2;
  width: 12ex;
  margin-right: -12ex;
}
.alternate_upload .btn-upload {
  height: 22px;
}
/**
 * Primary styles
 *
 * Author: Jupyter Development Team
 */
ul#tabs {
  margin-bottom: 4px;
}
ul#tabs a {
  padding-top: 6px;
  padding-bottom: 4px;
}
ul.breadcrumb a:focus,
ul.breadcrumb a:hover {
  text-decoration: none;
}
ul.breadcrumb i.icon-home {
  font-size: 16px;
  margin-right: 4px;
}
ul.breadcrumb span {
  color: #5e5e5e;
}
.list_toolbar {
  padding: 4px 0 4px 0;
  vertical-align: middle;
}
.list_toolbar .tree-buttons {
  padding-top: 1px;
}
.dynamic-buttons {
  padding-top: 3px;
  display: inline-block;
}
.list_toolbar [class*="span"] {
  min-height: 24px;
}
.list_header {
  font-weight: bold;
  background-color: #EEE;
}
.list_placeholder {
  font-weight: bold;
  padding-top: 4px;
  padding-bottom: 4px;
  padding-left: 7px;
  padding-right: 7px;
}
.list_container {
  margin-top: 4px;
  margin-bottom: 20px;
  border: 1px solid #ddd;
  border-radius: 2px;
}
.list_container > div {
  border-bottom: 1px solid #ddd;
}
.list_container > div:hover .list-item {
  background-color: red;
}
.list_container > div:last-child {
  border: none;
}
.list_item:hover .list_item {
  background-color: #ddd;
}
.list_item a {
  text-decoration: none;
}
.list_item:hover {
  background-color: #fafafa;
}
.list_header > div,
.list_item > div {
  padding-top: 4px;
  padding-bottom: 4px;
  padding-left: 7px;
  padding-right: 7px;
  line-height: 22px;
}
.list_header > div input,
.list_item > div input {
  margin-right: 7px;
  margin-left: 14px;
  vertical-align: baseline;
  line-height: 22px;
  position: relative;
  top: -1px;
}
.list_header > div .item_link,
.list_item > div .item_link {
  margin-left: -1px;
  vertical-align: baseline;
  line-height: 22px;
}
.new-file input[type=checkbox] {
  visibility: hidden;
}
.item_name {
  line-height: 22px;
  height: 24px;
}
.item_icon {
  font-size: 14px;
  color: #5e5e5e;
  margin-right: 7px;
  margin-left: 7px;
  line-height: 22px;
  vertical-align: baseline;
}
.item_buttons {
  line-height: 1em;
  margin-left: -5px;
}
.item_buttons .btn,
.item_buttons .btn-group,
.item_buttons .input-group {
  float: left;
}
.item_buttons > .btn,
.item_buttons > .btn-group,
.item_buttons > .input-group {
  margin-left: 5px;
}
.item_buttons .btn {
  min-width: 13ex;
}
.item_buttons .running-indicator {
  padding-top: 4px;
  color: #5cb85c;
}
.item_buttons .kernel-name {
  padding-top: 4px;
  color: #5bc0de;
  margin-right: 7px;
  float: left;
}
.toolbar_info {
  height: 24px;
  line-height: 24px;
}
.list_item input:not([type=checkbox]) {
  padding-top: 3px;
  padding-bottom: 3px;
  height: 22px;
  line-height: 14px;
  margin: 0px;
}
.highlight_text {
  color: blue;
}
#project_name {
  display: inline-block;
  padding-left: 7px;
  margin-left: -2px;
}
#project_name > .breadcrumb {
  padding: 0px;
  margin-bottom: 0px;
  background-color: transparent;
  font-weight: bold;
}
#tree-selector {
  padding-right: 0px;
}
#button-select-all {
  min-width: 50px;
}
#select-all {
  margin-left: 7px;
  margin-right: 2px;
}
.menu_icon {
  margin-right: 2px;
}
.tab-content .row {
  margin-left: 0px;
  margin-right: 0px;
}
.folder_icon:before {
  display: inline-block;
  font: normal normal normal 14px/1 FontAwesome;
  font-size: inherit;
  text-rendering: auto;
  -webkit-font-smoothing: antialiased;
  -moz-osx-font-smoothing: grayscale;
  content: "\f114";
}
.folder_icon:before.pull-left {
  margin-right: .3em;
}
.folder_icon:before.pull-right {
  margin-left: .3em;
}
.notebook_icon:before {
  display: inline-block;
  font: normal normal normal 14px/1 FontAwesome;
  font-size: inherit;
  text-rendering: auto;
  -webkit-font-smoothing: antialiased;
  -moz-osx-font-smoothing: grayscale;
  content: "\f02d";
  position: relative;
  top: -1px;
}
.notebook_icon:before.pull-left {
  margin-right: .3em;
}
.notebook_icon:before.pull-right {
  margin-left: .3em;
}
.running_notebook_icon:before {
  display: inline-block;
  font: normal normal normal 14px/1 FontAwesome;
  font-size: inherit;
  text-rendering: auto;
  -webkit-font-smoothing: antialiased;
  -moz-osx-font-smoothing: grayscale;
  content: "\f02d";
  position: relative;
  top: -1px;
  color: #5cb85c;
}
.running_notebook_icon:before.pull-left {
  margin-right: .3em;
}
.running_notebook_icon:before.pull-right {
  margin-left: .3em;
}
.file_icon:before {
  display: inline-block;
  font: normal normal normal 14px/1 FontAwesome;
  font-size: inherit;
  text-rendering: auto;
  -webkit-font-smoothing: antialiased;
  -moz-osx-font-smoothing: grayscale;
  content: "\f016";
  position: relative;
  top: -2px;
}
.file_icon:before.pull-left {
  margin-right: .3em;
}
.file_icon:before.pull-right {
  margin-left: .3em;
}
#notebook_toolbar .pull-right {
  padding-top: 0px;
  margin-right: -1px;
}
ul#new-menu {
  left: auto;
  right: 0;
}
.kernel-menu-icon {
  padding-right: 12px;
  width: 24px;
  content: "\f096";
}
.kernel-menu-icon:before {
  content: "\f096";
}
.kernel-menu-icon-current:before {
  content: "\f00c";
}
#tab_content {
  padding-top: 20px;
}
#running .panel-group .panel {
  margin-top: 3px;
  margin-bottom: 1em;
}
#running .panel-group .panel .panel-heading {
  background-color: #EEE;
  padding-top: 4px;
  padding-bottom: 4px;
  padding-left: 7px;
  padding-right: 7px;
  line-height: 22px;
}
#running .panel-group .panel .panel-heading a:focus,
#running .panel-group .panel .panel-heading a:hover {
  text-decoration: none;
}
#running .panel-group .panel .panel-body {
  padding: 0px;
}
#running .panel-group .panel .panel-body .list_container {
  margin-top: 0px;
  margin-bottom: 0px;
  border: 0px;
  border-radius: 0px;
}
#running .panel-group .panel .panel-body .list_container .list_item {
  border-bottom: 1px solid #ddd;
}
#running .panel-group .panel .panel-body .list_container .list_item:last-child {
  border-bottom: 0px;
}
.delete-button {
  display: none;
}
.duplicate-button {
  display: none;
}
.rename-button {
  display: none;
}
.shutdown-button {
  display: none;
}
.dynamic-instructions {
  display: inline-block;
  padding-top: 4px;
}
/*!
*
* IPython text editor webapp
*
*/
.selected-keymap i.fa {
  padding: 0px 5px;
}
.selected-keymap i.fa:before {
  content: "\f00c";
}
#mode-menu {
  overflow: auto;
  max-height: 20em;
}
.edit_app #header {
  -webkit-box-shadow: 0px 0px 12px 1px rgba(87, 87, 87, 0.2);
  box-shadow: 0px 0px 12px 1px rgba(87, 87, 87, 0.2);
}
.edit_app #menubar .navbar {
  /* Use a negative 1 bottom margin, so the border overlaps the border of the
    header */
  margin-bottom: -1px;
}
.dirty-indicator {
  display: inline-block;
  font: normal normal normal 14px/1 FontAwesome;
  font-size: inherit;
  text-rendering: auto;
  -webkit-font-smoothing: antialiased;
  -moz-osx-font-smoothing: grayscale;
  width: 20px;
}
.dirty-indicator.pull-left {
  margin-right: .3em;
}
.dirty-indicator.pull-right {
  margin-left: .3em;
}
.dirty-indicator-dirty {
  display: inline-block;
  font: normal normal normal 14px/1 FontAwesome;
  font-size: inherit;
  text-rendering: auto;
  -webkit-font-smoothing: antialiased;
  -moz-osx-font-smoothing: grayscale;
  width: 20px;
}
.dirty-indicator-dirty.pull-left {
  margin-right: .3em;
}
.dirty-indicator-dirty.pull-right {
  margin-left: .3em;
}
.dirty-indicator-clean {
  display: inline-block;
  font: normal normal normal 14px/1 FontAwesome;
  font-size: inherit;
  text-rendering: auto;
  -webkit-font-smoothing: antialiased;
  -moz-osx-font-smoothing: grayscale;
  width: 20px;
}
.dirty-indicator-clean.pull-left {
  margin-right: .3em;
}
.dirty-indicator-clean.pull-right {
  margin-left: .3em;
}
.dirty-indicator-clean:before {
  display: inline-block;
  font: normal normal normal 14px/1 FontAwesome;
  font-size: inherit;
  text-rendering: auto;
  -webkit-font-smoothing: antialiased;
  -moz-osx-font-smoothing: grayscale;
  content: "\f00c";
}
.dirty-indicator-clean:before.pull-left {
  margin-right: .3em;
}
.dirty-indicator-clean:before.pull-right {
  margin-left: .3em;
}
#filename {
  font-size: 16pt;
  display: table;
  padding: 0px 5px;
}
#current-mode {
  padding-left: 5px;
  padding-right: 5px;
}
#texteditor-backdrop {
  padding-top: 20px;
  padding-bottom: 20px;
}
@media not print {
  #texteditor-backdrop {
    background-color: #EEE;
  }
}
@media print {
  #texteditor-backdrop #texteditor-container .CodeMirror-gutter,
  #texteditor-backdrop #texteditor-container .CodeMirror-gutters {
    background-color: #fff;
  }
}
@media not print {
  #texteditor-backdrop #texteditor-container .CodeMirror-gutter,
  #texteditor-backdrop #texteditor-container .CodeMirror-gutters {
    background-color: #fff;
  }
}
@media not print {
  #texteditor-backdrop #texteditor-container {
    padding: 0px;
    background-color: #fff;
    -webkit-box-shadow: 0px 0px 12px 1px rgba(87, 87, 87, 0.2);
    box-shadow: 0px 0px 12px 1px rgba(87, 87, 87, 0.2);
  }
}
/*!
*
* IPython notebook
*
*/
/* CSS font colors for translated ANSI colors. */
.ansibold {
  font-weight: bold;
}
/* use dark versions for foreground, to improve visibility */
.ansiblack {
  color: black;
}
.ansired {
  color: darkred;
}
.ansigreen {
  color: darkgreen;
}
.ansiyellow {
  color: #c4a000;
}
.ansiblue {
  color: darkblue;
}
.ansipurple {
  color: darkviolet;
}
.ansicyan {
  color: steelblue;
}
.ansigray {
  color: gray;
}
/* and light for background, for the same reason */
.ansibgblack {
  background-color: black;
}
.ansibgred {
  background-color: red;
}
.ansibggreen {
  background-color: green;
}
.ansibgyellow {
  background-color: yellow;
}
.ansibgblue {
  background-color: blue;
}
.ansibgpurple {
  background-color: magenta;
}
.ansibgcyan {
  background-color: cyan;
}
.ansibggray {
  background-color: gray;
}
div.cell {
  /* Old browsers */
  display: -webkit-box;
  -webkit-box-orient: vertical;
  -webkit-box-align: stretch;
  display: -moz-box;
  -moz-box-orient: vertical;
  -moz-box-align: stretch;
  display: box;
  box-orient: vertical;
  box-align: stretch;
  /* Modern browsers */
  display: flex;
  flex-direction: column;
  align-items: stretch;
  border-radius: 2px;
  box-sizing: border-box;
  -moz-box-sizing: border-box;
  -webkit-box-sizing: border-box;
  border-width: 1px;
  border-style: solid;
  border-color: transparent;
  width: 100%;
  padding: 5px;
  /* This acts as a spacer between cells, that is outside the border */
  margin: 0px;
  outline: none;
  border-left-width: 1px;
  padding-left: 5px;
  background: linear-gradient(to right, transparent -40px, transparent 1px, transparent 1px, transparent 100%);
}
div.cell.jupyter-soft-selected {
  border-left-color: #90CAF9;
  border-left-color: #E3F2FD;
  border-left-width: 1px;
  padding-left: 5px;
  border-right-color: #E3F2FD;
  border-right-width: 1px;
  background: #E3F2FD;
}
@media print {
  div.cell.jupyter-soft-selected {
    border-color: transparent;
  }
}
div.cell.selected {
  border-color: #ababab;
  border-left-width: 0px;
  padding-left: 6px;
  background: linear-gradient(to right, #42A5F5 -40px, #42A5F5 5px, transparent 5px, transparent 100%);
}
@media print {
  div.cell.selected {
    border-color: transparent;
  }
}
div.cell.selected.jupyter-soft-selected {
  border-left-width: 0;
  padding-left: 6px;
  background: linear-gradient(to right, #42A5F5 -40px, #42A5F5 7px, #E3F2FD 7px, #E3F2FD 100%);
}
.edit_mode div.cell.selected {
  border-color: #66BB6A;
  border-left-width: 0px;
  padding-left: 6px;
  background: linear-gradient(to right, #66BB6A -40px, #66BB6A 5px, transparent 5px, transparent 100%);
}
@media print {
  .edit_mode div.cell.selected {
    border-color: transparent;
  }
}
.prompt {
  /* This needs to be wide enough for 3 digit prompt numbers: In[100]: */
  min-width: 14ex;
  /* This padding is tuned to match the padding on the CodeMirror editor. */
  padding: 0.4em;
  margin: 0px;
  font-family: monospace;
  text-align: right;
  /* This has to match that of the the CodeMirror class line-height below */
  line-height: 1.21429em;
  /* Don't highlight prompt number selection */
  -webkit-touch-callout: none;
  -webkit-user-select: none;
  -khtml-user-select: none;
  -moz-user-select: none;
  -ms-user-select: none;
  user-select: none;
  /* Use default cursor */
  cursor: default;
}
@media (max-width: 540px) {
  .prompt {
    text-align: left;
  }
}
div.inner_cell {
  /* Old browsers */
  display: -webkit-box;
  -webkit-box-orient: vertical;
  -webkit-box-align: stretch;
  display: -moz-box;
  -moz-box-orient: vertical;
  -moz-box-align: stretch;
  display: box;
  box-orient: vertical;
  box-align: stretch;
  /* Modern browsers */
  display: flex;
  flex-direction: column;
  align-items: stretch;
  /* Old browsers */
  -webkit-box-flex: 1;
  -moz-box-flex: 1;
  box-flex: 1;
  /* Modern browsers */
  flex: 1;
}
@-moz-document url-prefix() {
  div.inner_cell {
    overflow-x: hidden;
  }
}
/* input_area and input_prompt must match in top border and margin for alignment */
div.input_area {
  border: 1px solid #cfcfcf;
  border-radius: 2px;
  background: #f7f7f7;
  line-height: 1.21429em;
}
/* This is needed so that empty prompt areas can collapse to zero height when there
   is no content in the output_subarea and the prompt. The main purpose of this is
   to make sure that empty JavaScript output_subareas have no height. */
div.prompt:empty {
  padding-top: 0;
  padding-bottom: 0;
}
div.unrecognized_cell {
  padding: 5px 5px 5px 0px;
  /* Old browsers */
  display: -webkit-box;
  -webkit-box-orient: horizontal;
  -webkit-box-align: stretch;
  display: -moz-box;
  -moz-box-orient: horizontal;
  -moz-box-align: stretch;
  display: box;
  box-orient: horizontal;
  box-align: stretch;
  /* Modern browsers */
  display: flex;
  flex-direction: row;
  align-items: stretch;
}
div.unrecognized_cell .inner_cell {
  border-radius: 2px;
  padding: 5px;
  font-weight: bold;
  color: red;
  border: 1px solid #cfcfcf;
  background: #eaeaea;
}
div.unrecognized_cell .inner_cell a {
  color: inherit;
  text-decoration: none;
}
div.unrecognized_cell .inner_cell a:hover {
  color: inherit;
  text-decoration: none;
}
@media (max-width: 540px) {
  div.unrecognized_cell > div.prompt {
    display: none;
  }
}
div.code_cell {
  /* avoid page breaking on code cells when printing */
}
@media print {
  div.code_cell {
    page-break-inside: avoid;
  }
}
/* any special styling for code cells that are currently running goes here */
div.input {
  page-break-inside: avoid;
  /* Old browsers */
  display: -webkit-box;
  -webkit-box-orient: horizontal;
  -webkit-box-align: stretch;
  display: -moz-box;
  -moz-box-orient: horizontal;
  -moz-box-align: stretch;
  display: box;
  box-orient: horizontal;
  box-align: stretch;
  /* Modern browsers */
  display: flex;
  flex-direction: row;
  align-items: stretch;
}
@media (max-width: 540px) {
  div.input {
    /* Old browsers */
    display: -webkit-box;
    -webkit-box-orient: vertical;
    -webkit-box-align: stretch;
    display: -moz-box;
    -moz-box-orient: vertical;
    -moz-box-align: stretch;
    display: box;
    box-orient: vertical;
    box-align: stretch;
    /* Modern browsers */
    display: flex;
    flex-direction: column;
    align-items: stretch;
  }
}
/* input_area and input_prompt must match in top border and margin for alignment */
div.input_prompt {
  color: #303F9F;
  border-top: 1px solid transparent;
}
div.input_area > div.highlight {
  margin: 0.4em;
  border: none;
  padding: 0px;
  background-color: transparent;
}
div.input_area > div.highlight > pre {
  margin: 0px;
  border: none;
  padding: 0px;
  background-color: transparent;
}
/* The following gets added to the <head> if it is detected that the user has a
 * monospace font with inconsistent normal/bold/italic height.  See
 * notebookmain.js.  Such fonts will have keywords vertically offset with
 * respect to the rest of the text.  The user should select a better font.
 * See: https://github.com/ipython/ipython/issues/1503
 *
 * .CodeMirror span {
 *      vertical-align: bottom;
 * }
 */
.CodeMirror {
  line-height: 1.21429em;
  /* Changed from 1em to our global default */
  font-size: 14px;
  height: auto;
  /* Changed to auto to autogrow */
  background: none;
  /* Changed from white to allow our bg to show through */
}
.CodeMirror-scroll {
  /*  The CodeMirror docs are a bit fuzzy on if overflow-y should be hidden or visible.*/
  /*  We have found that if it is visible, vertical scrollbars appear with font size changes.*/
  overflow-y: hidden;
  overflow-x: auto;
}
.CodeMirror-lines {
  /* In CM2, this used to be 0.4em, but in CM3 it went to 4px. We need the em value because */
  /* we have set a different line-height and want this to scale with that. */
  padding: 0.4em;
}
.CodeMirror-linenumber {
  padding: 0 8px 0 4px;
}
.CodeMirror-gutters {
  border-bottom-left-radius: 2px;
  border-top-left-radius: 2px;
}
.CodeMirror pre {
  /* In CM3 this went to 4px from 0 in CM2. We need the 0 value because of how we size */
  /* .CodeMirror-lines */
  padding: 0;
  border: 0;
  border-radius: 0;
}
/*

Original style from softwaremaniacs.org (c) Ivan Sagalaev <Maniac@SoftwareManiacs.Org>
Adapted from GitHub theme

*/
.highlight-base {
  color: #000;
}
.highlight-variable {
  color: #000;
}
.highlight-variable-2 {
  color: #1a1a1a;
}
.highlight-variable-3 {
  color: #333333;
}
.highlight-string {
  color: #BA2121;
}
.highlight-comment {
  color: #408080;
  font-style: italic;
}
.highlight-number {
  color: #080;
}
.highlight-atom {
  color: #88F;
}
.highlight-keyword {
  color: #008000;
  font-weight: bold;
}
.highlight-builtin {
  color: #008000;
}
.highlight-error {
  color: #f00;
}
.highlight-operator {
  color: #AA22FF;
  font-weight: bold;
}
.highlight-meta {
  color: #AA22FF;
}
/* previously not defined, copying from default codemirror */
.highlight-def {
  color: #00f;
}
.highlight-string-2 {
  color: #f50;
}
.highlight-qualifier {
  color: #555;
}
.highlight-bracket {
  color: #997;
}
.highlight-tag {
  color: #170;
}
.highlight-attribute {
  color: #00c;
}
.highlight-header {
  color: blue;
}
.highlight-quote {
  color: #090;
}
.highlight-link {
  color: #00c;
}
/* apply the same style to codemirror */
.cm-s-ipython span.cm-keyword {
  color: #008000;
  font-weight: bold;
}
.cm-s-ipython span.cm-atom {
  color: #88F;
}
.cm-s-ipython span.cm-number {
  color: #080;
}
.cm-s-ipython span.cm-def {
  color: #00f;
}
.cm-s-ipython span.cm-variable {
  color: #000;
}
.cm-s-ipython span.cm-operator {
  color: #AA22FF;
  font-weight: bold;
}
.cm-s-ipython span.cm-variable-2 {
  color: #1a1a1a;
}
.cm-s-ipython span.cm-variable-3 {
  color: #333333;
}
.cm-s-ipython span.cm-comment {
  color: #408080;
  font-style: italic;
}
.cm-s-ipython span.cm-string {
  color: #BA2121;
}
.cm-s-ipython span.cm-string-2 {
  color: #f50;
}
.cm-s-ipython span.cm-meta {
  color: #AA22FF;
}
.cm-s-ipython span.cm-qualifier {
  color: #555;
}
.cm-s-ipython span.cm-builtin {
  color: #008000;
}
.cm-s-ipython span.cm-bracket {
  color: #997;
}
.cm-s-ipython span.cm-tag {
  color: #170;
}
.cm-s-ipython span.cm-attribute {
  color: #00c;
}
.cm-s-ipython span.cm-header {
  color: blue;
}
.cm-s-ipython span.cm-quote {
  color: #090;
}
.cm-s-ipython span.cm-link {
  color: #00c;
}
.cm-s-ipython span.cm-error {
  color: #f00;
}
.cm-s-ipython span.cm-tab {
  background: url(data:image/png;base64,iVBORw0KGgoAAAANSUhEUgAAADAAAAAMCAYAAAAkuj5RAAAAAXNSR0IArs4c6QAAAGFJREFUSMft1LsRQFAQheHPowAKoACx3IgEKtaEHujDjORSgWTH/ZOdnZOcM/sgk/kFFWY0qV8foQwS4MKBCS3qR6ixBJvElOobYAtivseIE120FaowJPN75GMu8j/LfMwNjh4HUpwg4LUAAAAASUVORK5CYII=);
  background-position: right;
  background-repeat: no-repeat;
}
div.output_wrapper {
  /* this position must be relative to enable descendents to be absolute within it */
  position: relative;
  /* Old browsers */
  display: -webkit-box;
  -webkit-box-orient: vertical;
  -webkit-box-align: stretch;
  display: -moz-box;
  -moz-box-orient: vertical;
  -moz-box-align: stretch;
  display: box;
  box-orient: vertical;
  box-align: stretch;
  /* Modern browsers */
  display: flex;
  flex-direction: column;
  align-items: stretch;
  z-index: 1;
}
/* class for the output area when it should be height-limited */
div.output_scroll {
  /* ideally, this would be max-height, but FF barfs all over that */
  height: 24em;
  /* FF needs this *and the wrapper* to specify full width, or it will shrinkwrap */
  width: 100%;
  overflow: auto;
  border-radius: 2px;
  -webkit-box-shadow: inset 0 2px 8px rgba(0, 0, 0, 0.8);
  box-shadow: inset 0 2px 8px rgba(0, 0, 0, 0.8);
  display: block;
}
/* output div while it is collapsed */
div.output_collapsed {
  margin: 0px;
  padding: 0px;
  /* Old browsers */
  display: -webkit-box;
  -webkit-box-orient: vertical;
  -webkit-box-align: stretch;
  display: -moz-box;
  -moz-box-orient: vertical;
  -moz-box-align: stretch;
  display: box;
  box-orient: vertical;
  box-align: stretch;
  /* Modern browsers */
  display: flex;
  flex-direction: column;
  align-items: stretch;
}
div.out_prompt_overlay {
  height: 100%;
  padding: 0px 0.4em;
  position: absolute;
  border-radius: 2px;
}
div.out_prompt_overlay:hover {
  /* use inner shadow to get border that is computed the same on WebKit/FF */
  -webkit-box-shadow: inset 0 0 1px #000;
  box-shadow: inset 0 0 1px #000;
  background: rgba(240, 240, 240, 0.5);
}
div.output_prompt {
  color: #D84315;
}
/* This class is the outer container of all output sections. */
div.output_area {
  padding: 0px;
  page-break-inside: avoid;
  /* Old browsers */
  display: -webkit-box;
  -webkit-box-orient: horizontal;
  -webkit-box-align: stretch;
  display: -moz-box;
  -moz-box-orient: horizontal;
  -moz-box-align: stretch;
  display: box;
  box-orient: horizontal;
  box-align: stretch;
  /* Modern browsers */
  display: flex;
  flex-direction: row;
  align-items: stretch;
}
div.output_area .MathJax_Display {
  text-align: left !important;
}
div.output_area .rendered_html table {
  margin-left: 0;
  margin-right: 0;
}
div.output_area .rendered_html img {
  margin-left: 0;
  margin-right: 0;
}
div.output_area img,
div.output_area svg {
  max-width: 100%;
  height: auto;
}
div.output_area img.unconfined,
div.output_area svg.unconfined {
  max-width: none;
}
/* This is needed to protect the pre formating from global settings such
   as that of bootstrap */
.output {
  /* Old browsers */
  display: -webkit-box;
  -webkit-box-orient: vertical;
  -webkit-box-align: stretch;
  display: -moz-box;
  -moz-box-orient: vertical;
  -moz-box-align: stretch;
  display: box;
  box-orient: vertical;
  box-align: stretch;
  /* Modern browsers */
  display: flex;
  flex-direction: column;
  align-items: stretch;
}
@media (max-width: 540px) {
  div.output_area {
    /* Old browsers */
    display: -webkit-box;
    -webkit-box-orient: vertical;
    -webkit-box-align: stretch;
    display: -moz-box;
    -moz-box-orient: vertical;
    -moz-box-align: stretch;
    display: box;
    box-orient: vertical;
    box-align: stretch;
    /* Modern browsers */
    display: flex;
    flex-direction: column;
    align-items: stretch;
  }
}
div.output_area pre {
  margin: 0;
  padding: 0;
  border: 0;
  vertical-align: baseline;
  color: black;
  background-color: transparent;
  border-radius: 0;
}
/* This class is for the output subarea inside the output_area and after
   the prompt div. */
div.output_subarea {
  overflow-x: auto;
  padding: 0.4em;
  /* Old browsers */
  -webkit-box-flex: 1;
  -moz-box-flex: 1;
  box-flex: 1;
  /* Modern browsers */
  flex: 1;
  max-width: calc(100% - 14ex);
}
div.output_scroll div.output_subarea {
  overflow-x: visible;
}
/* The rest of the output_* classes are for special styling of the different
   output types */
/* all text output has this class: */
div.output_text {
  text-align: left;
  color: #000;
  /* This has to match that of the the CodeMirror class line-height below */
  line-height: 1.21429em;
}
/* stdout/stderr are 'text' as well as 'stream', but execute_result/error are *not* streams */
div.output_stderr {
  background: #fdd;
  /* very light red background for stderr */
}
div.output_latex {
  text-align: left;
}
/* Empty output_javascript divs should have no height */
div.output_javascript:empty {
  padding: 0;
}
.js-error {
  color: darkred;
}
/* raw_input styles */
div.raw_input_container {
  line-height: 1.21429em;
  padding-top: 5px;
}
pre.raw_input_prompt {
  /* nothing needed here. */
}
input.raw_input {
  font-family: monospace;
  font-size: inherit;
  color: inherit;
  width: auto;
  /* make sure input baseline aligns with prompt */
  vertical-align: baseline;
  /* padding + margin = 0.5em between prompt and cursor */
  padding: 0em 0.25em;
  margin: 0em 0.25em;
}
input.raw_input:focus {
  box-shadow: none;
}
p.p-space {
  margin-bottom: 10px;
}
div.output_unrecognized {
  padding: 5px;
  font-weight: bold;
  color: red;
}
div.output_unrecognized a {
  color: inherit;
  text-decoration: none;
}
div.output_unrecognized a:hover {
  color: inherit;
  text-decoration: none;
}
.rendered_html {
  color: #000;
  /* any extras will just be numbers: */
}
.rendered_html em {
  font-style: italic;
}
.rendered_html strong {
  font-weight: bold;
}
.rendered_html u {
  text-decoration: underline;
}
.rendered_html :link {
  text-decoration: underline;
}
.rendered_html :visited {
  text-decoration: underline;
}
.rendered_html h1 {
  font-size: 185.7%;
  margin: 1.08em 0 0 0;
  font-weight: bold;
  line-height: 1.0;
}
.rendered_html h2 {
  font-size: 157.1%;
  margin: 1.27em 0 0 0;
  font-weight: bold;
  line-height: 1.0;
}
.rendered_html h3 {
  font-size: 128.6%;
  margin: 1.55em 0 0 0;
  font-weight: bold;
  line-height: 1.0;
}
.rendered_html h4 {
  font-size: 100%;
  margin: 2em 0 0 0;
  font-weight: bold;
  line-height: 1.0;
}
.rendered_html h5 {
  font-size: 100%;
  margin: 2em 0 0 0;
  font-weight: bold;
  line-height: 1.0;
  font-style: italic;
}
.rendered_html h6 {
  font-size: 100%;
  margin: 2em 0 0 0;
  font-weight: bold;
  line-height: 1.0;
  font-style: italic;
}
.rendered_html h1:first-child {
  margin-top: 0.538em;
}
.rendered_html h2:first-child {
  margin-top: 0.636em;
}
.rendered_html h3:first-child {
  margin-top: 0.777em;
}
.rendered_html h4:first-child {
  margin-top: 1em;
}
.rendered_html h5:first-child {
  margin-top: 1em;
}
.rendered_html h6:first-child {
  margin-top: 1em;
}
.rendered_html ul {
  list-style: disc;
  margin: 0em 2em;
  padding-left: 0px;
}
.rendered_html ul ul {
  list-style: square;
  margin: 0em 2em;
}
.rendered_html ul ul ul {
  list-style: circle;
  margin: 0em 2em;
}
.rendered_html ol {
  list-style: decimal;
  margin: 0em 2em;
  padding-left: 0px;
}
.rendered_html ol ol {
  list-style: upper-alpha;
  margin: 0em 2em;
}
.rendered_html ol ol ol {
  list-style: lower-alpha;
  margin: 0em 2em;
}
.rendered_html ol ol ol ol {
  list-style: lower-roman;
  margin: 0em 2em;
}
.rendered_html ol ol ol ol ol {
  list-style: decimal;
  margin: 0em 2em;
}
.rendered_html * + ul {
  margin-top: 1em;
}
.rendered_html * + ol {
  margin-top: 1em;
}
.rendered_html hr {
  color: black;
  background-color: black;
}
.rendered_html pre {
  margin: 1em 2em;
}
.rendered_html pre,
.rendered_html code {
  border: 0;
  background-color: #fff;
  color: #000;
  font-size: 100%;
  padding: 0px;
}
.rendered_html blockquote {
  margin: 1em 2em;
}
.rendered_html table {
  margin-left: auto;
  margin-right: auto;
  border: 1px solid black;
  border-collapse: collapse;
}
.rendered_html tr,
.rendered_html th,
.rendered_html td {
  border: 1px solid black;
  border-collapse: collapse;
  margin: 1em 2em;
}
.rendered_html td,
.rendered_html th {
  text-align: left;
  vertical-align: middle;
  padding: 4px;
}
.rendered_html th {
  font-weight: bold;
}
.rendered_html * + table {
  margin-top: 1em;
}
.rendered_html p {
  text-align: left;
}
.rendered_html * + p {
  margin-top: 1em;
}
.rendered_html img {
  display: block;
  margin-left: auto;
  margin-right: auto;
}
.rendered_html * + img {
  margin-top: 1em;
}
.rendered_html img,
.rendered_html svg {
  max-width: 100%;
  height: auto;
}
.rendered_html img.unconfined,
.rendered_html svg.unconfined {
  max-width: none;
}
div.text_cell {
  /* Old browsers */
  display: -webkit-box;
  -webkit-box-orient: horizontal;
  -webkit-box-align: stretch;
  display: -moz-box;
  -moz-box-orient: horizontal;
  -moz-box-align: stretch;
  display: box;
  box-orient: horizontal;
  box-align: stretch;
  /* Modern browsers */
  display: flex;
  flex-direction: row;
  align-items: stretch;
}
@media (max-width: 540px) {
  div.text_cell > div.prompt {
    display: none;
  }
}
div.text_cell_render {
  /*font-family: "Helvetica Neue", Arial, Helvetica, Geneva, sans-serif;*/
  outline: none;
  resize: none;
  width: inherit;
  border-style: none;
  padding: 0.5em 0.5em 0.5em 0.4em;
  color: #000;
  box-sizing: border-box;
  -moz-box-sizing: border-box;
  -webkit-box-sizing: border-box;
}
a.anchor-link:link {
  text-decoration: none;
  padding: 0px 20px;
  visibility: hidden;
}
h1:hover .anchor-link,
h2:hover .anchor-link,
h3:hover .anchor-link,
h4:hover .anchor-link,
h5:hover .anchor-link,
h6:hover .anchor-link {
  visibility: visible;
}
.text_cell.rendered .input_area {
  display: none;
}
.text_cell.rendered .rendered_html {
  overflow-x: auto;
  overflow-y: hidden;
}
.text_cell.unrendered .text_cell_render {
  display: none;
}
.cm-header-1,
.cm-header-2,
.cm-header-3,
.cm-header-4,
.cm-header-5,
.cm-header-6 {
  font-weight: bold;
  font-family: "Helvetica Neue", Helvetica, Arial, sans-serif;
}
.cm-header-1 {
  font-size: 185.7%;
}
.cm-header-2 {
  font-size: 157.1%;
}
.cm-header-3 {
  font-size: 128.6%;
}
.cm-header-4 {
  font-size: 110%;
}
.cm-header-5 {
  font-size: 100%;
  font-style: italic;
}
.cm-header-6 {
  font-size: 100%;
  font-style: italic;
}
/*!
*
* IPython notebook webapp
*
*/
@media (max-width: 767px) {
  .notebook_app {
    padding-left: 0px;
    padding-right: 0px;
  }
}
#ipython-main-app {
  box-sizing: border-box;
  -moz-box-sizing: border-box;
  -webkit-box-sizing: border-box;
  height: 100%;
}
div#notebook_panel {
  margin: 0px;
  padding: 0px;
  box-sizing: border-box;
  -moz-box-sizing: border-box;
  -webkit-box-sizing: border-box;
  height: 100%;
}
div#notebook {
  font-size: 14px;
  line-height: 20px;
  overflow-y: hidden;
  overflow-x: auto;
  width: 100%;
  /* This spaces the page away from the edge of the notebook area */
  padding-top: 20px;
  margin: 0px;
  outline: none;
  box-sizing: border-box;
  -moz-box-sizing: border-box;
  -webkit-box-sizing: border-box;
  min-height: 100%;
}
@media not print {
  #notebook-container {
    padding: 15px;
    background-color: #fff;
    min-height: 0;
    -webkit-box-shadow: 0px 0px 12px 1px rgba(87, 87, 87, 0.2);
    box-shadow: 0px 0px 12px 1px rgba(87, 87, 87, 0.2);
  }
}
@media print {
  #notebook-container {
    width: 100%;
  }
}
div.ui-widget-content {
  border: 1px solid #ababab;
  outline: none;
}
pre.dialog {
  background-color: #f7f7f7;
  border: 1px solid #ddd;
  border-radius: 2px;
  padding: 0.4em;
  padding-left: 2em;
}
p.dialog {
  padding: 0.2em;
}
/* Word-wrap output correctly.  This is the CSS3 spelling, though Firefox seems
   to not honor it correctly.  Webkit browsers (Chrome, rekonq, Safari) do.
 */
pre,
code,
kbd,
samp {
  white-space: pre-wrap;
}
#fonttest {
  font-family: monospace;
}
p {
  margin-bottom: 0;
}
.end_space {
  min-height: 100px;
  transition: height .2s ease;
}
.notebook_app > #header {
  -webkit-box-shadow: 0px 0px 12px 1px rgba(87, 87, 87, 0.2);
  box-shadow: 0px 0px 12px 1px rgba(87, 87, 87, 0.2);
}
@media not print {
  .notebook_app {
    background-color: #EEE;
  }
}
kbd {
  border-style: solid;
  border-width: 1px;
  box-shadow: none;
  margin: 2px;
  padding-left: 2px;
  padding-right: 2px;
  padding-top: 1px;
  padding-bottom: 1px;
}
/* CSS for the cell toolbar */
.celltoolbar {
  border: thin solid #CFCFCF;
  border-bottom: none;
  background: #EEE;
  border-radius: 2px 2px 0px 0px;
  width: 100%;
  height: 29px;
  padding-right: 4px;
  /* Old browsers */
  display: -webkit-box;
  -webkit-box-orient: horizontal;
  -webkit-box-align: stretch;
  display: -moz-box;
  -moz-box-orient: horizontal;
  -moz-box-align: stretch;
  display: box;
  box-orient: horizontal;
  box-align: stretch;
  /* Modern browsers */
  display: flex;
  flex-direction: row;
  align-items: stretch;
  /* Old browsers */
  -webkit-box-pack: end;
  -moz-box-pack: end;
  box-pack: end;
  /* Modern browsers */
  justify-content: flex-end;
  display: -webkit-flex;
}
@media print {
  .celltoolbar {
    display: none;
  }
}
.ctb_hideshow {
  display: none;
  vertical-align: bottom;
}
/* ctb_show is added to the ctb_hideshow div to show the cell toolbar.
   Cell toolbars are only shown when the ctb_global_show class is also set.
*/
.ctb_global_show .ctb_show.ctb_hideshow {
  display: block;
}
.ctb_global_show .ctb_show + .input_area,
.ctb_global_show .ctb_show + div.text_cell_input,
.ctb_global_show .ctb_show ~ div.text_cell_render {
  border-top-right-radius: 0px;
  border-top-left-radius: 0px;
}
.ctb_global_show .ctb_show ~ div.text_cell_render {
  border: 1px solid #cfcfcf;
}
.celltoolbar {
  font-size: 87%;
  padding-top: 3px;
}
.celltoolbar select {
  display: block;
  width: 100%;
  height: 32px;
  padding: 6px 12px;
  font-size: 13px;
  line-height: 1.42857143;
  color: #555555;
  background-color: #fff;
  background-image: none;
  border: 1px solid #ccc;
  border-radius: 2px;
  -webkit-box-shadow: inset 0 1px 1px rgba(0, 0, 0, 0.075);
  box-shadow: inset 0 1px 1px rgba(0, 0, 0, 0.075);
  -webkit-transition: border-color ease-in-out .15s, box-shadow ease-in-out .15s;
  -o-transition: border-color ease-in-out .15s, box-shadow ease-in-out .15s;
  transition: border-color ease-in-out .15s, box-shadow ease-in-out .15s;
  height: 30px;
  padding: 5px 10px;
  font-size: 12px;
  line-height: 1.5;
  border-radius: 1px;
  width: inherit;
  font-size: inherit;
  height: 22px;
  padding: 0px;
  display: inline-block;
}
.celltoolbar select:focus {
  border-color: #66afe9;
  outline: 0;
  -webkit-box-shadow: inset 0 1px 1px rgba(0,0,0,.075), 0 0 8px rgba(102, 175, 233, 0.6);
  box-shadow: inset 0 1px 1px rgba(0,0,0,.075), 0 0 8px rgba(102, 175, 233, 0.6);
}
.celltoolbar select::-moz-placeholder {
  color: #999;
  opacity: 1;
}
.celltoolbar select:-ms-input-placeholder {
  color: #999;
}
.celltoolbar select::-webkit-input-placeholder {
  color: #999;
}
.celltoolbar select::-ms-expand {
  border: 0;
  background-color: transparent;
}
.celltoolbar select[disabled],
.celltoolbar select[readonly],
fieldset[disabled] .celltoolbar select {
  background-color: #eeeeee;
  opacity: 1;
}
.celltoolbar select[disabled],
fieldset[disabled] .celltoolbar select {
  cursor: not-allowed;
}
textarea.celltoolbar select {
  height: auto;
}
select.celltoolbar select {
  height: 30px;
  line-height: 30px;
}
textarea.celltoolbar select,
select[multiple].celltoolbar select {
  height: auto;
}
.celltoolbar label {
  margin-left: 5px;
  margin-right: 5px;
}
.completions {
  position: absolute;
  z-index: 110;
  overflow: hidden;
  border: 1px solid #ababab;
  border-radius: 2px;
  -webkit-box-shadow: 0px 6px 10px -1px #adadad;
  box-shadow: 0px 6px 10px -1px #adadad;
  line-height: 1;
}
.completions select {
  background: white;
  outline: none;
  border: none;
  padding: 0px;
  margin: 0px;
  overflow: auto;
  font-family: monospace;
  font-size: 110%;
  color: #000;
  width: auto;
}
.completions select option.context {
  color: #286090;
}
#kernel_logo_widget {
  float: right !important;
  float: right;
}
#kernel_logo_widget .current_kernel_logo {
  display: none;
  margin-top: -1px;
  margin-bottom: -1px;
  width: 32px;
  height: 32px;
}
#menubar {
  box-sizing: border-box;
  -moz-box-sizing: border-box;
  -webkit-box-sizing: border-box;
  margin-top: 1px;
}
#menubar .navbar {
  border-top: 1px;
  border-radius: 0px 0px 2px 2px;
  margin-bottom: 0px;
}
#menubar .navbar-toggle {
  float: left;
  padding-top: 7px;
  padding-bottom: 7px;
  border: none;
}
#menubar .navbar-collapse {
  clear: left;
}
.nav-wrapper {
  border-bottom: 1px solid #e7e7e7;
}
i.menu-icon {
  padding-top: 4px;
}
ul#help_menu li a {
  overflow: hidden;
  padding-right: 2.2em;
}
ul#help_menu li a i {
  margin-right: -1.2em;
}
.dropdown-submenu {
  position: relative;
}
.dropdown-submenu > .dropdown-menu {
  top: 0;
  left: 100%;
  margin-top: -6px;
  margin-left: -1px;
}
.dropdown-submenu:hover > .dropdown-menu {
  display: block;
}
.dropdown-submenu > a:after {
  display: inline-block;
  font: normal normal normal 14px/1 FontAwesome;
  font-size: inherit;
  text-rendering: auto;
  -webkit-font-smoothing: antialiased;
  -moz-osx-font-smoothing: grayscale;
  display: block;
  content: "\f0da";
  float: right;
  color: #333333;
  margin-top: 2px;
  margin-right: -10px;
}
.dropdown-submenu > a:after.pull-left {
  margin-right: .3em;
}
.dropdown-submenu > a:after.pull-right {
  margin-left: .3em;
}
.dropdown-submenu:hover > a:after {
  color: #262626;
}
.dropdown-submenu.pull-left {
  float: none;
}
.dropdown-submenu.pull-left > .dropdown-menu {
  left: -100%;
  margin-left: 10px;
}
#notification_area {
  float: right !important;
  float: right;
  z-index: 10;
}
.indicator_area {
  float: right !important;
  float: right;
  color: #777;
  margin-left: 5px;
  margin-right: 5px;
  width: 11px;
  z-index: 10;
  text-align: center;
  width: auto;
}
#kernel_indicator {
  float: right !important;
  float: right;
  color: #777;
  margin-left: 5px;
  margin-right: 5px;
  width: 11px;
  z-index: 10;
  text-align: center;
  width: auto;
  border-left: 1px solid;
}
#kernel_indicator .kernel_indicator_name {
  padding-left: 5px;
  padding-right: 5px;
}
#modal_indicator {
  float: right !important;
  float: right;
  color: #777;
  margin-left: 5px;
  margin-right: 5px;
  width: 11px;
  z-index: 10;
  text-align: center;
  width: auto;
}
#readonly-indicator {
  float: right !important;
  float: right;
  color: #777;
  margin-left: 5px;
  margin-right: 5px;
  width: 11px;
  z-index: 10;
  text-align: center;
  width: auto;
  margin-top: 2px;
  margin-bottom: 0px;
  margin-left: 0px;
  margin-right: 0px;
  display: none;
}
.modal_indicator:before {
  width: 1.28571429em;
  text-align: center;
}
.edit_mode .modal_indicator:before {
  display: inline-block;
  font: normal normal normal 14px/1 FontAwesome;
  font-size: inherit;
  text-rendering: auto;
  -webkit-font-smoothing: antialiased;
  -moz-osx-font-smoothing: grayscale;
  content: "\f040";
}
.edit_mode .modal_indicator:before.pull-left {
  margin-right: .3em;
}
.edit_mode .modal_indicator:before.pull-right {
  margin-left: .3em;
}
.command_mode .modal_indicator:before {
  display: inline-block;
  font: normal normal normal 14px/1 FontAwesome;
  font-size: inherit;
  text-rendering: auto;
  -webkit-font-smoothing: antialiased;
  -moz-osx-font-smoothing: grayscale;
  content: ' ';
}
.command_mode .modal_indicator:before.pull-left {
  margin-right: .3em;
}
.command_mode .modal_indicator:before.pull-right {
  margin-left: .3em;
}
.kernel_idle_icon:before {
  display: inline-block;
  font: normal normal normal 14px/1 FontAwesome;
  font-size: inherit;
  text-rendering: auto;
  -webkit-font-smoothing: antialiased;
  -moz-osx-font-smoothing: grayscale;
  content: "\f10c";
}
.kernel_idle_icon:before.pull-left {
  margin-right: .3em;
}
.kernel_idle_icon:before.pull-right {
  margin-left: .3em;
}
.kernel_busy_icon:before {
  display: inline-block;
  font: normal normal normal 14px/1 FontAwesome;
  font-size: inherit;
  text-rendering: auto;
  -webkit-font-smoothing: antialiased;
  -moz-osx-font-smoothing: grayscale;
  content: "\f111";
}
.kernel_busy_icon:before.pull-left {
  margin-right: .3em;
}
.kernel_busy_icon:before.pull-right {
  margin-left: .3em;
}
.kernel_dead_icon:before {
  display: inline-block;
  font: normal normal normal 14px/1 FontAwesome;
  font-size: inherit;
  text-rendering: auto;
  -webkit-font-smoothing: antialiased;
  -moz-osx-font-smoothing: grayscale;
  content: "\f1e2";
}
.kernel_dead_icon:before.pull-left {
  margin-right: .3em;
}
.kernel_dead_icon:before.pull-right {
  margin-left: .3em;
}
.kernel_disconnected_icon:before {
  display: inline-block;
  font: normal normal normal 14px/1 FontAwesome;
  font-size: inherit;
  text-rendering: auto;
  -webkit-font-smoothing: antialiased;
  -moz-osx-font-smoothing: grayscale;
  content: "\f127";
}
.kernel_disconnected_icon:before.pull-left {
  margin-right: .3em;
}
.kernel_disconnected_icon:before.pull-right {
  margin-left: .3em;
}
.notification_widget {
  color: #777;
  z-index: 10;
  background: rgba(240, 240, 240, 0.5);
  margin-right: 4px;
  color: #333;
  background-color: #fff;
  border-color: #ccc;
}
.notification_widget:focus,
.notification_widget.focus {
  color: #333;
  background-color: #e6e6e6;
  border-color: #8c8c8c;
}
.notification_widget:hover {
  color: #333;
  background-color: #e6e6e6;
  border-color: #adadad;
}
.notification_widget:active,
.notification_widget.active,
.open > .dropdown-toggle.notification_widget {
  color: #333;
  background-color: #e6e6e6;
  border-color: #adadad;
}
.notification_widget:active:hover,
.notification_widget.active:hover,
.open > .dropdown-toggle.notification_widget:hover,
.notification_widget:active:focus,
.notification_widget.active:focus,
.open > .dropdown-toggle.notification_widget:focus,
.notification_widget:active.focus,
.notification_widget.active.focus,
.open > .dropdown-toggle.notification_widget.focus {
  color: #333;
  background-color: #d4d4d4;
  border-color: #8c8c8c;
}
.notification_widget:active,
.notification_widget.active,
.open > .dropdown-toggle.notification_widget {
  background-image: none;
}
.notification_widget.disabled:hover,
.notification_widget[disabled]:hover,
fieldset[disabled] .notification_widget:hover,
.notification_widget.disabled:focus,
.notification_widget[disabled]:focus,
fieldset[disabled] .notification_widget:focus,
.notification_widget.disabled.focus,
.notification_widget[disabled].focus,
fieldset[disabled] .notification_widget.focus {
  background-color: #fff;
  border-color: #ccc;
}
.notification_widget .badge {
  color: #fff;
  background-color: #333;
}
.notification_widget.warning {
  color: #fff;
  background-color: #f0ad4e;
  border-color: #eea236;
}
.notification_widget.warning:focus,
.notification_widget.warning.focus {
  color: #fff;
  background-color: #ec971f;
  border-color: #985f0d;
}
.notification_widget.warning:hover {
  color: #fff;
  background-color: #ec971f;
  border-color: #d58512;
}
.notification_widget.warning:active,
.notification_widget.warning.active,
.open > .dropdown-toggle.notification_widget.warning {
  color: #fff;
  background-color: #ec971f;
  border-color: #d58512;
}
.notification_widget.warning:active:hover,
.notification_widget.warning.active:hover,
.open > .dropdown-toggle.notification_widget.warning:hover,
.notification_widget.warning:active:focus,
.notification_widget.warning.active:focus,
.open > .dropdown-toggle.notification_widget.warning:focus,
.notification_widget.warning:active.focus,
.notification_widget.warning.active.focus,
.open > .dropdown-toggle.notification_widget.warning.focus {
  color: #fff;
  background-color: #d58512;
  border-color: #985f0d;
}
.notification_widget.warning:active,
.notification_widget.warning.active,
.open > .dropdown-toggle.notification_widget.warning {
  background-image: none;
}
.notification_widget.warning.disabled:hover,
.notification_widget.warning[disabled]:hover,
fieldset[disabled] .notification_widget.warning:hover,
.notification_widget.warning.disabled:focus,
.notification_widget.warning[disabled]:focus,
fieldset[disabled] .notification_widget.warning:focus,
.notification_widget.warning.disabled.focus,
.notification_widget.warning[disabled].focus,
fieldset[disabled] .notification_widget.warning.focus {
  background-color: #f0ad4e;
  border-color: #eea236;
}
.notification_widget.warning .badge {
  color: #f0ad4e;
  background-color: #fff;
}
.notification_widget.success {
  color: #fff;
  background-color: #5cb85c;
  border-color: #4cae4c;
}
.notification_widget.success:focus,
.notification_widget.success.focus {
  color: #fff;
  background-color: #449d44;
  border-color: #255625;
}
.notification_widget.success:hover {
  color: #fff;
  background-color: #449d44;
  border-color: #398439;
}
.notification_widget.success:active,
.notification_widget.success.active,
.open > .dropdown-toggle.notification_widget.success {
  color: #fff;
  background-color: #449d44;
  border-color: #398439;
}
.notification_widget.success:active:hover,
.notification_widget.success.active:hover,
.open > .dropdown-toggle.notification_widget.success:hover,
.notification_widget.success:active:focus,
.notification_widget.success.active:focus,
.open > .dropdown-toggle.notification_widget.success:focus,
.notification_widget.success:active.focus,
.notification_widget.success.active.focus,
.open > .dropdown-toggle.notification_widget.success.focus {
  color: #fff;
  background-color: #398439;
  border-color: #255625;
}
.notification_widget.success:active,
.notification_widget.success.active,
.open > .dropdown-toggle.notification_widget.success {
  background-image: none;
}
.notification_widget.success.disabled:hover,
.notification_widget.success[disabled]:hover,
fieldset[disabled] .notification_widget.success:hover,
.notification_widget.success.disabled:focus,
.notification_widget.success[disabled]:focus,
fieldset[disabled] .notification_widget.success:focus,
.notification_widget.success.disabled.focus,
.notification_widget.success[disabled].focus,
fieldset[disabled] .notification_widget.success.focus {
  background-color: #5cb85c;
  border-color: #4cae4c;
}
.notification_widget.success .badge {
  color: #5cb85c;
  background-color: #fff;
}
.notification_widget.info {
  color: #fff;
  background-color: #5bc0de;
  border-color: #46b8da;
}
.notification_widget.info:focus,
.notification_widget.info.focus {
  color: #fff;
  background-color: #31b0d5;
  border-color: #1b6d85;
}
.notification_widget.info:hover {
  color: #fff;
  background-color: #31b0d5;
  border-color: #269abc;
}
.notification_widget.info:active,
.notification_widget.info.active,
.open > .dropdown-toggle.notification_widget.info {
  color: #fff;
  background-color: #31b0d5;
  border-color: #269abc;
}
.notification_widget.info:active:hover,
.notification_widget.info.active:hover,
.open > .dropdown-toggle.notification_widget.info:hover,
.notification_widget.info:active:focus,
.notification_widget.info.active:focus,
.open > .dropdown-toggle.notification_widget.info:focus,
.notification_widget.info:active.focus,
.notification_widget.info.active.focus,
.open > .dropdown-toggle.notification_widget.info.focus {
  color: #fff;
  background-color: #269abc;
  border-color: #1b6d85;
}
.notification_widget.info:active,
.notification_widget.info.active,
.open > .dropdown-toggle.notification_widget.info {
  background-image: none;
}
.notification_widget.info.disabled:hover,
.notification_widget.info[disabled]:hover,
fieldset[disabled] .notification_widget.info:hover,
.notification_widget.info.disabled:focus,
.notification_widget.info[disabled]:focus,
fieldset[disabled] .notification_widget.info:focus,
.notification_widget.info.disabled.focus,
.notification_widget.info[disabled].focus,
fieldset[disabled] .notification_widget.info.focus {
  background-color: #5bc0de;
  border-color: #46b8da;
}
.notification_widget.info .badge {
  color: #5bc0de;
  background-color: #fff;
}
.notification_widget.danger {
  color: #fff;
  background-color: #d9534f;
  border-color: #d43f3a;
}
.notification_widget.danger:focus,
.notification_widget.danger.focus {
  color: #fff;
  background-color: #c9302c;
  border-color: #761c19;
}
.notification_widget.danger:hover {
  color: #fff;
  background-color: #c9302c;
  border-color: #ac2925;
}
.notification_widget.danger:active,
.notification_widget.danger.active,
.open > .dropdown-toggle.notification_widget.danger {
  color: #fff;
  background-color: #c9302c;
  border-color: #ac2925;
}
.notification_widget.danger:active:hover,
.notification_widget.danger.active:hover,
.open > .dropdown-toggle.notification_widget.danger:hover,
.notification_widget.danger:active:focus,
.notification_widget.danger.active:focus,
.open > .dropdown-toggle.notification_widget.danger:focus,
.notification_widget.danger:active.focus,
.notification_widget.danger.active.focus,
.open > .dropdown-toggle.notification_widget.danger.focus {
  color: #fff;
  background-color: #ac2925;
  border-color: #761c19;
}
.notification_widget.danger:active,
.notification_widget.danger.active,
.open > .dropdown-toggle.notification_widget.danger {
  background-image: none;
}
.notification_widget.danger.disabled:hover,
.notification_widget.danger[disabled]:hover,
fieldset[disabled] .notification_widget.danger:hover,
.notification_widget.danger.disabled:focus,
.notification_widget.danger[disabled]:focus,
fieldset[disabled] .notification_widget.danger:focus,
.notification_widget.danger.disabled.focus,
.notification_widget.danger[disabled].focus,
fieldset[disabled] .notification_widget.danger.focus {
  background-color: #d9534f;
  border-color: #d43f3a;
}
.notification_widget.danger .badge {
  color: #d9534f;
  background-color: #fff;
}
div#pager {
  background-color: #fff;
  font-size: 14px;
  line-height: 20px;
  overflow: hidden;
  display: none;
  position: fixed;
  bottom: 0px;
  width: 100%;
  max-height: 50%;
  padding-top: 8px;
  -webkit-box-shadow: 0px 0px 12px 1px rgba(87, 87, 87, 0.2);
  box-shadow: 0px 0px 12px 1px rgba(87, 87, 87, 0.2);
  /* Display over codemirror */
  z-index: 100;
  /* Hack which prevents jquery ui resizable from changing top. */
  top: auto !important;
}
div#pager pre {
  line-height: 1.21429em;
  color: #000;
  background-color: #f7f7f7;
  padding: 0.4em;
}
div#pager #pager-button-area {
  position: absolute;
  top: 8px;
  right: 20px;
}
div#pager #pager-contents {
  position: relative;
  overflow: auto;
  width: 100%;
  height: 100%;
}
div#pager #pager-contents #pager-container {
  position: relative;
  padding: 15px 0px;
  box-sizing: border-box;
  -moz-box-sizing: border-box;
  -webkit-box-sizing: border-box;
}
div#pager .ui-resizable-handle {
  top: 0px;
  height: 8px;
  background: #f7f7f7;
  border-top: 1px solid #cfcfcf;
  border-bottom: 1px solid #cfcfcf;
  /* This injects handle bars (a short, wide = symbol) for 
        the resize handle. */
}
div#pager .ui-resizable-handle::after {
  content: '';
  top: 2px;
  left: 50%;
  height: 3px;
  width: 30px;
  margin-left: -15px;
  position: absolute;
  border-top: 1px solid #cfcfcf;
}
.quickhelp {
  /* Old browsers */
  display: -webkit-box;
  -webkit-box-orient: horizontal;
  -webkit-box-align: stretch;
  display: -moz-box;
  -moz-box-orient: horizontal;
  -moz-box-align: stretch;
  display: box;
  box-orient: horizontal;
  box-align: stretch;
  /* Modern browsers */
  display: flex;
  flex-direction: row;
  align-items: stretch;
  line-height: 1.8em;
}
.shortcut_key {
  display: inline-block;
  width: 20ex;
  text-align: right;
  font-family: monospace;
}
.shortcut_descr {
  display: inline-block;
  /* Old browsers */
  -webkit-box-flex: 1;
  -moz-box-flex: 1;
  box-flex: 1;
  /* Modern browsers */
  flex: 1;
}
span.save_widget {
  margin-top: 6px;
}
span.save_widget span.filename {
  height: 1em;
  line-height: 1em;
  padding: 3px;
  margin-left: 16px;
  border: none;
  font-size: 146.5%;
  border-radius: 2px;
}
span.save_widget span.filename:hover {
  background-color: #e6e6e6;
}
span.checkpoint_status,
span.autosave_status {
  font-size: small;
}
@media (max-width: 767px) {
  span.save_widget {
    font-size: small;
  }
  span.checkpoint_status,
  span.autosave_status {
    display: none;
  }
}
@media (min-width: 768px) and (max-width: 991px) {
  span.checkpoint_status {
    display: none;
  }
  span.autosave_status {
    font-size: x-small;
  }
}
.toolbar {
  padding: 0px;
  margin-left: -5px;
  margin-top: 2px;
  margin-bottom: 5px;
  box-sizing: border-box;
  -moz-box-sizing: border-box;
  -webkit-box-sizing: border-box;
}
.toolbar select,
.toolbar label {
  width: auto;
  vertical-align: middle;
  margin-right: 2px;
  margin-bottom: 0px;
  display: inline;
  font-size: 92%;
  margin-left: 0.3em;
  margin-right: 0.3em;
  padding: 0px;
  padding-top: 3px;
}
.toolbar .btn {
  padding: 2px 8px;
}
.toolbar .btn-group {
  margin-top: 0px;
  margin-left: 5px;
}
#maintoolbar {
  margin-bottom: -3px;
  margin-top: -8px;
  border: 0px;
  min-height: 27px;
  margin-left: 0px;
  padding-top: 11px;
  padding-bottom: 3px;
}
#maintoolbar .navbar-text {
  float: none;
  vertical-align: middle;
  text-align: right;
  margin-left: 5px;
  margin-right: 0px;
  margin-top: 0px;
}
.select-xs {
  height: 24px;
}
.pulse,
.dropdown-menu > li > a.pulse,
li.pulse > a.dropdown-toggle,
li.pulse.open > a.dropdown-toggle {
  background-color: #F37626;
  color: white;
}
/**
 * Primary styles
 *
 * Author: Jupyter Development Team
 */
/** WARNING IF YOU ARE EDITTING THIS FILE, if this is a .css file, It has a lot
 * of chance of beeing generated from the ../less/[samename].less file, you can
 * try to get back the less file by reverting somme commit in history
 **/
/*
 * We'll try to get something pretty, so we
 * have some strange css to have the scroll bar on
 * the left with fix button on the top right of the tooltip
 */
@-moz-keyframes fadeOut {
  from {
    opacity: 1;
  }
  to {
    opacity: 0;
  }
}
@-webkit-keyframes fadeOut {
  from {
    opacity: 1;
  }
  to {
    opacity: 0;
  }
}
@-moz-keyframes fadeIn {
  from {
    opacity: 0;
  }
  to {
    opacity: 1;
  }
}
@-webkit-keyframes fadeIn {
  from {
    opacity: 0;
  }
  to {
    opacity: 1;
  }
}
/*properties of tooltip after "expand"*/
.bigtooltip {
  overflow: auto;
  height: 200px;
  -webkit-transition-property: height;
  -webkit-transition-duration: 500ms;
  -moz-transition-property: height;
  -moz-transition-duration: 500ms;
  transition-property: height;
  transition-duration: 500ms;
}
/*properties of tooltip before "expand"*/
.smalltooltip {
  -webkit-transition-property: height;
  -webkit-transition-duration: 500ms;
  -moz-transition-property: height;
  -moz-transition-duration: 500ms;
  transition-property: height;
  transition-duration: 500ms;
  text-overflow: ellipsis;
  overflow: hidden;
  height: 80px;
}
.tooltipbuttons {
  position: absolute;
  padding-right: 15px;
  top: 0px;
  right: 0px;
}
.tooltiptext {
  /*avoid the button to overlap on some docstring*/
  padding-right: 30px;
}
.ipython_tooltip {
  max-width: 700px;
  /*fade-in animation when inserted*/
  -webkit-animation: fadeOut 400ms;
  -moz-animation: fadeOut 400ms;
  animation: fadeOut 400ms;
  -webkit-animation: fadeIn 400ms;
  -moz-animation: fadeIn 400ms;
  animation: fadeIn 400ms;
  vertical-align: middle;
  background-color: #f7f7f7;
  overflow: visible;
  border: #ababab 1px solid;
  outline: none;
  padding: 3px;
  margin: 0px;
  padding-left: 7px;
  font-family: monospace;
  min-height: 50px;
  -moz-box-shadow: 0px 6px 10px -1px #adadad;
  -webkit-box-shadow: 0px 6px 10px -1px #adadad;
  box-shadow: 0px 6px 10px -1px #adadad;
  border-radius: 2px;
  position: absolute;
  z-index: 1000;
}
.ipython_tooltip a {
  float: right;
}
.ipython_tooltip .tooltiptext pre {
  border: 0;
  border-radius: 0;
  font-size: 100%;
  background-color: #f7f7f7;
}
.pretooltiparrow {
  left: 0px;
  margin: 0px;
  top: -16px;
  width: 40px;
  height: 16px;
  overflow: hidden;
  position: absolute;
}
.pretooltiparrow:before {
  background-color: #f7f7f7;
  border: 1px #ababab solid;
  z-index: 11;
  content: "";
  position: absolute;
  left: 15px;
  top: 10px;
  width: 25px;
  height: 25px;
  -webkit-transform: rotate(45deg);
  -moz-transform: rotate(45deg);
  -ms-transform: rotate(45deg);
  -o-transform: rotate(45deg);
}
ul.typeahead-list i {
  margin-left: -10px;
  width: 18px;
}
ul.typeahead-list {
  max-height: 80vh;
  overflow: auto;
}
ul.typeahead-list > li > a {
  /** Firefox bug **/
  /* see https://github.com/jupyter/notebook/issues/559 */
  white-space: normal;
}
.cmd-palette .modal-body {
  padding: 7px;
}
.cmd-palette form {
  background: white;
}
.cmd-palette input {
  outline: none;
}
.no-shortcut {
  display: none;
}
.command-shortcut:before {
  content: "(command)";
  padding-right: 3px;
  color: #777777;
}
.edit-shortcut:before {
  content: "(edit)";
  padding-right: 3px;
  color: #777777;
}
#find-and-replace #replace-preview .match,
#find-and-replace #replace-preview .insert {
  background-color: #BBDEFB;
  border-color: #90CAF9;
  border-style: solid;
  border-width: 1px;
  border-radius: 0px;
}
#find-and-replace #replace-preview .replace .match {
  background-color: #FFCDD2;
  border-color: #EF9A9A;
  border-radius: 0px;
}
#find-and-replace #replace-preview .replace .insert {
  background-color: #C8E6C9;
  border-color: #A5D6A7;
  border-radius: 0px;
}
#find-and-replace #replace-preview {
  max-height: 60vh;
  overflow: auto;
}
#find-and-replace #replace-preview pre {
  padding: 5px 10px;
}
.terminal-app {
  background: #EEE;
}
.terminal-app #header {
  background: #fff;
  -webkit-box-shadow: 0px 0px 12px 1px rgba(87, 87, 87, 0.2);
  box-shadow: 0px 0px 12px 1px rgba(87, 87, 87, 0.2);
}
.terminal-app .terminal {
  float: left;
  font-family: monospace;
  color: white;
  background: black;
  padding: 0.4em;
  border-radius: 2px;
  -webkit-box-shadow: 0px 0px 12px 1px rgba(87, 87, 87, 0.4);
  box-shadow: 0px 0px 12px 1px rgba(87, 87, 87, 0.4);
}
.terminal-app .terminal,
.terminal-app .terminal dummy-screen {
  line-height: 1em;
  font-size: 14px;
}
.terminal-app .terminal-cursor {
  color: black;
  background: white;
}
.terminal-app #terminado-container {
  margin-top: 20px;
}
/*# sourceMappingURL=style.min.css.map */
    </style>
<style type="text/css">
    .highlight .hll { background-color: #ffffcc }
.highlight  { background: #f8f8f8; }
.highlight .c { color: #408080; font-style: italic } /* Comment */
.highlight .err { border: 1px solid #FF0000 } /* Error */
.highlight .k { color: #008000; font-weight: bold } /* Keyword */
.highlight .o { color: #666666 } /* Operator */
.highlight .ch { color: #408080; font-style: italic } /* Comment.Hashbang */
.highlight .cm { color: #408080; font-style: italic } /* Comment.Multiline */
.highlight .cp { color: #BC7A00 } /* Comment.Preproc */
.highlight .cpf { color: #408080; font-style: italic } /* Comment.PreprocFile */
.highlight .c1 { color: #408080; font-style: italic } /* Comment.Single */
.highlight .cs { color: #408080; font-style: italic } /* Comment.Special */
.highlight .gd { color: #A00000 } /* Generic.Deleted */
.highlight .ge { font-style: italic } /* Generic.Emph */
.highlight .gr { color: #FF0000 } /* Generic.Error */
.highlight .gh { color: #000080; font-weight: bold } /* Generic.Heading */
.highlight .gi { color: #00A000 } /* Generic.Inserted */
.highlight .go { color: #888888 } /* Generic.Output */
.highlight .gp { color: #000080; font-weight: bold } /* Generic.Prompt */
.highlight .gs { font-weight: bold } /* Generic.Strong */
.highlight .gu { color: #800080; font-weight: bold } /* Generic.Subheading */
.highlight .gt { color: #0044DD } /* Generic.Traceback */
.highlight .kc { color: #008000; font-weight: bold } /* Keyword.Constant */
.highlight .kd { color: #008000; font-weight: bold } /* Keyword.Declaration */
.highlight .kn { color: #008000; font-weight: bold } /* Keyword.Namespace */
.highlight .kp { color: #008000 } /* Keyword.Pseudo */
.highlight .kr { color: #008000; font-weight: bold } /* Keyword.Reserved */
.highlight .kt { color: #B00040 } /* Keyword.Type */
.highlight .m { color: #666666 } /* Literal.Number */
.highlight .s { color: #BA2121 } /* Literal.String */
.highlight .na { color: #7D9029 } /* Name.Attribute */
.highlight .nb { color: #008000 } /* Name.Builtin */
.highlight .nc { color: #0000FF; font-weight: bold } /* Name.Class */
.highlight .no { color: #880000 } /* Name.Constant */
.highlight .nd { color: #AA22FF } /* Name.Decorator */
.highlight .ni { color: #999999; font-weight: bold } /* Name.Entity */
.highlight .ne { color: #D2413A; font-weight: bold } /* Name.Exception */
.highlight .nf { color: #0000FF } /* Name.Function */
.highlight .nl { color: #A0A000 } /* Name.Label */
.highlight .nn { color: #0000FF; font-weight: bold } /* Name.Namespace */
.highlight .nt { color: #008000; font-weight: bold } /* Name.Tag */
.highlight .nv { color: #19177C } /* Name.Variable */
.highlight .ow { color: #AA22FF; font-weight: bold } /* Operator.Word */
.highlight .w { color: #bbbbbb } /* Text.Whitespace */
.highlight .mb { color: #666666 } /* Literal.Number.Bin */
.highlight .mf { color: #666666 } /* Literal.Number.Float */
.highlight .mh { color: #666666 } /* Literal.Number.Hex */
.highlight .mi { color: #666666 } /* Literal.Number.Integer */
.highlight .mo { color: #666666 } /* Literal.Number.Oct */
.highlight .sb { color: #BA2121 } /* Literal.String.Backtick */
.highlight .sc { color: #BA2121 } /* Literal.String.Char */
.highlight .sd { color: #BA2121; font-style: italic } /* Literal.String.Doc */
.highlight .s2 { color: #BA2121 } /* Literal.String.Double */
.highlight .se { color: #BB6622; font-weight: bold } /* Literal.String.Escape */
.highlight .sh { color: #BA2121 } /* Literal.String.Heredoc */
.highlight .si { color: #BB6688; font-weight: bold } /* Literal.String.Interpol */
.highlight .sx { color: #008000 } /* Literal.String.Other */
.highlight .sr { color: #BB6688 } /* Literal.String.Regex */
.highlight .s1 { color: #BA2121 } /* Literal.String.Single */
.highlight .ss { color: #19177C } /* Literal.String.Symbol */
.highlight .bp { color: #008000 } /* Name.Builtin.Pseudo */
.highlight .vc { color: #19177C } /* Name.Variable.Class */
.highlight .vg { color: #19177C } /* Name.Variable.Global */
.highlight .vi { color: #19177C } /* Name.Variable.Instance */
.highlight .il { color: #666666 } /* Literal.Number.Integer.Long */
    </style>
<style type="text/css">
    
/* Temporary definitions which will become obsolete with Notebook release 5.0 */
.ansi-black-fg { color: #3E424D; }
.ansi-black-bg { background-color: #3E424D; }
.ansi-black-intense-fg { color: #282C36; }
.ansi-black-intense-bg { background-color: #282C36; }
.ansi-red-fg { color: #E75C58; }
.ansi-red-bg { background-color: #E75C58; }
.ansi-red-intense-fg { color: #B22B31; }
.ansi-red-intense-bg { background-color: #B22B31; }
.ansi-green-fg { color: #00A250; }
.ansi-green-bg { background-color: #00A250; }
.ansi-green-intense-fg { color: #007427; }
.ansi-green-intense-bg { background-color: #007427; }
.ansi-yellow-fg { color: #DDB62B; }
.ansi-yellow-bg { background-color: #DDB62B; }
.ansi-yellow-intense-fg { color: #B27D12; }
.ansi-yellow-intense-bg { background-color: #B27D12; }
.ansi-blue-fg { color: #208FFB; }
.ansi-blue-bg { background-color: #208FFB; }
.ansi-blue-intense-fg { color: #0065CA; }
.ansi-blue-intense-bg { background-color: #0065CA; }
.ansi-magenta-fg { color: #D160C4; }
.ansi-magenta-bg { background-color: #D160C4; }
.ansi-magenta-intense-fg { color: #A03196; }
.ansi-magenta-intense-bg { background-color: #A03196; }
.ansi-cyan-fg { color: #60C6C8; }
.ansi-cyan-bg { background-color: #60C6C8; }
.ansi-cyan-intense-fg { color: #258F8F; }
.ansi-cyan-intense-bg { background-color: #258F8F; }
.ansi-white-fg { color: #C5C1B4; }
.ansi-white-bg { background-color: #C5C1B4; }
.ansi-white-intense-fg { color: #A1A6B2; }
.ansi-white-intense-bg { background-color: #A1A6B2; }

.ansi-bold { font-weight: bold; }

    </style>


<style type="text/css">
/* Overrides of notebook CSS for static HTML export */
body {
  overflow: visible;
  padding: 8px;
}

div#notebook {
  overflow: visible;
  border-top: none;
}

@media print {
  div.cell {
    display: block;
    page-break-inside: avoid;
  } 
  div.output_wrapper { 
    display: block;
    page-break-inside: avoid; 
  }
  div.output { 
    display: block;
    page-break-inside: avoid; 
  }
}
</style>

<!-- Custom stylesheet, it must be in the same directory as the html file -->
<link rel="stylesheet" href="custom.css">

<!-- Loading mathjax macro -->
<!-- Load mathjax -->
    <script src="https://cdn.mathjax.org/mathjax/latest/MathJax.js?config=TeX-AMS_HTML"></script>
    <!-- MathJax configuration -->
    <script type="text/x-mathjax-config">
    MathJax.Hub.Config({
        tex2jax: {
            inlineMath: [ ['$','$'], ["\\(","\\)"] ],
            displayMath: [ ['$$','$$'], ["\\[","\\]"] ],
            processEscapes: true,
            processEnvironments: true
        },
        // Center justify equations in code and markdown cells. Elsewhere
        // we use CSS to left justify single line equations in code cells.
        displayAlign: 'center',
        "HTML-CSS": {
            styles: {'.MathJax_Display': {"margin": 0}},
            linebreaks: { automatic: true }
        }
    });
    </script>
    <!-- End of mathjax configuration --></head>
<body>
  <div tabindex="-1" id="notebook" class="border-box-sizing">
    <div class="container" id="notebook-container">

<div class="cell border-box-sizing code_cell rendered">
<div class="input">
<div class="prompt input_prompt">In&nbsp;[2]:</div>
<div class="inner_cell">
    <div class="input_area">
<div class=" highlight hl-ipython3"><pre><span></span><span class="nb">print</span><span class="p">(</span><span class="s1">&#39;Hello python&#39;</span><span class="p">)</span>
</pre></div>

</div>
</div>
</div>

<div class="output_wrapper">
<div class="output">


<div class="output_area"><div class="prompt"></div>
<div class="output_subarea output_stream output_stdout output_text">
<pre>Hello python
</pre>
</div>
</div>

</div>
</div>

</div>
<div class="cell border-box-sizing text_cell rendered">
<div class="prompt input_prompt">
</div>
<div class="inner_cell">
<div class="text_cell_render border-box-sizing rendered_html">
<h1 id="&#24341;&#20837;NUMPY&#21644;MATPLOTLIB">&#24341;&#20837;NUMPY&#21644;MATPLOTLIB<a class="anchor-link" href="#&#24341;&#20837;NUMPY&#21644;MATPLOTLIB">&#182;</a></h1>
</div>
</div>
</div>
<div class="cell border-box-sizing code_cell rendered">
<div class="input">
<div class="prompt input_prompt">In&nbsp;[4]:</div>
<div class="inner_cell">
    <div class="input_area">
<div class=" highlight hl-ipython3"><pre><span></span><span class="o">%</span><span class="k">pylab</span> inline
</pre></div>

</div>
</div>
</div>

<div class="output_wrapper">
<div class="output">


<div class="output_area"><div class="prompt"></div>
<div class="output_subarea output_stream output_stderr output_text">
<pre>/Users/apple/anaconda3/lib/python3.5/site-packages/matplotlib/font_manager.py:273: UserWarning: Matplotlib is building the font cache using fc-list. This may take a moment.
  warnings.warn(&#39;Matplotlib is building the font cache using fc-list. This may take a moment.&#39;)
/Users/apple/anaconda3/lib/python3.5/site-packages/matplotlib/font_manager.py:273: UserWarning: Matplotlib is building the font cache using fc-list. This may take a moment.
  warnings.warn(&#39;Matplotlib is building the font cache using fc-list. This may take a moment.&#39;)
</pre>
</div>
</div>

<div class="output_area"><div class="prompt"></div>
<div class="output_subarea output_stream output_stdout output_text">
<pre>Populating the interactive namespace from numpy and matplotlib
</pre>
</div>
</div>

</div>
</div>

</div>
<div class="cell border-box-sizing code_cell rendered">
<div class="input">
<div class="prompt input_prompt">In&nbsp;[5]:</div>
<div class="inner_cell">
    <div class="input_area">
<div class=" highlight hl-ipython3"><pre><span></span><span class="n">plot</span><span class="p">([</span><span class="mi">1</span><span class="p">,</span><span class="mi">2</span><span class="p">,</span><span class="mi">3</span><span class="p">])</span>
</pre></div>

</div>
</div>
</div>

<div class="output_wrapper">
<div class="output">


<div class="output_area"><div class="prompt output_prompt">Out[5]:</div>


<div class="output_text output_subarea output_execute_result">
<pre>[&lt;matplotlib.lines.Line2D at 0x10c0b3828&gt;]</pre>
</div>

</div>

<div class="output_area"><div class="prompt"></div>


<div class="output_png output_subarea ">
<img src="data:image/png;base64,iVBORw0KGgoAAAANSUhEUgAAAgsAAAFkCAYAAACuFXjcAAAABHNCSVQICAgIfAhkiAAAAAlwSFlz
AAAPYQAAD2EBqD+naQAAFpVJREFUeJzt3WusZWd93/Hfn5ZgQGWIEmFDhGxBAjGyYjqTlluMoQwX
OyqEi9qe0NaQQLi9QFPcVCgvKhUJRBC3giwiTU1ISY5fFQUhwZwAIcgCijRTJwoQXAks3AA2NckZ
RHDU4qcv9hm653jOPmff11r785G2ZvY6a+31jJbWzDPfvfZe1VoLAMBBHrLuAQAA3WayAABMZLIA
AExksgAATGSyAABMZLIAAExksgAATGSyAABMZLIAAExksgAATDTVZKGqXl9Vf15Vu3uPL1TViw7Z
5jlVdbaq7q+qO6vqpvmGDACs0rRl4e4k/yHJ8SQnknw2yR9X1dWXWrmqrkryiSSfSXJtkvcnOV1V
z59xvADAitW8N5KqqvuS3Nxa+/AlfvbOJDe01n5pbNl2kmOttRvn2jEAsBIzX7NQVQ+pqn+V5BFJ
vnjAak9P8ul9y84kecas+wUAVusfTrtBVV2T0eTgsiQ/SPLS1tpfHbD6FUnu2bfsniSPqqqHtdb+
/oB9/EySFya5K8n9044RADbYZUmuSnKmtXbfIl5w6slCkr/K6PqDY0lekeQPqurZEyYMs3hhkj9c
4OsBwKZ5ZZI/WsQLTT1ZaK393yTf2Hv6P6rqnyZ5c5I3XGL17ya5fN+yy5OcP6gq7LkrST760Y/m
6qsvee0kPXPq1Km8973vXfcwWBDHc1gcz/77wheSt70t+cEPkq2tr+XWW/91svdv6SLMUhb2e0iS
hx3wsy8muWHfshfk4GscLrg/Sa6++uocP358vtHRCceOHXMsB8TxHBbHs792d5Obb05On05Onhz9
et99ya23Jlng2/hTTRaq6u1JPpnkW0n+UUaJ4/qMJgCpqnckeVxr7cJ3KXwoyZv2PhVxa5LnZfTW
hU9CAMAczpxJXvOa5G//Nvm930te+9qkajRZWLRpPw3xmCQfyei6hU9n9F0LL2itfXbv51ckefyF
lVtrdyX51SQnk9yR5FSS32yt7f+EBABwBLu7o4nBi16U/OIvJn/5l8lv/dZoorAsU5WF1tprDvn5
qy+x7PMZTSoAgDkcVBOWzb0hWImtra11D4EFcjyHxfHsvnXUhHGLuMARDuUvo2FxPIfF8ey2ddWE
ccoCAHTQumvCOGUBADqmCzVhnLIAAB3RpZowTlkAgA7oWk0YpywAwBp1tSaMUxYAYE26XBPGKQsA
sGJ9qAnjlAUAWKG+1IRxygIArEDfasI4ZQEAlqyPNWGcsgAAS9LnmjBOWQCAJeh7TRinLADAAg2l
JoxTFgBgQYZUE8YpCwAwpyHWhHHKAgDMYag1YZyyAAAzGHpNGKcsAMCUNqEmjFMWAOCINqkmjFMW
AOAINq0mjFMWAGCCTa0J45QFADjAJteEccoCAOyjJlxMWQCAMWrCgykLABA1YRJlAYCNpyZMpiwA
sLHUhKNRFgDYSGrC0SkLAGwUNWF6ygIAG0NNmI2yAMDgqQnzURYAGDQ1YX7KAgCDpCYsjrIAwOCo
CYulLAAwGGrCcigLAAyCmrA8ygIAvaYmLJ+yAEBvqQmroSwA0DtqwmopCwD0ipqwesoCAL2gJqyP
sgBA56kJ66UsANBZakI3KAsAdJKa0B3KAgCdoiZ0j7IAQGeoCd2kLACwdmpCtykLAKyVmtB9ygIA
a6Em9IeyAMDKqQn9oiwAsDJqQj8pCwCshJrQX8oCAEulJvSfsgDA0qgJw6AsALBwasKwKAsALJSa
MDzKAgALoSYMl7IAwNzUhGFTFgCYmZqwGZQFAGaiJmwOZQGAqagJm0dZAODI1ITNpCwAcCg1YbMp
CwBMpCYwVVmoqrdW1Zer6nxV3VNVH6uqJx2yzfVV9cC+x4+r6jHzDR2AZVITuGDatyGuS/KBJE9L
cjLJQ5PsVNXDD9muJfmFJFfsPR7bWrt3yn0DsCJnziTXXJPcdtuoJuzsJFdeue5RsS5TvQ3RWrtx
/HlVvSrJvUlOJLn9kM2/11o7P9XoAFip3d3k5puT06eTkydHv5okMO8Fjo/OqBp8/5D1KskdVfXt
qtqpqmfOuV8AFkxN4CAzTxaqqpK8L8ntrbWvTlj1O0lel+TlSV6W5O4kn6uqp866bwAWx7UJHGae
T0PckuQpSZ41aaXW2p1J7hxb9KWqemKSU0lummP/AMzJJx04ipkmC1X1wSQ3JrmutfadGV7iyzlk
kpEkp06dyrFjxy5atrW1la2trRl2CcAFrk0Yhu3t7Wxvb1+0bHd3d+H7qdbadBuMJgovSXJ9a+0b
M+20aifJ+dbaKw74+fEkZ8+ePZvjx4/PsgsADjBeE979bjVhaM6dO5cTJ04kyYnW2rlFvOZUZaGq
bkmyleTFSX5YVZfv/Wi3tXb/3jpvT/JzrbWb9p6/Ock3k3wlyWVJXpvkuUmev4g/AABHoyYwq2nf
hnh9Rp9++Ny+5a9O8gd7v39skseP/eynkrw7yeOS/F2Sv0jyvNba56cdLACzcW0C85j2exYO/fRE
a+3V+56/K8m7phwXAAugJrAI7g0BMFBqAovirpMAA+N7E1g0ZQFgQNQElkFZABgANYFlUhYAek5N
YNmUBYCeUhNYFWUBoIfUBFZJWQDoETWBdVAWAHpCTWBdlAWAjlMTWDdlAaDD1AS6QFkA6CA1gS5R
FgA6Rk2ga5QFgI5QE+gqZQGgA9QEukxZAFgjNYE+UBYA1kRNoC+UBYAVUxPoG2UBYIXUBPpIWQBY
ATWBPlMWAJZMTaDvlAWAJVETGAplAWAJ1ASGRFkAWCA1gSFSFgAWRE1gqJQFgDmpCQydsgAwBzWB
TaAsAMxATWCTKAsAU1IT2DTKAsARqQlsKmUB4AjUBDaZsgAwgZoAygLAgdQEGFEWAPZRE+BiygLA
GDUBHkxZAIiaAJMoC8DGUxNgMmUB2FhqAhyNsgBsJDUBjk5ZADaKmgDTUxaAjaEmwGyUBWDw1ASY
j7IADJqaAPNTFoBBUhNgcZQFYHDUBFgsZQEYDDUBlkNZAAZBTYDlURaAXlMTYPmUBaC31ARYDWUB
6B01AVZLWQB6RU2A1VMWgF5QE2B9lAWg89QEWC9lAegsNQG6QVkAOklNgO5QFoBOUROge5QFoDPU
BOgmZQFYOzUBuk1ZANZKTYDuUxaAtVAToD+UBWDl1AToF2UBWBk1AfpJWQBWQk2A/lIWgKVSE6D/
lAVgadQEGAZlAVg4NQGGRVkAFkpNgOGZqixU1Vur6stVdb6q7qmqj1XVk46w3XOq6mxV3V9Vd1bV
TbMPGegiNQGGa9q3Ia5L8oEkT0tyMslDk+xU1cMP2qCqrkryiSSfSXJtkvcnOV1Vz59hvEAHnTmT
XHNNcttto5qws5NceeW6RwUsylRvQ7TWbhx/XlWvSnJvkhNJbj9gszck+UZr7bf3nn+9qn4lyakk
fzLVaIFO2d1Nbr45OX06OXly9KtJAgzPvBc4PjpJS/L9Ces8Pcmn9y07k+QZc+4bWCM1ATbHzJOF
qqok70tye2vtqxNWvSLJPfuW3ZPkUVX1sFn3D6zH+fOuTYBNM8+nIW5J8pQkz1rQWB7k1KlTOXbs
2EXLtra2srW1taxdAhPs7Iw+6fA3f+OTDtAF29vb2d7evmjZ7u7uwvdTrbXpN6r6YJJ/nuS61tq3
Dln3z5Kcba39u7Flr0ry3tbaTx+wzfEkZ8+ePZvjx49PPT5gsc6fT97yFtcmQB+cO3cuJ06cSJIT
rbVzi3jNqcvC3kThJUmuP2yisOeLSW7Yt+wFe8uBjlMTgGm/Z+GWJK9M8utJflhVl+89Lhtb5+1V
9ZGxzT6U5AlV9c6qenJVvTHJK5K8ZwHjB5bkwrUJL3xh8uQnuzYBNtm0Fzi+PsmjknwuybfHHv9i
bJ3HJnn8hSettbuS/GpG38twR0YfmfzN1tr+T0gAHbGz45MOwP837fcsHDq5aK29+hLLPp/RdzEA
HebaBOBS3BsCSOLaBOBg7joJG861CcBhlAXYYGoCcBTKAmwgNQGYhrIAG0ZNAKalLMCGUBOAWSkL
sAHUBGAeygIMmJoALIKyAAOlJgCLoizAwKgJwKIpCzAgagKwDMoCDICaACyTsgA9pyYAy6YsQE+p
CcCqKAvQQ2oCsErKAvSImgCsg7IAPaEmAOuiLEDHqQnAuikL0GFqAtAFygJ0kJoAdImyAB2jJgBd
oyxAR6gJQFcpC9ABagLQZcoCrJGaAPSBsgBroiYAfaEswIqpCUDfKAuwQmoC0EfKAqyAmgD0mbIA
S6YmAH2nLMCSqAnAUCgLsARqAjAkygIskJoADJGyAAuiJgBDpSzAnNQEYOiUBZiDmgBsAmUBZqAm
AJtEWYApqQnAplEW4IjUBGBTKQtwBGoCsMmUBZhATQBQFuBAagLAiLIA+6gJABdTFmCMmgDwYMoC
RE0AmERZYOOpCQCTKQtsLDUB4GiUBTaSmgBwdMoCG0VNAJiessDGUBMAZqMsMHhqAsB8lAUGTU0A
mJ+ywCCpCQCLoywwOGoCwGIpCwyGmgCwHMoCg6AmACyPskCvqQkAy6cs0FtqAsBqKAv0jpoAsFrK
Ar2iJgCsnrJAL6gJAOujLNB5agLAeikLdJaaANANygKdpCYAdIeyQKeoCQDdoyzQGWoCQDcpC6yd
mgDQbcoCa6UmAHTf1GWhqq6rqo9X1V9X1QNV9eJD1r9+b73xx4+r6jGzD5u+UxMA+mOWsvDIJHck
+S9J/tsRt2lJnpTkBz9Z0Nq9M+ybAVATAPpl6slCa+1TST6VJFVT/RX/vdba+Wn3x3CcP5+85S3J
6dPJyZOjX6+8ct2jAuAwq7rAsZLcUVXfrqqdqnrmivZLR+zsJNdck9x226gm7OyYKAD0xSomC99J
8rokL0/ysiR3J/lcVT11BftmzVybANB/S/80RGvtziR3ji36UlU9McmpJDdN2vbUqVM5duzYRcu2
traytbW18HGyeK5NAFiu7e3tbG9vX7Rsd3d34fup1trsG1c9kOTXWmsfn3K7303yrNbasw74+fEk
Z8+ePZvjx4/PPD7Ww7UJAOtz7ty5nDhxIklOtNbOLeI11/U9C0/N6O0JBkZNABieqScLVfXIJD+f
0UWLSfKEqro2yfdba3dX1TuSPK61dtPe+m9O8s0kX0lyWZLXJnlukucvYPx0hJoAMFyzlIVfTvKn
GX13Qkvy7r3lH0nyG0muSPL4sfV/am+dxyX5uyR/keR5rbXPzzhmOkZNABi2Wb5n4c8y4VMUrbVX
73v+riTvmn5odJ2aALAZ3BuCmagJAJvDXSeZiu9NANg8ygJHpiYAbCZlgUOpCQCbTVlgIjUBAGWB
S1ITALhAWeBB1AQAxikL/ISaAMClKAskURMAOJiysOHUBAAOoyxsMDUBgKNQFjaQmgDANJSFDaMm
ADAtZWFDqAkAzEpZ2ABqAgDzUBYGTE0AYBGUhYFSEwBYFGVhYNQEABZNWRgQNQGAZVAWBkBNAGCZ
lIWeUxMAWDZloafUBABWRVnoITUBgFVSFnpETQBgHZSFnlATAFgXZaHj1AQA1k1Z6DA1AYAuUBY6
SE0AoEuUhY5REwDoGmWhI9QEALpKWegANQGALlMW1khNAKAPlIU1URMA6AtlYcXUBAD6RllYITUB
gD5SFlZATQCgz5SFJVMTAOg7ZWFJ1AQAhkJZWAI1AYAhURYWSE0AYIiUhQVREwAYKmVhTmoCAEOn
LMxBTQBgEygLM1ATANgkysKU1AQANo2ycERqAgCbSlk4AjUBgE2mLEygJgCAsnAgNQEARpSFfdQE
ALiYsjBGTQCAB1MWoiYAwCQbXxbUBACYbGPLgpoAAEezkWVBTQCAo9uosqAmAMD0NqYsqAkAMJvB
lwU1AQDmM+iyoCYAwPwGWRbUBABYnMGVBTUBABZrMGVBTQCA5RhEWVATAGB5el0W1AQAWL7elgU1
AQBWo3dlQU3op+3t7XUPgQVyPIfF8eQwU08Wquq6qvp4Vf11VT1QVS8+wjbPqaqzVXV/Vd1ZVTfN
MtidneSaa5LbbhvVhJ2d5MorZ3klVs1fRsPieA6L48lhZikLj0xyR5I3JmmHrVxVVyX5RJLPJLk2
yfuTnK6q5x91h2oCAKzP1NcstNY+leRTSVJ1pH+u35DkG6213957/vWq+pUkp5L8yWEbuzYBANZr
FdcsPD3Jp/ctO5PkGYdt+La3qQkAsG6r+DTEFUnu2bfsniSPqqqHtdb+/hLbXJYkn/zk1/I7v5O8
9KXJffeNHvTT7u5uzp07t+5hsCCO57A4nsPyta997cJvL1vUa1Zrh152cPDGVQ8k+bXW2scnrPP1
JLe21t45tuyGjK5jeMSlJgtV9etJ/nDmgQEAr2yt/dEiXmgVZeG7SS7ft+zyJOcPqArJ6G2KVya5
K8n9yxsaAAzOZUmuyujf0oVYxWThi0lu2LfsBXvLL6m1dl+ShcyGAGADfWGRLzbL9yw8sqquraqn
7i16wt7zx+/9/B1V9ZGxTT60t847q+rJVfXGJK9I8p65Rw8ALN3U1yxU1fVJ/jQP/o6Fj7TWfqOq
PpzkytbaPxvb5tlJ3pvkKUn+V5L/1Fr7r3ONHABYibkucAQAhq9394YAAFbLZAEAmGgtk4WqelNV
fbOqflRVX6qqf3LI+gu5ERXLM80xrarr925CNv74cVU9ZpVj5tLWebM4Fm/a4+n87LaqemtVfbmq
zlfVPVX1sap60hG2m+scXflkoar+ZZJ3J/mPSf5xkj9PcqaqfvaA9a/KnDeiYrmmPaZ7WpJfyOgb
Pq9I8tjW2r3LHitHsvKbxbFUUx3PPc7P7rouyQeSPC3JySQPTbJTVQ8/aINFnKMrv8Cxqr6U5L+3
1t6897yS3J3kP7fWfvcS678zyQ2ttV8aW7ad5Fhr7cYVDZsJZjim1yf5bJKfbq2dX+lgmcoRv6XV
OdoTRzyezs8e2ftP2b1Jnt1au/2AdeY+R1daFqrqoUlOZDS7SZK00Wzl0zn4xlIz34iK5ZvxmCZJ
Jbmjqr5dVTtV9czljpQlco4Oj/OzPx6dUQn6/oR15j5HV/02xM8m+Qe59I2lrjhgm4k3olrs8JjB
LMf0O0lel+TlSV6WUYX43NgXfdEvztFhcX72xF7FfV+S21trX52w6tzn6Cq+7hku0lq7M8mdY4u+
VFVPTHIqiQvjYI2cn71yS0ZfdvisZe9o1WXhfyf5cS59Y6nvHrDNLDeiYnVmOaaX8uUkP7+oQbFS
ztHhc352TFV9MMmNSZ7TWvvOIavPfY6udLLQWvs/Sc4med6FZXsZ5Xk5+KYXXxxff8/EG1GxOjMe
00t5akb5k/5xjg6f87ND9iYKL0ny3Nbat46wydzn6DrehnhPkt+vqrMZzVZPJXlEkt9PRjeiSvK4
1tqF3PWhJG/au5rz1oz+wK/IaEZFN0x1TKvqzUm+meQrGd1K9bVJnpvER+06oKoemdH/Imtv0ROq
6tok32+t3e0c7Zdpj6fzs9uq6pYkW0lenOSHVXWhGOy21u7fW+ftSX5uoedoa23lj4w+73tXkh9l
NLP55bGffTjJZ/et/+yM/vf6oyT/M8m/Wce4PRZzTJP8+73j+MMk38vokxTPXvefweMnx+f6JA9k
9PbS+OPWSx3PvWXO0Y4+pj2ezs9uPw44lj9O8m/H1ln4OepGUgDARO4NAQBMZLIAAExksgAATGSy
AABMZLIAAExksgAATGSyAABMZLIAAExksgAATGSyAABMZLIAAEz0/wAY74KMcDHlWgAAAABJRU5E
rkJggg==
"
>
</div>

</div>

</div>
</div>

</div>
<div class="cell border-box-sizing code_cell rendered">
<div class="input">
<div class="prompt input_prompt">In&nbsp;[6]:</div>
<div class="inner_cell">
    <div class="input_area">
<div class=" highlight hl-ipython3"><pre><span></span><span class="n">plot</span><span class="p">(</span><span class="n">rand</span><span class="p">(</span><span class="mi">100</span><span class="p">))</span>
</pre></div>

</div>
</div>
</div>

<div class="output_wrapper">
<div class="output">


<div class="output_area"><div class="prompt output_prompt">Out[6]:</div>


<div class="output_text output_subarea output_execute_result">
<pre>[&lt;matplotlib.lines.Line2D at 0x10c189518&gt;]</pre>
</div>

</div>

<div class="output_area"><div class="prompt"></div>


<div class="output_png output_subarea ">
<img src="data:image/png;base64,iVBORw0KGgoAAAANSUhEUgAAAg0AAAFkCAYAAACjCwibAAAABHNCSVQICAgIfAhkiAAAAAlwSFlz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"
>
</div>

</div>

</div>
</div>

</div>
<div class="cell border-box-sizing code_cell rendered">
<div class="input">
<div class="prompt input_prompt">In&nbsp;[7]:</div>
<div class="inner_cell">
    <div class="input_area">
<div class=" highlight hl-ipython3"><pre><span></span><span class="n">plot</span><span class="p">([</span><span class="mi">100</span><span class="p">,</span><span class="mi">1</span><span class="p">,</span><span class="mi">50</span><span class="p">,</span><span class="mi">20</span><span class="p">])</span>
</pre></div>

</div>
</div>
</div>

<div class="output_wrapper">
<div class="output">


<div class="output_area"><div class="prompt output_prompt">Out[7]:</div>


<div class="output_text output_subarea output_execute_result">
<pre>[&lt;matplotlib.lines.Line2D at 0x10c1f1198&gt;]</pre>
</div>

</div>

<div class="output_area"><div class="prompt"></div>


<div class="output_png output_subarea ">
<img src="data:image/png;base64,iVBORw0KGgoAAAANSUhEUgAAAhAAAAFkCAYAAABxWwLDAAAABHNCSVQICAgIfAhkiAAAAAlwSFlz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"
>
</div>

</div>

</div>
</div>

</div>
<div class="cell border-box-sizing code_cell rendered">
<div class="input">
<div class="prompt input_prompt">In&nbsp;[11]:</div>
<div class="inner_cell">
    <div class="input_area">
<div class=" highlight hl-ipython3"><pre><span></span><span class="n">x</span><span class="o">=</span><span class="n">linspace</span><span class="p">(</span><span class="o">-</span><span class="mi">10</span><span class="p">,</span><span class="mi">10</span><span class="p">,</span><span class="mi">300</span><span class="p">)</span>
</pre></div>

</div>
</div>
</div>

</div>
<div class="cell border-box-sizing code_cell rendered">
<div class="input">
<div class="prompt input_prompt">In&nbsp;[12]:</div>
<div class="inner_cell">
    <div class="input_area">
<div class=" highlight hl-ipython3"><pre><span></span><span class="n">plot</span><span class="p">(</span><span class="n">x</span><span class="p">,</span><span class="n">sin</span><span class="p">(</span><span class="n">x</span><span class="p">))</span>
</pre></div>

</div>
</div>
</div>

<div class="output_wrapper">
<div class="output">


<div class="output_area"><div class="prompt output_prompt">Out[12]:</div>


<div class="output_text output_subarea output_execute_result">
<pre>[&lt;matplotlib.lines.Line2D at 0x10ec978d0&gt;]</pre>
</div>

</div>

<div class="output_area"><div class="prompt"></div>


<div class="output_png output_subarea ">
<img src="data:image/png;base64,iVBORw0KGgoAAAANSUhEUgAAAhUAAAFkCAYAAACXcsmHAAAABHNCSVQICAgIfAhkiAAAAAlwSFlz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"
>
</div>

</div>

</div>
</div>

</div>
<div class="cell border-box-sizing code_cell rendered">
<div class="input">
<div class="prompt input_prompt">In&nbsp;[13]:</div>
<div class="inner_cell">
    <div class="input_area">
<div class=" highlight hl-ipython3"><pre><span></span><span class="n">x</span>
</pre></div>

</div>
</div>
</div>

<div class="output_wrapper">
<div class="output">


<div class="output_area"><div class="prompt output_prompt">Out[13]:</div>


<div class="output_text output_subarea output_execute_result">
<pre>array([-10.        ,  -9.93311037,  -9.86622074,  -9.7993311 ,
        -9.73244147,  -9.66555184,  -9.59866221,  -9.53177258,
        -9.46488294,  -9.39799331,  -9.33110368,  -9.26421405,
        -9.19732441,  -9.13043478,  -9.06354515,  -8.99665552,
        -8.92976589,  -8.86287625,  -8.79598662,  -8.72909699,
        -8.66220736,  -8.59531773,  -8.52842809,  -8.46153846,
        -8.39464883,  -8.3277592 ,  -8.26086957,  -8.19397993,
        -8.1270903 ,  -8.06020067,  -7.99331104,  -7.9264214 ,
        -7.85953177,  -7.79264214,  -7.72575251,  -7.65886288,
        -7.59197324,  -7.52508361,  -7.45819398,  -7.39130435,
        -7.32441472,  -7.25752508,  -7.19063545,  -7.12374582,
        -7.05685619,  -6.98996656,  -6.92307692,  -6.85618729,
        -6.78929766,  -6.72240803,  -6.65551839,  -6.58862876,
        -6.52173913,  -6.4548495 ,  -6.38795987,  -6.32107023,
        -6.2541806 ,  -6.18729097,  -6.12040134,  -6.05351171,
        -5.98662207,  -5.91973244,  -5.85284281,  -5.78595318,
        -5.71906355,  -5.65217391,  -5.58528428,  -5.51839465,
        -5.45150502,  -5.38461538,  -5.31772575,  -5.25083612,
        -5.18394649,  -5.11705686,  -5.05016722,  -4.98327759,
        -4.91638796,  -4.84949833,  -4.7826087 ,  -4.71571906,
        -4.64882943,  -4.5819398 ,  -4.51505017,  -4.44816054,
        -4.3812709 ,  -4.31438127,  -4.24749164,  -4.18060201,
        -4.11371237,  -4.04682274,  -3.97993311,  -3.91304348,
        -3.84615385,  -3.77926421,  -3.71237458,  -3.64548495,
        -3.57859532,  -3.51170569,  -3.44481605,  -3.37792642,
        -3.31103679,  -3.24414716,  -3.17725753,  -3.11036789,
        -3.04347826,  -2.97658863,  -2.909699  ,  -2.84280936,
        -2.77591973,  -2.7090301 ,  -2.64214047,  -2.57525084,
        -2.5083612 ,  -2.44147157,  -2.37458194,  -2.30769231,
        -2.24080268,  -2.17391304,  -2.10702341,  -2.04013378,
        -1.97324415,  -1.90635452,  -1.83946488,  -1.77257525,
        -1.70568562,  -1.63879599,  -1.57190635,  -1.50501672,
        -1.43812709,  -1.37123746,  -1.30434783,  -1.23745819,
        -1.17056856,  -1.10367893,  -1.0367893 ,  -0.96989967,
        -0.90301003,  -0.8361204 ,  -0.76923077,  -0.70234114,
        -0.63545151,  -0.56856187,  -0.50167224,  -0.43478261,
        -0.36789298,  -0.30100334,  -0.23411371,  -0.16722408,
        -0.10033445,  -0.03344482,   0.03344482,   0.10033445,
         0.16722408,   0.23411371,   0.30100334,   0.36789298,
         0.43478261,   0.50167224,   0.56856187,   0.63545151,
         0.70234114,   0.76923077,   0.8361204 ,   0.90301003,
         0.96989967,   1.0367893 ,   1.10367893,   1.17056856,
         1.23745819,   1.30434783,   1.37123746,   1.43812709,
         1.50501672,   1.57190635,   1.63879599,   1.70568562,
         1.77257525,   1.83946488,   1.90635452,   1.97324415,
         2.04013378,   2.10702341,   2.17391304,   2.24080268,
         2.30769231,   2.37458194,   2.44147157,   2.5083612 ,
         2.57525084,   2.64214047,   2.7090301 ,   2.77591973,
         2.84280936,   2.909699  ,   2.97658863,   3.04347826,
         3.11036789,   3.17725753,   3.24414716,   3.31103679,
         3.37792642,   3.44481605,   3.51170569,   3.57859532,
         3.64548495,   3.71237458,   3.77926421,   3.84615385,
         3.91304348,   3.97993311,   4.04682274,   4.11371237,
         4.18060201,   4.24749164,   4.31438127,   4.3812709 ,
         4.44816054,   4.51505017,   4.5819398 ,   4.64882943,
         4.71571906,   4.7826087 ,   4.84949833,   4.91638796,
         4.98327759,   5.05016722,   5.11705686,   5.18394649,
         5.25083612,   5.31772575,   5.38461538,   5.45150502,
         5.51839465,   5.58528428,   5.65217391,   5.71906355,
         5.78595318,   5.85284281,   5.91973244,   5.98662207,
         6.05351171,   6.12040134,   6.18729097,   6.2541806 ,
         6.32107023,   6.38795987,   6.4548495 ,   6.52173913,
         6.58862876,   6.65551839,   6.72240803,   6.78929766,
         6.85618729,   6.92307692,   6.98996656,   7.05685619,
         7.12374582,   7.19063545,   7.25752508,   7.32441472,
         7.39130435,   7.45819398,   7.52508361,   7.59197324,
         7.65886288,   7.72575251,   7.79264214,   7.85953177,
         7.9264214 ,   7.99331104,   8.06020067,   8.1270903 ,
         8.19397993,   8.26086957,   8.3277592 ,   8.39464883,
         8.46153846,   8.52842809,   8.59531773,   8.66220736,
         8.72909699,   8.79598662,   8.86287625,   8.92976589,
         8.99665552,   9.06354515,   9.13043478,   9.19732441,
         9.26421405,   9.33110368,   9.39799331,   9.46488294,
         9.53177258,   9.59866221,   9.66555184,   9.73244147,
         9.7993311 ,   9.86622074,   9.93311037,  10.        ])</pre>
</div>

</div>

</div>
</div>

</div>
<div class="cell border-box-sizing code_cell rendered">
<div class="input">
<div class="prompt input_prompt">In&nbsp;[14]:</div>
<div class="inner_cell">
    <div class="input_area">
<div class=" highlight hl-ipython3"><pre><span></span><span class="n">mylist</span><span class="o">=</span> <span class="nb">range</span><span class="p">(</span><span class="mi">10</span><span class="p">)</span>
</pre></div>

</div>
</div>
</div>

</div>
<div class="cell border-box-sizing code_cell rendered">
<div class="input">
<div class="prompt input_prompt">In&nbsp;[15]:</div>
<div class="inner_cell">
    <div class="input_area">
<div class=" highlight hl-ipython3"><pre><span></span><span class="n">mylist</span>
</pre></div>

</div>
</div>
</div>

<div class="output_wrapper">
<div class="output">


<div class="output_area"><div class="prompt output_prompt">Out[15]:</div>


<div class="output_text output_subarea output_execute_result">
<pre>range(0, 10)</pre>
</div>

</div>

</div>
</div>

</div>
<div class="cell border-box-sizing code_cell rendered">
<div class="input">
<div class="prompt input_prompt">In&nbsp;[16]:</div>
<div class="inner_cell">
    <div class="input_area">
<div class=" highlight hl-ipython3"><pre><span></span><span class="nb">range</span><span class="p">(</span><span class="mi">10</span><span class="p">)</span>
</pre></div>

</div>
</div>
</div>

<div class="output_wrapper">
<div class="output">


<div class="output_area"><div class="prompt output_prompt">Out[16]:</div>


<div class="output_text output_subarea output_execute_result">
<pre>range(0, 10)</pre>
</div>

</div>

</div>
</div>

</div>
<div class="cell border-box-sizing code_cell rendered">
<div class="input">
<div class="prompt input_prompt">In&nbsp;[23]:</div>
<div class="inner_cell">
    <div class="input_area">
<div class=" highlight hl-ipython3"><pre><span></span><span class="n">L</span><span class="o">=</span><span class="nb">range</span><span class="p">(</span><span class="mi">10</span><span class="p">)</span>
</pre></div>

</div>
</div>
</div>

</div>
<div class="cell border-box-sizing code_cell rendered">
<div class="input">
<div class="prompt input_prompt">In&nbsp;[18]:</div>
<div class="inner_cell">
    <div class="input_area">
<div class=" highlight hl-ipython3"><pre><span></span><span class="n">L</span>
</pre></div>

</div>
</div>
</div>

<div class="output_wrapper">
<div class="output">


<div class="output_area"><div class="prompt output_prompt">Out[18]:</div>


<div class="output_text output_subarea output_execute_result">
<pre>range(0, 10)</pre>
</div>

</div>

</div>
</div>

</div>
<div class="cell border-box-sizing code_cell rendered">
<div class="input">
<div class="prompt input_prompt">In&nbsp;[24]:</div>
<div class="inner_cell">
    <div class="input_area">
<div class=" highlight hl-ipython3"><pre><span></span><span class="n">L</span><span class="p">[</span><span class="mi">2</span><span class="p">]</span>
</pre></div>

</div>
</div>
</div>

<div class="output_wrapper">
<div class="output">


<div class="output_area"><div class="prompt output_prompt">Out[24]:</div>


<div class="output_text output_subarea output_execute_result">
<pre>2</pre>
</div>

</div>

</div>
</div>

</div>
<div class="cell border-box-sizing code_cell rendered">
<div class="input">
<div class="prompt input_prompt">In&nbsp;[26]:</div>
<div class="inner_cell">
    <div class="input_area">
<div class=" highlight hl-ipython3"><pre><span></span><span class="nb">range</span><span class="p">(</span><span class="mi">0</span><span class="p">,</span><span class="mi">10</span><span class="p">,</span><span class="mi">2</span><span class="p">)</span>
</pre></div>

</div>
</div>
</div>

<div class="output_wrapper">
<div class="output">


<div class="output_area"><div class="prompt output_prompt">Out[26]:</div>


<div class="output_text output_subarea output_execute_result">
<pre>range(0, 10, 2)</pre>
</div>

</div>

</div>
</div>

</div>
<div class="cell border-box-sizing code_cell rendered">
<div class="input">
<div class="prompt input_prompt">In&nbsp;[29]:</div>
<div class="inner_cell">
    <div class="input_area">
<div class=" highlight hl-ipython3"><pre><span></span><span class="k">for</span> <span class="n">i</span> <span class="ow">in</span> <span class="p">[</span><span class="mi">3</span><span class="p">,</span> <span class="mi">4</span><span class="p">,</span> <span class="mi">5</span><span class="p">]:</span>
    <span class="nb">print</span> <span class="p">(</span><span class="n">i</span><span class="p">)</span>
</pre></div>

</div>
</div>
</div>

<div class="output_wrapper">
<div class="output">


<div class="output_area"><div class="prompt"></div>
<div class="output_subarea output_stream output_stdout output_text">
<pre>3
4
5
</pre>
</div>
</div>

</div>
</div>

</div>
<div class="cell border-box-sizing text_cell rendered">
<div class="prompt input_prompt">
</div>
<div class="inner_cell">
<div class="text_cell_render border-box-sizing rendered_html">
<h1 id="&#35336;&#31639;1~9&#24179;&#26041;&#21152;&#32317;">&#35336;&#31639;1~9&#24179;&#26041;&#21152;&#32317;<a class="anchor-link" href="#&#35336;&#31639;1~9&#24179;&#26041;&#21152;&#32317;">&#182;</a></h1>
</div>
</div>
</div>
<div class="cell border-box-sizing code_cell rendered">
<div class="input">
<div class="prompt input_prompt">In&nbsp;[34]:</div>
<div class="inner_cell">
    <div class="input_area">
<div class=" highlight hl-ipython3"><pre><span></span><span class="n">y</span> <span class="o">=</span> <span class="mi">0</span>
<span class="k">for</span> <span class="n">x</span> <span class="ow">in</span> <span class="nb">range</span><span class="p">(</span><span class="mi">10</span><span class="p">):</span>
    <span class="n">y</span> <span class="o">=</span> <span class="n">y</span> <span class="o">+</span> <span class="n">x</span><span class="o">**</span><span class="mi">2</span>
    <span class="nb">print</span> <span class="p">(</span><span class="n">x</span><span class="p">,</span> <span class="n">y</span><span class="p">)</span>
</pre></div>

</div>
</div>
</div>

<div class="output_wrapper">
<div class="output">


<div class="output_area"><div class="prompt"></div>
<div class="output_subarea output_stream output_stdout output_text">
<pre>0 0
1 1
2 5
3 14
4 30
5 55
6 91
7 140
8 204
9 285
</pre>
</div>
</div>

</div>
</div>

</div>
<div class="cell border-box-sizing text_cell rendered">
<div class="prompt input_prompt">
</div>
<div class="inner_cell">
<div class="text_cell_render border-box-sizing rendered_html">
<h1 id="&#35336;&#31639;1~100&#32317;&#21644;">&#35336;&#31639;1~100&#32317;&#21644;<a class="anchor-link" href="#&#35336;&#31639;1~100&#32317;&#21644;">&#182;</a></h1>
</div>
</div>
</div>
<div class="cell border-box-sizing code_cell rendered">
<div class="input">
<div class="prompt input_prompt">In&nbsp;[38]:</div>
<div class="inner_cell">
    <div class="input_area">
<div class=" highlight hl-ipython3"><pre><span></span><span class="n">y</span><span class="o">=</span><span class="mi">0</span>
<span class="k">for</span> <span class="n">x</span> <span class="ow">in</span> <span class="nb">range</span><span class="p">(</span><span class="mi">101</span><span class="p">):</span>
    <span class="n">y</span><span class="o">=</span><span class="n">y</span><span class="o">+</span><span class="n">x</span>
<span class="nb">print</span> <span class="p">(</span><span class="n">y</span><span class="p">)</span>
</pre></div>

</div>
</div>
</div>

<div class="output_wrapper">
<div class="output">


<div class="output_area"><div class="prompt"></div>
<div class="output_subarea output_stream output_stdout output_text">
<pre>5050
</pre>
</div>
</div>

</div>
</div>

</div>
<div class="cell border-box-sizing text_cell rendered">
<div class="prompt input_prompt">
</div>
<div class="inner_cell">
<div class="text_cell_render border-box-sizing rendered_html">
<h1 id="&#32362;&#22294;&#32244;&#32722;">&#32362;&#22294;&#32244;&#32722;<a class="anchor-link" href="#&#32362;&#22294;&#32244;&#32722;">&#182;</a></h1>
</div>
</div>
</div>
<div class="cell border-box-sizing code_cell rendered">
<div class="input">
<div class="prompt input_prompt">In&nbsp;[40]:</div>
<div class="inner_cell">
    <div class="input_area">
<div class=" highlight hl-ipython3"><pre><span></span><span class="n">x</span><span class="o">=</span> <span class="n">randn</span><span class="p">(</span><span class="mi">100</span><span class="p">)</span>
<span class="n">y</span><span class="o">=</span> <span class="n">randn</span><span class="p">(</span><span class="mi">100</span><span class="p">)</span>
</pre></div>

</div>
</div>
</div>

</div>
<div class="cell border-box-sizing code_cell rendered">
<div class="input">
<div class="prompt input_prompt">In&nbsp;[41]:</div>
<div class="inner_cell">
    <div class="input_area">
<div class=" highlight hl-ipython3"><pre><span></span><span class="n">scatter</span><span class="p">(</span><span class="n">x</span><span class="p">,</span><span class="n">y</span><span class="p">)</span>
</pre></div>

</div>
</div>
</div>

<div class="output_wrapper">
<div class="output">


<div class="output_area"><div class="prompt output_prompt">Out[41]:</div>


<div class="output_text output_subarea output_execute_result">
<pre>&lt;matplotlib.collections.PathCollection at 0x10edc40b8&gt;</pre>
</div>

</div>

<div class="output_area"><div class="prompt"></div>


<div class="output_png output_subarea ">
<img src="data:image/png;base64,iVBORw0KGgoAAAANSUhEUgAAAgMAAAFkCAYAAAC9wjgoAAAABHNCSVQICAgIfAhkiAAAAAlwSFlz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"
>
</div>

</div>

</div>
</div>

</div>
<div class="cell border-box-sizing code_cell rendered">
<div class="input">
<div class="prompt input_prompt">In&nbsp;[42]:</div>
<div class="inner_cell">
    <div class="input_area">
<div class=" highlight hl-ipython3"><pre><span></span><span class="n">arrx</span> <span class="o">=</span> <span class="n">array</span><span class="p">([</span><span class="n">x</span><span class="o">&gt;</span><span class="mi">0</span><span class="p">])</span>
</pre></div>

</div>
</div>
</div>

</div>
<div class="cell border-box-sizing code_cell rendered">
<div class="input">
<div class="prompt input_prompt">In&nbsp;[43]:</div>
<div class="inner_cell">
    <div class="input_area">
<div class=" highlight hl-ipython3"><pre><span></span><span class="n">arrx</span>
</pre></div>

</div>
</div>
</div>

<div class="output_wrapper">
<div class="output">


<div class="output_area"><div class="prompt output_prompt">Out[43]:</div>


<div class="output_text output_subarea output_execute_result">
<pre>array([[False, False,  True, False, False, False, False,  True,  True,
         True,  True,  True, False,  True,  True, False,  True, False,
         True,  True, False, False,  True, False, False,  True,  True,
        False, False,  True,  True,  True,  True,  True,  True, False,
         True,  True, False,  True, False,  True, False,  True, False,
        False,  True, False,  True, False, False, False,  True,  True,
         True, False, False,  True,  True,  True,  True, False, False,
        False, False, False,  True, False, False, False, False, False,
        False,  True, False,  True, False,  True, False, False, False,
         True, False,  True, False,  True, False,  True,  True,  True,
         True,  True, False,  True, False,  True, False,  True,  True,
        False]], dtype=bool)</pre>
</div>

</div>

</div>
</div>

</div>
<div class="cell border-box-sizing code_cell rendered">
<div class="input">
<div class="prompt input_prompt">In&nbsp;[44]:</div>
<div class="inner_cell">
    <div class="input_area">
<div class=" highlight hl-ipython3"><pre><span></span><span class="n">x</span><span class="p">[</span><span class="n">x</span><span class="o">&gt;</span><span class="mi">0</span><span class="p">]</span>
</pre></div>

</div>
</div>
</div>

<div class="output_wrapper">
<div class="output">


<div class="output_area"><div class="prompt output_prompt">Out[44]:</div>


<div class="output_text output_subarea output_execute_result">
<pre>array([ 2.09271793,  0.99438104,  0.60472791,  1.01688514,  0.46093514,
        0.52538742,  0.31412753,  1.42816224,  0.03367377,  0.42288058,
        0.64234051,  0.55846383,  1.13005949,  1.28697721,  0.88649203,
        0.69256716,  2.75590574,  1.6923951 ,  0.75029037,  0.87279316,
        0.24649462,  0.30103432,  0.52127867,  1.52884446,  0.52154203,
        0.79674902,  1.39719185,  0.31324429,  1.11702632,  1.72800585,
        0.50079032,  0.63643817,  1.38663822,  2.2595534 ,  1.09766016,
        1.83388387,  0.19489463,  2.41663153,  0.25262604,  0.03370749,
        0.2556003 ,  0.9737725 ,  0.32027463,  0.39139065,  0.86828672,
        0.12789424,  0.45427853,  2.93109788,  0.40616737,  1.00462486])</pre>
</div>

</div>

</div>
</div>

</div>
<div class="cell border-box-sizing code_cell rendered">
<div class="input">
<div class="prompt input_prompt">In&nbsp;[50]:</div>
<div class="inner_cell">
    <div class="input_area">
<div class=" highlight hl-ipython3"><pre><span></span><span class="n">scatter</span> <span class="p">(</span><span class="n">x</span><span class="p">[</span><span class="n">x</span><span class="o">&gt;</span><span class="mi">0</span><span class="p">],</span> <span class="n">y</span><span class="p">[</span><span class="n">x</span><span class="o">&gt;</span><span class="mi">0</span><span class="p">],</span><span class="n">c</span><span class="o">=</span><span class="s1">&#39;red&#39;</span><span class="p">)</span>
</pre></div>

</div>
</div>
</div>

<div class="output_wrapper">
<div class="output">


<div class="output_area"><div class="prompt output_prompt">Out[50]:</div>


<div class="output_text output_subarea output_execute_result">
<pre>&lt;matplotlib.collections.PathCollection at 0x10fa72550&gt;</pre>
</div>

</div>

<div class="output_area"><div class="prompt"></div>


<div class="output_png output_subarea ">
<img src="data:image/png;base64,iVBORw0KGgoAAAANSUhEUgAAAgoAAAFkCAYAAABB1xPiAAAABHNCSVQICAgIfAhkiAAAAAlwSFlz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"
>
</div>

</div>

</div>
</div>

</div>
<div class="cell border-box-sizing code_cell rendered">
<div class="input">
<div class="prompt input_prompt">In&nbsp;[46]:</div>
<div class="inner_cell">
    <div class="input_area">
<div class=" highlight hl-ipython3"><pre><span></span><span class="n">y</span><span class="p">[</span><span class="n">y</span><span class="o">&gt;</span><span class="mi">0</span><span class="p">]</span>
</pre></div>

</div>
</div>
</div>

<div class="output_wrapper">
<div class="output">


<div class="output_area"><div class="prompt output_prompt">Out[46]:</div>


<div class="output_text output_subarea output_execute_result">
<pre>array([ 0.62668167,  0.79254778,  1.36115559,  0.43542258,  0.24310711,
        0.84331764,  0.2449756 ,  0.18813325,  0.67420422,  0.4426541 ,
        0.23791638,  2.80579687,  0.00840993,  0.01954192,  0.51414997,
        0.37168966,  0.03649864,  0.08779824,  1.29148485,  1.09463386,
        0.56906231,  0.78869442,  0.16185829,  0.83204188,  0.62377459,
        0.37101039,  0.25649735,  0.20764697,  0.20860654,  0.90518025,
        0.11771394,  1.28753891,  0.42068799,  0.69132164,  1.06325353,
        0.52802294,  0.14933538,  0.50956588,  0.33009207,  0.19493806,
        0.01658595,  1.25563382,  0.25570404,  0.36097365,  0.26385408,
        0.92872185,  0.08382725,  1.40669092,  1.26391549,  2.32227382,
        2.42270925,  0.78510119,  0.09541696,  0.10563631,  0.92415415,
        0.65675034])</pre>
</div>

</div>

</div>
</div>

</div>
<div class="cell border-box-sizing code_cell rendered">
<div class="input">
<div class="prompt input_prompt">In&nbsp;[47]:</div>
<div class="inner_cell">
    <div class="input_area">
<div class=" highlight hl-ipython3"><pre><span></span><span class="n">y</span><span class="p">[</span><span class="n">x</span><span class="o">&gt;</span><span class="mi">0</span><span class="p">]</span>
</pre></div>

</div>
</div>
</div>

<div class="output_wrapper">
<div class="output">


<div class="output_area"><div class="prompt output_prompt">Out[47]:</div>


<div class="output_text output_subarea output_execute_result">
<pre>array([ 1.36115559,  0.84331764, -0.37154899,  0.2449756 ,  0.18813325,
        0.67420422,  0.4426541 ,  0.23791638,  2.80579687,  0.01954192,
       -1.87176608,  0.37168966, -0.06797057, -0.22513173, -0.81759578,
        1.09463386,  0.56906231,  0.78869442,  0.16185829, -0.04216927,
       -0.43089724,  0.83204188,  0.62377459, -0.38240025, -0.47099798,
        0.20860654,  0.11771394,  0.42068799, -0.9041588 , -0.68677698,
        1.06325353, -0.80040561,  0.52802294, -0.99920987,  0.19493806,
        1.25563382, -0.23509162,  0.26385408, -0.62557929, -0.41446933,
        1.40669092,  1.26391549,  2.32227382,  2.42270925, -0.59266663,
       -0.39482286, -1.11667241,  0.10563631, -2.2894843 ,  0.65675034])</pre>
</div>

</div>

</div>
</div>

</div>
<div class="cell border-box-sizing code_cell rendered">
<div class="input">
<div class="prompt input_prompt">In&nbsp;[52]:</div>
<div class="inner_cell">
    <div class="input_area">
<div class=" highlight hl-ipython3"><pre><span></span><span class="n">scatter</span> <span class="p">(</span><span class="n">x</span><span class="p">[</span><span class="n">x</span><span class="o">&gt;</span><span class="mi">0</span><span class="p">],</span> <span class="n">y</span><span class="p">[</span><span class="n">x</span><span class="o">&gt;</span><span class="mi">0</span><span class="p">],</span> <span class="n">c</span><span class="o">=</span><span class="s1">&#39;red&#39;</span><span class="p">)</span>
<span class="n">scatter</span> <span class="p">(</span><span class="n">x</span><span class="p">[</span><span class="n">x</span><span class="o">&lt;</span><span class="mi">0</span><span class="p">],</span> <span class="n">y</span><span class="p">[</span><span class="n">x</span><span class="o">&lt;</span><span class="mi">0</span><span class="p">],</span> <span class="n">c</span><span class="o">=</span><span class="s1">&#39;blue&#39;</span><span class="p">)</span>
</pre></div>

</div>
</div>
</div>

<div class="output_wrapper">
<div class="output">


<div class="output_area"><div class="prompt output_prompt">Out[52]:</div>


<div class="output_text output_subarea output_execute_result">
<pre>&lt;matplotlib.collections.PathCollection at 0x10ff70c50&gt;</pre>
</div>

</div>

<div class="output_area"><div class="prompt"></div>


<div class="output_png output_subarea ">
<img src="data:image/png;base64,iVBORw0KGgoAAAANSUhEUgAAAgMAAAFkCAYAAAC9wjgoAAAABHNCSVQICAgIfAhkiAAAAAlwSFlz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"
>
</div>

</div>

</div>
</div>

</div>
<div class="cell border-box-sizing text_cell rendered">
<div class="prompt input_prompt">
</div>
<div class="inner_cell">
<div class="text_cell_render border-box-sizing rendered_html">
<p>Python array練習</p>

</div>
</div>
</div>
<div class="cell border-box-sizing code_cell rendered">
<div class="input">
<div class="prompt input_prompt">In&nbsp;[53]:</div>
<div class="inner_cell">
    <div class="input_area">
<div class=" highlight hl-ipython3"><pre><span></span><span class="n">lst</span> <span class="o">=</span> <span class="nb">range</span><span class="p">(</span><span class="mi">10</span><span class="p">)</span>
</pre></div>

</div>
</div>
</div>

</div>
<div class="cell border-box-sizing code_cell rendered">
<div class="input">
<div class="prompt input_prompt">In&nbsp;[54]:</div>
<div class="inner_cell">
    <div class="input_area">
<div class=" highlight hl-ipython3"><pre><span></span><span class="n">arr</span> <span class="o">=</span> <span class="n">array</span><span class="p">(</span><span class="n">lst</span><span class="p">)</span>
</pre></div>

</div>
</div>
</div>

</div>
<div class="cell border-box-sizing code_cell rendered">
<div class="input">
<div class="prompt input_prompt">In&nbsp;[55]:</div>
<div class="inner_cell">
    <div class="input_area">
<div class=" highlight hl-ipython3"><pre><span></span><span class="n">arr</span>
</pre></div>

</div>
</div>
</div>

<div class="output_wrapper">
<div class="output">


<div class="output_area"><div class="prompt output_prompt">Out[55]:</div>


<div class="output_text output_subarea output_execute_result">
<pre>array([0, 1, 2, 3, 4, 5, 6, 7, 8, 9])</pre>
</div>

</div>

</div>
</div>

</div>
<div class="cell border-box-sizing code_cell rendered">
<div class="input">
<div class="prompt input_prompt">In&nbsp;[56]:</div>
<div class="inner_cell">
    <div class="input_area">
<div class=" highlight hl-ipython3"><pre><span></span><span class="n">arr</span><span class="o">*</span><span class="n">arr</span>
</pre></div>

</div>
</div>
</div>

<div class="output_wrapper">
<div class="output">


<div class="output_area"><div class="prompt output_prompt">Out[56]:</div>


<div class="output_text output_subarea output_execute_result">
<pre>array([ 0,  1,  4,  9, 16, 25, 36, 49, 64, 81])</pre>
</div>

</div>

</div>
</div>

</div>
<div class="cell border-box-sizing code_cell rendered">
<div class="input">
<div class="prompt input_prompt">In&nbsp;[57]:</div>
<div class="inner_cell">
    <div class="input_area">
<div class=" highlight hl-ipython3"><pre><span></span><span class="k">for</span> <span class="n">i</span> <span class="ow">in</span> <span class="n">lst</span><span class="p">:</span>
    <span class="nb">print</span><span class="p">(</span><span class="n">i</span><span class="o">**</span><span class="mi">2</span><span class="p">)</span>
</pre></div>

</div>
</div>
</div>

<div class="output_wrapper">
<div class="output">


<div class="output_area"><div class="prompt"></div>
<div class="output_subarea output_stream output_stdout output_text">
<pre>0
1
4
9
16
25
36
49
64
81
</pre>
</div>
</div>

</div>
</div>

</div>
<div class="cell border-box-sizing code_cell rendered">
<div class="input">
<div class="prompt input_prompt">In&nbsp;[59]:</div>
<div class="inner_cell">
    <div class="input_area">
<div class=" highlight hl-ipython3"><pre><span></span><span class="n">randint</span><span class="p">(</span><span class="mi">1</span><span class="p">,</span><span class="mi">11</span><span class="p">,</span><span class="mi">100</span><span class="p">)</span>
</pre></div>

</div>
</div>
</div>

<div class="output_wrapper">
<div class="output">


<div class="output_area"><div class="prompt output_prompt">Out[59]:</div>


<div class="output_text output_subarea output_execute_result">
<pre>array([ 9,  1,  5,  9,  1,  3,  9,  1,  1, 10,  5,  3,  2,  4,  6,  2,  2,
        9, 10,  4,  5,  6,  6,  3,  4,  5,  8,  4,  9,  5, 10,  4,  9,  9,
        6,  4,  5, 10,  2,  2,  4,  2, 10, 10,  8,  2,  8,  7,  1,  8,  1,
        8,  5, 10,  2,  1,  8,  5,  4,  7,  9,  6,  9,  1,  7,  3,  5,  6,
       10,  8,  2,  5,  6,  1,  9,  9,  6,  9,  1,  7,  6, 10,  1,  9,  6,
        2,  6,  7,  9,  3,  7,  2,  4,  7,  1,  1,  6,  5,  2,  3])</pre>
</div>

</div>

</div>
</div>

</div>
<div class="cell border-box-sizing code_cell rendered">
<div class="input">
<div class="prompt input_prompt">In&nbsp;[60]:</div>
<div class="inner_cell">
    <div class="input_area">
<div class=" highlight hl-ipython3"><pre><span></span><span class="n">randn</span><span class="p">(</span><span class="mi">100</span><span class="p">)</span>
</pre></div>

</div>
</div>
</div>

<div class="output_wrapper">
<div class="output">


<div class="output_area"><div class="prompt output_prompt">Out[60]:</div>


<div class="output_text output_subarea output_execute_result">
<pre>array([  8.19323213e-01,   4.29798669e-01,   6.16072992e-01,
         5.31478883e-01,  -2.15602928e-01,  -1.69637707e-02,
        -5.94004563e-01,  -8.35895303e-01,  -5.70733431e-01,
         1.53231524e+00,   8.05704438e-01,  -2.48068543e+00,
        -1.09564817e-01,  -3.48192340e-01,   1.54186890e+00,
        -6.43291670e-01,  -6.35674853e-01,   1.43330492e+00,
        -1.99910110e+00,  -1.49080678e+00,  -1.05684935e+00,
         2.78787502e+00,  -1.16290792e-01,   1.23036803e-01,
         8.51503882e-02,  -9.48423037e-01,   9.93278797e-01,
        -1.51074539e+00,   1.25211860e+00,  -1.17860360e+00,
         2.19335682e-01,   4.64823424e-01,  -2.35904937e+00,
         1.85286796e+00,  -1.05067481e+00,   9.91563669e-01,
        -1.03635957e+00,   3.90790490e-01,  -2.21167535e-03,
        -1.33867614e+00,  -1.58062399e+00,  -2.06625405e-01,
        -7.59821708e-01,   5.73293433e-01,   4.62980582e-01,
        -6.08454832e-01,  -7.01735895e-01,  -2.04778752e-01,
         3.77000216e-02,  -1.67432694e+00,  -1.10618858e+00,
        -1.93653790e-01,  -7.76991654e-01,   1.98329212e-01,
         5.82333418e-01,   1.45092444e+00,   1.66873629e+00,
        -1.52692889e+00,   1.47003477e-01,   6.11848646e-01,
         4.64800600e-01,   3.26884646e-01,   1.32814130e+00,
         1.19144582e+00,  -1.20119791e+00,  -1.15794713e+00,
        -9.78804935e-02,   1.18277860e+00,   4.77259916e-01,
        -3.00434635e-02,   8.62348063e-01,  -7.57726592e-01,
         1.34991850e+00,  -7.13313977e-01,  -8.26096917e-01,
        -1.56305252e+00,  -3.37435700e-01,   1.36301309e+00,
         4.63826758e-01,  -6.33950444e-01,  -5.51456554e-01,
        -7.39431008e-01,  -1.50623716e-01,   6.31197332e-01,
         3.06625592e-01,  -8.64697053e-01,  -1.91850730e-01,
        -2.10849722e-01,   4.33602838e-01,  -1.73661413e+00,
        -4.85245700e-01,   5.04787527e-01,  -2.41013015e-01,
        -1.28086373e-01,   3.39780901e-01,  -6.46434502e-01,
        -2.75930996e-01,   9.91641706e-01,   4.83141861e-01,
        -4.18627653e-01])</pre>
</div>

</div>

</div>
</div>

</div>
<div class="cell border-box-sizing code_cell rendered">
<div class="input">
<div class="prompt input_prompt">In&nbsp;[61]:</div>
<div class="inner_cell">
    <div class="input_area">
<div class=" highlight hl-ipython3"><pre><span></span><span class="n">linspace</span><span class="p">(</span><span class="mi">0</span><span class="p">,</span><span class="mi">5</span><span class="p">,</span><span class="mi">100</span><span class="p">)</span>
</pre></div>

</div>
</div>
</div>

<div class="output_wrapper">
<div class="output">


<div class="output_area"><div class="prompt output_prompt">Out[61]:</div>


<div class="output_text output_subarea output_execute_result">
<pre>array([ 0.        ,  0.05050505,  0.1010101 ,  0.15151515,  0.2020202 ,
        0.25252525,  0.3030303 ,  0.35353535,  0.4040404 ,  0.45454545,
        0.50505051,  0.55555556,  0.60606061,  0.65656566,  0.70707071,
        0.75757576,  0.80808081,  0.85858586,  0.90909091,  0.95959596,
        1.01010101,  1.06060606,  1.11111111,  1.16161616,  1.21212121,
        1.26262626,  1.31313131,  1.36363636,  1.41414141,  1.46464646,
        1.51515152,  1.56565657,  1.61616162,  1.66666667,  1.71717172,
        1.76767677,  1.81818182,  1.86868687,  1.91919192,  1.96969697,
        2.02020202,  2.07070707,  2.12121212,  2.17171717,  2.22222222,
        2.27272727,  2.32323232,  2.37373737,  2.42424242,  2.47474747,
        2.52525253,  2.57575758,  2.62626263,  2.67676768,  2.72727273,
        2.77777778,  2.82828283,  2.87878788,  2.92929293,  2.97979798,
        3.03030303,  3.08080808,  3.13131313,  3.18181818,  3.23232323,
        3.28282828,  3.33333333,  3.38383838,  3.43434343,  3.48484848,
        3.53535354,  3.58585859,  3.63636364,  3.68686869,  3.73737374,
        3.78787879,  3.83838384,  3.88888889,  3.93939394,  3.98989899,
        4.04040404,  4.09090909,  4.14141414,  4.19191919,  4.24242424,
        4.29292929,  4.34343434,  4.39393939,  4.44444444,  4.49494949,
        4.54545455,  4.5959596 ,  4.64646465,  4.6969697 ,  4.74747475,
        4.7979798 ,  4.84848485,  4.8989899 ,  4.94949495,  5.        ])</pre>
</div>

</div>

</div>
</div>

</div>
<div class="cell border-box-sizing code_cell rendered">
<div class="input">
<div class="prompt input_prompt">In&nbsp;[62]:</div>
<div class="inner_cell">
    <div class="input_area">
<div class=" highlight hl-ipython3"><pre><span></span><span class="n">arr</span> <span class="o">=</span> <span class="n">normal</span> <span class="p">(</span><span class="mi">60</span><span class="p">,</span> <span class="mi">10</span><span class="p">,</span> <span class="mi">55</span><span class="p">)</span>
</pre></div>

</div>
</div>
</div>

</div>
<div class="cell border-box-sizing code_cell rendered">
<div class="input">
<div class="prompt input_prompt">In&nbsp;[63]:</div>
<div class="inner_cell">
    <div class="input_area">
<div class=" highlight hl-ipython3"><pre><span></span><span class="n">arr</span>
</pre></div>

</div>
</div>
</div>

<div class="output_wrapper">
<div class="output">


<div class="output_area"><div class="prompt output_prompt">Out[63]:</div>


<div class="output_text output_subarea output_execute_result">
<pre>array([ 71.64994794,  60.26963316,  62.0982992 ,  72.46761599,
        49.86098304,  72.95503453,  54.04882173,  52.08886644,
        52.37913701,  48.16555687,  82.26450841,  53.56479154,
        50.31519926,  63.50683568,  61.06034532,  47.83073438,
        55.49349665,  45.23636203,  68.86966657,  59.34738964,
        54.64474251,  53.99539699,  57.07906383,  50.73386174,
        58.51227781,  55.39492045,  71.09062594,  74.36103358,
        61.74179908,  64.37847816,  32.73173501,  64.30587643,
        52.39571999,  53.28800625,  68.86234975,  84.25721431,
        76.36225399,  64.07043451,  74.46961069,  57.4199045 ,
        59.8493277 ,  64.83814001,  43.59964166,  61.72680568,
        61.08796592,  45.83236462,  69.36602543,  60.29431139,
        65.13826396,  59.00127962,  69.47241695,  57.84453866,
        74.73606796,  46.19783842,  66.76791478])</pre>
</div>

</div>

</div>
</div>

</div>
<div class="cell border-box-sizing code_cell rendered">
<div class="input">
<div class="prompt input_prompt">In&nbsp;[64]:</div>
<div class="inner_cell">
    <div class="input_area">
<div class=" highlight hl-ipython3"><pre><span></span><span class="n">arr</span><span class="p">[</span><span class="n">arr</span><span class="o">&gt;</span><span class="mi">60</span><span class="p">]</span><span class="o">.</span><span class="n">mean</span><span class="p">()</span>
</pre></div>

</div>
</div>
</div>

<div class="output_wrapper">
<div class="output">


<div class="output_area"><div class="prompt output_prompt">Out[64]:</div>


<div class="output_text output_subarea output_execute_result">
<pre>68.302481260997865</pre>
</div>

</div>

</div>
</div>

</div>
<div class="cell border-box-sizing code_cell rendered">
<div class="input">
<div class="prompt input_prompt">In&nbsp;[66]:</div>
<div class="inner_cell">
    <div class="input_area">
<div class=" highlight hl-ipython3"><pre><span></span><span class="k">for</span> <span class="n">i</span> <span class="ow">in</span> <span class="nb">range</span><span class="p">(</span><span class="mi">10</span><span class="p">):</span>
    <span class="nb">print</span> <span class="p">(</span><span class="s1">&#39;*&#39;</span><span class="o">*</span><span class="n">i</span><span class="p">)</span>
</pre></div>

</div>
</div>
</div>

<div class="output_wrapper">
<div class="output">


<div class="output_area"><div class="prompt"></div>
<div class="output_subarea output_stream output_stdout output_text">
<pre>
*
**
***
****
*****
******
*******
********
*********
</pre>
</div>
</div>

</div>
</div>

</div>
<div class="cell border-box-sizing code_cell rendered">
<div class="input">
<div class="prompt input_prompt">In&nbsp;[&nbsp;]:</div>
<div class="inner_cell">
    <div class="input_area">
<div class=" highlight hl-ipython3"><pre><span></span> 
</pre></div>

</div>
</div>
</div>

</div>
<div class="cell border-box-sizing code_cell rendered">
<div class="input">
<div class="prompt input_prompt">In&nbsp;[67]:</div>
<div class="inner_cell">
    <div class="input_area">
<div class=" highlight hl-ipython3"><pre><span></span><span class="k">for</span> <span class="n">i</span> <span class="ow">in</span> <span class="nb">range</span><span class="p">(</span><span class="mi">10</span><span class="p">):</span>
    <span class="nb">print</span> <span class="p">(</span><span class="s1">&#39; &#39;</span><span class="o">*</span><span class="n">i</span><span class="o">+</span><span class="s1">&#39;*&#39;</span><span class="o">*</span><span class="n">i</span><span class="o">+</span><span class="s1">&#39; &#39;</span><span class="o">*</span><span class="n">i</span><span class="p">)</span>
</pre></div>

</div>
</div>
</div>

<div class="output_wrapper">
<div class="output">


<div class="output_area"><div class="prompt"></div>
<div class="output_subarea output_stream output_stdout output_text">
<pre>
 * 
  **  
   ***   
    ****    
     *****     
      ******      
       *******       
        ********        
         *********         
</pre>
</div>
</div>

</div>
</div>

</div>
<div class="cell border-box-sizing code_cell rendered">
<div class="input">
<div class="prompt input_prompt">In&nbsp;[68]:</div>
<div class="inner_cell">
    <div class="input_area">
<div class=" highlight hl-ipython3"><pre><span></span><span class="kn">from</span> <span class="nn">IPython.external.mathjax</span> <span class="k">import</span> <span class="n">install_mathjax</span>
<span class="n">install_mathjax</span><span class="p">()</span>
</pre></div>

</div>
</div>
</div>

<div class="output_wrapper">
<div class="output">


<div class="output_area"><div class="prompt"></div>
<div class="output_subarea output_text output_error">
<pre>
<span class="ansi-red-fg">---------------------------------------------------------------------------</span>
<span class="ansi-red-fg">ImportError</span>                               Traceback (most recent call last)
<span class="ansi-green-fg">&lt;ipython-input-68-9209d90709e3&gt;</span> in <span class="ansi-cyan-fg">&lt;module&gt;</span><span class="ansi-blue-fg">()</span>
<span class="ansi-green-fg">----&gt; 1</span><span class="ansi-red-fg"> </span><span class="ansi-green-fg">from</span> IPython<span class="ansi-blue-fg">.</span>external<span class="ansi-blue-fg">.</span>mathjax <span class="ansi-green-fg">import</span> install_mathjax
<span class="ansi-green-intense-fg ansi-bold">      2</span> install_mathjax<span class="ansi-blue-fg">(</span><span class="ansi-blue-fg">)</span>

<span class="ansi-red-fg">ImportError</span>: cannot import name &#39;install_mathjax&#39;</pre>
</div>
</div>

</div>
</div>

</div>
<div class="cell border-box-sizing text_cell rendered">
<div class="prompt input_prompt">
</div>
<div class="inner_cell">
<div class="text_cell_render border-box-sizing rendered_html">
<h1 id="&#24341;&#20837;Pandas">&#24341;&#20837;Pandas<a class="anchor-link" href="#&#24341;&#20837;Pandas">&#182;</a></h1>
</div>
</div>
</div>
<div class="cell border-box-sizing code_cell rendered">
<div class="input">
<div class="prompt input_prompt">In&nbsp;[69]:</div>
<div class="inner_cell">
    <div class="input_area">
<div class=" highlight hl-ipython3"><pre><span></span><span class="o">%</span><span class="k">pylab</span> inline
</pre></div>

</div>
</div>
</div>

<div class="output_wrapper">
<div class="output">


<div class="output_area"><div class="prompt"></div>
<div class="output_subarea output_stream output_stdout output_text">
<pre>Populating the interactive namespace from numpy and matplotlib
</pre>
</div>
</div>

</div>
</div>

</div>
<div class="cell border-box-sizing code_cell rendered">
<div class="input">
<div class="prompt input_prompt">In&nbsp;[70]:</div>
<div class="inner_cell">
    <div class="input_area">
<div class=" highlight hl-ipython3"><pre><span></span><span class="kn">import</span> <span class="nn">pandas</span> <span class="k">as</span> <span class="nn">pd</span>
</pre></div>

</div>
</div>
</div>

</div>
<div class="cell border-box-sizing code_cell rendered">
<div class="input">
<div class="prompt input_prompt">In&nbsp;[73]:</div>
<div class="inner_cell">
    <div class="input_area">
<div class=" highlight hl-ipython3"><pre><span></span><span class="n">s</span><span class="o">=</span> <span class="n">pd</span><span class="o">.</span><span class="n">Series</span><span class="p">(</span><span class="n">rand</span><span class="p">(</span><span class="mi">10</span><span class="p">))</span>
</pre></div>

</div>
</div>
</div>

</div>
<div class="cell border-box-sizing code_cell rendered">
<div class="input">
<div class="prompt input_prompt">In&nbsp;[74]:</div>
<div class="inner_cell">
    <div class="input_area">
<div class=" highlight hl-ipython3"><pre><span></span><span class="n">s</span>
</pre></div>

</div>
</div>
</div>

<div class="output_wrapper">
<div class="output">


<div class="output_area"><div class="prompt output_prompt">Out[74]:</div>


<div class="output_text output_subarea output_execute_result">
<pre>0    0.926905
1    0.245671
2    0.420552
3    0.026385
4    0.373939
5    0.352967
6    0.154069
7    0.111374
8    0.587654
9    0.772048
dtype: float64</pre>
</div>

</div>

</div>
</div>

</div>
<div class="cell border-box-sizing code_cell rendered">
<div class="input">
<div class="prompt input_prompt">In&nbsp;[75]:</div>
<div class="inner_cell">
    <div class="input_area">
<div class=" highlight hl-ipython3"><pre><span></span><span class="n">s</span><span class="p">[</span><span class="n">s</span><span class="o">&lt;</span><span class="mf">0.5</span><span class="p">]</span>
</pre></div>

</div>
</div>
</div>

<div class="output_wrapper">
<div class="output">


<div class="output_area"><div class="prompt output_prompt">Out[75]:</div>


<div class="output_text output_subarea output_execute_result">
<pre>1    0.245671
2    0.420552
3    0.026385
4    0.373939
5    0.352967
6    0.154069
7    0.111374
dtype: float64</pre>
</div>

</div>

</div>
</div>

</div>
<div class="cell border-box-sizing code_cell rendered">
<div class="input">
<div class="prompt input_prompt">In&nbsp;[81]:</div>
<div class="inner_cell">
    <div class="input_area">
<div class=" highlight hl-ipython3"><pre><span></span><span class="n">NewSer</span> <span class="o">=</span> <span class="n">pd</span><span class="o">.</span><span class="n">Series</span><span class="p">(</span><span class="n">array</span><span class="p">(</span><span class="n">rand</span><span class="p">(</span><span class="mi">3</span><span class="p">)),</span>
                   <span class="n">index</span><span class="o">=</span> <span class="p">(</span><span class="s1">&#39;a&#39;</span><span class="p">,</span><span class="s1">&#39;b&#39;</span><span class="p">,</span><span class="s1">&#39;c&#39;</span><span class="p">))</span>
</pre></div>

</div>
</div>
</div>

</div>
<div class="cell border-box-sizing code_cell rendered">
<div class="input">
<div class="prompt input_prompt">In&nbsp;[82]:</div>
<div class="inner_cell">
    <div class="input_area">
<div class=" highlight hl-ipython3"><pre><span></span><span class="n">NewSer</span>
</pre></div>

</div>
</div>
</div>

<div class="output_wrapper">
<div class="output">


<div class="output_area"><div class="prompt output_prompt">Out[82]:</div>


<div class="output_text output_subarea output_execute_result">
<pre>a    0.631614
b    0.255698
c    0.881954
dtype: float64</pre>
</div>

</div>

</div>
</div>

</div>
<div class="cell border-box-sizing code_cell rendered">
<div class="input">
<div class="prompt input_prompt">In&nbsp;[83]:</div>
<div class="inner_cell">
    <div class="input_area">
<div class=" highlight hl-ipython3"><pre><span></span><span class="n">dates</span><span class="o">=</span> <span class="n">pd</span><span class="o">.</span><span class="n">date_range</span><span class="p">(</span><span class="s1">&#39;20160101&#39;</span><span class="p">,</span> <span class="n">periods</span><span class="o">=</span><span class="mi">30</span><span class="p">)</span>
</pre></div>

</div>
</div>
</div>

</div>
<div class="cell border-box-sizing code_cell rendered">
<div class="input">
<div class="prompt input_prompt">In&nbsp;[84]:</div>
<div class="inner_cell">
    <div class="input_area">
<div class=" highlight hl-ipython3"><pre><span></span><span class="n">dates</span>
</pre></div>

</div>
</div>
</div>

<div class="output_wrapper">
<div class="output">


<div class="output_area"><div class="prompt output_prompt">Out[84]:</div>


<div class="output_text output_subarea output_execute_result">
<pre>DatetimeIndex([&#39;2016-01-01&#39;, &#39;2016-01-02&#39;, &#39;2016-01-03&#39;, &#39;2016-01-04&#39;,
               &#39;2016-01-05&#39;, &#39;2016-01-06&#39;, &#39;2016-01-07&#39;, &#39;2016-01-08&#39;,
               &#39;2016-01-09&#39;, &#39;2016-01-10&#39;, &#39;2016-01-11&#39;, &#39;2016-01-12&#39;,
               &#39;2016-01-13&#39;, &#39;2016-01-14&#39;, &#39;2016-01-15&#39;, &#39;2016-01-16&#39;,
               &#39;2016-01-17&#39;, &#39;2016-01-18&#39;, &#39;2016-01-19&#39;, &#39;2016-01-20&#39;,
               &#39;2016-01-21&#39;, &#39;2016-01-22&#39;, &#39;2016-01-23&#39;, &#39;2016-01-24&#39;,
               &#39;2016-01-25&#39;, &#39;2016-01-26&#39;, &#39;2016-01-27&#39;, &#39;2016-01-28&#39;,
               &#39;2016-01-29&#39;, &#39;2016-01-30&#39;],
              dtype=&#39;datetime64[ns]&#39;, freq=&#39;D&#39;)</pre>
</div>

</div>

</div>
</div>

</div>
<div class="cell border-box-sizing code_cell rendered">
<div class="input">
<div class="prompt input_prompt">In&nbsp;[85]:</div>
<div class="inner_cell">
    <div class="input_area">
<div class=" highlight hl-ipython3"><pre><span></span><span class="n">NewSer</span> <span class="o">=</span> <span class="n">pd</span><span class="o">.</span><span class="n">Series</span><span class="p">(</span><span class="n">array</span><span class="p">(</span><span class="n">rand</span><span class="p">(</span><span class="mi">30</span><span class="p">)),</span>
                   <span class="n">index</span><span class="o">=</span> <span class="n">dates</span><span class="p">)</span>
</pre></div>

</div>
</div>
</div>

</div>
<div class="cell border-box-sizing code_cell rendered">
<div class="input">
<div class="prompt input_prompt">In&nbsp;[86]:</div>
<div class="inner_cell">
    <div class="input_area">
<div class=" highlight hl-ipython3"><pre><span></span><span class="n">NewSer</span>
</pre></div>

</div>
</div>
</div>

<div class="output_wrapper">
<div class="output">


<div class="output_area"><div class="prompt output_prompt">Out[86]:</div>


<div class="output_text output_subarea output_execute_result">
<pre>2016-01-01    0.307631
2016-01-02    0.065129
2016-01-03    0.600274
2016-01-04    0.239199
2016-01-05    0.585307
2016-01-06    0.624118
2016-01-07    0.146505
2016-01-08    0.683716
2016-01-09    0.109444
2016-01-10    0.356036
2016-01-11    0.987785
2016-01-12    0.285290
2016-01-13    0.632370
2016-01-14    0.717874
2016-01-15    0.400205
2016-01-16    0.591073
2016-01-17    0.702989
2016-01-18    0.275476
2016-01-19    0.154346
2016-01-20    0.105684
2016-01-21    0.323237
2016-01-22    0.784287
2016-01-23    0.493964
2016-01-24    0.844153
2016-01-25    0.442207
2016-01-26    0.922970
2016-01-27    0.705561
2016-01-28    0.680024
2016-01-29    0.214416
2016-01-30    0.177110
Freq: D, dtype: float64</pre>
</div>

</div>

</div>
</div>

</div>
<div class="cell border-box-sizing text_cell rendered">
<div class="prompt input_prompt">
</div>
<div class="inner_cell">
<div class="text_cell_render border-box-sizing rendered_html">
<h1 id="&#24341;&#20837;Dataframe">&#24341;&#20837;Dataframe<a class="anchor-link" href="#&#24341;&#20837;Dataframe">&#182;</a></h1>
</div>
</div>
</div>
<div class="cell border-box-sizing code_cell rendered">
<div class="input">
<div class="prompt input_prompt">In&nbsp;[92]:</div>
<div class="inner_cell">
    <div class="input_area">
<div class=" highlight hl-ipython3"><pre><span></span><span class="o">%</span><span class="k">pylab</span> inline
<span class="kn">import</span> <span class="nn">pandas</span> <span class="k">as</span> <span class="nn">pd</span>
</pre></div>

</div>
</div>
</div>

<div class="output_wrapper">
<div class="output">


<div class="output_area"><div class="prompt"></div>
<div class="output_subarea output_stream output_stdout output_text">
<pre>Populating the interactive namespace from numpy and matplotlib
</pre>
</div>
</div>

</div>
</div>

</div>
<div class="cell border-box-sizing code_cell rendered">
<div class="input">
<div class="prompt input_prompt">In&nbsp;[104]:</div>
<div class="inner_cell">
    <div class="input_area">
<div class=" highlight hl-ipython3"><pre><span></span><span class="n">data</span> <span class="o">=</span> <span class="n">randn</span><span class="p">(</span><span class="mi">6</span><span class="p">,</span><span class="mi">7</span><span class="p">)</span>
</pre></div>

</div>
</div>
</div>

</div>
<div class="cell border-box-sizing code_cell rendered">
<div class="input">
<div class="prompt input_prompt">In&nbsp;[105]:</div>
<div class="inner_cell">
    <div class="input_area">
<div class=" highlight hl-ipython3"><pre><span></span><span class="n">data</span>
</pre></div>

</div>
</div>
</div>

<div class="output_wrapper">
<div class="output">


<div class="output_area"><div class="prompt output_prompt">Out[105]:</div>


<div class="output_text output_subarea output_execute_result">
<pre>array([[-0.4783434 , -0.23263159, -0.50799506,  0.78688113,  0.6823547 ,
        -1.53404887,  2.09930272],
       [-0.61210682, -0.26715431,  0.44592447,  0.04477951,  1.12656226,
        -0.43247005,  0.55360139],
       [-1.51392685, -0.13484142,  0.83725474, -1.2811121 , -0.57672076,
         0.68266628,  0.25032042],
       [ 1.11342939,  0.64962314, -0.42679208, -0.41424831,  1.67184547,
         0.53260731,  0.94702117],
       [ 0.86381994, -1.98290602,  0.03210223,  0.01448505,  0.19488174,
         0.24622378, -0.11128051],
       [ 1.85852317, -0.83520369, -0.03248657, -0.33664909,  0.05599269,
         1.62152533, -1.53225213]])</pre>
</div>

</div>

</div>
</div>

</div>
<div class="cell border-box-sizing code_cell rendered">
<div class="input">
<div class="prompt input_prompt">In&nbsp;[106]:</div>
<div class="inner_cell">
    <div class="input_area">
<div class=" highlight hl-ipython3"><pre><span></span><span class="n">df</span> <span class="o">=</span> <span class="n">pd</span><span class="o">.</span><span class="n">DataFrame</span><span class="p">(</span><span class="n">data</span><span class="p">)</span>
</pre></div>

</div>
</div>
</div>

</div>
<div class="cell border-box-sizing code_cell rendered">
<div class="input">
<div class="prompt input_prompt">In&nbsp;[107]:</div>
<div class="inner_cell">
    <div class="input_area">
<div class=" highlight hl-ipython3"><pre><span></span><span class="n">df</span>
</pre></div>

</div>
</div>
</div>

<div class="output_wrapper">
<div class="output">


<div class="output_area"><div class="prompt output_prompt">Out[107]:</div>

<div class="output_html rendered_html output_subarea output_execute_result">
<div>
<table border="1" class="dataframe">
  <thead>
    <tr style="text-align: right;">
      <th></th>
      <th>0</th>
      <th>1</th>
      <th>2</th>
      <th>3</th>
      <th>4</th>
      <th>5</th>
      <th>6</th>
    </tr>
  </thead>
  <tbody>
    <tr>
      <th>0</th>
      <td>-0.478343</td>
      <td>-0.232632</td>
      <td>-0.507995</td>
      <td>0.786881</td>
      <td>0.682355</td>
      <td>-1.534049</td>
      <td>2.099303</td>
    </tr>
    <tr>
      <th>1</th>
      <td>-0.612107</td>
      <td>-0.267154</td>
      <td>0.445924</td>
      <td>0.044780</td>
      <td>1.126562</td>
      <td>-0.432470</td>
      <td>0.553601</td>
    </tr>
    <tr>
      <th>2</th>
      <td>-1.513927</td>
      <td>-0.134841</td>
      <td>0.837255</td>
      <td>-1.281112</td>
      <td>-0.576721</td>
      <td>0.682666</td>
      <td>0.250320</td>
    </tr>
    <tr>
      <th>3</th>
      <td>1.113429</td>
      <td>0.649623</td>
      <td>-0.426792</td>
      <td>-0.414248</td>
      <td>1.671845</td>
      <td>0.532607</td>
      <td>0.947021</td>
    </tr>
    <tr>
      <th>4</th>
      <td>0.863820</td>
      <td>-1.982906</td>
      <td>0.032102</td>
      <td>0.014485</td>
      <td>0.194882</td>
      <td>0.246224</td>
      <td>-0.111281</td>
    </tr>
    <tr>
      <th>5</th>
      <td>1.858523</td>
      <td>-0.835204</td>
      <td>-0.032487</td>
      <td>-0.336649</td>
      <td>0.055993</td>
      <td>1.621525</td>
      <td>-1.532252</td>
    </tr>
  </tbody>
</table>
</div>
</div>

</div>

</div>
</div>

</div>
<div class="cell border-box-sizing code_cell rendered">
<div class="input">
<div class="prompt input_prompt">In&nbsp;[108]:</div>
<div class="inner_cell">
    <div class="input_area">
<div class=" highlight hl-ipython3"><pre><span></span><span class="n">df</span><span class="o">.</span><span class="n">head</span><span class="p">()</span>
</pre></div>

</div>
</div>
</div>

<div class="output_wrapper">
<div class="output">


<div class="output_area"><div class="prompt output_prompt">Out[108]:</div>

<div class="output_html rendered_html output_subarea output_execute_result">
<div>
<table border="1" class="dataframe">
  <thead>
    <tr style="text-align: right;">
      <th></th>
      <th>0</th>
      <th>1</th>
      <th>2</th>
      <th>3</th>
      <th>4</th>
      <th>5</th>
      <th>6</th>
    </tr>
  </thead>
  <tbody>
    <tr>
      <th>0</th>
      <td>-0.478343</td>
      <td>-0.232632</td>
      <td>-0.507995</td>
      <td>0.786881</td>
      <td>0.682355</td>
      <td>-1.534049</td>
      <td>2.099303</td>
    </tr>
    <tr>
      <th>1</th>
      <td>-0.612107</td>
      <td>-0.267154</td>
      <td>0.445924</td>
      <td>0.044780</td>
      <td>1.126562</td>
      <td>-0.432470</td>
      <td>0.553601</td>
    </tr>
    <tr>
      <th>2</th>
      <td>-1.513927</td>
      <td>-0.134841</td>
      <td>0.837255</td>
      <td>-1.281112</td>
      <td>-0.576721</td>
      <td>0.682666</td>
      <td>0.250320</td>
    </tr>
    <tr>
      <th>3</th>
      <td>1.113429</td>
      <td>0.649623</td>
      <td>-0.426792</td>
      <td>-0.414248</td>
      <td>1.671845</td>
      <td>0.532607</td>
      <td>0.947021</td>
    </tr>
    <tr>
      <th>4</th>
      <td>0.863820</td>
      <td>-1.982906</td>
      <td>0.032102</td>
      <td>0.014485</td>
      <td>0.194882</td>
      <td>0.246224</td>
      <td>-0.111281</td>
    </tr>
  </tbody>
</table>
</div>
</div>

</div>

</div>
</div>

</div>
<div class="cell border-box-sizing code_cell rendered">
<div class="input">
<div class="prompt input_prompt">In&nbsp;[109]:</div>
<div class="inner_cell">
    <div class="input_area">
<div class=" highlight hl-ipython3"><pre><span></span><span class="n">df</span><span class="o">.</span><span class="n">plot</span><span class="p">()</span>
</pre></div>

</div>
</div>
</div>

<div class="output_wrapper">
<div class="output">


<div class="output_area"><div class="prompt output_prompt">Out[109]:</div>


<div class="output_text output_subarea output_execute_result">
<pre>&lt;matplotlib.axes._subplots.AxesSubplot at 0x110a806d8&gt;</pre>
</div>

</div>

<div class="output_area"><div class="prompt"></div>


<div class="output_png output_subarea ">
<img src="data:image/png;base64,iVBORw0KGgoAAAANSUhEUgAAAhAAAAFkCAYAAABxWwLDAAAABHNCSVQICAgIfAhkiAAAAAlwSFlz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"
>
</div>

</div>

</div>
</div>

</div>
<div class="cell border-box-sizing text_cell rendered">
<div class="prompt input_prompt">
</div>
<div class="inner_cell">
<div class="text_cell_render border-box-sizing rendered_html">
<p>真實資料玩玩！！</p>

</div>
</div>
</div>
<div class="cell border-box-sizing code_cell rendered">
<div class="input">
<div class="prompt input_prompt">In&nbsp;[110]:</div>
<div class="inner_cell">
    <div class="input_area">
<div class=" highlight hl-ipython3"><pre><span></span><span class="o">%</span><span class="k">pylab</span> inline
<span class="kn">import</span> <span class="nn">pandas</span> <span class="k">as</span> <span class="nn">pd</span>
</pre></div>

</div>
</div>
</div>

<div class="output_wrapper">
<div class="output">


<div class="output_area"><div class="prompt"></div>
<div class="output_subarea output_stream output_stdout output_text">
<pre>Populating the interactive namespace from numpy and matplotlib
</pre>
</div>
</div>

</div>
</div>

</div>
<div class="cell border-box-sizing code_cell rendered">
<div class="input">
<div class="prompt input_prompt">In&nbsp;[111]:</div>
<div class="inner_cell">
    <div class="input_area">
<div class=" highlight hl-ipython3"><pre><span></span><span class="n">normal</span><span class="p">(</span><span class="mi">50</span><span class="p">,</span><span class="mi">50</span><span class="p">,(</span><span class="mi">3</span><span class="p">,</span><span class="mi">5</span><span class="p">))</span>
</pre></div>

</div>
</div>
</div>

<div class="output_wrapper">
<div class="output">


<div class="output_area"><div class="prompt output_prompt">Out[111]:</div>


<div class="output_text output_subarea output_execute_result">
<pre>array([[  81.24063246,   66.61745845,   84.41852178,   44.18694702,
          16.16448434],
       [ -38.1715051 ,   65.46674894,   82.66294836,   29.96054407,
          16.63503399],
       [ 101.54506139,   55.85712469,   34.60348155,   -2.79740343,
          54.41416742]])</pre>
</div>

</div>

</div>
</div>

</div>
<div class="cell border-box-sizing code_cell rendered">
<div class="input">
<div class="prompt input_prompt">In&nbsp;[115]:</div>
<div class="inner_cell">
    <div class="input_area">
<div class=" highlight hl-ipython3"><pre><span></span><span class="n">pd</span><span class="o">.</span><span class="n">date_range</span><span class="p">(</span><span class="s2">&quot;2016-01-01&quot;</span><span class="p">,</span> <span class="n">periods</span><span class="o">=</span><span class="mi">20</span><span class="p">)</span>
</pre></div>

</div>
</div>
</div>

<div class="output_wrapper">
<div class="output">


<div class="output_area"><div class="prompt output_prompt">Out[115]:</div>


<div class="output_text output_subarea output_execute_result">
<pre>DatetimeIndex([&#39;2016-01-01&#39;, &#39;2016-01-02&#39;, &#39;2016-01-03&#39;, &#39;2016-01-04&#39;,
               &#39;2016-01-05&#39;, &#39;2016-01-06&#39;, &#39;2016-01-07&#39;, &#39;2016-01-08&#39;,
               &#39;2016-01-09&#39;, &#39;2016-01-10&#39;, &#39;2016-01-11&#39;, &#39;2016-01-12&#39;,
               &#39;2016-01-13&#39;, &#39;2016-01-14&#39;, &#39;2016-01-15&#39;, &#39;2016-01-16&#39;,
               &#39;2016-01-17&#39;, &#39;2016-01-18&#39;, &#39;2016-01-19&#39;, &#39;2016-01-20&#39;],
              dtype=&#39;datetime64[ns]&#39;, freq=&#39;D&#39;)</pre>
</div>

</div>

</div>
</div>

</div>
<div class="cell border-box-sizing code_cell rendered">
<div class="input">
<div class="prompt input_prompt">In&nbsp;[117]:</div>
<div class="inner_cell">
    <div class="input_area">
<div class=" highlight hl-ipython3"><pre><span></span><span class="n">date</span> <span class="o">=</span> <span class="n">pd</span><span class="o">.</span><span class="n">date_range</span><span class="p">(</span><span class="s2">&quot;2016-01-01&quot;</span><span class="p">,</span> <span class="s2">&quot;2016-10-31&quot;</span><span class="p">,</span> <span class="n">freq</span><span class="o">=</span><span class="s1">&#39;M&#39;</span><span class="p">)</span>
</pre></div>

</div>
</div>
</div>

</div>
<div class="cell border-box-sizing code_cell rendered">
<div class="input">
<div class="prompt input_prompt">In&nbsp;[122]:</div>
<div class="inner_cell">
    <div class="input_area">
<div class=" highlight hl-ipython3"><pre><span></span><span class="n">df</span> <span class="o">=</span> <span class="n">pd</span><span class="o">.</span><span class="n">DataFrame</span><span class="p">(</span><span class="n">normal</span><span class="p">(</span><span class="mi">100</span><span class="p">,</span><span class="mi">20</span><span class="p">,(</span><span class="mi">10</span><span class="p">,</span><span class="mi">5</span><span class="p">)),</span>
                  <span class="n">index</span> <span class="o">=</span> <span class="n">date</span><span class="p">,</span> 
                  <span class="n">columns</span> <span class="o">=</span> <span class="nb">list</span><span class="p">(</span><span class="s2">&quot;ABCDE&quot;</span><span class="p">))</span>
</pre></div>

</div>
</div>
</div>

</div>
<div class="cell border-box-sizing code_cell rendered">
<div class="input">
<div class="prompt input_prompt">In&nbsp;[123]:</div>
<div class="inner_cell">
    <div class="input_area">
<div class=" highlight hl-ipython3"><pre><span></span><span class="n">df</span>
</pre></div>

</div>
</div>
</div>

<div class="output_wrapper">
<div class="output">


<div class="output_area"><div class="prompt output_prompt">Out[123]:</div>

<div class="output_html rendered_html output_subarea output_execute_result">
<div>
<table border="1" class="dataframe">
  <thead>
    <tr style="text-align: right;">
      <th></th>
      <th>A</th>
      <th>B</th>
      <th>C</th>
      <th>D</th>
      <th>E</th>
    </tr>
  </thead>
  <tbody>
    <tr>
      <th>2016-01-31</th>
      <td>94.566468</td>
      <td>77.289368</td>
      <td>100.823531</td>
      <td>113.223570</td>
      <td>133.146277</td>
    </tr>
    <tr>
      <th>2016-02-29</th>
      <td>103.835957</td>
      <td>120.276563</td>
      <td>111.415699</td>
      <td>138.057502</td>
      <td>96.494006</td>
    </tr>
    <tr>
      <th>2016-03-31</th>
      <td>84.005802</td>
      <td>124.497084</td>
      <td>79.286596</td>
      <td>138.837518</td>
      <td>99.694332</td>
    </tr>
    <tr>
      <th>2016-04-30</th>
      <td>103.857518</td>
      <td>108.158622</td>
      <td>87.773477</td>
      <td>124.177958</td>
      <td>107.175585</td>
    </tr>
    <tr>
      <th>2016-05-31</th>
      <td>115.678919</td>
      <td>96.629913</td>
      <td>103.958041</td>
      <td>126.798902</td>
      <td>95.304687</td>
    </tr>
    <tr>
      <th>2016-06-30</th>
      <td>90.534009</td>
      <td>84.238760</td>
      <td>79.619547</td>
      <td>101.741591</td>
      <td>100.954843</td>
    </tr>
    <tr>
      <th>2016-07-31</th>
      <td>99.995355</td>
      <td>98.331174</td>
      <td>117.494379</td>
      <td>117.212149</td>
      <td>130.218577</td>
    </tr>
    <tr>
      <th>2016-08-31</th>
      <td>100.455099</td>
      <td>93.281070</td>
      <td>87.172400</td>
      <td>98.639830</td>
      <td>113.620591</td>
    </tr>
    <tr>
      <th>2016-09-30</th>
      <td>107.042377</td>
      <td>101.712057</td>
      <td>80.365287</td>
      <td>116.663924</td>
      <td>113.613681</td>
    </tr>
    <tr>
      <th>2016-10-31</th>
      <td>76.556537</td>
      <td>110.134623</td>
      <td>87.618342</td>
      <td>106.525518</td>
      <td>103.233469</td>
    </tr>
  </tbody>
</table>
</div>
</div>

</div>

</div>
</div>

</div>
<div class="cell border-box-sizing code_cell rendered">
<div class="input">
<div class="prompt input_prompt">In&nbsp;[124]:</div>
<div class="inner_cell">
    <div class="input_area">
<div class=" highlight hl-ipython3"><pre><span></span><span class="n">df</span><span class="o">.</span><span class="n">plot</span><span class="p">()</span>
</pre></div>

</div>
</div>
</div>

<div class="output_wrapper">
<div class="output">


<div class="output_area"><div class="prompt output_prompt">Out[124]:</div>


<div class="output_text output_subarea output_execute_result">
<pre>&lt;matplotlib.axes._subplots.AxesSubplot at 0x118376a20&gt;</pre>
</div>

</div>

<div class="output_area"><div class="prompt"></div>


<div class="output_png output_subarea ">
<img src="data:image/png;base64,iVBORw0KGgoAAAANSUhEUgAAAhEAAAF0CAYAAACdT2tmAAAABHNCSVQICAgIfAhkiAAAAAlwSFlz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"
>
</div>

</div>

</div>
</div>

</div>
<div class="cell border-box-sizing text_cell rendered">
<div class="prompt input_prompt">
</div>
<div class="inner_cell">
<div class="text_cell_render border-box-sizing rendered_html">
<h1 id="Panda&#35712;&#32929;&#31080;&#36039;&#26009;">Panda&#35712;&#32929;&#31080;&#36039;&#26009;<a class="anchor-link" href="#Panda&#35712;&#32929;&#31080;&#36039;&#26009;">&#182;</a></h1>
</div>
</div>
</div>
<div class="cell border-box-sizing code_cell rendered">
<div class="input">
<div class="prompt input_prompt">In&nbsp;[128]:</div>
<div class="inner_cell">
    <div class="input_area">
<div class=" highlight hl-ipython3"><pre><span></span><span class="kn">import</span> <span class="nn">pandas.io.data</span> <span class="k">as</span> <span class="nn">web</span>
</pre></div>

</div>
</div>
</div>

</div>
<div class="cell border-box-sizing code_cell rendered">
<div class="input">
<div class="prompt input_prompt">In&nbsp;[129]:</div>
<div class="inner_cell">
    <div class="input_area">
<div class=" highlight hl-ipython3"><pre><span></span><span class="kn">import</span> <span class="nn">datetime</span>
</pre></div>

</div>
</div>
</div>

</div>
<div class="cell border-box-sizing code_cell rendered">
<div class="input">
<div class="prompt input_prompt">In&nbsp;[134]:</div>
<div class="inner_cell">
    <div class="input_area">
<div class=" highlight hl-ipython3"><pre><span></span><span class="n">start</span> <span class="o">=</span> <span class="n">datetime</span><span class="o">.</span><span class="n">datetime</span><span class="p">(</span><span class="mi">2016</span><span class="p">,</span><span class="mi">1</span><span class="p">,</span><span class="mi">1</span><span class="p">)</span>
</pre></div>

</div>
</div>
</div>

</div>
<div class="cell border-box-sizing code_cell rendered">
<div class="input">
<div class="prompt input_prompt">In&nbsp;[135]:</div>
<div class="inner_cell">
    <div class="input_area">
<div class=" highlight hl-ipython3"><pre><span></span><span class="n">end</span> <span class="o">=</span> <span class="n">datetime</span><span class="o">.</span><span class="n">datetime</span><span class="p">(</span><span class="mi">2016</span><span class="p">,</span><span class="mi">3</span><span class="p">,</span><span class="mi">30</span><span class="p">)</span>
</pre></div>

</div>
</div>
</div>

</div>
<div class="cell border-box-sizing code_cell rendered">
<div class="input">
<div class="prompt input_prompt">In&nbsp;[136]:</div>
<div class="inner_cell">
    <div class="input_area">
<div class=" highlight hl-ipython3"><pre><span></span><span class="n">df</span> <span class="o">=</span> <span class="n">web</span><span class="o">.</span><span class="n">DataReader</span><span class="p">(</span><span class="s2">&quot;AAPL&quot;</span><span class="p">,</span><span class="s2">&quot;yahoo&quot;</span><span class="p">,</span><span class="n">start</span><span class="p">,</span><span class="n">end</span><span class="p">)</span>
</pre></div>

</div>
</div>
</div>

</div>
<div class="cell border-box-sizing code_cell rendered">
<div class="input">
<div class="prompt input_prompt">In&nbsp;[185]:</div>
<div class="inner_cell">
    <div class="input_area">
<div class=" highlight hl-ipython3"><pre><span></span><span class="n">df</span><span class="o">.</span><span class="n">to_csv</span> <span class="p">(</span><span class="s2">&quot;AAPL.csv&quot;</span><span class="p">)</span>
</pre></div>

</div>
</div>
</div>

</div>
<div class="cell border-box-sizing code_cell rendered">
<div class="input">
<div class="prompt input_prompt">In&nbsp;[186]:</div>
<div class="inner_cell">
    <div class="input_area">
<div class=" highlight hl-ipython3"><pre><span></span><span class="o">!</span>cat AAPL.csv
</pre></div>

</div>
</div>
</div>

<div class="output_wrapper">
<div class="output">


<div class="output_area"><div class="prompt"></div>
<div class="output_subarea output_stream output_stdout output_text">
<pre>Date,Open,High,Low,Close,Volume,Adj Close
2016-01-04,102.610001,105.370003,102.0,105.349998,67649400,103.057063
2016-01-05,105.75,105.849998,102.410004,102.709999,55791000,100.474523
2016-01-06,100.559998,102.370003,99.870003,100.699997,68457400,98.508268
2016-01-07,98.68,100.129997,96.43,96.449997,81094400,94.350769
2016-01-08,98.550003,99.110001,96.760002,96.959999,70798000,94.849671
2016-01-11,98.970001,99.059998,97.339996,98.529999,49739400,96.3855
2016-01-12,100.550003,100.690002,98.839996,99.959999,49154200,97.784376
2016-01-13,100.32,101.190002,97.300003,97.389999,62439600,95.270312
2016-01-14,97.959999,100.480003,95.739998,99.519997,63170100,97.35395
2016-01-15,96.199997,97.709999,95.360001,97.129997,79010000,95.015969
2016-01-19,98.410004,98.650002,95.5,96.660004,53087700,94.556205
2016-01-20,95.099998,98.190002,93.41999799999999,96.790001,72334400,94.683373
2016-01-21,97.059998,97.879997,94.940002,96.300003,52161500,94.20404
2016-01-22,98.629997,101.459999,98.370003,101.41999799999999,65800500,99.212599
2016-01-25,101.519997,101.529999,99.209999,99.440002,51794500,97.275697
2016-01-26,99.93,100.879997,98.07,99.989998,75077000,97.813722
2016-01-27,96.040001,96.629997,93.339996,93.41999799999999,133369700,91.386718
2016-01-28,93.790001,94.519997,92.389999,94.089996,55678800,92.04213399999999
2016-01-29,94.790001,97.339996,94.349998,97.339996,64416500,95.221398
2016-02-01,96.470001,96.709999,95.400002,96.43,40943500,94.33120799999999
2016-02-02,95.41999799999999,96.040001,94.279999,94.480003,37357200,92.423652
2016-02-03,95.0,96.839996,94.08000200000001,96.349998,45964300,94.25294699999999
2016-02-04,95.860001,97.33000200000001,95.190002,96.599998,46471700,95.010279
2016-02-05,96.519997,96.91999799999999,93.690002,94.019997,46418100,92.472736
2016-02-08,93.129997,95.699997,93.040001,95.010002,54021400,93.446449
2016-02-09,94.290001,95.940002,93.93,94.989998,44331200,93.426774
2016-02-10,95.91999799999999,96.349998,94.099998,94.269997,42343600,92.718621
2016-02-11,93.790001,94.720001,92.589996,93.699997,50074700,92.158002
2016-02-12,94.190002,94.5,93.010002,93.989998,40351400,92.44323
2016-02-16,95.019997,96.849998,94.610001,96.639999,49057900,95.049622
2016-02-17,96.66999799999999,98.209999,96.150002,98.120003,44863200,96.505269
2016-02-18,98.839996,98.889999,96.089996,96.260002,39021000,94.675878
2016-02-19,96.0,96.760002,95.800003,96.040001,35374200,94.459497
2016-02-22,96.309998,96.900002,95.91999799999999,96.879997,34280800,95.28567
2016-02-23,96.400002,96.5,94.550003,94.690002,31942600,93.131715
2016-02-24,93.980003,96.379997,93.32,96.099998,36255700,94.518507
2016-02-25,96.050003,96.760002,95.25,96.760002,27582700,95.16765
2016-02-26,97.199997,98.019997,96.58000200000001,96.910004,28991100,95.31518299999999
2016-02-29,96.860001,98.230003,96.650002,96.690002,35216300,95.098802
2016-03-01,97.650002,100.769997,97.41999799999999,100.529999,50407100,98.87560400000001
2016-03-02,100.510002,100.889999,99.639999,100.75,33169600,99.091985
2016-03-03,100.58000200000001,101.709999,100.449997,101.5,36955700,99.829643
2016-03-04,102.370003,103.75,101.370003,103.010002,46055100,101.31479499999999
2016-03-07,102.389999,102.83000200000001,100.959999,101.870003,35828900,100.193556
2016-03-08,100.779999,101.760002,100.400002,101.029999,31561900,99.36737600000001
2016-03-09,101.309998,101.58000200000001,100.269997,101.120003,27201700,99.455899
2016-03-10,101.410004,102.239998,100.150002,101.16999799999999,33513600,99.505072
2016-03-11,102.239998,102.279999,101.5,102.260002,27408200,100.577138
2016-03-14,101.910004,102.910004,101.779999,102.519997,25076100,100.832853
2016-03-15,103.959999,105.18,103.849998,104.58000200000001,40067700,102.858958
2016-03-16,104.610001,106.309998,104.589996,105.970001,38303500,104.22608199999999
2016-03-17,105.519997,106.470001,104.959999,105.800003,34420700,104.058882
2016-03-18,106.339996,106.5,105.190002,105.91999799999999,44205200,104.176902
2016-03-21,105.93,107.650002,105.139999,105.910004,35502700,104.16707199999999
2016-03-22,105.25,107.290001,105.209999,106.720001,32444400,104.96373999999999
2016-03-23,106.480003,107.07,105.900002,106.129997,25703500,104.383445
2016-03-24,105.470001,106.25,104.889999,105.66999799999999,26133000,103.931016
2016-03-28,106.0,106.190002,105.059998,105.190002,19411400,103.45891999999999
2016-03-29,104.889999,107.790001,104.879997,107.68,31190100,105.90794
2016-03-30,108.650002,110.41999799999999,108.599998,109.559998,45601100,107.756999
</pre>
</div>
</div>

</div>
</div>

</div>
<div class="cell border-box-sizing code_cell rendered">
<div class="input">
<div class="prompt input_prompt">In&nbsp;[189]:</div>
<div class="inner_cell">
    <div class="input_area">
<div class=" highlight hl-ipython3"><pre><span></span><span class="n">df_load</span> <span class="o">=</span> <span class="n">pd</span><span class="o">.</span><span class="n">read_csv</span><span class="p">(</span><span class="s2">&quot;AAPL.csv&quot;</span><span class="p">,</span> <span class="n">index_col</span><span class="o">=</span><span class="mi">0</span><span class="p">)</span>
</pre></div>

</div>
</div>
</div>

</div>
<div class="cell border-box-sizing code_cell rendered">
<div class="input">
<div class="prompt input_prompt">In&nbsp;[190]:</div>
<div class="inner_cell">
    <div class="input_area">
<div class=" highlight hl-ipython3"><pre><span></span><span class="n">df_load</span>
</pre></div>

</div>
</div>
</div>

<div class="output_wrapper">
<div class="output">


<div class="output_area"><div class="prompt output_prompt">Out[190]:</div>

<div class="output_html rendered_html output_subarea output_execute_result">
<div>
<table border="1" class="dataframe">
  <thead>
    <tr style="text-align: right;">
      <th></th>
      <th>Open</th>
      <th>High</th>
      <th>Low</th>
      <th>Close</th>
      <th>Volume</th>
      <th>Adj Close</th>
    </tr>
    <tr>
      <th>Date</th>
      <th></th>
      <th></th>
      <th></th>
      <th></th>
      <th></th>
      <th></th>
    </tr>
  </thead>
  <tbody>
    <tr>
      <th>2016-01-04</th>
      <td>102.610001</td>
      <td>105.370003</td>
      <td>102.000000</td>
      <td>105.349998</td>
      <td>67649400</td>
      <td>103.057063</td>
    </tr>
    <tr>
      <th>2016-01-05</th>
      <td>105.750000</td>
      <td>105.849998</td>
      <td>102.410004</td>
      <td>102.709999</td>
      <td>55791000</td>
      <td>100.474523</td>
    </tr>
    <tr>
      <th>2016-01-06</th>
      <td>100.559998</td>
      <td>102.370003</td>
      <td>99.870003</td>
      <td>100.699997</td>
      <td>68457400</td>
      <td>98.508268</td>
    </tr>
    <tr>
      <th>2016-01-07</th>
      <td>98.680000</td>
      <td>100.129997</td>
      <td>96.430000</td>
      <td>96.449997</td>
      <td>81094400</td>
      <td>94.350769</td>
    </tr>
    <tr>
      <th>2016-01-08</th>
      <td>98.550003</td>
      <td>99.110001</td>
      <td>96.760002</td>
      <td>96.959999</td>
      <td>70798000</td>
      <td>94.849671</td>
    </tr>
    <tr>
      <th>2016-01-11</th>
      <td>98.970001</td>
      <td>99.059998</td>
      <td>97.339996</td>
      <td>98.529999</td>
      <td>49739400</td>
      <td>96.385500</td>
    </tr>
    <tr>
      <th>2016-01-12</th>
      <td>100.550003</td>
      <td>100.690002</td>
      <td>98.839996</td>
      <td>99.959999</td>
      <td>49154200</td>
      <td>97.784376</td>
    </tr>
    <tr>
      <th>2016-01-13</th>
      <td>100.320000</td>
      <td>101.190002</td>
      <td>97.300003</td>
      <td>97.389999</td>
      <td>62439600</td>
      <td>95.270312</td>
    </tr>
    <tr>
      <th>2016-01-14</th>
      <td>97.959999</td>
      <td>100.480003</td>
      <td>95.739998</td>
      <td>99.519997</td>
      <td>63170100</td>
      <td>97.353950</td>
    </tr>
    <tr>
      <th>2016-01-15</th>
      <td>96.199997</td>
      <td>97.709999</td>
      <td>95.360001</td>
      <td>97.129997</td>
      <td>79010000</td>
      <td>95.015969</td>
    </tr>
    <tr>
      <th>2016-01-19</th>
      <td>98.410004</td>
      <td>98.650002</td>
      <td>95.500000</td>
      <td>96.660004</td>
      <td>53087700</td>
      <td>94.556205</td>
    </tr>
    <tr>
      <th>2016-01-20</th>
      <td>95.099998</td>
      <td>98.190002</td>
      <td>93.419998</td>
      <td>96.790001</td>
      <td>72334400</td>
      <td>94.683373</td>
    </tr>
    <tr>
      <th>2016-01-21</th>
      <td>97.059998</td>
      <td>97.879997</td>
      <td>94.940002</td>
      <td>96.300003</td>
      <td>52161500</td>
      <td>94.204040</td>
    </tr>
    <tr>
      <th>2016-01-22</th>
      <td>98.629997</td>
      <td>101.459999</td>
      <td>98.370003</td>
      <td>101.419998</td>
      <td>65800500</td>
      <td>99.212599</td>
    </tr>
    <tr>
      <th>2016-01-25</th>
      <td>101.519997</td>
      <td>101.529999</td>
      <td>99.209999</td>
      <td>99.440002</td>
      <td>51794500</td>
      <td>97.275697</td>
    </tr>
    <tr>
      <th>2016-01-26</th>
      <td>99.930000</td>
      <td>100.879997</td>
      <td>98.070000</td>
      <td>99.989998</td>
      <td>75077000</td>
      <td>97.813722</td>
    </tr>
    <tr>
      <th>2016-01-27</th>
      <td>96.040001</td>
      <td>96.629997</td>
      <td>93.339996</td>
      <td>93.419998</td>
      <td>133369700</td>
      <td>91.386718</td>
    </tr>
    <tr>
      <th>2016-01-28</th>
      <td>93.790001</td>
      <td>94.519997</td>
      <td>92.389999</td>
      <td>94.089996</td>
      <td>55678800</td>
      <td>92.042134</td>
    </tr>
    <tr>
      <th>2016-01-29</th>
      <td>94.790001</td>
      <td>97.339996</td>
      <td>94.349998</td>
      <td>97.339996</td>
      <td>64416500</td>
      <td>95.221398</td>
    </tr>
    <tr>
      <th>2016-02-01</th>
      <td>96.470001</td>
      <td>96.709999</td>
      <td>95.400002</td>
      <td>96.430000</td>
      <td>40943500</td>
      <td>94.331208</td>
    </tr>
    <tr>
      <th>2016-02-02</th>
      <td>95.419998</td>
      <td>96.040001</td>
      <td>94.279999</td>
      <td>94.480003</td>
      <td>37357200</td>
      <td>92.423652</td>
    </tr>
    <tr>
      <th>2016-02-03</th>
      <td>95.000000</td>
      <td>96.839996</td>
      <td>94.080002</td>
      <td>96.349998</td>
      <td>45964300</td>
      <td>94.252947</td>
    </tr>
    <tr>
      <th>2016-02-04</th>
      <td>95.860001</td>
      <td>97.330002</td>
      <td>95.190002</td>
      <td>96.599998</td>
      <td>46471700</td>
      <td>95.010279</td>
    </tr>
    <tr>
      <th>2016-02-05</th>
      <td>96.519997</td>
      <td>96.919998</td>
      <td>93.690002</td>
      <td>94.019997</td>
      <td>46418100</td>
      <td>92.472736</td>
    </tr>
    <tr>
      <th>2016-02-08</th>
      <td>93.129997</td>
      <td>95.699997</td>
      <td>93.040001</td>
      <td>95.010002</td>
      <td>54021400</td>
      <td>93.446449</td>
    </tr>
    <tr>
      <th>2016-02-09</th>
      <td>94.290001</td>
      <td>95.940002</td>
      <td>93.930000</td>
      <td>94.989998</td>
      <td>44331200</td>
      <td>93.426774</td>
    </tr>
    <tr>
      <th>2016-02-10</th>
      <td>95.919998</td>
      <td>96.349998</td>
      <td>94.099998</td>
      <td>94.269997</td>
      <td>42343600</td>
      <td>92.718621</td>
    </tr>
    <tr>
      <th>2016-02-11</th>
      <td>93.790001</td>
      <td>94.720001</td>
      <td>92.589996</td>
      <td>93.699997</td>
      <td>50074700</td>
      <td>92.158002</td>
    </tr>
    <tr>
      <th>2016-02-12</th>
      <td>94.190002</td>
      <td>94.500000</td>
      <td>93.010002</td>
      <td>93.989998</td>
      <td>40351400</td>
      <td>92.443230</td>
    </tr>
    <tr>
      <th>2016-02-16</th>
      <td>95.019997</td>
      <td>96.849998</td>
      <td>94.610001</td>
      <td>96.639999</td>
      <td>49057900</td>
      <td>95.049622</td>
    </tr>
    <tr>
      <th>2016-02-17</th>
      <td>96.669998</td>
      <td>98.209999</td>
      <td>96.150002</td>
      <td>98.120003</td>
      <td>44863200</td>
      <td>96.505269</td>
    </tr>
    <tr>
      <th>2016-02-18</th>
      <td>98.839996</td>
      <td>98.889999</td>
      <td>96.089996</td>
      <td>96.260002</td>
      <td>39021000</td>
      <td>94.675878</td>
    </tr>
    <tr>
      <th>2016-02-19</th>
      <td>96.000000</td>
      <td>96.760002</td>
      <td>95.800003</td>
      <td>96.040001</td>
      <td>35374200</td>
      <td>94.459497</td>
    </tr>
    <tr>
      <th>2016-02-22</th>
      <td>96.309998</td>
      <td>96.900002</td>
      <td>95.919998</td>
      <td>96.879997</td>
      <td>34280800</td>
      <td>95.285670</td>
    </tr>
    <tr>
      <th>2016-02-23</th>
      <td>96.400002</td>
      <td>96.500000</td>
      <td>94.550003</td>
      <td>94.690002</td>
      <td>31942600</td>
      <td>93.131715</td>
    </tr>
    <tr>
      <th>2016-02-24</th>
      <td>93.980003</td>
      <td>96.379997</td>
      <td>93.320000</td>
      <td>96.099998</td>
      <td>36255700</td>
      <td>94.518507</td>
    </tr>
    <tr>
      <th>2016-02-25</th>
      <td>96.050003</td>
      <td>96.760002</td>
      <td>95.250000</td>
      <td>96.760002</td>
      <td>27582700</td>
      <td>95.167650</td>
    </tr>
    <tr>
      <th>2016-02-26</th>
      <td>97.199997</td>
      <td>98.019997</td>
      <td>96.580002</td>
      <td>96.910004</td>
      <td>28991100</td>
      <td>95.315183</td>
    </tr>
    <tr>
      <th>2016-02-29</th>
      <td>96.860001</td>
      <td>98.230003</td>
      <td>96.650002</td>
      <td>96.690002</td>
      <td>35216300</td>
      <td>95.098802</td>
    </tr>
    <tr>
      <th>2016-03-01</th>
      <td>97.650002</td>
      <td>100.769997</td>
      <td>97.419998</td>
      <td>100.529999</td>
      <td>50407100</td>
      <td>98.875604</td>
    </tr>
    <tr>
      <th>2016-03-02</th>
      <td>100.510002</td>
      <td>100.889999</td>
      <td>99.639999</td>
      <td>100.750000</td>
      <td>33169600</td>
      <td>99.091985</td>
    </tr>
    <tr>
      <th>2016-03-03</th>
      <td>100.580002</td>
      <td>101.709999</td>
      <td>100.449997</td>
      <td>101.500000</td>
      <td>36955700</td>
      <td>99.829643</td>
    </tr>
    <tr>
      <th>2016-03-04</th>
      <td>102.370003</td>
      <td>103.750000</td>
      <td>101.370003</td>
      <td>103.010002</td>
      <td>46055100</td>
      <td>101.314795</td>
    </tr>
    <tr>
      <th>2016-03-07</th>
      <td>102.389999</td>
      <td>102.830002</td>
      <td>100.959999</td>
      <td>101.870003</td>
      <td>35828900</td>
      <td>100.193556</td>
    </tr>
    <tr>
      <th>2016-03-08</th>
      <td>100.779999</td>
      <td>101.760002</td>
      <td>100.400002</td>
      <td>101.029999</td>
      <td>31561900</td>
      <td>99.367376</td>
    </tr>
    <tr>
      <th>2016-03-09</th>
      <td>101.309998</td>
      <td>101.580002</td>
      <td>100.269997</td>
      <td>101.120003</td>
      <td>27201700</td>
      <td>99.455899</td>
    </tr>
    <tr>
      <th>2016-03-10</th>
      <td>101.410004</td>
      <td>102.239998</td>
      <td>100.150002</td>
      <td>101.169998</td>
      <td>33513600</td>
      <td>99.505072</td>
    </tr>
    <tr>
      <th>2016-03-11</th>
      <td>102.239998</td>
      <td>102.279999</td>
      <td>101.500000</td>
      <td>102.260002</td>
      <td>27408200</td>
      <td>100.577138</td>
    </tr>
    <tr>
      <th>2016-03-14</th>
      <td>101.910004</td>
      <td>102.910004</td>
      <td>101.779999</td>
      <td>102.519997</td>
      <td>25076100</td>
      <td>100.832853</td>
    </tr>
    <tr>
      <th>2016-03-15</th>
      <td>103.959999</td>
      <td>105.180000</td>
      <td>103.849998</td>
      <td>104.580002</td>
      <td>40067700</td>
      <td>102.858958</td>
    </tr>
    <tr>
      <th>2016-03-16</th>
      <td>104.610001</td>
      <td>106.309998</td>
      <td>104.589996</td>
      <td>105.970001</td>
      <td>38303500</td>
      <td>104.226082</td>
    </tr>
    <tr>
      <th>2016-03-17</th>
      <td>105.519997</td>
      <td>106.470001</td>
      <td>104.959999</td>
      <td>105.800003</td>
      <td>34420700</td>
      <td>104.058882</td>
    </tr>
    <tr>
      <th>2016-03-18</th>
      <td>106.339996</td>
      <td>106.500000</td>
      <td>105.190002</td>
      <td>105.919998</td>
      <td>44205200</td>
      <td>104.176902</td>
    </tr>
    <tr>
      <th>2016-03-21</th>
      <td>105.930000</td>
      <td>107.650002</td>
      <td>105.139999</td>
      <td>105.910004</td>
      <td>35502700</td>
      <td>104.167072</td>
    </tr>
    <tr>
      <th>2016-03-22</th>
      <td>105.250000</td>
      <td>107.290001</td>
      <td>105.209999</td>
      <td>106.720001</td>
      <td>32444400</td>
      <td>104.963740</td>
    </tr>
    <tr>
      <th>2016-03-23</th>
      <td>106.480003</td>
      <td>107.070000</td>
      <td>105.900002</td>
      <td>106.129997</td>
      <td>25703500</td>
      <td>104.383445</td>
    </tr>
    <tr>
      <th>2016-03-24</th>
      <td>105.470001</td>
      <td>106.250000</td>
      <td>104.889999</td>
      <td>105.669998</td>
      <td>26133000</td>
      <td>103.931016</td>
    </tr>
    <tr>
      <th>2016-03-28</th>
      <td>106.000000</td>
      <td>106.190002</td>
      <td>105.059998</td>
      <td>105.190002</td>
      <td>19411400</td>
      <td>103.458920</td>
    </tr>
    <tr>
      <th>2016-03-29</th>
      <td>104.889999</td>
      <td>107.790001</td>
      <td>104.879997</td>
      <td>107.680000</td>
      <td>31190100</td>
      <td>105.907940</td>
    </tr>
    <tr>
      <th>2016-03-30</th>
      <td>108.650002</td>
      <td>110.419998</td>
      <td>108.599998</td>
      <td>109.559998</td>
      <td>45601100</td>
      <td>107.756999</td>
    </tr>
  </tbody>
</table>
</div>
</div>

</div>

</div>
</div>

</div>
<div class="cell border-box-sizing code_cell rendered">
<div class="input">
<div class="prompt input_prompt">In&nbsp;[138]:</div>
<div class="inner_cell">
    <div class="input_area">
<div class=" highlight hl-ipython3"><pre><span></span><span class="n">df</span><span class="o">.</span><span class="n">head</span><span class="p">()</span>
</pre></div>

</div>
</div>
</div>

<div class="output_wrapper">
<div class="output">


<div class="output_area"><div class="prompt output_prompt">Out[138]:</div>

<div class="output_html rendered_html output_subarea output_execute_result">
<div>
<table border="1" class="dataframe">
  <thead>
    <tr style="text-align: right;">
      <th></th>
      <th>Open</th>
      <th>High</th>
      <th>Low</th>
      <th>Close</th>
      <th>Volume</th>
      <th>Adj Close</th>
    </tr>
    <tr>
      <th>Date</th>
      <th></th>
      <th></th>
      <th></th>
      <th></th>
      <th></th>
      <th></th>
    </tr>
  </thead>
  <tbody>
    <tr>
      <th>2016-01-04</th>
      <td>102.610001</td>
      <td>105.370003</td>
      <td>102.000000</td>
      <td>105.349998</td>
      <td>67649400</td>
      <td>103.057063</td>
    </tr>
    <tr>
      <th>2016-01-05</th>
      <td>105.750000</td>
      <td>105.849998</td>
      <td>102.410004</td>
      <td>102.709999</td>
      <td>55791000</td>
      <td>100.474523</td>
    </tr>
    <tr>
      <th>2016-01-06</th>
      <td>100.559998</td>
      <td>102.370003</td>
      <td>99.870003</td>
      <td>100.699997</td>
      <td>68457400</td>
      <td>98.508268</td>
    </tr>
    <tr>
      <th>2016-01-07</th>
      <td>98.680000</td>
      <td>100.129997</td>
      <td>96.430000</td>
      <td>96.449997</td>
      <td>81094400</td>
      <td>94.350769</td>
    </tr>
    <tr>
      <th>2016-01-08</th>
      <td>98.550003</td>
      <td>99.110001</td>
      <td>96.760002</td>
      <td>96.959999</td>
      <td>70798000</td>
      <td>94.849671</td>
    </tr>
  </tbody>
</table>
</div>
</div>

</div>

</div>
</div>

</div>
<div class="cell border-box-sizing code_cell rendered">
<div class="input">
<div class="prompt input_prompt">In&nbsp;[142]:</div>
<div class="inner_cell">
    <div class="input_area">
<div class=" highlight hl-ipython3"><pre><span></span><span class="n">df</span><span class="p">[[</span><span class="s2">&quot;Open&quot;</span><span class="p">,</span><span class="s2">&quot;Close&quot;</span><span class="p">,</span><span class="s2">&quot;Volume&quot;</span><span class="p">]]</span><span class="o">.</span><span class="n">tail</span><span class="p">(</span><span class="mi">10</span><span class="p">)</span>
</pre></div>

</div>
</div>
</div>

<div class="output_wrapper">
<div class="output">


<div class="output_area"><div class="prompt output_prompt">Out[142]:</div>

<div class="output_html rendered_html output_subarea output_execute_result">
<div>
<table border="1" class="dataframe">
  <thead>
    <tr style="text-align: right;">
      <th></th>
      <th>Open</th>
      <th>Close</th>
      <th>Volume</th>
    </tr>
    <tr>
      <th>Date</th>
      <th></th>
      <th></th>
      <th></th>
    </tr>
  </thead>
  <tbody>
    <tr>
      <th>2016-03-16</th>
      <td>104.610001</td>
      <td>105.970001</td>
      <td>38303500</td>
    </tr>
    <tr>
      <th>2016-03-17</th>
      <td>105.519997</td>
      <td>105.800003</td>
      <td>34420700</td>
    </tr>
    <tr>
      <th>2016-03-18</th>
      <td>106.339996</td>
      <td>105.919998</td>
      <td>44205200</td>
    </tr>
    <tr>
      <th>2016-03-21</th>
      <td>105.930000</td>
      <td>105.910004</td>
      <td>35502700</td>
    </tr>
    <tr>
      <th>2016-03-22</th>
      <td>105.250000</td>
      <td>106.720001</td>
      <td>32444400</td>
    </tr>
    <tr>
      <th>2016-03-23</th>
      <td>106.480003</td>
      <td>106.129997</td>
      <td>25703500</td>
    </tr>
    <tr>
      <th>2016-03-24</th>
      <td>105.470001</td>
      <td>105.669998</td>
      <td>26133000</td>
    </tr>
    <tr>
      <th>2016-03-28</th>
      <td>106.000000</td>
      <td>105.190002</td>
      <td>19411400</td>
    </tr>
    <tr>
      <th>2016-03-29</th>
      <td>104.889999</td>
      <td>107.680000</td>
      <td>31190100</td>
    </tr>
    <tr>
      <th>2016-03-30</th>
      <td>108.650002</td>
      <td>109.559998</td>
      <td>45601100</td>
    </tr>
  </tbody>
</table>
</div>
</div>

</div>

</div>
</div>

</div>
<div class="cell border-box-sizing code_cell rendered">
<div class="input">
<div class="prompt input_prompt">In&nbsp;[147]:</div>
<div class="inner_cell">
    <div class="input_area">
<div class=" highlight hl-ipython3"><pre><span></span><span class="n">df</span><span class="p">[[</span><span class="s2">&quot;Close&quot;</span><span class="p">]]</span><span class="o">.</span><span class="n">tail</span><span class="p">(</span><span class="mi">30</span><span class="p">)</span><span class="o">.</span><span class="n">plot</span><span class="p">()</span>
</pre></div>

</div>
</div>
</div>

<div class="output_wrapper">
<div class="output">


<div class="output_area"><div class="prompt output_prompt">Out[147]:</div>


<div class="output_text output_subarea output_execute_result">
<pre>&lt;matplotlib.axes._subplots.AxesSubplot at 0x1186da5c0&gt;</pre>
</div>

</div>

<div class="output_area"><div class="prompt"></div>


<div class="output_png output_subarea ">
<img src="data:image/png;base64,iVBORw0KGgoAAAANSUhEUgAAAgUAAAGFCAYAAABtxIBIAAAABHNCSVQICAgIfAhkiAAAAAlwSFlz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"
>
</div>

</div>

</div>
</div>

</div>
<div class="cell border-box-sizing code_cell rendered">
<div class="input">
<div class="prompt input_prompt">In&nbsp;[153]:</div>
<div class="inner_cell">
    <div class="input_area">
<div class=" highlight hl-ipython3"><pre><span></span><span class="n">df</span><span class="o">.</span><span class="n">tail</span><span class="p">(</span><span class="mi">60</span><span class="p">)</span><span class="o">.</span><span class="n">describe</span><span class="p">()</span>
</pre></div>

</div>
</div>
</div>

<div class="output_wrapper">
<div class="output">


<div class="output_area"><div class="prompt output_prompt">Out[153]:</div>

<div class="output_html rendered_html output_subarea output_execute_result">
<div>
<table border="1" class="dataframe">
  <thead>
    <tr style="text-align: right;">
      <th></th>
      <th>Open</th>
      <th>High</th>
      <th>Low</th>
      <th>Close</th>
      <th>Volume</th>
      <th>Adj Close</th>
    </tr>
  </thead>
  <tbody>
    <tr>
      <th>count</th>
      <td>60.000000</td>
      <td>60.000000</td>
      <td>60.000000</td>
      <td>60.000000</td>
      <td>6.000000e+01</td>
      <td>60.000000</td>
    </tr>
    <tr>
      <th>mean</th>
      <td>99.393167</td>
      <td>100.523833</td>
      <td>98.301333</td>
      <td>99.499500</td>
      <td>4.670080e+07</td>
      <td>97.671198</td>
    </tr>
    <tr>
      <th>std</th>
      <td>4.067184</td>
      <td>4.057188</td>
      <td>4.265001</td>
      <td>4.234343</td>
      <td>1.858998e+07</td>
      <td>4.233908</td>
    </tr>
    <tr>
      <th>min</th>
      <td>93.129997</td>
      <td>94.500000</td>
      <td>92.389999</td>
      <td>93.419998</td>
      <td>1.941140e+07</td>
      <td>91.386718</td>
    </tr>
    <tr>
      <th>25%</th>
      <td>96.047503</td>
      <td>96.887501</td>
      <td>94.857502</td>
      <td>96.409999</td>
      <td>3.438572e+07</td>
      <td>94.503754</td>
    </tr>
    <tr>
      <th>50%</th>
      <td>98.654999</td>
      <td>100.305000</td>
      <td>97.030002</td>
      <td>98.325001</td>
      <td>4.426820e+07</td>
      <td>96.445384</td>
    </tr>
    <tr>
      <th>75%</th>
      <td>102.272499</td>
      <td>102.850003</td>
      <td>101.402502</td>
      <td>102.325001</td>
      <td>5.332112e+07</td>
      <td>100.500177</td>
    </tr>
    <tr>
      <th>max</th>
      <td>108.650002</td>
      <td>110.419998</td>
      <td>108.599998</td>
      <td>109.559998</td>
      <td>1.333697e+08</td>
      <td>107.756999</td>
    </tr>
  </tbody>
</table>
</div>
</div>

</div>

</div>
</div>

</div>
<div class="cell border-box-sizing text_cell rendered">
<div class="prompt input_prompt">
</div>
<div class="inner_cell">
<div class="text_cell_render border-box-sizing rendered_html">
<h1 id="&#24341;&#20837;GUI">&#24341;&#20837;GUI<a class="anchor-link" href="#&#24341;&#20837;GUI">&#182;</a></h1>
</div>
</div>
</div>
<div class="cell border-box-sizing code_cell rendered">
<div class="input">
<div class="prompt input_prompt">In&nbsp;[154]:</div>
<div class="inner_cell">
    <div class="input_area">
<div class=" highlight hl-ipython3"><pre><span></span><span class="kn">from</span> <span class="nn">IPython.html.widgets</span> <span class="k">import</span> <span class="n">interact</span><span class="p">,</span> <span class="n">interact_manual</span>
</pre></div>

</div>
</div>
</div>

</div>
<div class="cell border-box-sizing code_cell rendered">
<div class="input">
<div class="prompt input_prompt">In&nbsp;[155]:</div>
<div class="inner_cell">
    <div class="input_area">
<div class=" highlight hl-ipython3"><pre><span></span><span class="k">def</span> <span class="nf">f</span><span class="p">(</span><span class="n">x</span><span class="p">):</span>
    <span class="nb">print</span> <span class="p">(</span><span class="n">x</span><span class="p">)</span>
</pre></div>

</div>
</div>
</div>

</div>
<div class="cell border-box-sizing code_cell rendered">
<div class="input">
<div class="prompt input_prompt">In&nbsp;[157]:</div>
<div class="inner_cell">
    <div class="input_area">
<div class=" highlight hl-ipython3"><pre><span></span><span class="n">interact</span> <span class="p">(</span><span class="n">f</span><span class="p">,</span> <span class="n">x</span><span class="o">=</span><span class="mi">10</span><span class="p">)</span>
</pre></div>

</div>
</div>
</div>

<div class="output_wrapper">
<div class="output">


<div class="output_area"><div class="prompt"></div>
<div class="output_subarea output_stream output_stdout output_text">
<pre>10
</pre>
</div>
</div>

</div>
</div>

</div>
<div class="cell border-box-sizing code_cell rendered">
<div class="input">
<div class="prompt input_prompt">In&nbsp;[158]:</div>
<div class="inner_cell">
    <div class="input_area">
<div class=" highlight hl-ipython3"><pre><span></span><span class="n">interact</span> <span class="p">(</span><span class="n">f</span><span class="p">,</span> <span class="n">x</span><span class="o">=</span><span class="p">(</span><span class="mi">1</span><span class="p">,</span><span class="mi">10</span><span class="p">))</span>
</pre></div>

</div>
</div>
</div>

<div class="output_wrapper">
<div class="output">


<div class="output_area"><div class="prompt"></div>
<div class="output_subarea output_stream output_stdout output_text">
<pre>10
</pre>
</div>
</div>

</div>
</div>

</div>
<div class="cell border-box-sizing code_cell rendered">
<div class="input">
<div class="prompt input_prompt">In&nbsp;[159]:</div>
<div class="inner_cell">
    <div class="input_area">
<div class=" highlight hl-ipython3"><pre><span></span><span class="n">interact</span> <span class="p">(</span><span class="n">f</span><span class="p">,</span> <span class="n">x</span><span class="o">=</span><span class="s1">&#39;David&#39;</span><span class="p">)</span>
</pre></div>

</div>
</div>
</div>

<div class="output_wrapper">
<div class="output">


<div class="output_area"><div class="prompt"></div>
<div class="output_subarea output_stream output_stdout output_text">
<pre>david
</pre>
</div>
</div>

</div>
</div>

</div>
<div class="cell border-box-sizing code_cell rendered">
<div class="input">
<div class="prompt input_prompt">In&nbsp;[162]:</div>
<div class="inner_cell">
    <div class="input_area">
<div class=" highlight hl-ipython3"><pre><span></span><span class="n">interact</span> <span class="p">(</span><span class="n">f</span><span class="p">,</span> <span class="n">x</span><span class="o">=</span><span class="p">(</span><span class="s2">&quot;David&quot;</span><span class="p">,</span><span class="s2">&quot;r&quot;</span><span class="p">,</span><span class="s2">&quot;ABC&quot;</span><span class="p">))</span>
</pre></div>

</div>
</div>
</div>

<div class="output_wrapper">
<div class="output">


<div class="output_area"><div class="prompt"></div>
<div class="output_subarea output_stream output_stdout output_text">
<pre>David
</pre>
</div>
</div>

<div class="output_area"><div class="prompt output_prompt">Out[162]:</div>


<div class="output_text output_subarea output_execute_result">
<pre>&lt;function __main__.f&gt;</pre>
</div>

</div>

</div>
</div>

</div>
<div class="cell border-box-sizing code_cell rendered">
<div class="input">
<div class="prompt input_prompt">In&nbsp;[166]:</div>
<div class="inner_cell">
    <div class="input_area">
<div class=" highlight hl-ipython3"><pre><span></span><span class="n">interact</span> <span class="p">(</span><span class="n">f</span><span class="p">,</span> <span class="n">x</span><span class="o">=</span><span class="kc">True</span><span class="p">)</span>
</pre></div>

</div>
</div>
</div>

<div class="output_wrapper">
<div class="output">


<div class="output_area"><div class="prompt"></div>
<div class="output_subarea output_stream output_stdout output_text">
<pre>True
</pre>
</div>
</div>

</div>
</div>

</div>
<div class="cell border-box-sizing code_cell rendered">
<div class="input">
<div class="prompt input_prompt">In&nbsp;[171]:</div>
<div class="inner_cell">
    <div class="input_area">
<div class=" highlight hl-ipython3"><pre><span></span><span class="k">def</span> <span class="nf">move</span><span class="p">(</span><span class="n">k</span><span class="p">):</span>
    <span class="nb">print</span><span class="p">(</span><span class="s2">&quot; &quot;</span><span class="o">*</span><span class="n">k</span><span class="o">+</span><span class="s2">&quot;OOOO&quot;</span><span class="p">)</span>
</pre></div>

</div>
</div>
</div>

</div>
<div class="cell border-box-sizing code_cell rendered">
<div class="input">
<div class="prompt input_prompt">In&nbsp;[172]:</div>
<div class="inner_cell">
    <div class="input_area">
<div class=" highlight hl-ipython3"><pre><span></span><span class="n">interact</span> <span class="p">(</span><span class="n">move</span><span class="p">,</span> <span class="n">k</span><span class="o">=</span><span class="p">(</span><span class="mi">1</span><span class="p">,</span><span class="mi">30</span><span class="p">))</span>
</pre></div>

</div>
</div>
</div>

<div class="output_wrapper">
<div class="output">


<div class="output_area"><div class="prompt"></div>
<div class="output_subarea output_stream output_stdout output_text">
<pre> OOOO
</pre>
</div>
</div>

</div>
</div>

</div>
<div class="cell border-box-sizing code_cell rendered">
<div class="input">
<div class="prompt input_prompt">In&nbsp;[173]:</div>
<div class="inner_cell">
    <div class="input_area">
<div class=" highlight hl-ipython3"><pre><span></span><span class="kn">from</span> <span class="nn">random</span> <span class="k">import</span> <span class="n">choice</span>
</pre></div>

</div>
</div>
</div>

</div>
<div class="cell border-box-sizing code_cell rendered">
<div class="input">
<div class="prompt input_prompt">In&nbsp;[180]:</div>
<div class="inner_cell">
    <div class="input_area">
<div class=" highlight hl-ipython3"><pre><span></span><span class="k">def</span> <span class="nf">draw</span><span class="p">():</span>
    <span class="n">pool</span><span class="o">=</span><span class="s2">&quot;汽車&quot;</span><span class="p">,</span><span class="s2">&quot;美女&quot;</span><span class="p">,</span><span class="s2">&quot;電動&quot;</span>
    <span class="nb">print</span><span class="p">(</span><span class="n">choice</span><span class="p">(</span><span class="n">pool</span><span class="p">))</span>
</pre></div>

</div>
</div>
</div>

</div>
<div class="cell border-box-sizing code_cell rendered">
<div class="input">
<div class="prompt input_prompt">In&nbsp;[182]:</div>
<div class="inner_cell">
    <div class="input_area">
<div class=" highlight hl-ipython3"><pre><span></span><span class="n">draw</span><span class="p">()</span>
</pre></div>

</div>
</div>
</div>

<div class="output_wrapper">
<div class="output">


<div class="output_area"><div class="prompt"></div>
<div class="output_subarea output_stream output_stdout output_text">
<pre>汽車
</pre>
</div>
</div>

</div>
</div>

</div>
<div class="cell border-box-sizing code_cell rendered">
<div class="input">
<div class="prompt input_prompt">In&nbsp;[184]:</div>
<div class="inner_cell">
    <div class="input_area">
<div class=" highlight hl-ipython3"><pre><span></span><span class="n">interact_manual</span> <span class="p">(</span><span class="n">draw</span><span class="p">)</span>
</pre></div>

</div>
</div>
</div>

<div class="output_wrapper">
<div class="output">


<div class="output_area"><div class="prompt"></div>
<div class="output_subarea output_stream output_stdout output_text">
<pre>汽車
</pre>
</div>
</div>

</div>
</div>

</div>
<div class="cell border-box-sizing text_cell rendered">
<div class="prompt input_prompt">
</div>
<div class="inner_cell">
<div class="text_cell_render border-box-sizing rendered_html">
<h1 id="Data-Analysis&#22522;&#26412;&#20351;&#29992;">Data Analysis&#22522;&#26412;&#20351;&#29992;<a class="anchor-link" href="#Data-Analysis&#22522;&#26412;&#20351;&#29992;">&#182;</a></h1>
</div>
</div>
</div>
<div class="cell border-box-sizing code_cell rendered">
<div class="input">
<div class="prompt input_prompt">In&nbsp;[191]:</div>
<div class="inner_cell">
    <div class="input_area">
<div class=" highlight hl-ipython3"><pre><span></span><span class="o">%</span><span class="k">pylab</span> inline
</pre></div>

</div>
</div>
</div>

<div class="output_wrapper">
<div class="output">


<div class="output_area"><div class="prompt"></div>
<div class="output_subarea output_stream output_stdout output_text">
<pre>Populating the interactive namespace from numpy and matplotlib
</pre>
</div>
</div>

<div class="output_area"><div class="prompt"></div>
<div class="output_subarea output_stream output_stderr output_text">
<pre>/Users/apple/anaconda3/lib/python3.5/site-packages/IPython/core/magics/pylab.py:161: UserWarning: pylab import has clobbered these variables: [&#39;choice&#39;, &#39;f&#39;, &#39;draw&#39;]
`%matplotlib` prevents importing * from pylab and numpy
  &#34;\n`%matplotlib` prevents importing * from pylab and numpy&#34;
</pre>
</div>
</div>

</div>
</div>

</div>
<div class="cell border-box-sizing code_cell rendered">
<div class="input">
<div class="prompt input_prompt">In&nbsp;[211]:</div>
<div class="inner_cell">
    <div class="input_area">
<div class=" highlight hl-ipython3"><pre><span></span><span class="n">x</span><span class="o">=</span> <span class="n">linspace</span><span class="p">(</span><span class="mi">0</span><span class="p">,</span><span class="mi">10</span><span class="p">,</span><span class="mi">30</span><span class="p">)</span>
<span class="n">plot</span><span class="p">(</span><span class="n">x</span><span class="p">,</span> <span class="mf">1.5</span><span class="o">*</span><span class="n">x</span> <span class="o">+</span> <span class="mf">1.5</span> <span class="p">,</span> <span class="s1">&#39;o&#39;</span><span class="p">)</span>
</pre></div>

</div>
</div>
</div>

<div class="output_wrapper">
<div class="output">


<div class="output_area"><div class="prompt output_prompt">Out[211]:</div>


<div class="output_text output_subarea output_execute_result">
<pre>[&lt;matplotlib.lines.Line2D at 0x11ba918d0&gt;]</pre>
</div>

</div>

<div class="output_area"><div class="prompt"></div>


<div class="output_png output_subarea ">
<img src="data:image/png;base64,iVBORw0KGgoAAAANSUhEUgAAAgUAAAFkCAYAAACw3EhvAAAABHNCSVQICAgIfAhkiAAAAAlwSFlz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"
>
</div>

</div>

</div>
</div>

</div>
<div class="cell border-box-sizing code_cell rendered">
<div class="input">
<div class="prompt input_prompt">In&nbsp;[227]:</div>
<div class="inner_cell">
    <div class="input_area">
<div class=" highlight hl-ipython3"><pre><span></span><span class="n">y</span><span class="o">=</span> <span class="mf">1.5</span><span class="o">*</span><span class="n">x</span> <span class="o">+</span> <span class="mf">1.5</span> <span class="o">+</span> <span class="n">randn</span><span class="p">(</span><span class="mi">30</span><span class="p">)</span>
<span class="n">scatter</span> <span class="p">(</span><span class="n">x</span><span class="p">,</span><span class="n">y</span><span class="p">)</span>
<span class="n">plot</span><span class="p">(</span><span class="n">x</span><span class="p">,</span> <span class="mf">1.5</span><span class="o">*</span><span class="n">x</span> <span class="o">+</span> <span class="mf">1.5</span> <span class="p">,</span> <span class="s1">&#39;b&#39;</span><span class="p">)</span>
</pre></div>

</div>
</div>
</div>

<div class="output_wrapper">
<div class="output">


<div class="output_area"><div class="prompt output_prompt">Out[227]:</div>


<div class="output_text output_subarea output_execute_result">
<pre>[&lt;matplotlib.lines.Line2D at 0x11c747da0&gt;]</pre>
</div>

</div>

<div class="output_area"><div class="prompt"></div>


<div class="output_png output_subarea ">
<img src="data:image/png;base64,iVBORw0KGgoAAAANSUhEUgAAAgcAAAFkCAYAAAC0KZhSAAAABHNCSVQICAgIfAhkiAAAAAlwSFlz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"
>
</div>

</div>

</div>
</div>

</div>
<div class="cell border-box-sizing code_cell rendered">
<div class="input">
<div class="prompt input_prompt">In&nbsp;[228]:</div>
<div class="inner_cell">
    <div class="input_area">
<div class=" highlight hl-ipython3"><pre><span></span><span class="kn">from</span> <span class="nn">scipy.optimize</span> <span class="k">import</span> <span class="n">curve_fit</span>
</pre></div>

</div>
</div>
</div>

</div>
<div class="cell border-box-sizing code_cell rendered">
<div class="input">
<div class="prompt input_prompt">In&nbsp;[229]:</div>
<div class="inner_cell">
    <div class="input_area">
<div class=" highlight hl-ipython3"><pre><span></span><span class="k">def</span> <span class="nf">f</span><span class="p">(</span><span class="n">x</span><span class="p">,</span> <span class="n">a</span><span class="p">,</span> <span class="n">b</span><span class="p">):</span>
    <span class="k">return</span> <span class="n">a</span><span class="o">*</span><span class="n">x</span> <span class="o">+</span> <span class="n">b</span>
</pre></div>

</div>
</div>
</div>

</div>
<div class="cell border-box-sizing code_cell rendered">
<div class="input">
<div class="prompt input_prompt">In&nbsp;[230]:</div>
<div class="inner_cell">
    <div class="input_area">
<div class=" highlight hl-ipython3"><pre><span></span><span class="n">popt</span><span class="p">,</span> <span class="n">pcov</span> <span class="o">=</span> <span class="n">curve_fit</span><span class="p">(</span><span class="n">f</span><span class="p">,</span> <span class="n">x</span><span class="p">,</span> <span class="n">y</span><span class="p">)</span>
</pre></div>

</div>
</div>
</div>

</div>
<div class="cell border-box-sizing code_cell rendered">
<div class="input">
<div class="prompt input_prompt">In&nbsp;[231]:</div>
<div class="inner_cell">
    <div class="input_area">
<div class=" highlight hl-ipython3"><pre><span></span><span class="n">popt</span>
</pre></div>

</div>
</div>
</div>

<div class="output_wrapper">
<div class="output">


<div class="output_area"><div class="prompt output_prompt">Out[231]:</div>


<div class="output_text output_subarea output_execute_result">
<pre>array([ 1.53818595,  1.13283027])</pre>
</div>

</div>

</div>
</div>

</div>
<div class="cell border-box-sizing code_cell rendered">
<div class="input">
<div class="prompt input_prompt">In&nbsp;[233]:</div>
<div class="inner_cell">
    <div class="input_area">
<div class=" highlight hl-ipython3"><pre><span></span><span class="n">a</span><span class="p">,</span> <span class="n">b</span> <span class="o">=</span> <span class="n">popt</span>
</pre></div>

</div>
</div>
</div>

</div>
<div class="cell border-box-sizing code_cell rendered">
<div class="input">
<div class="prompt input_prompt">In&nbsp;[234]:</div>
<div class="inner_cell">
    <div class="input_area">
<div class=" highlight hl-ipython3"><pre><span></span><span class="n">scatter</span><span class="p">(</span><span class="n">x</span><span class="p">,</span><span class="n">y</span><span class="p">)</span>
<span class="n">plot</span><span class="p">(</span><span class="n">x</span><span class="p">,</span><span class="mf">1.5</span><span class="o">*</span><span class="n">x</span> <span class="o">+</span> <span class="mf">1.5</span><span class="p">,</span><span class="s1">&#39;b&#39;</span><span class="p">,</span><span class="n">label</span><span class="o">=</span><span class="s2">&quot;truth&quot;</span><span class="p">)</span>
<span class="n">plot</span><span class="p">(</span><span class="n">x</span><span class="p">,</span> <span class="n">a</span><span class="o">*</span><span class="n">x</span> <span class="o">+</span> <span class="n">b</span><span class="p">,</span> <span class="s1">&#39;r&#39;</span><span class="p">,</span><span class="n">label</span><span class="o">=</span><span class="s2">&quot;estimate&quot;</span><span class="p">)</span>
<span class="n">ax</span> <span class="o">=</span> <span class="n">gca</span><span class="p">()</span>
<span class="n">ax</span><span class="o">.</span><span class="n">legend</span><span class="p">();</span>
</pre></div>

</div>
</div>
</div>

<div class="output_wrapper">
<div class="output">


<div class="output_area"><div class="prompt"></div>


<div class="output_png output_subarea ">
<img src="data:image/png;base64,iVBORw0KGgoAAAANSUhEUgAAAgcAAAFkCAYAAAC0KZhSAAAABHNCSVQICAgIfAhkiAAAAAlwSFlz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"
>
</div>

</div>

</div>
</div>

</div>
<div class="cell border-box-sizing code_cell rendered">
<div class="input">
<div class="prompt input_prompt">In&nbsp;[&nbsp;]:</div>
<div class="inner_cell">
    <div class="input_area">
<div class=" highlight hl-ipython3"><pre><span></span> 
</pre></div>

</div>
</div>
</div>

</div>
    </div>
  </div>
</body>
</html>
