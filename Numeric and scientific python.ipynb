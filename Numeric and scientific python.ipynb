{
 "cells": [
  {
   "cell_type": "code",
   "execution_count": 1,
   "metadata": {
    "collapsed": false
   },
   "outputs": [
    {
     "name": "stdout",
     "output_type": "stream",
     "text": [
      "Current conda install:\n",
      "\n",
      "               platform : win-64\n",
      "          conda version : 4.3.22\n",
      "       conda is private : False\n",
      "      conda-env version : 4.3.22\n",
      "    conda-build version : not installed\n",
      "         python version : 3.6.1.final.0\n",
      "       requests version : 2.14.2\n",
      "       root environment : C:\\Users\\USER\\Anaconda3  (writable)\n",
      "    default environment : C:\\Users\\USER\\Anaconda3\n",
      "       envs directories : C:\\Users\\USER\\Anaconda3\\envs\n",
      "                          C:\\Users\\USER\\AppData\\Local\\conda\\conda\\envs\n",
      "                          C:\\Users\\USER\\.conda\\envs\n",
      "          package cache : C:\\Users\\USER\\Anaconda3\\pkgs\n",
      "                          C:\\Users\\USER\\AppData\\Local\\conda\\conda\\pkgs\n",
      "           channel URLs : https://repo.continuum.io/pkgs/free/win-64\n",
      "                          https://repo.continuum.io/pkgs/free/noarch\n",
      "                          https://repo.continuum.io/pkgs/r/win-64\n",
      "                          https://repo.continuum.io/pkgs/r/noarch\n",
      "                          https://repo.continuum.io/pkgs/pro/win-64\n",
      "                          https://repo.continuum.io/pkgs/pro/noarch\n",
      "                          https://repo.continuum.io/pkgs/msys2/win-64\n",
      "                          https://repo.continuum.io/pkgs/msys2/noarch\n",
      "            config file : C:\\Users\\USER\\.condarc\n",
      "             netrc file : None\n",
      "           offline mode : False\n",
      "             user-agent : conda/4.3.22 requests/2.14.2 CPython/3.6.1 Windows/10 Windows/10.0.14393    \n",
      "          administrator : False\n"
     ]
    }
   ],
   "source": [
    "!conda info"
   ]
  },
  {
   "cell_type": "markdown",
   "metadata": {},
   "source": [
    "# Variables"
   ]
  },
  {
   "cell_type": "code",
   "execution_count": 9,
   "metadata": {
    "collapsed": false
   },
   "outputs": [
    {
     "name": "stdout",
     "output_type": "stream",
     "text": [
      "5\n"
     ]
    },
    {
     "data": {
      "text/plain": [
       "numpy.ndarray"
      ]
     },
     "execution_count": 9,
     "metadata": {},
     "output_type": "execute_result"
    }
   ],
   "source": [
    "x = 2\n",
    "y = '3'\n",
    "print(x+int(y))\n",
    "\n",
    "z = [1, 2, 3] #List\n",
    "w = (2, 3, 4) #Tuple\n",
    "\n",
    "import numpy as np\n",
    "q = np.array([1, 2, 3]) #numpy.ndarray\n",
    "type(q)"
   ]
  },
  {
   "cell_type": "markdown",
   "metadata": {},
   "source": [
    "# Console input and output"
   ]
  },
  {
   "cell_type": "code",
   "execution_count": 10,
   "metadata": {
    "collapsed": false
   },
   "outputs": [
    {
     "name": "stdout",
     "output_type": "stream",
     "text": [
      "My name is: david\n",
      "Hello, david\n"
     ]
    }
   ],
   "source": [
    "MyName = input('My name is: ')\n",
    "print('Hello, '+MyName)"
   ]
  },
  {
   "cell_type": "markdown",
   "metadata": {},
   "source": [
    "# File input and output"
   ]
  },
  {
   "cell_type": "code",
   "execution_count": 20,
   "metadata": {
    "collapsed": false
   },
   "outputs": [
    {
     "name": "stdout",
     "output_type": "stream",
     "text": [
      "demo of writing.\n",
      "\n",
      "Second line\n"
     ]
    }
   ],
   "source": [
    "fid = open('msg.txt','w')\n",
    "fid.write('demo of writing.\\n')\n",
    "fid.write('Second line')\n",
    "fid.close()\n",
    "\n",
    "fid = open('msg.txt','r')\n",
    "msg = fid.readline()\n",
    "print(msg)\n",
    "msg = fid.readline()\n",
    "print(msg)\n",
    "\n",
    "fid.close()"
   ]
  },
  {
   "cell_type": "code",
   "execution_count": 21,
   "metadata": {
    "collapsed": false
   },
   "outputs": [
    {
     "name": "stdout",
     "output_type": "stream",
     "text": [
      "['demo of writing.\\n', 'Second line']\n"
     ]
    }
   ],
   "source": [
    "fid = open('msg.txt','r')\n",
    "msg = fid.readlines()\n",
    "print(msg)"
   ]
  },
  {
   "cell_type": "code",
   "execution_count": 22,
   "metadata": {
    "collapsed": false
   },
   "outputs": [
    {
     "name": "stdout",
     "output_type": "stream",
     "text": [
      "demo of writing.\n",
      "Second line\n"
     ]
    }
   ],
   "source": [
    "fid = open('msg.txt','r')\n",
    "msg = fid.read()\n",
    "print(msg)"
   ]
  },
  {
   "cell_type": "code",
   "execution_count": 35,
   "metadata": {
    "collapsed": false
   },
   "outputs": [
    {
     "name": "stdout",
     "output_type": "stream",
     "text": [
      "[ 0.          2.0943951   4.1887902   6.28318531]\n",
      "[ 1.  -0.5 -0.5  1. ]\n",
      "[[ 0.          2.0943951   4.1887902   6.28318531]\n",
      " [ 1.         -0.5        -0.5         1.        ]]\n",
      "[[ 0.          1.        ]\n",
      " [ 2.0943951  -0.5       ]\n",
      " [ 4.1887902  -0.5       ]\n",
      " [ 6.28318531  1.        ]]\n",
      "[[ 0.          2.0943951   4.1887902   6.28318531]\n",
      " [ 1.         -0.5        -0.5         1.        ]]\n"
     ]
    }
   ],
   "source": [
    "import numpy as np\n",
    "x = np.linspace(0, 2*np.pi,4)\n",
    "y = np.cos(x)\n",
    "\n",
    "#Stack arrays in sequence vertically (row wise).\n",
    "data = np.vstack((x,y))  #上下對隊齊好\n",
    "dataT = data.T #Transpose\n",
    "\n",
    "np.savetxt('data.txt', data, delimiter=',')\n",
    "z = np.loadtxt('data.txt', delimiter=',')\n",
    "\n",
    "print(x)\n",
    "print(y)\n",
    "print(data)\n",
    "print(dataT)\n",
    "print(z)"
   ]
  },
  {
   "cell_type": "code",
   "execution_count": 55,
   "metadata": {
    "collapsed": false
   },
   "outputs": [
    {
     "data": {
      "text/plain": [
       "(0, 6.283185307179586)"
      ]
     },
     "execution_count": 55,
     "metadata": {},
     "output_type": "execute_result"
    },
    {
     "data": {
      "image/png": "[encoded data removed]",
      "text/plain": [
       "<matplotlib.figure.Figure at 0x2c5d3488fd0>"
      ]
     },
     "metadata": {},
     "output_type": "display_data"
    }
   ],
   "source": [
    "import numpy as np\n",
    "x = np.linspace(0, 2*np.pi,20)\n",
    "y = np.cos(x)\n",
    "z = np.sin(x)\n",
    "\n",
    "%matplotlib inline\n",
    "import matplotlib.pyplot as plt\n",
    "\n",
    "#使用 help(plt.plot) 可以看到所有畫圖玩法\n",
    "plt.plot(x,y,'b')\n",
    "plt.plot(x,y,'go', label = 'cos(x)')\n",
    "plt.plot(x,z,'r')\n",
    "plt.plot(x,z,'go', label = 'sin(x)')\n",
    "plt.legend(loc='best') # 放到最好的位置\n",
    "plt.xlim([0, 2*np.pi])"
   ]
  },
  {
   "cell_type": "code",
   "execution_count": 56,
   "metadata": {
    "collapsed": false
   },
   "outputs": [
    {
     "data": {
      "text/plain": [
       "(0, 6.283185307179586)"
      ]
     },
     "execution_count": 56,
     "metadata": {},
     "output_type": "execute_result"
    },
    {
     "data": {
      "image/png": "[encoded data removed]",
      "text/plain": [
       "<matplotlib.figure.Figure at 0x2c5d37d7ba8>"
      ]
     },
     "metadata": {},
     "output_type": "display_data"
    }
   ],
   "source": [
    "import numpy as np\n",
    "x = np.linspace(0, 2*np.pi,20)\n",
    "y = np.cos(x)\n",
    "z = np.sin(x)\n",
    "\n",
    "%matplotlib inline\n",
    "import matplotlib.pyplot as plt\n",
    "\n",
    "#使用 help(plt.plot) 可以看到所有畫圖玩法\n",
    "plt.subplot(2,1,1) #分成兩張圖 形式是(row, column, order)\n",
    "plt.plot(x,y,'b')\n",
    "plt.plot(x,y,'go', label = 'cos(x)')\n",
    "plt.legend(loc='best') #放到最好的位置\n",
    "\n",
    "plt.subplot(2,1,2) #分成兩張圖\n",
    "plt.plot(x,z,'r')\n",
    "plt.plot(x,z,'go', label = 'sin(x)')\n",
    "plt.legend(loc='best') #放到最好的位置\n",
    "\n",
    "plt.xlim([0, 2*np.pi])"
   ]
  },
  {
   "cell_type": "markdown",
   "metadata": {},
   "source": [
    "# Functions, Conditions, Loop"
   ]
  },
  {
   "cell_type": "code",
   "execution_count": 60,
   "metadata": {
    "collapsed": false
   },
   "outputs": [
    {
     "name": "stdout",
     "output_type": "stream",
     "text": [
      "[  0.           0.30864198   1.2345679    2.77777778   4.9382716\n",
      "   7.71604938  11.11111111  15.12345679  19.75308642  25.        ]\n"
     ]
    }
   ],
   "source": [
    "import numpy as np\n",
    "\n",
    "def f(x):\n",
    "    return x**2\n",
    "\n",
    "x = np.linspace(0,5,10)\n",
    "y = f(x)\n",
    "\n",
    "print(y)"
   ]
  },
  {
   "cell_type": "code",
   "execution_count": 80,
   "metadata": {
    "collapsed": false
   },
   "outputs": [
    {
     "name": "stdout",
     "output_type": "stream",
     "text": [
      "[           nan            nan            nan            nan            nan\n",
      "            nan    31.49147106    50.00728969    74.64644992   106.28371483\n",
      "   145.7938475    194.05161102   251.93176848   320.30908296   400.05831754\n",
      "   492.05423531   597.17159936   716.28517277   850.26971862  1000.        ]\n"
     ]
    },
    {
     "data": {
      "text/plain": [
       "(0, 11)"
      ]
     },
     "execution_count": 80,
     "metadata": {},
     "output_type": "execute_result"
    },
    {
     "data": {
      "image/png": "[encoded data removed]",
      "text/plain": [
       "<matplotlib.figure.Figure at 0x2c5d3d4a390>"
      ]
     },
     "metadata": {},
     "output_type": "display_data"
    }
   ],
   "source": [
    "import numpy as np\n",
    "\n",
    "def f(x): #這是個奇怪的練習用函數\n",
    "    res = x\n",
    "    if res < 3:\n",
    "        res = np.nan #<3就傳 Not a Number \n",
    "    elif res < 15:\n",
    "        res = x**3\n",
    "    else:\n",
    "        res = x**4\n",
    "    return res\n",
    "\n",
    "x = np.linspace(0,10,20)\n",
    "y = np.empty_like(x) \n",
    "#Return a new array with the same shape and type as a given array.\n",
    "#傳一個跟x一樣的array回來\n",
    "\n",
    "i = 0\n",
    "for xi in x:\n",
    "    y[i] = f(xi)\n",
    "    i = i + 1\n",
    "print(y)\n",
    "    \n",
    "%matplotlib inline\n",
    "import matplotlib.pyplot as plt\n",
    "\n",
    "plt.plot(x,y,'bp')\n",
    "plt.xlim([0,11])"
   ]
  },
  {
   "cell_type": "markdown",
   "metadata": {},
   "source": [
    "# Matrices, linear equations"
   ]
  },
  {
   "cell_type": "code",
   "execution_count": 99,
   "metadata": {
    "collapsed": false
   },
   "outputs": [
    {
     "name": "stdout",
     "output_type": "stream",
     "text": [
      "[-0.5   0.75]\n",
      "[-0.5   0.75]\n"
     ]
    },
    {
     "data": {
      "image/png": "[encoded data removed]",
      "text/latex": [
       "$$\\left\\{\\left ( \\frac{1}{2}, \\quad - \\frac{1}{4}\\right )\\right\\}$$"
      ],
      "text/plain": [
       "{(1/2, -1/4)}"
      ]
     },
     "execution_count": 99,
     "metadata": {},
     "output_type": "execute_result"
    }
   ],
   "source": [
    "A = np.array([[1,2],[3,2]])\n",
    "B = np.array([1,0])\n",
    "\n",
    "# x = A^-1 * b\n",
    "sol1 = np.dot(np.linalg.inv(A),B)\n",
    "print(sol1)\n",
    "sol2 = np.linalg.solve(A,B)\n",
    "print(sol2)\n",
    "\n",
    "\n",
    "import sympy as sym\n",
    "sym.init_printing() \n",
    "#This will automatically enable the best printer available in your environment.\n",
    "\n",
    "x,y = sym.symbols('x y')\n",
    "z = sym.linsolve([3*x+2*y-1,x+2*y],(x,y))\n",
    "z\n",
    "#sym.pprint(z) The ASCII pretty printer"
   ]
  },
  {
   "cell_type": "markdown",
   "metadata": {},
   "source": [
    "# Non-linear equation"
   ]
  },
  {
   "cell_type": "code",
   "execution_count": 101,
   "metadata": {
    "collapsed": false
   },
   "outputs": [
    {
     "name": "stdout",
     "output_type": "stream",
     "text": [
      "[-0.89442719  0.4472136 ]\n",
      "[0.0, -1.1102230246251565e-16]\n"
     ]
    }
   ],
   "source": [
    "from scipy.optimize import fsolve\n",
    "\n",
    "def f(z):  #用z參數來表示x和y，做函數運算 \n",
    "    x = z[0]\n",
    "    y = z[1]\n",
    "    return [x+2*y, x**2+y**2-1]\n",
    "\n",
    "z0 = [0,1]\n",
    "z = fsolve(f,z0)\n",
    "print(z)\n",
    "print(f(z))"
   ]
  },
  {
   "cell_type": "markdown",
   "metadata": {},
   "source": [
    "# Integration"
   ]
  },
  {
   "cell_type": "code",
   "execution_count": 105,
   "metadata": {
    "collapsed": false
   },
   "outputs": [
    {
     "data": {
      "image/png": "[encoded data removed]",
      "text/latex": [
       "$$\\frac{x^{3}}{3}$$"
      ],
      "text/plain": [
       " 3\n",
       "x \n",
       "──\n",
       "3 "
      ]
     },
     "execution_count": 105,
     "metadata": {},
     "output_type": "execute_result"
    }
   ],
   "source": [
    "from scipy.integrate import quad\n",
    "\n",
    "def f(x):\n",
    "    return x**2\n",
    "\n",
    "quad(f,0,2) #計算積分值\n",
    "\n",
    "import sympy as sym\n",
    "sym.init_printing()\n",
    "x = sym.Symbol('x')\n",
    "f = sym.integrate(x**2,x)\n",
    "f.subs(x,2) #將值帶入函數中\n",
    "f"
   ]
  },
  {
   "cell_type": "markdown",
   "metadata": {},
   "source": [
    "# Derivative"
   ]
  },
  {
   "cell_type": "code",
   "execution_count": 115,
   "metadata": {
    "collapsed": false
   },
   "outputs": [
    {
     "name": "stdout",
     "output_type": "stream",
     "text": [
      "4.0\n"
     ]
    },
    {
     "data": {
      "image/png": "[encoded data removed]",
      "text/latex": [
       "$$3 x^{2}$$"
      ],
      "text/plain": [
       "   2\n",
       "3⋅x "
      ]
     },
     "execution_count": 115,
     "metadata": {},
     "output_type": "execute_result"
    }
   ],
   "source": [
    "from scipy.misc import derivative\n",
    "\n",
    "def f(x):\n",
    "    return x**2\n",
    "\n",
    "print(derivative(f,2,dx=0.01)) #dx表示精確程度\n",
    "\n",
    "import sympy as sym\n",
    "sym.init_printing()\n",
    "x = sym.Symbol('x')\n",
    "f = sym.diff(x**3,x)\n",
    "f.subs(x,2) #將值帶入函數中，得解\n",
    "f"
   ]
  },
  {
   "cell_type": "markdown",
   "metadata": {},
   "source": [
    "# Interpolation"
   ]
  },
  {
   "cell_type": "code",
   "execution_count": 134,
   "metadata": {
    "collapsed": false
   },
   "outputs": [
    {
     "data": {
      "text/plain": [
       "[<matplotlib.lines.Line2D at 0x2c5d67cff60>]"
      ]
     },
     "execution_count": 134,
     "metadata": {},
     "output_type": "execute_result"
    },
    {
     "data": {
      "image/png": "[encoded data removed]",
      "text/plain": [
       "<matplotlib.figure.Figure at 0x2c5d661b128>"
      ]
     },
     "metadata": {},
     "output_type": "display_data"
    }
   ],
   "source": [
    "from scipy.interpolate import interp1d #中間的字是1不是L喔!!!\n",
    "\n",
    "x = np.arange(0,6,1)\n",
    "y = np.array([0.2,0.3,0.5,1.0,0.9,1.1])\n",
    "\n",
    "\n",
    "%matplotlib inline\n",
    "import matplotlib.pyplot as plt\n",
    "plt.plot(x,y,'bo')\n",
    "\n",
    "xp = np.linspace(0,5,100) #為了顯示差別把點增加\n",
    "\n",
    "y1 = interp1d(x,y,kind='linear') #一階\n",
    "plt.plot(xp,y1(xp),'r-')\n",
    "\n",
    "y2 = interp1d(x,y,kind='quadratic') #二階\n",
    "plt.plot(xp,y2(xp),'k--')\n",
    "\n",
    "y3 = interp1d(x,y,kind='cubic') #三階\n",
    "plt.plot(xp,y3(xp),'g--')\n"
   ]
  },
  {
   "cell_type": "markdown",
   "metadata": {},
   "source": [
    "# Linear regression"
   ]
  },
  {
   "cell_type": "code",
   "execution_count": 147,
   "metadata": {
    "collapsed": false
   },
   "outputs": [
    {
     "name": "stdout",
     "output_type": "stream",
     "text": [
      "[ 0.32857143 -0.17142857]\n",
      "[ 0.1125     -0.23392857  0.20357143]\n",
      "[ 0.04166667 -0.2         0.33690476  0.07857143]\n"
     ]
    },
    {
     "data": {
      "text/plain": [
       "<matplotlib.legend.Legend at 0x2c5d6b2f550>"
      ]
     },
     "execution_count": 147,
     "metadata": {},
     "output_type": "execute_result"
    },
    {
     "data": {
      "image/png": "[encoded data removed]",
      "text/plain": [
       "<matplotlib.figure.Figure at 0x2c5d6b4eba8>"
      ]
     },
     "metadata": {},
     "output_type": "display_data"
    }
   ],
   "source": [
    "import numpy as np\n",
    "x = np.array([0,1,2,3,4,5])\n",
    "y = np.array([0.1,0.2,0.3,0.5,0.8,2.0 ])\n",
    "\n",
    "#多項式逼近法，選擇階層\n",
    "p1 = np.polyfit(x,y,1)\n",
    "print(p1)\n",
    "p2 = np.polyfit(x,y,2)\n",
    "print(p2)\n",
    "p3 = np.polyfit(x,y,3)\n",
    "print(p3)\n",
    "\n",
    "%matplotlib inline\n",
    "import matplotlib.pyplot as plt\n",
    "plt.plot(x,y,'ro')\n",
    "\n",
    "# np.polyval表示多項式的值，把係數p_帶入多項式x求出來的值\n",
    "xp = np.linspace(0,5,100)\n",
    "plt.plot(xp, np.polyval(p1,xp), 'b-', label='linear') #這個字是polyvaL喔!!\n",
    "plt.plot(xp, np.polyval(p2,xp), 'g--', label='quadratic')\n",
    "plt.plot(xp, np.polyval(p3,xp), 'k:', label='cubic')\n",
    "plt.legend(loc='best')"
   ]
  },
  {
   "cell_type": "markdown",
   "metadata": {},
   "source": [
    "# Nonlinear regression"
   ]
  },
  {
   "cell_type": "code",
   "execution_count": 165,
   "metadata": {
    "collapsed": false
   },
   "outputs": [
    {
     "name": "stdout",
     "output_type": "stream",
     "text": [
      "[ 0.32857143 -0.17142857]\n",
      "[ 0.1125     -0.23392857  0.20357143]\n",
      "[ 0.04166667 -0.2         0.33690476  0.07857143]\n",
      "a=[ 0.58628748]\n"
     ]
    },
    {
     "data": {
      "text/plain": [
       "<matplotlib.legend.Legend at 0x2c5d546e748>"
      ]
     },
     "execution_count": 165,
     "metadata": {},
     "output_type": "execute_result"
    },
    {
     "data": {
      "image/png": "[encoded data removed]",
      "text/plain": [
       "<matplotlib.figure.Figure at 0x2c5d7eaada0>"
      ]
     },
     "metadata": {},
     "output_type": "display_data"
    }
   ],
   "source": [
    "import numpy as np\n",
    "from scipy.optimize import curve_fit\n",
    "\n",
    "x = np.array([0,1,2,3,4,5])\n",
    "y = np.array([0.1,0.2,0.3,0.5,0.8,2.0 ])\n",
    "\n",
    "#多項式逼近法，選擇階層\n",
    "p1 = np.polyfit(x,y,1)\n",
    "print(p1)\n",
    "p2 = np.polyfit(x,y,2)\n",
    "print(p2)\n",
    "p3 = np.polyfit(x,y,3)\n",
    "print(p3)\n",
    "\n",
    "#使用指數對數\n",
    "def f(x,a):\n",
    "    return 0.1 * np.exp(a*x)\n",
    "a = curve_fit(f,x,y)[0] #非線性回歸，Use non-linear least squares to fit a function，取第0項\n",
    "print('a='+str(a))\n",
    "\n",
    "%matplotlib inline\n",
    "import matplotlib.pyplot as plt\n",
    "plt.plot(x,y,'ro')\n",
    "\n",
    "# np.polyval表示多項式的值，把係數p_帶入多項式x求出來的值\n",
    "xp = np.linspace(0,5,100)\n",
    "plt.plot(xp, np.polyval(p1,xp), 'b-', label='linear') #這個字是polyvaL喔!!\n",
    "plt.plot(xp, np.polyval(p2,xp), 'g--', label='quadratic')\n",
    "plt.plot(xp, np.polyval(p3,xp), 'k:', label='cubic')\n",
    "plt.plot(xp, f(xp,a), 'c', label='nonlinear')\n",
    "plt.legend(loc='best')"
   ]
  },
  {
   "cell_type": "markdown",
   "metadata": {},
   "source": [
    "# Differential equation"
   ]
  },
  {
   "cell_type": "code",
   "execution_count": 170,
   "metadata": {
    "collapsed": false
   },
   "outputs": [
    {
     "data": {
      "text/plain": [
       "<matplotlib.text.Text at 0x2c5d7edf550>"
      ]
     },
     "execution_count": 170,
     "metadata": {},
     "output_type": "execute_result"
    },
    {
     "data": {
      "image/png": "[encoded data removed]",
      "text/plain": [
       "<matplotlib.figure.Figure at 0x2c5d6716208>"
      ]
     },
     "metadata": {},
     "output_type": "display_data"
    }
   ],
   "source": [
    "from scipy.integrate import odeint\n",
    "\n",
    "def dydt(y,t,a):\n",
    "    return -a * y\n",
    "\n",
    "a = 0.5\n",
    "t = np.linspace(0,20)\n",
    "y0 = 5.0\n",
    "y = odeint(dydt,y0,t,args=(a,))\n",
    "\n",
    "%matplotlib inline\n",
    "import matplotlib.pyplot as plt\n",
    "plt.plot(t,y)\n",
    "plt.xlabel('time')\n",
    "plt.ylabel('y')"
   ]
  },
  {
   "cell_type": "markdown",
   "metadata": {},
   "source": [
    "# Nonlinear optimization"
   ]
  },
  {
   "cell_type": "code",
   "execution_count": 171,
   "metadata": {
    "collapsed": true
   },
   "outputs": [],
   "source": [
    "#概念:要有Objective、Constraint，然後初始猜想值\n",
    "import numpy as np\n",
    "from scipy.optimize import minimize"
   ]
  },
  {
   "cell_type": "code",
   "execution_count": 180,
   "metadata": {
    "collapsed": false
   },
   "outputs": [
    {
     "name": "stdout",
     "output_type": "stream",
     "text": [
      "16\n"
     ]
    }
   ],
   "source": [
    "def objective(x): #此函數求最小值\n",
    "    x1 = x[0]\n",
    "    x2 = x[1]\n",
    "    x3 = x[2]\n",
    "    x4 = x[3]\n",
    "    return x1*x4*(x1+x2+x3)+x3\n",
    "\n",
    "#用減法做比較\n",
    "def constraint1(x):\n",
    "    return x[0]*x[1]*x[2]*x[3] - 25.0\n",
    "\n",
    "#用減法做比較\n",
    "def constraint2(x):\n",
    "    sum_sq = 40.0\n",
    "    for i in range(0,4):\n",
    "        sum_sq = sum_sq - x[i]**2\n",
    "    return sum_sq \n",
    "\n",
    "#初始猜想值\n",
    "x0 = [1,5,5,1]\n",
    "print(objective(x0))\n",
    "\n",
    "#設定值域\n",
    "b = (1.0,5.0) #x的值域\n",
    "bnds = (b,b,b,b) #四個值域都一樣b\n",
    "con1 = {'type':'ineq','fun': constraint1} #第一個是不等式\n",
    "con2 = {'type':'eq','fun': constraint2} #第二個需要等式\n",
    "cons = [con1,con2] #cons合成一個list\n",
    "\n",
    "sol = minimize(objective,x0,method='SLSQP',\\\n",
    "              bounds = bnds, constraints = cons)\n"
   ]
  },
  {
   "cell_type": "code",
   "execution_count": 175,
   "metadata": {
    "collapsed": false
   },
   "outputs": [
    {
     "name": "stdout",
     "output_type": "stream",
     "text": [
      "     fun: 17.01401724563517\n",
      "     jac: array([ 14.57227015,   1.37940764,   2.37940764,   9.56415057])\n",
      " message: 'Optimization terminated successfully.'\n",
      "    nfev: 30\n",
      "     nit: 5\n",
      "    njev: 5\n",
      "  status: 0\n",
      " success: True\n",
      "       x: array([ 1.        ,  4.7429961 ,  3.82115462,  1.37940765])\n"
     ]
    }
   ],
   "source": [
    "print(sol)"
   ]
  },
  {
   "cell_type": "code",
   "execution_count": 178,
   "metadata": {
    "collapsed": false
   },
   "outputs": [
    {
     "name": "stdout",
     "output_type": "stream",
     "text": [
      "17.01401724563517\n"
     ]
    }
   ],
   "source": [
    "print(sol.fun)"
   ]
  },
  {
   "cell_type": "code",
   "execution_count": 179,
   "metadata": {
    "collapsed": false
   },
   "outputs": [
    {
     "name": "stdout",
     "output_type": "stream",
     "text": [
      "[ 1.          4.7429961   3.82115462  1.37940765]\n"
     ]
    }
   ],
   "source": [
    "print(sol.x)"
   ]
  },
  {
   "cell_type": "code",
   "execution_count": null,
   "metadata": {
    "collapsed": true
   },
   "outputs": [],
   "source": []
  }
 ],
 "metadata": {
  "anaconda-cloud": {},
  "kernelspec": {
   "display_name": "Python [default]",
   "language": "python",
   "name": "python3"
  },
  "language_info": {
   "codemirror_mode": {
    "name": "ipython",
    "version": 3
   },
   "file_extension": ".py",
   "mimetype": "text/x-python",
   "name": "python",
   "nbconvert_exporter": "python",
   "pygments_lexer": "ipython3",
   "version": "3.5.2"
  }
 },
 "nbformat": 4,
 "nbformat_minor": 2
}
